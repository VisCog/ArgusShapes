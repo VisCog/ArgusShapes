{
 "cells": [
  {
   "cell_type": "code",
   "execution_count": 1,
   "metadata": {},
   "outputs": [
    {
     "name": "stderr",
     "output_type": "stream",
     "text": [
      "/home/mbeyeler/anaconda3/lib/python3.5/site-packages/skvideo/__init__.py:356: UserWarning: avconv/avprobe not found in path: \n",
      "  warnings.warn(\"avconv/avprobe not found in path: \" + str(path), UserWarning)\n",
      "2018-01-29 14:47:51,084 [pulse2percept] [INFO] Welcome to pulse2percept\n"
     ]
    }
   ],
   "source": [
    "import os\n",
    "import six\n",
    "import glob\n",
    "import pickle\n",
    "\n",
    "import numpy as np\n",
    "import pandas as pd\n",
    "\n",
    "import p2pspatial\n",
    "import pulse2percept.utils as p2pu\n",
    "\n",
    "from sklearn.base import clone\n",
    "\n",
    "%matplotlib inline\n",
    "import matplotlib.pyplot as plt\n",
    "plt.style.use('ggplot')"
   ]
  },
  {
   "cell_type": "code",
   "execution_count": 2,
   "metadata": {},
   "outputs": [
    {
     "data": {
      "text/plain": [
       "array([ '../../results/single_stim/A-crossval-swarm_12-005_2018-01-24_01-09-42.pickle',\n",
       "       '../../results/single_stim/A-crossval-swarm_51-009_2018-01-24_01-10-43.pickle',\n",
       "       '../../results/single_stim/A-crossval-swarm_52-001_2018-01-24_01-11-32.pickle',\n",
       "       '../../results/single_stim/B-crossval-swarm_12-005_2018-01-24_01-12-15.pickle',\n",
       "       '../../results/single_stim/B-crossval-swarm_51-009_2018-01-24_01-13-00.pickle',\n",
       "       '../../results/single_stim/B-crossval-swarm_52-001_2018-01-24_01-13-41.pickle',\n",
       "       '../../results/single_stim/C-crossval-swarm_12-005_2018-01-24_08-27-58.pickle',\n",
       "       '../../results/single_stim/C-crossval-swarm_51-009_2018-01-24_08-29-55.pickle',\n",
       "       '../../results/single_stim/C-crossval-swarm_52-001_2018-01-24_08-30-55.pickle',\n",
       "       '../../results/single_stim/D-crossval-swarm_12-005_2018-01-24_08-32-51.pickle',\n",
       "       '../../results/single_stim/D-crossval-swarm_51-009_2018-01-24_08-33-57.pickle',\n",
       "       '../../results/single_stim/D-crossval-swarm_52-001_2018-01-24_08-35-18.pickle',\n",
       "       '../../results/single_stim/E-crossval-swarm_12-005_2018-01-24_22-45-50.pickle',\n",
       "       '../../results/single_stim/E-crossval-swarm_51-009_2018-01-24_22-47-20.pickle',\n",
       "       '../../results/single_stim/E-crossval-swarm_52-001_2018-01-24_22-48-59.pickle',\n",
       "       '../../results/single_stim/F-crossval-swarm_12-005_2018-01-24_22-49-58.pickle',\n",
       "       '../../results/single_stim/F-crossval-swarm_51-009_2018-01-24_22-50-37.pickle',\n",
       "       '../../results/single_stim/F-crossval-swarm_52-001_2018-01-24_22-51-21.pickle'], \n",
       "      dtype='<U76')"
      ]
     },
     "execution_count": 2,
     "metadata": {},
     "output_type": "execute_result"
    }
   ],
   "source": [
    "results_dir = '../../results/single_stim/'\n",
    "pickle_files = np.sort(glob.glob(os.path.join(results_dir, '*.pickle')))\n",
    "pickle_files"
   ]
  },
  {
   "cell_type": "code",
   "execution_count": 3,
   "metadata": {
    "collapsed": true
   },
   "outputs": [],
   "source": [
    "subjects = ['12-005', '51-009', '52-001']\n",
    "models = ['A', 'B', 'C', 'D', 'E', 'F']\n",
    "assert_params = {\n",
    "    'amplitude': 2.0,\n",
    "    'w_scale': 20,\n",
    "    'w_rot': 0,\n",
    "    'w_dice': 80\n",
    "}"
   ]
  },
  {
   "cell_type": "code",
   "execution_count": 4,
   "metadata": {},
   "outputs": [],
   "source": [
    "def calc_srd(ytyp, assert_params):\n",
    "    y_true, y_pred = ytyp\n",
    "    return [p2pspatial.imgproc.srd_loss((yt, yp), w_scale=assert_params['w_scale'],\n",
    "                                        w_rot=assert_params['w_rot'],\n",
    "                                        w_dice=assert_params['w_dice'])\n",
    "            for yt, yp in zip(y_true.iterrows(), y_pred.iterrows())]"
   ]
  },
  {
   "cell_type": "code",
   "execution_count": 5,
   "metadata": {
    "collapsed": true
   },
   "outputs": [],
   "source": [
    "mu = {a: {s: None for s in subjects} for a in models}\n",
    "std = {a: {s: None for s in subjects} for a in models}"
   ]
  },
  {
   "cell_type": "code",
   "execution_count": 6,
   "metadata": {},
   "outputs": [
    {
     "name": "stdout",
     "output_type": "stream",
     "text": [
      "Processing Model A, Subject 12-005\n",
      "Processing Model A, Subject 51-009\n",
      "Processing Model A, Subject 52-001\n",
      "Processing Model B, Subject 12-005\n",
      "Processing Model B, Subject 51-009\n",
      "Processing Model B, Subject 52-001\n",
      "Processing Model C, Subject 12-005\n",
      "Processing Model C, Subject 51-009\n",
      "Processing Model C, Subject 52-001\n",
      "Processing Model D, Subject 12-005\n",
      "Processing Model D, Subject 51-009\n",
      "Processing Model D, Subject 52-001\n",
      "Processing Model E, Subject 12-005\n",
      "Processing Model E, Subject 51-009\n",
      "Processing Model E, Subject 52-001\n",
      "Processing Model F, Subject 12-005\n",
      "Processing Model F, Subject 51-009\n",
      "Processing Model F, Subject 52-001\n"
     ]
    }
   ],
   "source": [
    "for file in pickle_files:\n",
    "    y_test, y_pred, best_params, specifics = pickle.load(open(file, 'rb'))\n",
    "    for key, value in six.iteritems(assert_params):\n",
    "        assert np.isclose(specifics[key], value)\n",
    "    n_folds = specifics['n_folds']\n",
    "    assert len(y_pred) == n_folds\n",
    "    assert len(y_test) == n_folds\n",
    "    assert len(best_params) == n_folds\n",
    "    model = specifics['modelname']\n",
    "    subject = specifics['subject']\n",
    "    if model not in models:\n",
    "        print('Model %s found, skip.' % model)\n",
    "        continue\n",
    "    if subject not in subjects:\n",
    "        print('Subject %s found, skip.' % subject)\n",
    "        continue\n",
    "    print('Processing Model %s, Subject %s' % (model, subject))\n",
    "    \n",
    "    losses = p2pu.parfor(calc_srd, zip(y_test, y_pred), func_args=[assert_params])\n",
    "    losses = [item for sublist in losses for item in sublist]\n",
    "    mu[model][subject] = np.mean(losses)\n",
    "    std[model][subject] = np.std(losses)"
   ]
  },
  {
   "cell_type": "code",
   "execution_count": 7,
   "metadata": {},
   "outputs": [
    {
     "data": {
      "text/plain": [
       "{'A': {'12-005': 27.178289061529021,\n",
       "  '51-009': 46.333697133222479,\n",
       "  '52-001': 34.013487541490655},\n",
       " 'B': {'12-005': 24.659675505625295,\n",
       "  '51-009': 41.455759654627748,\n",
       "  '52-001': 30.981950724518292},\n",
       " 'C': {'12-005': 23.598496887822563,\n",
       "  '51-009': 30.316593084043646,\n",
       "  '52-001': 30.764056758937613},\n",
       " 'D': {'12-005': 24.831525118800943,\n",
       "  '51-009': 33.611197053471578,\n",
       "  '52-001': 31.044146313954947},\n",
       " 'E': {'12-005': 23.876723689287068,\n",
       "  '51-009': 29.906892051841726,\n",
       "  '52-001': 31.119669762885049},\n",
       " 'F': {'12-005': 24.395861314719465,\n",
       "  '51-009': 32.039706651648764,\n",
       "  '52-001': 30.756400851894735}}"
      ]
     },
     "execution_count": 7,
     "metadata": {},
     "output_type": "execute_result"
    }
   ],
   "source": [
    "mu"
   ]
  },
  {
   "cell_type": "code",
   "execution_count": 8,
   "metadata": {},
   "outputs": [
    {
     "data": {
      "text/plain": [
       "{'A': {'12-005': 20.053829975994006,\n",
       "  '51-009': 9.9420564111045877,\n",
       "  '52-001': 25.770230634650176},\n",
       " 'B': {'12-005': 19.886549915635566,\n",
       "  '51-009': 11.372278474681149,\n",
       "  '52-001': 26.235069952453451},\n",
       " 'C': {'12-005': 18.27873735724619,\n",
       "  '51-009': 8.9111082213784556,\n",
       "  '52-001': 25.518898886773517},\n",
       " 'D': {'12-005': 18.64105780424055,\n",
       "  '51-009': 10.604162299580691,\n",
       "  '52-001': 25.501555520191452},\n",
       " 'E': {'12-005': 18.723702396516192,\n",
       "  '51-009': 8.9777180738181759,\n",
       "  '52-001': 24.717161464045255},\n",
       " 'F': {'12-005': 18.571936729687827,\n",
       "  '51-009': 9.349349502171739,\n",
       "  '52-001': 25.549113783199061}}"
      ]
     },
     "execution_count": 8,
     "metadata": {},
     "output_type": "execute_result"
    }
   ],
   "source": [
    "std"
   ]
  },
  {
   "cell_type": "code",
   "execution_count": 9,
   "metadata": {},
   "outputs": [
    {
     "data": {
      "image/png": "[encoded data removed]",
      "text/plain": [
       "<matplotlib.figure.Figure at 0x7fb0dd0e7438>"
      ]
     },
     "metadata": {},
     "output_type": "display_data"
    }
   ],
   "source": [
    "N = len(subjects)\n",
    "width = 0.4 / N\n",
    "ind = np.arange(N)\n",
    "\n",
    "fig, ax = plt.subplots(figsize=(12, 5))\n",
    "cm = plt.get_cmap('hot')\n",
    "\n",
    "rects = {}\n",
    "for m, model in enumerate(models):\n",
    "    for s, subject in enumerate(subjects):\n",
    "        thismu = mu[model][subject]\n",
    "        thisstd = std[model][subject]\n",
    "        if not thismu or not thisstd:\n",
    "            continue\n",
    "        r = ax.bar(s + m * width, thismu, width, yerr=thisstd, \n",
    "                   color=cm(m / len(models)), edgecolor='k', label='Model %s' % model)\n",
    "        rects[model] = r[0]\n",
    "ax.set_xticks(ind + (len(rects) - 1) / 2 * width)\n",
    "ax.set_xticklabels(subjects, rotation=45, ha='center', fontsize=16)\n",
    "ax.legend([rects[m] for m in models if m in rects],\n",
    "          ['Model ' + m for m in models if m in rects], \n",
    "          ncol=3, loc='upper center', fontsize=16)\n",
    "maxheight = max([list(filter(None, mu[m].values())) for m in models])[0]\n",
    "ax.set_ylim(0, np.ceil(2 * maxheight / 20) * 20)\n",
    "ax.yaxis.set_tick_params(labelsize=16)\n",
    "ax.set_ylabel('Mean SRD loss', fontsize=16)\n",
    "ax.set_title(os.path.basename(os.path.dirname(results_dir)), fontsize=16)\n",
    "fig.savefig(os.path.join(results_dir, 'srd_loss.png'))"
   ]
  },
  {
   "cell_type": "code",
   "execution_count": null,
   "metadata": {},
   "outputs": [],
   "source": []
  },
  {
   "cell_type": "code",
   "execution_count": null,
   "metadata": {
    "collapsed": true
   },
   "outputs": [],
   "source": [
    "# metric = 'r2'\n",
    "# weights = pd.Series(specifics['fit_params']['scoring_weights'])\n",
    "# keys = ['all'] + list(np.sort(list(specifics['fit_params']['scoring_weights'])))\n",
    "# print(keys)\n",
    "# plt.style.use('ggplot')\n",
    "\n",
    "# fig, axes = plt.subplots(nrows=2, ncols=3, sharex=True, sharey=True, figsize=(14, 7))\n",
    "# # plt.figure(figsize=(12, 6))\n",
    "\n",
    "# N = len(subjects)\n",
    "# width = 0.8 / N\n",
    "# ind = np.arange(N)\n",
    "\n",
    "# for key, ax in zip(keys, axes.ravel()):\n",
    "#     rects = []\n",
    "#     for m, model in enumerate(models):\n",
    "#         mu = []\n",
    "#         std = []\n",
    "#         for subject in subjects:\n",
    "#             y_true, y_pred, best_params, specifics = pickle.load(open(data[model][subject], 'rb'))\n",
    "#             scores = p2pspatial.model_selection.crossval_score(y_true, y_pred, key=key,\n",
    "#                                                                metric=metric,\n",
    "#                                                                weights=weights)\n",
    "#             mu.append(np.mean(scores))\n",
    "#             std.append(np.std(scores))\n",
    "# #         if m > 1:\n",
    "# #             mu = [0, 0, 0]\n",
    "# #             std = [0, 0, 0]\n",
    "#         rects.append(ax.bar(ind + m * width, mu, width, yerr=std))\n",
    "#     ax.set_xticks(ind + (len(models) - 1) / 2 * width)\n",
    "#     ax.set_xticklabels(subjects, rotation=45, ha='center', fontsize=16)\n",
    "#     ax.set_yticks(np.arange(-2, 1.01, 0.5))\n",
    "#     ax.set_yticklabels(np.arange(-2, 1.01, 0.5), fontsize=16)\n",
    "#     ax.set_title(key, fontsize=16)\n",
    "#     ax.set_ylabel('$R^2$', fontsize=16)\n",
    "# axes.ravel()[-1].axis('off')\n",
    "# axes.ravel()[-1].legend([r[0] for r in rects], ['Model ' + mm for mm in models], loc='upper right', fontsize=16)\n",
    "# plt.ylim(-2, 1)\n",
    "# plt.tight_layout()\n",
    "# plt.savefig('results-ABC.png')"
   ]
  },
  {
   "cell_type": "code",
   "execution_count": 10,
   "metadata": {
    "collapsed": true
   },
   "outputs": [],
   "source": [
    "# plt.figure(figsize=(12, 5))\n",
    "# plt.subplot(121)\n",
    "# plt.imshow(y_test[1].loc[1, 'image'])\n",
    "# plt.subplot(122)\n",
    "# plt.imshow(y_pred[1].loc[1, 'image'])"
   ]
  }
 ],
 "metadata": {
  "kernelspec": {
   "display_name": "Python [default]",
   "language": "python",
   "name": "python3"
  },
  "language_info": {
   "codemirror_mode": {
    "name": "ipython",
    "version": 3
   },
   "file_extension": ".py",
   "mimetype": "text/x-python",
   "name": "python",
   "nbconvert_exporter": "python",
   "pygments_lexer": "ipython3",
   "version": "3.5.3"
  }
 },
 "nbformat": 4,
 "nbformat_minor": 2
}
