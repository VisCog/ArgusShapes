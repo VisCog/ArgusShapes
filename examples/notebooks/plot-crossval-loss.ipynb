{
 "cells": [
  {
   "cell_type": "code",
   "execution_count": 1,
   "metadata": {},
   "outputs": [
    {
     "name": "stderr",
     "output_type": "stream",
     "text": [
      "/home/mbeyeler/anaconda3/lib/python3.5/site-packages/skvideo/__init__.py:356: UserWarning: avconv/avprobe not found in path: \n",
      "  warnings.warn(\"avconv/avprobe not found in path: \" + str(path), UserWarning)\n",
      "2018-01-30 09:07:34,653 [pulse2percept] [INFO] Welcome to pulse2percept\n"
     ]
    }
   ],
   "source": [
    "import os\n",
    "import six\n",
    "import glob\n",
    "import pickle\n",
    "\n",
    "import numpy as np\n",
    "import pandas as pd\n",
    "\n",
    "import p2pspatial\n",
    "import pulse2percept.utils as p2pu\n",
    "\n",
    "from sklearn.base import clone\n",
    "\n",
    "%matplotlib inline\n",
    "import matplotlib.pyplot as plt\n",
    "plt.style.use('ggplot')"
   ]
  },
  {
   "cell_type": "code",
   "execution_count": 2,
   "metadata": {},
   "outputs": [
    {
     "data": {
      "text/plain": [
       "array(['../../results/LOO/A-crossval-swarm_12-005_2018-01-28_07-01-05.pickle',\n",
       "       '../../results/LOO/A-crossval-swarm_51-009_2018-01-28_08-17-06.pickle',\n",
       "       '../../results/LOO/A-crossval-swarm_52-001_2018-01-28_08-18-19.pickle',\n",
       "       '../../results/LOO/B-crossval-swarm_12-005_2018-01-28_08-49-46.pickle',\n",
       "       '../../results/LOO/B-crossval-swarm_51-009_2018-01-28_19-37-02.pickle',\n",
       "       '../../results/LOO/B-crossval-swarm_52-001_2018-01-28_19-37-46.pickle'], \n",
       "      dtype='<U68')"
      ]
     },
     "execution_count": 2,
     "metadata": {},
     "output_type": "execute_result"
    }
   ],
   "source": [
    "results_dir = '../../results/LOO/'\n",
    "pickle_files = np.sort(glob.glob(os.path.join(results_dir, '*.pickle')))\n",
    "pickle_files"
   ]
  },
  {
   "cell_type": "code",
   "execution_count": 3,
   "metadata": {
    "collapsed": true
   },
   "outputs": [],
   "source": [
    "subjects = ['12-005', '51-009', '52-001']\n",
    "models = ['A', 'B', 'C', 'D']\n",
    "assert_params = {\n",
    "    'amplitude': 2.0,\n",
    "    'w_scale': 20,\n",
    "    'w_rot': 0,\n",
    "    'w_dice': 80\n",
    "}"
   ]
  },
  {
   "cell_type": "code",
   "execution_count": 4,
   "metadata": {
    "collapsed": true
   },
   "outputs": [],
   "source": [
    "def calc_srd(ytyp, assert_params):\n",
    "    y_true, y_pred = ytyp\n",
    "    return [p2pspatial.imgproc.srd_loss((yt, yp), w_scale=assert_params['w_scale'],\n",
    "                                        w_rot=assert_params['w_rot'],\n",
    "                                        w_dice=assert_params['w_dice'])\n",
    "            for yt, yp in zip(y_true.iterrows(), y_pred.iterrows())]"
   ]
  },
  {
   "cell_type": "code",
   "execution_count": 5,
   "metadata": {},
   "outputs": [
    {
     "name": "stdout",
     "output_type": "stream",
     "text": [
      "Processing Model A, Subject 12-005\n",
      "Processing Model A, Subject 51-009\n",
      "Processing Model A, Subject 52-001\n",
      "Processing Model B, Subject 12-005\n",
      "Processing Model B, Subject 51-009\n",
      "Processing Model B, Subject 52-001\n"
     ]
    }
   ],
   "source": [
    "loss = {a: {s: None for s in subjects} for a in models}\n",
    "for file in pickle_files:\n",
    "    y_test, y_pred, best_params, specifics = pickle.load(open(file, 'rb'))\n",
    "    for key, value in six.iteritems(assert_params):\n",
    "        assert np.isclose(specifics[key], value)\n",
    "    n_folds = specifics['n_folds']\n",
    "    assert len(y_pred) == n_folds\n",
    "    assert len(y_test) == n_folds\n",
    "    assert len(best_params) == n_folds\n",
    "    model = specifics['modelname']\n",
    "    subject = specifics['subject']\n",
    "    if model not in models:\n",
    "        print('Model %s found, skip.' % model)\n",
    "        continue\n",
    "    if subject not in subjects:\n",
    "        print('Subject %s found, skip.' % subject)\n",
    "        continue\n",
    "    print('Processing Model %s, Subject %s' % (model, subject))\n",
    "    \n",
    "    thisloss = p2pu.parfor(calc_srd, zip(y_test, y_pred), func_args=[assert_params])\n",
    "    loss[model][subject] = [item for sublist in thisloss for item in sublist]"
   ]
  },
  {
   "cell_type": "code",
   "execution_count": 11,
   "metadata": {},
   "outputs": [],
   "source": [
    "loss['C']['12-005'] = [15.35681899964193, 16.055962837539056, 15.517801946050835, 14.636250021956094, \n",
    "                       15.802833113507182, 15.64185609854228, 14.486890541447801, 15.524159076674799,\n",
    "                       15.670631424967771, 14.675370108261678, 15.68244402478642, 15.945557709065838]"
   ]
  },
  {
   "cell_type": "code",
   "execution_count": 13,
   "metadata": {
    "collapsed": true
   },
   "outputs": [],
   "source": [
    "loss['C']['51-009'] = [26.578497595712467, 25.103853374519463, 25.21933855525642, 29.174684702667737,\n",
    "                     26.10930776325391, 26.575584122915252, 26.10930776325391]"
   ]
  },
  {
   "cell_type": "code",
   "execution_count": 15,
   "metadata": {
    "collapsed": true
   },
   "outputs": [],
   "source": [
    "loss['C']['52-001'] = [24.645198244343256, 25.35169846854032, 24.3718819422963, 23.866990023536182,\n",
    "                       24.830326801919927, 25.818253470032563, 25.896198969920693, 25.7501404963739,\n",
    "                       25.4245121172169, 22.742877281465233, 25.430441401680103, 26.107972534077415,\n",
    "                       24.5535118845059]"
   ]
  },
  {
   "cell_type": "code",
   "execution_count": 17,
   "metadata": {
    "collapsed": true
   },
   "outputs": [],
   "source": [
    "loss['D']['12-005'] = [17.421355412255792, 16.99321339173263, 15.798142525894495, 16.2996782005596,\n",
    "                       15.22831421592841, 14.500390666277616, 15.808192307173545, 16.019660401069007,\n",
    "                       16.45223802183233, 15.811642020756578, 15.739707430957676, 16.36740384240158,\n",
    "                       16.681806166832562, 15.894466642923213, 16.484912618091524]"
   ]
  },
  {
   "cell_type": "code",
   "execution_count": 19,
   "metadata": {
    "collapsed": true
   },
   "outputs": [],
   "source": [
    "loss['D']['51-009'] = [28.909998497543672, 27.419163976973408]"
   ]
  },
  {
   "cell_type": "code",
   "execution_count": 21,
   "metadata": {
    "collapsed": true
   },
   "outputs": [],
   "source": [
    "loss['D']['52-001'] = [24.128929140182233, 25.220381861815845, 24.42728336909742, 23.682808983762282,\n",
    "                       24.34858658277853, 24.979762280495404, 25.026329735306774, 25.40486842259406,\n",
    "                       24.465156591329954, 23.15664911886859]"
   ]
  },
  {
   "cell_type": "code",
   "execution_count": 22,
   "metadata": {},
   "outputs": [
    {
     "data": {
      "image/png": "[encoded data removed]",
      "text/plain": [
       "<matplotlib.figure.Figure at 0x7f535d7528d0>"
      ]
     },
     "metadata": {},
     "output_type": "display_data"
    }
   ],
   "source": [
    "N = len(subjects)\n",
    "width = 0.4 / N\n",
    "ind = np.arange(N)\n",
    "\n",
    "fig, ax = plt.subplots(figsize=(12, 5))\n",
    "cm = plt.get_cmap('hot')\n",
    "\n",
    "rects = {}\n",
    "for m, model in enumerate(models):\n",
    "    for s, subject in enumerate(subjects):\n",
    "        if not loss[model][subject]:\n",
    "            continue\n",
    "        r = ax.bar(s + m * width, np.mean(loss[model][subject]), \n",
    "                   width, yerr=np.std(loss[model][subject]), \n",
    "                   color=cm(m / len(models)), edgecolor='k', \n",
    "                   label='Model %s' % model)\n",
    "        rects[model] = r[0]\n",
    "ax.set_xticks(ind + (len(rects) - 1) / 2 * width)\n",
    "ax.set_xticklabels(subjects, rotation=45, ha='center', fontsize=16)\n",
    "ax.legend([rects[m] for m in models if m in rects],\n",
    "          ['Model ' + m for m in models if m in rects], \n",
    "          ncol=3, loc='upper center', fontsize=16)\n",
    "allvals = [[item for sublist in filter(None, loss[m].values())\n",
    "            for item in sublist]\n",
    "           for m in models]\n",
    "maxheight = max([item for sublist in allvals for item in sublist])\n",
    "ax.set_ylim(0, np.ceil(maxheight / 20) * 20)\n",
    "ax.yaxis.set_tick_params(labelsize=16)\n",
    "ax.set_ylabel('Mean SRD loss', fontsize=16)\n",
    "ax.set_title(os.path.basename(os.path.dirname(results_dir)), fontsize=16)\n",
    "fig.savefig(os.path.join(results_dir, 'srd_loss.png'))"
   ]
  },
  {
   "cell_type": "code",
   "execution_count": null,
   "metadata": {
    "collapsed": true
   },
   "outputs": [],
   "source": []
  }
 ],
 "metadata": {
  "kernelspec": {
   "display_name": "Python [default]",
   "language": "python",
   "name": "python3"
  },
  "language_info": {
   "codemirror_mode": {
    "name": "ipython",
    "version": 3
   },
   "file_extension": ".py",
   "mimetype": "text/x-python",
   "name": "python",
   "nbconvert_exporter": "python",
   "pygments_lexer": "ipython3",
   "version": "3.5.3"
  }
 },
 "nbformat": 4,
 "nbformat_minor": 2
}
