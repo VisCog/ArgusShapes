{
 "cells": [
  {
   "cell_type": "code",
   "execution_count": 1,
   "metadata": {},
   "outputs": [
    {
     "name": "stderr",
     "output_type": "stream",
     "text": [
      "/home/mbeyeler/anaconda3/lib/python3.5/site-packages/skvideo/__init__.py:356: UserWarning: avconv/avprobe not found in path: \n",
      "  warnings.warn(\"avconv/avprobe not found in path: \" + str(path), UserWarning)\n",
      "2018-02-13 10:24:48,065 [pulse2percept] [INFO] Welcome to pulse2percept\n"
     ]
    }
   ],
   "source": [
    "import os\n",
    "import six\n",
    "import glob\n",
    "import pickle\n",
    "\n",
    "import numpy as np\n",
    "import pandas as pd\n",
    "\n",
    "import p2pspatial\n",
    "import pulse2percept.utils as p2pu\n",
    "\n",
    "from sklearn.base import clone\n",
    "\n",
    "%matplotlib inline\n",
    "import matplotlib.pyplot as plt\n",
    "plt.style.use('ggplot')"
   ]
  },
  {
   "cell_type": "code",
   "execution_count": 2,
   "metadata": {},
   "outputs": [
    {
     "data": {
      "text/plain": [
       "array(['../../results/newLOO/A-crossval-swarm_12-005_2018-01-30_07-25-57.pickle',\n",
       "       '../../results/newLOO/A-crossval-swarm_51-009_2018-02-04_13-46-32.pickle',\n",
       "       '../../results/newLOO/A-crossval-swarm_52-001_2018-02-04_13-54-32.pickle',\n",
       "       '../../results/newLOO/A-crossval-swarm_TB_2018-02-07_01-59-30.pickle',\n",
       "       '../../results/newLOO/C-crossval-swarm_12-005_2018-01-30_17-00-54.pickle',\n",
       "       '../../results/newLOO/C-crossval-swarm_51-009_2018-01-30_17-55-55.pickle',\n",
       "       '../../results/newLOO/C-crossval-swarm_52-001_2018-01-30_17-59-15.pickle',\n",
       "       '../../results/newLOO/C-crossval-swarm_TB_2018-02-06_17-41-35.pickle',\n",
       "       '../../results/newLOO/D-crossval-swarm_12-005_2018-02-03_06-45-33.pickle',\n",
       "       '../../results/newLOO/D-crossval-swarm_51-009_2018-02-03_06-46-14.pickle',\n",
       "       '../../results/newLOO/D-crossval-swarm_52-001_2018-02-03_06-46-52.pickle',\n",
       "       '../../results/newLOO/D-crossval-swarm_TB_2018-02-07_03-06-04.pickle',\n",
       "       '../../results/newLOO/D2-crossval-swarm_12-005_2018-02-07_15-30-24.pickle',\n",
       "       '../../results/newLOO/D2-crossval-swarm_TB_2018-02-06_23-28-41.pickle'], \n",
       "      dtype='<U72')"
      ]
     },
     "execution_count": 2,
     "metadata": {},
     "output_type": "execute_result"
    }
   ],
   "source": [
    "results_dir = '../../results/newLOO/'\n",
    "pickle_files = np.sort(glob.glob(os.path.join(results_dir, '*.pickle')))\n",
    "pickle_files"
   ]
  },
  {
   "cell_type": "code",
   "execution_count": 3,
   "metadata": {
    "collapsed": true
   },
   "outputs": [],
   "source": [
    "subjects = ['TB', '12-005', '51-009', '52-001']\n",
    "models = ['A', 'B', 'C', 'D', 'D2']\n",
    "assert_params = {\n",
    "    'amplitude': 2.0,\n",
    "    'w_scale': 20,\n",
    "    'w_rot': 0,\n",
    "    'w_dice': 80\n",
    "}"
   ]
  },
  {
   "cell_type": "code",
   "execution_count": 4,
   "metadata": {
    "collapsed": true
   },
   "outputs": [],
   "source": [
    "def calc_srd(ytyp, params):\n",
    "    y_true, y_pred = ytyp\n",
    "    return [p2pspatial.imgproc.srd_loss((yt, yp), w_scale=params['w_scale'],\n",
    "                                        w_rot=params['w_rot'],\n",
    "                                        w_dice=params['w_dice'])\n",
    "            for yt, yp in zip(y_true.iterrows(), y_pred.iterrows())]"
   ]
  },
  {
   "cell_type": "code",
   "execution_count": 5,
   "metadata": {},
   "outputs": [
    {
     "name": "stdout",
     "output_type": "stream",
     "text": [
      "Processing Model A, Subject 12-005\n",
      "Processing Model A, Subject 51-009\n",
      "Processing Model A, Subject 52-001\n",
      "Processing Model A, Subject TB\n",
      "Processing Model C, Subject 12-005\n",
      "Processing Model C, Subject 51-009\n",
      "Processing Model C, Subject 52-001\n",
      "Processing Model C, Subject TB\n",
      "Processing Model D, Subject 12-005\n",
      "Processing Model D, Subject 51-009\n",
      "Processing Model D, Subject 52-001\n",
      "Processing Model D, Subject TB\n",
      "Processing Model D2, Subject 12-005\n",
      "Processing Model D2, Subject TB\n"
     ]
    }
   ],
   "source": [
    "loss = {a: {s: None for s in subjects} for a in models}\n",
    "for file in pickle_files:\n",
    "    y_test, y_pred, best_params, specifics = pickle.load(open(file, 'rb'))\n",
    "    for key, value in six.iteritems(assert_params):\n",
    "        if not np.isclose(specifics[key], value):\n",
    "            print(key, '=', specifics[key], 'not close to', value)\n",
    "            assert False\n",
    "    n_folds = specifics['n_folds']\n",
    "    assert len(y_pred) == n_folds\n",
    "    assert len(y_test) == n_folds\n",
    "    assert len(best_params) == n_folds\n",
    "    model = specifics['modelname']\n",
    "    subject = specifics['subject']\n",
    "    if model not in models:\n",
    "        print('Model %s found, skip.' % model)\n",
    "        continue\n",
    "    if subject not in subjects:\n",
    "        print('Subject %s found, skip.' % subject)\n",
    "        continue\n",
    "    print('Processing Model %s, Subject %s' % (model, subject))\n",
    "    \n",
    "    func_params = {'w_scale': 0, 'w_rot': 0, 'w_dice': 100}\n",
    "    thisloss = p2pu.parfor(calc_srd, zip(y_test, y_pred), func_args=[func_params])\n",
    "    loss[model][subject] = [item for sublist in thisloss for item in sublist]"
   ]
  },
  {
   "cell_type": "code",
   "execution_count": 6,
   "metadata": {},
   "outputs": [
    {
     "data": {
      "image/png": "[encoded data removed]",
      "text/plain": [
       "<matplotlib.figure.Figure at 0x7f45f22322b0>"
      ]
     },
     "metadata": {},
     "output_type": "display_data"
    }
   ],
   "source": [
    "N = len(subjects)\n",
    "width = 0.4 / N\n",
    "ind = np.arange(N)\n",
    "\n",
    "fig, ax = plt.subplots(figsize=(12, 5))\n",
    "cm = plt.get_cmap('hot')\n",
    "\n",
    "rects = {}\n",
    "for m, model in enumerate(models):\n",
    "    for s, subject in enumerate(subjects):\n",
    "        if not loss[model][subject]:\n",
    "            continue\n",
    "        r = ax.bar(s + m * width, np.mean(loss[model][subject]), \n",
    "                   width, yerr=np.std(loss[model][subject]), \n",
    "                   color=cm(m / len(models)), edgecolor='k', \n",
    "                   label='Model %s' % model)\n",
    "        rects[model] = r[0]\n",
    "ax.set_xticks(ind + (len(rects) - 1) / 2 * width)\n",
    "ax.set_xticklabels(subjects, rotation=45, ha='center', fontsize=16)\n",
    "ax.legend([rects[m] for m in models if m in rects],\n",
    "          ['Model ' + m for m in models if m in rects], \n",
    "          ncol=3, loc='upper center', fontsize=16)\n",
    "allvals = [[item for sublist in filter(None, loss[m].values())\n",
    "            for item in sublist]\n",
    "           for m in models]\n",
    "maxheight = max([item for sublist in allvals for item in sublist])\n",
    "ax.set_ylim(0, np.ceil(maxheight / 20) * 20)\n",
    "ax.yaxis.set_tick_params(labelsize=16)\n",
    "ax.set_ylabel('Mean SRD loss', fontsize=16)\n",
    "ax.set_title(os.path.basename(os.path.dirname(results_dir)), fontsize=16)\n",
    "fig.savefig(os.path.join(results_dir, 'srd_loss.png'))"
   ]
  },
  {
   "cell_type": "code",
   "execution_count": null,
   "metadata": {
    "collapsed": true
   },
   "outputs": [],
   "source": []
  }
 ],
 "metadata": {
  "kernelspec": {
   "display_name": "Python [default]",
   "language": "python",
   "name": "python3"
  },
  "language_info": {
   "codemirror_mode": {
    "name": "ipython",
    "version": 3
   },
   "file_extension": ".py",
   "mimetype": "text/x-python",
   "name": "python",
   "nbconvert_exporter": "python",
   "pygments_lexer": "ipython3",
   "version": "3.5.3"
  }
 },
 "nbformat": 4,
 "nbformat_minor": 2
}
