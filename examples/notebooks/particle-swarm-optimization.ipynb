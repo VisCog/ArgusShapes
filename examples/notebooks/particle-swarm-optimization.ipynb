{
 "cells": [
  {
   "cell_type": "code",
   "execution_count": 1,
   "metadata": {},
   "outputs": [
    {
     "name": "stderr",
     "output_type": "stream",
     "text": [
      "/home/mbeyeler/anaconda3/lib/python3.5/site-packages/skvideo/__init__.py:356: UserWarning: avconv/avprobe not found in path: \n",
      "  warnings.warn(\"avconv/avprobe not found in path: \" + str(path), UserWarning)\n",
      "2018-01-05 15:23:35,702 [pulse2percept] [INFO] Welcome to pulse2percept\n"
     ]
    }
   ],
   "source": [
    "import numpy as np\n",
    "import pandas as pd\n",
    "import p2pspatial\n",
    "import pyswarm\n",
    "\n",
    "import sklearn.base as sklb\n",
    "import sklearn.model_selection as sklms\n",
    "import sklearn.metrics as sklm\n",
    "import sklearn.utils.validation as skluv"
   ]
  },
  {
   "cell_type": "code",
   "execution_count": 2,
   "metadata": {
    "collapsed": true
   },
   "outputs": [],
   "source": [
    "class DummyRegressor(sklb.BaseEstimator, sklb.RegressorMixin):\n",
    "    def __init__(self, a=1):\n",
    "        self.a = a\n",
    "        \n",
    "    def fit(self, X, y=None, **fit_params):\n",
    "        return self\n",
    "    \n",
    "    def predict(self, X):\n",
    "        y_pred = []\n",
    "        for i, _ in X.iterrows():\n",
    "            y_pred.append(i * self.a)\n",
    "        return np.array(y_pred)"
   ]
  },
  {
   "cell_type": "code",
   "execution_count": 3,
   "metadata": {
    "collapsed": true
   },
   "outputs": [],
   "source": [
    "class ParticleSwarmOptimizer(sklb.BaseEstimator, sklb.RegressorMixin):\n",
    "    def __init__(self, estimator, search_params, swarm_size=None,\n",
    "                 min_func=1e-4, verbose=True):\n",
    "        \"\"\"Performs particle swarm optimization\n",
    "        \n",
    "        Parameters\n",
    "        ----------\n",
    "        estimator :\n",
    "            A scikit-learn estimator. Make sure its scoring function has\n",
    "            greater equals better.\n",
    "        search_params : dict of tupels (lower bound, upper bound)\n",
    "            Search parameters\n",
    "        swarm_size : int, optional, default: 10 * number of search params\n",
    "            Swarm size\n",
    "        min_func : float, optional, default: 1e-4\n",
    "            When to stop\n",
    "        verbose : bool, optional, default: True\n",
    "            Flag whether to print more stuff\n",
    "        \"\"\"\n",
    "        if swarm_size is None:\n",
    "            swarm_size = 10 * len(search_params)\n",
    "        self.estimator = estimator\n",
    "        self.search_params = search_params\n",
    "        self.swarm_size = swarm_size\n",
    "        self.min_func = min_func\n",
    "        self.verbose = verbose\n",
    "        \n",
    "    def swarm_error(self, search_vals, X, y, fit_params={}):\n",
    "        \"\"\"Calculates the particle swarm error\n",
    "        \n",
    "        The error is calculated using the estimator's scoring function.\n",
    "        \"\"\"\n",
    "        # pyswarm provides values for all search parameters in a list:\n",
    "        # Need to pair these values with the names of the search params\n",
    "        # to build a dict\n",
    "        search_params = {}\n",
    "        for k, v in zip(list(self.search_params.keys()), search_vals):\n",
    "            search_params[k] = v\n",
    "        \n",
    "        # Clone the estimator to make sure we have a clean slate\n",
    "        estimator = sklb.clone(self.estimator)\n",
    "        estimator.set_params(**search_params)\n",
    "        estimator.fit(X, y=y, **fit_params)\n",
    "        \n",
    "        # Scoring function: greater is better, so invert to get an\n",
    "        # error function\n",
    "        return -estimator.score(X, y)\n",
    "        \n",
    "    def fit(self, X, y, **fit_params):\n",
    "        # Run particle swarm optimization\n",
    "        lb = [v[0] for v in self.search_params.values()]\n",
    "        ub = [v[1] for v in self.search_params.values()]\n",
    "        best_vals, best_err = pyswarm.pso(\n",
    "            self.swarm_error, lb, ub, swarmsize=self.swarm_size,\n",
    "            minfunc=self.min_func, debug=self.verbose,\n",
    "            args=[X, y], kwargs={'fit_params': fit_params}\n",
    "        )\n",
    "        \n",
    "        # Pair values of best params with their names to build a dict\n",
    "        self.best_params_ = {}\n",
    "        for k, v in zip(list(self.search_params.keys()), best_vals):\n",
    "            self.best_params_[k] = v\n",
    "        print('Best err:', best_err, 'Best params:', self.best_params_)\n",
    "        \n",
    "        # Fit the class attribute with best params\n",
    "        self.estimator.set_params(**self.best_params_)\n",
    "        self.estimator.fit(X, y=y, **fit_params)\n",
    "    \n",
    "    def predict(self, X):\n",
    "        msg = \"Estimator, %(name)s, must be fitted before predicting.\"\n",
    "        skluv.check_is_fitted(self, \"best_params_\", msg=msg)\n",
    "        return self.estimator.predict(X)"
   ]
  },
  {
   "cell_type": "code",
   "execution_count": 4,
   "metadata": {},
   "outputs": [],
   "source": [
    "dummy = DummyRegressor(a=1)"
   ]
  },
  {
   "cell_type": "code",
   "execution_count": 5,
   "metadata": {},
   "outputs": [
    {
     "name": "stdout",
     "output_type": "stream",
     "text": [
      "ParticleSwarmOptimizer(estimator=DummyRegressor(a=1), min_func=0.0001,\n",
      "            search_params={'a': (-10, 10)}, swarm_size=10, verbose=False)\n"
     ]
    }
   ],
   "source": [
    "search_params = {'a': (-10, 10)}\n",
    "pso = ParticleSwarmOptimizer(dummy, search_params, verbose=False)\n",
    "print(pso)"
   ]
  },
  {
   "cell_type": "code",
   "execution_count": 6,
   "metadata": {},
   "outputs": [],
   "source": [
    "n_samples = 12\n",
    "X = pd.DataFrame(np.repeat(np.arange(n_samples), 2).reshape((-1, 2)), columns=['feat1', 'feat2'])\n",
    "y = pd.DataFrame(np.arange(n_samples), columns=['target'])"
   ]
  },
  {
   "cell_type": "code",
   "execution_count": 7,
   "metadata": {},
   "outputs": [
    {
     "name": "stdout",
     "output_type": "stream",
     "text": [
      "Stopping search: Swarm best objective change less than 0.0001\n",
      "Best err: -0.999986401468 Best params: {'a': 1.0019603732938089}\n"
     ]
    }
   ],
   "source": [
    "pso.fit(X, y=y)"
   ]
  },
  {
   "cell_type": "code",
   "execution_count": 8,
   "metadata": {},
   "outputs": [
    {
     "data": {
      "text/plain": [
       "0.99998640146778861"
      ]
     },
     "execution_count": 8,
     "metadata": {},
     "output_type": "execute_result"
    }
   ],
   "source": [
    "pso.score(X, y)"
   ]
  },
  {
   "cell_type": "code",
   "execution_count": 9,
   "metadata": {},
   "outputs": [
    {
     "name": "stdout",
     "output_type": "stream",
     "text": [
      "Stopping search: Swarm best objective change less than 0.0001\n",
      "Best err: -0.999998446487 Best params: {'a': 0.99975447927822225}\n",
      "Stopping search: Swarm best objective change less than 0.0001\n",
      "Best err: -0.99993640669 Best params: {'a': 1.0044982480003255}\n"
     ]
    }
   ],
   "source": [
    "X_test, y_test, y_pred = p2pspatial.model_selection.crossval_predict(pso, X, y, n_folds=2)"
   ]
  },
  {
   "cell_type": "code",
   "execution_count": 25,
   "metadata": {},
   "outputs": [],
   "source": [
    "def nested_crossval_predict(estimator, X, y, n_outer_folds=2, n_inner_folds=5):\n",
    "    assert isinstance(X, pd.core.frame.DataFrame)\n",
    "    assert isinstance(y, pd.core.frame.DataFrame)\n",
    "    all_idx = np.arange(len(X))\n",
    "    outer_groups = np.array_split(all_idx, n_outer_folds)\n",
    "    \n",
    "    X_outer_test = []\n",
    "    y_outer_test = []\n",
    "    y_pred_outer_test = []\n",
    "    for outer_test_idx in outer_groups:\n",
    "        outer_train_idx = np.delete(all_idx, outer_test_idx)\n",
    "        inner_groups = np.array_split(outer_train_idx, n_inner_folds)\n",
    "        X_inner_test = []\n",
    "        y_inner_test = []\n",
    "        y_pred_inner_test = []\n",
    "        for inner_test_idx in inner_groups:\n",
    "            inner_train_idx = np.delete(outer_train_idx, inner_test_idx)\n",
    "            est = sklb.clone(estimator)\n",
    "            est.fit(X.iloc[inner_train_idx, :], y.iloc[inner_train_idx])\n",
    "            X_inner_test.append(X.iloc[inner_test_idx, :])\n",
    "            y_inner_test.append(y.iloc[inner_test_idx])\n",
    "            y_pred_inner_test.append(est.predict(y.iloc[inner_test_idx]))\n",
    "        X_outer_test.append(X_inner_test)\n",
    "        y_outer_test.append(y_inner_test)\n",
    "        y_pred_outer_test.append(y_pred_inner_test)\n",
    "    return X_outer_test, y_outer_test, y_pred_outer_test"
   ]
  },
  {
   "cell_type": "code",
   "execution_count": 26,
   "metadata": {},
   "outputs": [
    {
     "name": "stdout",
     "output_type": "stream",
     "text": [
      "Stopping search: Swarm best objective change less than 0.0001\n",
      "Best err: -0.999999533554 Best params: {'a': 1.000134533849222}\n",
      "Stopping search: Swarm best objective change less than 0.0001\n",
      "Best err: -0.999987687652 Best params: {'a': 1.0006911959710292}\n",
      "Stopping search: Swarm best objective change less than 0.0001\n",
      "Best err: -0.999965249714 Best params: {'a': 0.99883879220041583}\n",
      "Stopping search: Swarm best objective change less than 0.0001\n",
      "Best err: -0.999996994716 Best params: {'a': 0.99947248973435077}\n",
      "Stopping search: Swarm best objective change less than 0.0001\n",
      "Best err: -0.999999967247 Best params: {'a': 1.0001151388934604}\n",
      "Stopping search: Swarm best objective change less than 0.0001\n",
      "Best err: -0.999998590241 Best params: {'a': 0.99929043289442021}\n"
     ]
    }
   ],
   "source": [
    "Xt, yt, yp = nested_crossval_predict(pso, X, y, n_outer_folds=2, n_inner_folds=3)"
   ]
  },
  {
   "cell_type": "code",
   "execution_count": 28,
   "metadata": {},
   "outputs": [
    {
     "data": {
      "text/plain": [
       "[[array([ 6.0008072 ,  7.00094174]),\n",
       "  array([ 8.00552957,  9.00622076]),\n",
       "  array([  9.98838792,  10.98722671])],\n",
       " [array([ 0.        ,  0.99947249]),\n",
       "  array([ 2.00023028,  3.00034542]),\n",
       "  array([ 3.99716173,  4.99645216])]]"
      ]
     },
     "execution_count": 28,
     "metadata": {},
     "output_type": "execute_result"
    }
   ],
   "source": [
    "yp"
   ]
  },
  {
   "cell_type": "code",
   "execution_count": null,
   "metadata": {
    "collapsed": true
   },
   "outputs": [],
   "source": []
  },
  {
   "cell_type": "code",
   "execution_count": null,
   "metadata": {
    "collapsed": true
   },
   "outputs": [],
   "source": []
  }
 ],
 "metadata": {
  "kernelspec": {
   "display_name": "Python [default]",
   "language": "python",
   "name": "python3"
  },
  "language_info": {
   "codemirror_mode": {
    "name": "ipython",
    "version": 3
   },
   "file_extension": ".py",
   "mimetype": "text/x-python",
   "name": "python",
   "nbconvert_exporter": "python",
   "pygments_lexer": "ipython3",
   "version": "3.5.3"
  }
 },
 "nbformat": 4,
 "nbformat_minor": 2
}
