{
 "cells": [
  {
   "cell_type": "code",
   "execution_count": 1,
   "metadata": {
    "collapsed": false,
    "deletable": true,
    "editable": true
   },
   "outputs": [
    {
     "name": "stderr",
     "output_type": "stream",
     "text": [
      "2018-01-06 17:58:32,030 [pulse2percept] [INFO] Welcome to pulse2percept\n"
     ]
    }
   ],
   "source": [
    "import numpy as np\n",
    "import pandas as pd\n",
    "import p2pspatial\n",
    "\n",
    "import sklearn.base as sklb\n",
    "import sklearn.model_selection as sklms"
   ]
  },
  {
   "cell_type": "code",
   "execution_count": 2,
   "metadata": {
    "collapsed": true,
    "deletable": true,
    "editable": true
   },
   "outputs": [],
   "source": [
    "class DummyRegressor(sklb.BaseEstimator, sklb.RegressorMixin):\n",
    "    def __init__(self, a=1):\n",
    "        self.a = a\n",
    "        \n",
    "    def fit(self, X, y=None, **fit_params):\n",
    "        return self\n",
    "    \n",
    "    def predict(self, X):\n",
    "        y_pred = []\n",
    "        for i, _ in X.iterrows():\n",
    "            y_pred.append(i * self.a)\n",
    "        return np.array(y_pred)"
   ]
  },
  {
   "cell_type": "code",
   "execution_count": 3,
   "metadata": {
    "collapsed": true,
    "deletable": true,
    "editable": true
   },
   "outputs": [],
   "source": [
    "dummy = DummyRegressor(a=0)"
   ]
  },
  {
   "cell_type": "code",
   "execution_count": 4,
   "metadata": {
    "collapsed": false,
    "deletable": true,
    "editable": true
   },
   "outputs": [
    {
     "name": "stdout",
     "output_type": "stream",
     "text": [
      "ParticleSwarmOptimizer(estimator=DummyRegressor(a=0), max_iter=100,\n",
      "            min_func=0.0001, search_params={'a': (-100, 100)},\n",
      "            swarm_size=10, verbose=False)\n"
     ]
    }
   ],
   "source": [
    "search_params = {'a': (-100, 100)}\n",
    "pso = p2pspatial.model_selection.ParticleSwarmOptimizer(dummy, search_params, verbose=False)\n",
    "print(pso)"
   ]
  },
  {
   "cell_type": "code",
   "execution_count": 5,
   "metadata": {
    "collapsed": true,
    "deletable": true,
    "editable": true
   },
   "outputs": [],
   "source": [
    "n_samples = 12\n",
    "X = pd.DataFrame(np.repeat(np.arange(n_samples), 2).reshape((-1, 2)), columns=['feat1', 'feat2'])\n",
    "y = pd.DataFrame(np.arange(n_samples), columns=['target'])"
   ]
  },
  {
   "cell_type": "code",
   "execution_count": 6,
   "metadata": {
    "collapsed": false,
    "deletable": true,
    "editable": true
   },
   "outputs": [
    {
     "name": "stdout",
     "output_type": "stream",
     "text": [
      "Stopping search: Swarm best objective change less than 0.0001\n",
      "Best err: -0.999982292198 Best params: {'a': 0.99776295311952801}\n"
     ]
    }
   ],
   "source": [
    "pso.fit(X, y=y)"
   ]
  },
  {
   "cell_type": "code",
   "execution_count": 7,
   "metadata": {
    "collapsed": false,
    "deletable": true,
    "editable": true
   },
   "outputs": [
    {
     "data": {
      "text/plain": [
       "0.99998229219828527"
      ]
     },
     "execution_count": 7,
     "metadata": {},
     "output_type": "execute_result"
    }
   ],
   "source": [
    "pso.score(X, y)"
   ]
  },
  {
   "cell_type": "code",
   "execution_count": 8,
   "metadata": {
    "collapsed": false,
    "deletable": true,
    "editable": true
   },
   "outputs": [
    {
     "name": "stdout",
     "output_type": "stream",
     "text": [
      "Stopping search: Swarm best objective change less than 0.0001\n",
      "Best err: -0.999984528639 Best params: {'a': 1.0013611971275169}\n",
      "Stopping search: Swarm best objective change less than 0.0001\n",
      "Best err: -0.99999991705 Best params: {'a': 1.0001549579701183}\n",
      "Stopping search: Swarm best objective change less than 0.0001\n",
      "Best err: -0.999984653858 Best params: {'a': 0.9977401603599434}\n",
      "Stopping search: Swarm best objective change less than 0.0001\n",
      "Best err: -0.999999996946 Best params: {'a': 1.0000319794217996}\n",
      "Stopping search: Swarm best objective change less than 0.0001\n",
      "Best err: -0.999980871767 Best params: {'a': 1.0023531086160005}\n"
     ]
    }
   ],
   "source": [
    "y_test, y_pred, best_params = p2pspatial.model_selection.crossval_predict(pso, X, y, n_folds=5)"
   ]
  },
  {
   "cell_type": "code",
   "execution_count": 9,
   "metadata": {
    "collapsed": false
   },
   "outputs": [
    {
     "data": {
      "text/plain": [
       "[0.99999536785595011,\n",
       " 0.99999939970068741,\n",
       " 0.99913183121620885,\n",
       " 0.99999970342180855,\n",
       " 0.99755259288985654]"
      ]
     },
     "execution_count": 9,
     "metadata": {},
     "output_type": "execute_result"
    }
   ],
   "source": [
    "p2pspatial.model_selection.crossval_score(y_test, y_pred, metric='r2')"
   ]
  },
  {
   "cell_type": "code",
   "execution_count": null,
   "metadata": {
    "collapsed": true,
    "deletable": true,
    "editable": true
   },
   "outputs": [],
   "source": []
  },
  {
   "cell_type": "code",
   "execution_count": null,
   "metadata": {
    "collapsed": true,
    "deletable": true,
    "editable": true
   },
   "outputs": [],
   "source": []
  }
 ],
 "metadata": {
  "kernelspec": {
   "display_name": "Python 3",
   "language": "python",
   "name": "python3"
  },
  "language_info": {
   "codemirror_mode": {
    "name": "ipython",
    "version": 3
   },
   "file_extension": ".py",
   "mimetype": "text/x-python",
   "name": "python",
   "nbconvert_exporter": "python",
   "pygments_lexer": "ipython3",
   "version": "3.5.2"
  }
 },
 "nbformat": 4,
 "nbformat_minor": 2
}
