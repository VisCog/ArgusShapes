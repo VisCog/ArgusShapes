{
 "cells": [
  {
   "cell_type": "code",
   "execution_count": 1,
   "metadata": {
    "collapsed": false
   },
   "outputs": [
    {
     "name": "stderr",
     "output_type": "stream",
     "text": [
      "2018-01-05 00:56:54,918 [pulse2percept] [INFO] Welcome to pulse2percept\n"
     ]
    }
   ],
   "source": [
    "import numpy as np\n",
    "import pandas as pd\n",
    "import p2pspatial\n",
    "import pyswarm\n",
    "\n",
    "import sklearn.base as sklb\n",
    "import sklearn.model_selection as sklms\n",
    "import sklearn.metrics as sklm\n",
    "import sklearn.utils.validation as skluv"
   ]
  },
  {
   "cell_type": "code",
   "execution_count": 2,
   "metadata": {
    "collapsed": true
   },
   "outputs": [],
   "source": [
    "class DummyRegressor(sklb.BaseEstimator, sklb.RegressorMixin):\n",
    "    def __init__(self, a=1):\n",
    "        self.a = a\n",
    "        \n",
    "    def fit(self, X, y=None, **fit_params):\n",
    "        return self\n",
    "    \n",
    "    def predict(self, X):\n",
    "        y_pred = []\n",
    "        for i, _ in X.iterrows():\n",
    "            y_pred.append(i * self.a)\n",
    "        return np.array(y_pred)"
   ]
  },
  {
   "cell_type": "code",
   "execution_count": 3,
   "metadata": {
    "collapsed": true
   },
   "outputs": [],
   "source": [
    "class ParticleSwarmOptimizer(sklb.BaseEstimator, sklb.RegressorMixin):\n",
    "    def __init__(self, estimator, search_params, swarm_size=None,\n",
    "                 min_func=1e-4, verbose=True):\n",
    "        \"\"\"Performs particle swarm optimization\n",
    "        \n",
    "        Parameters\n",
    "        ----------\n",
    "        estimator :\n",
    "            A scikit-learn estimator. Make sure its scoring function has\n",
    "            greater equals better.\n",
    "        search_params : dict of tupels (lower bound, upper bound)\n",
    "            Search parameters\n",
    "        swarm_size : int, optional, default: 10 * number of search params\n",
    "            Swarm size\n",
    "        min_func : float, optional, default: 1e-4\n",
    "            When to stop\n",
    "        verbose : bool, optional, default: True\n",
    "            Flag whether to print more stuff\n",
    "        \"\"\"\n",
    "        if swarm_size is None:\n",
    "            swarm_size = 10 * len(search_params)\n",
    "        self.estimator = estimator\n",
    "        self.search_params = search_params\n",
    "        self.swarm_size = swarm_size\n",
    "        self.min_func = min_func\n",
    "        self.verbose = verbose\n",
    "        \n",
    "    def swarm_error(self, search_vals, X, y, fit_params={}):\n",
    "        \"\"\"Calculates the particle swarm error\n",
    "        \n",
    "        The error is calculated using the estimator's scoring function.\n",
    "        \"\"\"\n",
    "        # pyswarm provides values for all search parameters in a list:\n",
    "        # Need to pair these values with the names of the search params\n",
    "        # to build a dict\n",
    "        search_params = {}\n",
    "        for k, v in zip(list(self.search_params.keys()), search_vals):\n",
    "            search_params[k] = v\n",
    "        \n",
    "        # Clone the estimator to make sure we have a clean slate\n",
    "        estimator = sklb.clone(self.estimator)\n",
    "        estimator.set_params(**search_params)\n",
    "        estimator.fit(X, y=y, **fit_params)\n",
    "        \n",
    "        # Scoring function: greater is better, so invert to get an\n",
    "        # error function\n",
    "        return -estimator.score(X, y)\n",
    "        \n",
    "    def fit(self, X, y, **fit_params):\n",
    "        # Run particle swarm optimization\n",
    "        lb = [v[0] for v in self.search_params.values()]\n",
    "        ub = [v[1] for v in self.search_params.values()]\n",
    "        best_vals, best_err = pyswarm.pso(\n",
    "            self.swarm_error, lb, ub, swarmsize=self.swarm_size,\n",
    "            minfunc=self.min_func, debug=self.verbose,\n",
    "            args=[X, y], kwargs={'fit_params': fit_params}\n",
    "        )\n",
    "        \n",
    "        # Pair values of best params with their names to build a dict\n",
    "        self.best_params_ = {}\n",
    "        for k, v in zip(list(self.search_params.keys()), best_vals):\n",
    "            self.best_params_[k] = v\n",
    "        print('Best err:', best_err, 'Best params:', self.best_params_)\n",
    "        \n",
    "        # Fit the class attribute with best params\n",
    "        self.estimator.set_params(**self.best_params_)\n",
    "        self.estimator.fit(X, y=y, **fit_params)\n",
    "    \n",
    "    def predict(self, X):\n",
    "        msg = \"Estimator, %(name)s, must be fitted before predicting.\"\n",
    "        skluv.check_is_fitted(self, \"best_params_\", msg=msg)\n",
    "        return self.estimator.predict(X)"
   ]
  },
  {
   "cell_type": "code",
   "execution_count": 4,
   "metadata": {
    "collapsed": false
   },
   "outputs": [],
   "source": [
    "dummy = DummyRegressor(a=1)"
   ]
  },
  {
   "cell_type": "code",
   "execution_count": 5,
   "metadata": {
    "collapsed": false
   },
   "outputs": [
    {
     "name": "stdout",
     "output_type": "stream",
     "text": [
      "ParticleSwarmOptimizer(debug=False, estimator=DummyRegressor(a=1),\n",
      "            min_func=0.0001, search_params={'a': (-10, 10)}, swarm_size=10)\n"
     ]
    }
   ],
   "source": [
    "search_params = {'a': (-10, 10)}\n",
    "pso = ParticleSwarmOptimizer(dummy, search_params, debug=False)\n",
    "print(pso)"
   ]
  },
  {
   "cell_type": "code",
   "execution_count": 6,
   "metadata": {
    "collapsed": false
   },
   "outputs": [],
   "source": [
    "n_samples = 10\n",
    "X = pd.DataFrame(np.repeat(np.arange(n_samples), 2).reshape((-1, 2)), columns=['feat1', 'feat2'])\n",
    "y = pd.DataFrame(np.arange(n_samples), columns=['target'])"
   ]
  },
  {
   "cell_type": "code",
   "execution_count": 7,
   "metadata": {
    "collapsed": false
   },
   "outputs": [
    {
     "name": "stdout",
     "output_type": "stream",
     "text": [
      "Stopping search: Swarm best objective change less than 0.0001\n",
      "Best err: -0.999997111416 Best params: {'a': 1.0009144227905247}\n"
     ]
    }
   ],
   "source": [
    "pso.fit(X, y=y)"
   ]
  },
  {
   "cell_type": "code",
   "execution_count": 9,
   "metadata": {
    "collapsed": false
   },
   "outputs": [
    {
     "data": {
      "text/plain": [
       "0.99999711141604419"
      ]
     },
     "execution_count": 9,
     "metadata": {},
     "output_type": "execute_result"
    }
   ],
   "source": [
    "pso.score(X, y)"
   ]
  },
  {
   "cell_type": "code",
   "execution_count": 11,
   "metadata": {
    "collapsed": false
   },
   "outputs": [
    {
     "name": "stdout",
     "output_type": "stream",
     "text": [
      "Stopping search: Swarm best objective change less than 0.0001\n",
      "Best err: -0.999999688618 Best params: {'a': 0.99988949642021452}\n",
      "Stopping search: Swarm best objective change less than 0.0001\n",
      "Best err: -0.999999811869 Best params: {'a': 1.0002504203271629}\n"
     ]
    }
   ],
   "source": [
    "X_test, y_test, y_pred = p2pspatial.model_selection.crossval_predict(pso, X, y, n_folds=2)"
   ]
  },
  {
   "cell_type": "code",
   "execution_count": 12,
   "metadata": {
    "collapsed": false
   },
   "outputs": [
    {
     "data": {
      "text/plain": [
       "[array([ 0.        ,  0.9998895 ,  1.99977899,  2.99966849,  3.99955799]),\n",
       " array([ 5.0012521 ,  6.00150252,  7.00175294,  8.00200336,  9.00225378])]"
      ]
     },
     "execution_count": 12,
     "metadata": {},
     "output_type": "execute_result"
    }
   ],
   "source": [
    "y_pred"
   ]
  },
  {
   "cell_type": "code",
   "execution_count": 14,
   "metadata": {
    "collapsed": false
   },
   "outputs": [
    {
     "data": {
      "text/plain": [
       "[   target\n",
       " 0       0\n",
       " 1       1\n",
       " 2       2\n",
       " 3       3\n",
       " 4       4,    target\n",
       " 5       5\n",
       " 6       6\n",
       " 7       7\n",
       " 8       8\n",
       " 9       9]"
      ]
     },
     "execution_count": 14,
     "metadata": {},
     "output_type": "execute_result"
    }
   ],
   "source": [
    "y_test"
   ]
  },
  {
   "cell_type": "code",
   "execution_count": null,
   "metadata": {
    "collapsed": true
   },
   "outputs": [],
   "source": []
  }
 ],
 "metadata": {
  "kernelspec": {
   "display_name": "Python 3",
   "language": "python",
   "name": "python3"
  },
  "language_info": {
   "codemirror_mode": {
    "name": "ipython",
    "version": 3
   },
   "file_extension": ".py",
   "mimetype": "text/x-python",
   "name": "python",
   "nbconvert_exporter": "python",
   "pygments_lexer": "ipython3",
   "version": "3.5.2"
  }
 },
 "nbformat": 4,
 "nbformat_minor": 2
}
