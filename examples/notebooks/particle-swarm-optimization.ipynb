{
 "cells": [
  {
   "cell_type": "code",
   "execution_count": 1,
   "metadata": {},
   "outputs": [
    {
     "name": "stderr",
     "output_type": "stream",
     "text": [
      "/home/mbeyeler/anaconda3/lib/python3.5/site-packages/skvideo/__init__.py:356: UserWarning: avconv/avprobe not found in path: \n",
      "  warnings.warn(\"avconv/avprobe not found in path: \" + str(path), UserWarning)\n",
      "2018-04-23 17:25:37,922 [pulse2percept] [INFO] Welcome to pulse2percept\n"
     ]
    }
   ],
   "source": [
    "import numpy as np\n",
    "import pandas as pd\n",
    "import argus_shapes\n",
    "\n",
    "import sklearn.base as sklb\n",
    "import sklearn.model_selection as sklms"
   ]
  },
  {
   "cell_type": "code",
   "execution_count": 2,
   "metadata": {
    "collapsed": true
   },
   "outputs": [],
   "source": [
    "class DummyRegressor(sklb.BaseEstimator, sklb.RegressorMixin):\n",
    "    def __init__(self, a=1):\n",
    "        self.a = a\n",
    "        self.greater_is_better = True\n",
    "        \n",
    "    def fit(self, X, y=None, **fit_params):\n",
    "        return self\n",
    "    \n",
    "    def predict(self, X):\n",
    "        y_pred = []\n",
    "        for i, _ in X.iterrows():\n",
    "            y_pred.append(i * self.a)\n",
    "        return np.array(y_pred)"
   ]
  },
  {
   "cell_type": "code",
   "execution_count": 3,
   "metadata": {
    "collapsed": true
   },
   "outputs": [],
   "source": [
    "dummy = DummyRegressor(a=0)"
   ]
  },
  {
   "cell_type": "code",
   "execution_count": 22,
   "metadata": {},
   "outputs": [
    {
     "name": "stdout",
     "output_type": "stream",
     "text": [
      "ParticleSwarmOptimizer(estimator=DummyRegressor(a=0.98329713053353363),\n",
      "            max_iter=100, min_func=1e-05, min_step=0.01,\n",
      "            search_params={'a': (-100, 100)}, swarm_size=10, verbose=False)\n"
     ]
    }
   ],
   "source": [
    "search_params = {'a': (-100, 100)}\n",
    "pso = argus_shapes.model_selection.ParticleSwarmOptimizer(dummy, search_params, min_func=0.00001, verbose=False)\n",
    "print(pso)"
   ]
  },
  {
   "cell_type": "code",
   "execution_count": 23,
   "metadata": {
    "collapsed": true
   },
   "outputs": [],
   "source": [
    "n_samples = 12\n",
    "X = pd.DataFrame(np.repeat(np.arange(n_samples), 2).reshape((-1, 2)), columns=['feat1', 'feat2'])\n",
    "y = pd.DataFrame(np.arange(n_samples), columns=['target'])"
   ]
  },
  {
   "cell_type": "code",
   "execution_count": 24,
   "metadata": {},
   "outputs": [
    {
     "name": "stdout",
     "output_type": "stream",
     "text": [
      "Stopping search: Swarm best position change less than 0.01\n",
      "Best err: -0.999998220008 Best params: {'a': 1.0007092539290121}\n"
     ]
    }
   ],
   "source": [
    "pso.fit(X, y=y)"
   ]
  },
  {
   "cell_type": "code",
   "execution_count": 25,
   "metadata": {},
   "outputs": [
    {
     "data": {
      "text/plain": [
       "0.99999822000828875"
      ]
     },
     "execution_count": 25,
     "metadata": {},
     "output_type": "execute_result"
    }
   ],
   "source": [
    "pso.score(X, y)"
   ]
  },
  {
   "cell_type": "code",
   "execution_count": 26,
   "metadata": {},
   "outputs": [
    {
     "name": "stdout",
     "output_type": "stream",
     "text": [
      "Fold 1 / 5\n",
      "Stopping search: Swarm best objective change less than 1e-05\n",
      "Best err: -0.999997808597 Best params: {'a': 0.99948770757409167}\n",
      "Fold 2 / 5\n",
      "Stopping search: Swarm best objective change less than 1e-05\n",
      "Best err: -0.999999343715 Best params: {'a': 0.99956413620309859}\n",
      "Fold 3 / 5\n",
      "Stopping search: Swarm best position change less than 0.01\n",
      "Best err: 1.77987144289 Best params: {'a': 0.038187591254681408}\n",
      "Fold 4 / 5\n",
      "Stopping search: Swarm best position change less than 0.01\n",
      "Best err: -0.998202978096 Best params: {'a': 0.97546781478931099}\n",
      "Fold 5 / 5\n",
      "Stopping search: Swarm best position change less than 0.01\n",
      "Best err: -0.999949187663 Best params: {'a': 1.0038352098338652}\n"
     ]
    }
   ],
   "source": [
    "y_test, y_pred, best_params, train_score, test_score = argus_shapes.model_selection.crossval_predict(\n",
    "    pso, X, y, n_folds=5\n",
    ")"
   ]
  },
  {
   "cell_type": "code",
   "execution_count": 27,
   "metadata": {},
   "outputs": [
    {
     "data": {
      "text/plain": [
       "[0.99999934389117584,\n",
       " 0.99999525056876382,\n",
       " -156.26412863480022,\n",
       " 0.82546984774865151,\n",
       " 0.99349869516435885]"
      ]
     },
     "execution_count": 27,
     "metadata": {},
     "output_type": "execute_result"
    }
   ],
   "source": [
    "argus_shapes.model_selection.crossval_score(y_test, y_pred, metric='r2')"
   ]
  },
  {
   "cell_type": "code",
   "execution_count": null,
   "metadata": {
    "collapsed": true
   },
   "outputs": [],
   "source": []
  },
  {
   "cell_type": "code",
   "execution_count": null,
   "metadata": {
    "collapsed": true
   },
   "outputs": [],
   "source": []
  },
  {
   "cell_type": "code",
   "execution_count": null,
   "metadata": {
    "collapsed": true
   },
   "outputs": [],
   "source": []
  }
 ],
 "metadata": {
  "kernelspec": {
   "display_name": "Python [default]",
   "language": "python",
   "name": "python3"
  },
  "language_info": {
   "codemirror_mode": {
    "name": "ipython",
    "version": 3
   },
   "file_extension": ".py",
   "mimetype": "text/x-python",
   "name": "python",
   "nbconvert_exporter": "python",
   "pygments_lexer": "ipython3",
   "version": "3.5.3"
  }
 },
 "nbformat": 4,
 "nbformat_minor": 2
}
