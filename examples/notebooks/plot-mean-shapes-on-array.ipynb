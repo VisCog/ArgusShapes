{
 "cells": [
  {
   "cell_type": "code",
   "execution_count": 1,
   "metadata": {},
   "outputs": [
    {
     "name": "stderr",
     "output_type": "stream",
     "text": [
      "/home/mbeyeler/anaconda3/lib/python3.5/site-packages/skvideo/__init__.py:356: UserWarning: avconv/avprobe not found in path: \n",
      "  warnings.warn(\"avconv/avprobe not found in path: \" + str(path), UserWarning)\n",
      "2018-04-30 14:33:04,423 [pulse2percept] [INFO] Welcome to pulse2percept\n"
     ]
    }
   ],
   "source": [
    "import numpy as np\n",
    "import six\n",
    "import os\n",
    "import glob\n",
    "import pickle\n",
    "import skimage.io as skio\n",
    "import skimage.transform as skit\n",
    "import skimage.morphology as skim\n",
    "from sklearn.base import clone\n",
    "\n",
    "import pulse2percept as p2p\n",
    "import argus_shapes\n",
    "\n",
    "%matplotlib inline\n",
    "import matplotlib.pyplot as plt"
   ]
  },
  {
   "cell_type": "code",
   "execution_count": 2,
   "metadata": {
    "collapsed": true
   },
   "outputs": [],
   "source": [
    "img_argus1 = skio.imread('/home/mbeyeler/Dropbox/UW/argus_i.jpg')\n",
    "img_argus2 = skio.imread('/home/mbeyeler/Dropbox/UW/argus_ii.jpg')"
   ]
  },
  {
   "cell_type": "code",
   "execution_count": 3,
   "metadata": {
    "collapsed": true
   },
   "outputs": [],
   "source": [
    "px_argus1 = np.array([\n",
    "    [  93.12857037,  162.32202802],\n",
    "    [ 138.00952276,  163.7029804 ],\n",
    "    [ 178.74761799,  163.01250421],\n",
    "    [ 227.77142752,  161.63155183],\n",
    "    [  93.12857037,  208.58393279],\n",
    "    [ 143.53333228,  207.8934566 ],\n",
    "    [ 182.89047514,  207.2029804 ],\n",
    "    [ 227.77142752,  206.51250421],\n",
    "    [  93.12857037,  251.3934566 ],\n",
    "    [ 137.31904657,  251.3934566 ],\n",
    "    [ 180.81904657,  251.3934566 ],\n",
    "    [ 227.08095133,  251.3934566 ],\n",
    "    [  93.81904657,  296.27440898],\n",
    "    [ 140.08095133,  296.27440898],\n",
    "    [ 182.89047514,  297.65536136],\n",
    "    [ 227.08095133,  297.65536136]\n",
    "])\n",
    "\n",
    "px_argus2 = np.array([\n",
    "    [ 296.94026284,  140.58506571], [ 328.48148148,  138.4823178 ],\n",
    "    [ 365.27956989,  140.58506571], [ 397.87216249,  139.53369176],\n",
    "    [ 429.41338112,  138.4823178 ], [ 463.05734767,  140.58506571],\n",
    "    [ 495.64994026,  139.53369176], [ 528.24253286,  139.53369176],\n",
    "    [ 560.83512545,  139.53369176], [ 593.42771804,  138.4823178 ],\n",
    "    [ 296.94026284,  173.1776583 ], [ 329.53285544,  174.22903226],\n",
    "    [ 363.17682198,  173.1776583 ], [ 396.82078853,  173.1776583 ],\n",
    "    [ 430.46475508,  173.1776583 ], [ 463.05734767,  174.22903226],\n",
    "    [ 494.59856631,  173.1776583 ], [ 529.29390681,  174.22903226],\n",
    "    [ 559.78375149,  175.28040621], [ 593.42771804,  173.1776583 ],\n",
    "    [ 296.94026284,  206.82162485], [ 329.53285544,  206.82162485],\n",
    "    [ 363.17682198,  205.7702509 ], [ 395.76941458,  205.7702509 ],\n",
    "    [ 429.41338112,  205.7702509 ], [ 463.05734767,  208.92437276],\n",
    "    [ 496.70131422,  207.87299881], [ 529.29390681,  209.97574671],\n",
    "    [ 559.78375149,  208.92437276], [ 592.37634409,  206.82162485],\n",
    "    [ 296.94026284,  240.4655914 ], [ 330.58422939,  240.4655914 ],\n",
    "    [ 363.17682198,  240.4655914 ], [ 396.82078853,  240.4655914 ],\n",
    "    [ 430.46475508,  240.4655914 ], [ 460.95459976,  240.4655914 ],\n",
    "    [ 494.59856631,  242.56833931], [ 528.24253286,  239.41421744],\n",
    "    [ 559.78375149,  240.4655914 ], [ 593.42771804,  241.51696535],\n",
    "    [ 297.9916368 ,  274.10955795], [ 328.48148148,  273.05818399],\n",
    "    [ 361.07407407,  274.10955795], [ 395.76941458,  273.05818399],\n",
    "    [ 428.36200717,  274.10955795], [ 463.05734767,  273.05818399],\n",
    "    [ 494.59856631,  275.1609319 ], [ 526.13978495,  274.10955795],\n",
    "    [ 560.83512545,  274.10955795], [ 591.32497013,  274.10955795],\n",
    "    [ 295.88888889,  306.70215054], [ 329.53285544,  305.65077658],\n",
    "    [ 363.17682198,  305.65077658], [ 393.66666667,  307.75352449],\n",
    "    [ 427.31063321,  307.75352449], [ 459.90322581,  305.65077658],\n",
    "    [ 492.4958184 ,  308.80489845], [ 527.1911589 ,  307.75352449],\n",
    "    [ 559.78375149,  307.75352449], [ 590.27359618,  306.70215054]\n",
    "])"
   ]
  },
  {
   "cell_type": "code",
   "execution_count": 4,
   "metadata": {
    "collapsed": true
   },
   "outputs": [],
   "source": [
    "subject = '51-009'\n",
    "model = 'C'\n",
    "\n",
    "picklefolder = os.path.join('..', '..', 'results', 'shape5fit')\n",
    "datafolder = os.path.join(os.environ['SECOND_SIGHT_DATA'], 'shape')"
   ]
  },
  {
   "cell_type": "code",
   "execution_count": 5,
   "metadata": {},
   "outputs": [
    {
     "ename": "ImportError",
     "evalue": "No module named 'p2pspatial'",
     "output_type": "error",
     "traceback": [
      "\u001b[0;31m---------------------------------------------------------------------------\u001b[0m",
      "\u001b[0;31mImportError\u001b[0m                               Traceback (most recent call last)",
      "\u001b[0;32m<ipython-input-5-1440e9aac169>\u001b[0m in \u001b[0;36m<module>\u001b[0;34m()\u001b[0m\n\u001b[1;32m      5\u001b[0m     \u001b[0mbest_cost\u001b[0m \u001b[0;34m=\u001b[0m \u001b[0mnp\u001b[0m\u001b[0;34m.\u001b[0m\u001b[0minf\u001b[0m\u001b[0;34m\u001b[0m\u001b[0m\n\u001b[1;32m      6\u001b[0m     \u001b[0;32mfor\u001b[0m \u001b[0mf\u001b[0m \u001b[0;32min\u001b[0m \u001b[0mfiles\u001b[0m\u001b[0;34m:\u001b[0m\u001b[0;34m\u001b[0m\u001b[0m\n\u001b[0;32m----> 7\u001b[0;31m         \u001b[0m_\u001b[0m\u001b[0;34m,\u001b[0m \u001b[0m_\u001b[0m\u001b[0;34m,\u001b[0m \u001b[0m_\u001b[0m\u001b[0;34m,\u001b[0m \u001b[0mspecifics\u001b[0m \u001b[0;34m=\u001b[0m \u001b[0mpickle\u001b[0m\u001b[0;34m.\u001b[0m\u001b[0mload\u001b[0m\u001b[0;34m(\u001b[0m\u001b[0mopen\u001b[0m\u001b[0;34m(\u001b[0m\u001b[0mf\u001b[0m\u001b[0;34m,\u001b[0m \u001b[0;34m'rb'\u001b[0m\u001b[0;34m)\u001b[0m\u001b[0;34m)\u001b[0m\u001b[0;34m\u001b[0m\u001b[0m\n\u001b[0m\u001b[1;32m      8\u001b[0m         \u001b[0mcost\u001b[0m \u001b[0;34m=\u001b[0m \u001b[0mspecifics\u001b[0m\u001b[0;34m[\u001b[0m\u001b[0;34m'best_test_score'\u001b[0m\u001b[0;34m]\u001b[0m \u001b[0;32mif\u001b[0m \u001b[0mspecifics\u001b[0m\u001b[0;34m[\u001b[0m\u001b[0;34m'best_test_score'\u001b[0m\u001b[0;34m]\u001b[0m \u001b[0;32melse\u001b[0m \u001b[0mspecifics\u001b[0m\u001b[0;34m[\u001b[0m\u001b[0;34m'best_train_score'\u001b[0m\u001b[0;34m]\u001b[0m\u001b[0;34m\u001b[0m\u001b[0m\n\u001b[1;32m      9\u001b[0m         \u001b[0;32mif\u001b[0m \u001b[0mcost\u001b[0m \u001b[0;34m<\u001b[0m \u001b[0mbest_cost\u001b[0m\u001b[0;34m:\u001b[0m\u001b[0;34m\u001b[0m\u001b[0m\n",
      "\u001b[0;31mImportError\u001b[0m: No module named 'p2pspatial'"
     ]
    }
   ],
   "source": [
    "findstr = \"%s_%s_*shape5fit-swarm_*.pickle\" % (subject, model)\n",
    "files = glob.glob(os.path.join(picklefolder, findstr))\n",
    "if len(files) > 1:\n",
    "    best_file = []\n",
    "    best_cost = np.inf\n",
    "    for f in files:\n",
    "        _, _, _, specifics = pickle.load(open(f, 'rb'))\n",
    "        cost = specifics['best_test_score'] if specifics['best_test_score'] else specifics['best_train_score']\n",
    "        if cost < best_cost:\n",
    "            best_cost = cost\n",
    "            best_file = f\n",
    "elif len(files) == 1:\n",
    "    best_file = files[0]\n",
    "else:\n",
    "    raise FileNotFoundError(\"No files found\")\n",
    "best_cost, best_file"
   ]
  },
  {
   "cell_type": "code",
   "execution_count": null,
   "metadata": {
    "collapsed": true
   },
   "outputs": [],
   "source": [
    "_, _, best_params, specifics = pickle.load(open(best_file, 'rb'))"
   ]
  },
  {
   "cell_type": "code",
   "execution_count": null,
   "metadata": {
    "collapsed": true
   },
   "outputs": [],
   "source": [
    "amplitude = specifics['amplitude']"
   ]
  },
  {
   "cell_type": "code",
   "execution_count": null,
   "metadata": {},
   "outputs": [],
   "source": [
    "best_params"
   ]
  },
  {
   "cell_type": "code",
   "execution_count": null,
   "metadata": {},
   "outputs": [],
   "source": [
    "reg = clone(specifics['regressor'])\n",
    "reg"
   ]
  },
  {
   "cell_type": "code",
   "execution_count": null,
   "metadata": {
    "collapsed": true
   },
   "outputs": [],
   "source": [
    "if 'implant_x' not in best_params:\n",
    "    if hasattr(reg, 'implant_x'):\n",
    "        best_params['implant_x'] = reg.implant_x\n",
    "        best_params['implant_y'] = reg.implant_y\n",
    "        best_params['implant_rot'] = reg.implant_rot\n",
    "    else:\n",
    "        best_params['implant_x'] = 0\n",
    "        best_params['implant_y'] = 0\n",
    "        best_params['implant_rot'] = 0"
   ]
  },
  {
   "cell_type": "code",
   "execution_count": null,
   "metadata": {
    "collapsed": true
   },
   "outputs": [],
   "source": [
    "if isinstance(reg.implant_type(), p2p.implants.ArgusI):\n",
    "    argus = p2p.implants.ArgusI(x_center=best_params['implant_x'],\n",
    "                                y_center=best_params['implant_y'],\n",
    "                                rot=best_params['implant_rot'])\n",
    "    px_argus = px_argus1\n",
    "    img_argus = img_argus1\n",
    "else:\n",
    "    argus = p2p.implants.ArgusII(x_center=best_params['implant_x'],\n",
    "                                 y_center=best_params['implant_y'],\n",
    "                                 rot=best_params['implant_rot'])\n",
    "    px_argus = px_argus2\n",
    "    img_argus = img_argus2"
   ]
  },
  {
   "cell_type": "code",
   "execution_count": null,
   "metadata": {},
   "outputs": [],
   "source": [
    "x_range = reg.xrange\n",
    "y_range = reg.yrange\n",
    "out_shape = (np.diff(y_range)[0] * 10, np.diff(x_range)[0] * 10)\n",
    "out_shape"
   ]
  },
  {
   "cell_type": "code",
   "execution_count": null,
   "metadata": {
    "collapsed": true
   },
   "outputs": [],
   "source": [
    "pts_in = []\n",
    "pts_dva = []\n",
    "pts_out = []\n",
    "for xy, e in zip(px_argus, argus):\n",
    "    pts_in.append(xy)\n",
    "    \n",
    "    dva = p2p.retina.ret2dva([e.x_center, e.y_center])\n",
    "    pts_dva.append(dva)\n",
    "    \n",
    "    xout = (dva[0] - x_range[0]) / (x_range[1] - x_range[0]) * (out_shape[1] - 1)\n",
    "    yout = (dva[1] - y_range[0]) / (y_range[1] - y_range[0]) * (out_shape[0] - 1)\n",
    "    pts_out.append([xout, yout])"
   ]
  },
  {
   "cell_type": "code",
   "execution_count": null,
   "metadata": {
    "collapsed": true
   },
   "outputs": [],
   "source": [
    "argus2dva = skit.estimate_transform('similarity', np.array(pts_in), np.array(pts_dva))\n",
    "dva2out = skit.estimate_transform('similarity', np.array(pts_dva), np.array(pts_out))\n",
    "argus2out = skit.estimate_transform('similarity', np.array(pts_in), np.array(pts_out))"
   ]
  },
  {
   "cell_type": "code",
   "execution_count": null,
   "metadata": {
    "collapsed": true
   },
   "outputs": [],
   "source": [
    "X, y = argus_shapes.load_data(datafolder, subject=subject, amplitude=amplitude)\n",
    "X, y = argus_shapes.exclude_bistables(X, y)\n",
    "X, y = argus_shapes.calc_mean_images(X, y, thresh=False)"
   ]
  },
  {
   "cell_type": "code",
   "execution_count": null,
   "metadata": {
    "collapsed": true
   },
   "outputs": [],
   "source": [
    "def get_avg_image(X, y, electrode, amp, align_center, scale=1):\n",
    "    idx = (X['electrode'] == electrode) & (X['amplitude'] == amp)\n",
    "    avg_img = y[idx]['image'].values\n",
    "    \n",
    "    if len(avg_img) == 0:\n",
    "        return None\n",
    "    \n",
    "    avg_img = avg_img[0] / avg_img[0].max()\n",
    "    \n",
    "    avg_img = argus_shapes.imgproc.center_phosphene(avg_img)\n",
    "    \n",
    "    avg_img = argus_shapes.imgproc.scale_phosphene(avg_img, scale)\n",
    "\n",
    "    transl = [align_center[0] - avg_img.shape[1] // 2,\n",
    "              align_center[1] - avg_img.shape[0] // 2]\n",
    "    trafo = skit.EuclideanTransform(translation=transl)\n",
    "    avg_img = skit.warp(avg_img, trafo.inverse)\n",
    "    return avg_img"
   ]
  },
  {
   "cell_type": "code",
   "execution_count": null,
   "metadata": {},
   "outputs": [],
   "source": [
    "electrodes = np.unique(X.groupby(['electrode', 'amplitude']).electrode.all())\n",
    "amps = np.unique(X['amplitude'])\n",
    "assert len(amps) == 1\n",
    "assert np.isclose(amps, amplitude)\n",
    "print(electrodes)\n",
    "print(amplitude)"
   ]
  },
  {
   "cell_type": "code",
   "execution_count": null,
   "metadata": {},
   "outputs": [],
   "source": [
    "if not hasattr(reg, 'n_ax_segments'):\n",
    "    reg.set_params(xystep=0.1, n_ax_segments=500)\n",
    "reg._curr_map = {}\n",
    "!rm axons.pickle\n",
    "reg.fit(X)"
   ]
  },
  {
   "cell_type": "code",
   "execution_count": null,
   "metadata": {
    "collapsed": true
   },
   "outputs": [],
   "source": [
    "def get_pred_image(Xrow, model, align_center, scale=1):\n",
    "    pred_img = model._predicts_image(Xrow)\n",
    "    if pred_img is None:\n",
    "        return None\n",
    "    \n",
    "    pred_img = argus_shapes.imgproc.get_thresholded_image(pred_img, thresh=model.img_thresh,\n",
    "                                                        out_shape=Xrow[1]['img_shape'])\n",
    "    pred_img = argus_shapes.imgproc.center_phosphene(pred_img)\n",
    "\n",
    "    pred_img = argus_shapes.imgproc.scale_phosphene(pred_img, scale)\n",
    "\n",
    "    transl = [align_center[0] - pred_img.shape[1] // 2,\n",
    "              align_center[1] - pred_img.shape[0] // 2]\n",
    "    trafo = skit.EuclideanTransform(translation=transl)\n",
    "    pred_img = skit.warp(pred_img, trafo.inverse)\n",
    "    return pred_img"
   ]
  },
  {
   "cell_type": "code",
   "execution_count": null,
   "metadata": {},
   "outputs": [],
   "source": [
    "fovea = dva2out([0, 0])[0]\n",
    "scale = 0.6\n",
    "\n",
    "fig, axes = plt.subplots(ncols=2, figsize=(15, 6))\n",
    "fig.tight_layout()\n",
    "\n",
    "ax = axes[0]\n",
    "ax.set_facecolor('white')\n",
    "for el in electrodes:\n",
    "    ename = '%s%d' % (el[0], int(el[1:]))\n",
    "    e_pos = p2p.retina.ret2dva((argus[ename].x_center, argus[ename].y_center))\n",
    "    align_center = dva2out(e_pos)[0]\n",
    "    avg = get_avg_image(X, y, el, amplitude, align_center, scale=scale)\n",
    "#     ax.imshow(1 - avg, cmap='gray')\n",
    "    if avg is None:\n",
    "        print('%s: avg is None' % ename)\n",
    "        continue\n",
    "    ax.imshow(1 - np.ma.masked_where(avg < 0.5, avg), cmap='gray')\n",
    "    ax.set_title('%s: %.2fx threshold' % (subject, amplitude))\n",
    "ax.imshow(skit.warp(img_argus, argus2out.inverse, cval=1.0, output_shape=out_shape), alpha=0.3)\n",
    "ax.scatter(fovea[0], fovea[1], s=100, marker='s', c='w', edgecolors='k')\n",
    "\n",
    "ax = axes[1]\n",
    "ax.set_facecolor('white')\n",
    "for Xrow in X.iterrows():\n",
    "    el = Xrow[1]['electrode']\n",
    "    ename = '%s%d' % (el[0], int(el[1:]))\n",
    "    e_pos = p2p.retina.ret2dva((argus[ename].x_center, argus[ename].y_center))\n",
    "    align_center = dva2out(e_pos)[0]\n",
    "    pred_img = get_pred_image(Xrow, reg, align_center, scale=scale)\n",
    "    if pred_img is None:\n",
    "        print('%s: pred is None' % ename)\n",
    "        continue\n",
    "    ax.imshow(1 - np.ma.masked_where(pred_img < 0.5, pred_img), cmap='gray')\n",
    "    ax.set_title('%s: %.2fx threshold' % (subject, amplitude))\n",
    "ax.imshow(skit.warp(img_argus, argus2out.inverse, cval=1.0, output_shape=out_shape), alpha=0.3)\n",
    "ax.scatter(fovea[0], fovea[1], s=100, marker='s', c='w', edgecolors='k')\n",
    "\n",
    "fig.savefig('shape-%s-%s.png' % (subject, model))"
   ]
  },
  {
   "cell_type": "code",
   "execution_count": null,
   "metadata": {
    "collapsed": true
   },
   "outputs": [],
   "source": []
  },
  {
   "cell_type": "code",
   "execution_count": null,
   "metadata": {
    "collapsed": true
   },
   "outputs": [],
   "source": []
  }
 ],
 "metadata": {
  "kernelspec": {
   "display_name": "Python [default]",
   "language": "python",
   "name": "python3"
  },
  "language_info": {
   "codemirror_mode": {
    "name": "ipython",
    "version": 3
   },
   "file_extension": ".py",
   "mimetype": "text/x-python",
   "name": "python",
   "nbconvert_exporter": "python",
   "pygments_lexer": "ipython3",
   "version": "3.5.3"
  }
 },
 "nbformat": 4,
 "nbformat_minor": 2
}
