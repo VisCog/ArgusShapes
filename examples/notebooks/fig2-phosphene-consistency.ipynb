{
 "cells": [
  {
   "cell_type": "code",
   "execution_count": 1,
   "metadata": {},
   "outputs": [
    {
     "name": "stderr",
     "output_type": "stream",
     "text": [
      "/home/mbeyeler/anaconda3/lib/python3.5/site-packages/skvideo/__init__.py:356: UserWarning: avconv/avprobe not found in path: \n",
      "  warnings.warn(\"avconv/avprobe not found in path: \" + str(path), UserWarning)\n",
      "2018-04-26 18:00:59,531 [pulse2percept] [INFO] Welcome to pulse2percept\n"
     ]
    }
   ],
   "source": [
    "import os\n",
    "import numpy as np\n",
    "import pandas as pd\n",
    "import pulse2percept as p2p\n",
    "import argus_shapes\n",
    "\n",
    "%matplotlib inline\n",
    "import matplotlib.pyplot as plt"
   ]
  },
  {
   "cell_type": "code",
   "execution_count": 2,
   "metadata": {
    "collapsed": true
   },
   "outputs": [],
   "source": [
    "subject = '52-001'\n",
    "electrodes = ['A05']\n",
    "amplitude = 2\n",
    "frequency = 20\n",
    "datafolder = os.path.join(os.environ['SECOND_SIGHT_DATA'], 'shape')"
   ]
  },
  {
   "cell_type": "code",
   "execution_count": 3,
   "metadata": {},
   "outputs": [
    {
     "data": {
      "text/html": [
       "<div>\n",
       "<style scoped>\n",
       "    .dataframe tbody tr th:only-of-type {\n",
       "        vertical-align: middle;\n",
       "    }\n",
       "\n",
       "    .dataframe tbody tr th {\n",
       "        vertical-align: top;\n",
       "    }\n",
       "\n",
       "    .dataframe thead th {\n",
       "        text-align: right;\n",
       "    }\n",
       "</style>\n",
       "<table border=\"1\" class=\"dataframe\">\n",
       "  <thead>\n",
       "    <tr style=\"text-align: right;\">\n",
       "      <th></th>\n",
       "      <th>amp</th>\n",
       "      <th>date</th>\n",
       "      <th>electrode</th>\n",
       "      <th>filename</th>\n",
       "      <th>folder</th>\n",
       "      <th>freq</th>\n",
       "      <th>img_shape</th>\n",
       "      <th>param_str</th>\n",
       "      <th>stim_class</th>\n",
       "      <th>subject</th>\n",
       "    </tr>\n",
       "  </thead>\n",
       "  <tbody>\n",
       "    <tr>\n",
       "      <th>0</th>\n",
       "      <td>2.0</td>\n",
       "      <td>20100121</td>\n",
       "      <td>A05</td>\n",
       "      <td>20100121_112209_trial3.bmp</td>\n",
       "      <td>/home/mbeyeler/data/secondsight/shape/52-001/2...</td>\n",
       "      <td>20.0</td>\n",
       "      <td>(768, 1024)</td>\n",
       "      <td>52-001_SingleElectrode_f20_pw46_20100105.csv A...</td>\n",
       "      <td>SingleElectrode</td>\n",
       "      <td>52-001</td>\n",
       "    </tr>\n",
       "    <tr>\n",
       "      <th>1</th>\n",
       "      <td>2.0</td>\n",
       "      <td>20100121</td>\n",
       "      <td>A05</td>\n",
       "      <td>20100121_112209_trial14.bmp</td>\n",
       "      <td>/home/mbeyeler/data/secondsight/shape/52-001/2...</td>\n",
       "      <td>20.0</td>\n",
       "      <td>(768, 1024)</td>\n",
       "      <td>52-001_SingleElectrode_f20_pw46_20100105.csv A...</td>\n",
       "      <td>SingleElectrode</td>\n",
       "      <td>52-001</td>\n",
       "    </tr>\n",
       "    <tr>\n",
       "      <th>2</th>\n",
       "      <td>2.0</td>\n",
       "      <td>20100121</td>\n",
       "      <td>A05</td>\n",
       "      <td>20100121_112209_trial21.bmp</td>\n",
       "      <td>/home/mbeyeler/data/secondsight/shape/52-001/2...</td>\n",
       "      <td>20.0</td>\n",
       "      <td>(768, 1024)</td>\n",
       "      <td>52-001_SingleElectrode_f20_pw46_20100105.csv A...</td>\n",
       "      <td>SingleElectrode</td>\n",
       "      <td>52-001</td>\n",
       "    </tr>\n",
       "    <tr>\n",
       "      <th>3</th>\n",
       "      <td>2.0</td>\n",
       "      <td>20100121</td>\n",
       "      <td>A05</td>\n",
       "      <td>20100121_112209_trial33.bmp</td>\n",
       "      <td>/home/mbeyeler/data/secondsight/shape/52-001/2...</td>\n",
       "      <td>20.0</td>\n",
       "      <td>(768, 1024)</td>\n",
       "      <td>52-001_SingleElectrode_f20_pw46_20100105.csv A...</td>\n",
       "      <td>SingleElectrode</td>\n",
       "      <td>52-001</td>\n",
       "    </tr>\n",
       "    <tr>\n",
       "      <th>4</th>\n",
       "      <td>2.0</td>\n",
       "      <td>20100121</td>\n",
       "      <td>A05</td>\n",
       "      <td>20100121_112209_trial50.bmp</td>\n",
       "      <td>/home/mbeyeler/data/secondsight/shape/52-001/2...</td>\n",
       "      <td>20.0</td>\n",
       "      <td>(768, 1024)</td>\n",
       "      <td>52-001_SingleElectrode_f20_pw46_20100105.csv A...</td>\n",
       "      <td>SingleElectrode</td>\n",
       "      <td>52-001</td>\n",
       "    </tr>\n",
       "  </tbody>\n",
       "</table>\n",
       "</div>"
      ],
      "text/plain": [
       "   amp      date electrode                     filename  \\\n",
       "0  2.0  20100121       A05   20100121_112209_trial3.bmp   \n",
       "1  2.0  20100121       A05  20100121_112209_trial14.bmp   \n",
       "2  2.0  20100121       A05  20100121_112209_trial21.bmp   \n",
       "3  2.0  20100121       A05  20100121_112209_trial33.bmp   \n",
       "4  2.0  20100121       A05  20100121_112209_trial50.bmp   \n",
       "\n",
       "                                              folder  freq    img_shape  \\\n",
       "0  /home/mbeyeler/data/secondsight/shape/52-001/2...  20.0  (768, 1024)   \n",
       "1  /home/mbeyeler/data/secondsight/shape/52-001/2...  20.0  (768, 1024)   \n",
       "2  /home/mbeyeler/data/secondsight/shape/52-001/2...  20.0  (768, 1024)   \n",
       "3  /home/mbeyeler/data/secondsight/shape/52-001/2...  20.0  (768, 1024)   \n",
       "4  /home/mbeyeler/data/secondsight/shape/52-001/2...  20.0  (768, 1024)   \n",
       "\n",
       "                                           param_str       stim_class subject  \n",
       "0  52-001_SingleElectrode_f20_pw46_20100105.csv A...  SingleElectrode  52-001  \n",
       "1  52-001_SingleElectrode_f20_pw46_20100105.csv A...  SingleElectrode  52-001  \n",
       "2  52-001_SingleElectrode_f20_pw46_20100105.csv A...  SingleElectrode  52-001  \n",
       "3  52-001_SingleElectrode_f20_pw46_20100105.csv A...  SingleElectrode  52-001  \n",
       "4  52-001_SingleElectrode_f20_pw46_20100105.csv A...  SingleElectrode  52-001  "
      ]
     },
     "execution_count": 3,
     "metadata": {},
     "output_type": "execute_result"
    }
   ],
   "source": [
    "X, y = argus_shapes.load_data(datafolder, subject=subject, electrodes=electrodes, date=\"20100121\",\n",
    "                            amplitude=amplitude, frequency=frequency, n_jobs=1)\n",
    "X"
   ]
  },
  {
   "cell_type": "code",
   "execution_count": 4,
   "metadata": {
    "collapsed": true
   },
   "outputs": [],
   "source": [
    "cmap = plt.get_cmap('jet')"
   ]
  },
  {
   "cell_type": "code",
   "execution_count": 5,
   "metadata": {},
   "outputs": [
    {
     "name": "stdout",
     "output_type": "stream",
     "text": [
      "(0.0, 0.0, 0.589126559714795, 1.0)\n",
      "(768, 1024, 3)\n",
      "(0.0, 0.3784313725490196, 1.0, 1.0)\n",
      "(768, 1024, 3)\n",
      "(0.22454142947501579, 1.0, 0.74320050600885512, 1.0)\n",
      "(768, 1024, 3)\n",
      "(0.86970271979759628, 1.0, 0.098039215686274495, 1.0)\n",
      "(768, 1024, 3)\n",
      "(1.0, 0.33478576615831535, 0.0, 1.0)\n",
      "(768, 1024, 3)\n",
      "Saved as 52-001-A05-trials.eps\n"
     ]
    },
    {
     "data": {
      "image/png": "[encoded data removed]",
      "text/plain": [
       "<matplotlib.figure.Figure at 0x7f797d0b6a90>"
      ]
     },
     "metadata": {},
     "output_type": "display_data"
    }
   ],
   "source": [
    "ncols = 5\n",
    "nrows = int(np.ceil(np.sqrt(len(X) / ncols)))\n",
    "fig, axes = plt.subplots(nrows=nrows, ncols=ncols, figsize=(14, 5 * nrows))\n",
    "for i, ((_, row), ax) in enumerate(zip(y.iterrows(), axes.ravel())):\n",
    "    color = cmap((i + 0.1) * 1.0 / len(X))\n",
    "    print(color)\n",
    "    img = np.concatenate((row['image'][:, :, np.newaxis] * color[0],\n",
    "                          row['image'][:, :, np.newaxis] * color[1],\n",
    "                          row['image'][:, :, np.newaxis] * color[2]),\n",
    "                         axis=-1)\n",
    "    print(img.shape)\n",
    "    ax.imshow(img)\n",
    "    ax.axis('off')\n",
    "fig.tight_layout()\n",
    "fname = '%s-%s-trials.eps' % (subject, electrodes[0])\n",
    "fig.savefig(fname)\n",
    "print(\"Saved as %s\" % fname)"
   ]
  },
  {
   "cell_type": "code",
   "execution_count": 6,
   "metadata": {
    "collapsed": true
   },
   "outputs": [],
   "source": [
    "if len(X) > 0:\n",
    "    Xmean, ymean = argus_shapes.calc_mean_images(X, y, thresh=False)"
   ]
  },
  {
   "cell_type": "code",
   "execution_count": 7,
   "metadata": {},
   "outputs": [
    {
     "name": "stdout",
     "output_type": "stream",
     "text": [
      "saves as 52-001-A05-mean.eps\n"
     ]
    },
    {
     "data": {
      "image/png": "[encoded data removed]",
      "text/plain": [
       "<matplotlib.figure.Figure at 0x7f797d104048>"
      ]
     },
     "metadata": {},
     "output_type": "display_data"
    }
   ],
   "source": [
    "plt.imshow(255 - ymean.loc[0, 'image'], cmap='gray')\n",
    "plt.axis('off')\n",
    "fname = '%s-%s-mean.eps' % (subject, electrodes[0])\n",
    "plt.savefig(fname)\n",
    "print('saves as %s' % fname)"
   ]
  },
  {
   "cell_type": "code",
   "execution_count": null,
   "metadata": {
    "collapsed": true
   },
   "outputs": [],
   "source": []
  },
  {
   "cell_type": "code",
   "execution_count": null,
   "metadata": {
    "collapsed": true
   },
   "outputs": [],
   "source": []
  }
 ],
 "metadata": {
  "kernelspec": {
   "display_name": "Python [default]",
   "language": "python",
   "name": "python3"
  },
  "language_info": {
   "codemirror_mode": {
    "name": "ipython",
    "version": 3
   },
   "file_extension": ".py",
   "mimetype": "text/x-python",
   "name": "python",
   "nbconvert_exporter": "python",
   "pygments_lexer": "ipython3",
   "version": "3.5.3"
  }
 },
 "nbformat": 4,
 "nbformat_minor": 2
}
