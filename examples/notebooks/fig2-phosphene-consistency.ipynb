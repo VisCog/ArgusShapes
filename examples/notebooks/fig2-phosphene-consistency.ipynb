{
 "cells": [
  {
   "cell_type": "code",
   "execution_count": 1,
   "metadata": {},
   "outputs": [
    {
     "name": "stderr",
     "output_type": "stream",
     "text": [
      "/home/mbeyeler/anaconda3/lib/python3.5/site-packages/skvideo/__init__.py:356: UserWarning: avconv/avprobe not found in path: \n",
      "  warnings.warn(\"avconv/avprobe not found in path: \" + str(path), UserWarning)\n",
      "2018-03-25 18:47:17,383 [pulse2percept] [INFO] Welcome to pulse2percept\n"
     ]
    }
   ],
   "source": [
    "import os\n",
    "import numpy as np\n",
    "import pandas as pd\n",
    "import pulse2percept as p2p\n",
    "import p2pspatial\n",
    "\n",
    "%matplotlib inline\n",
    "import matplotlib.pyplot as plt"
   ]
  },
  {
   "cell_type": "code",
   "execution_count": 67,
   "metadata": {},
   "outputs": [],
   "source": [
    "subject = '52-001'\n",
    "electrodes = ['A05']\n",
    "amplitude = 2\n",
    "frequency = 20\n",
    "datafolder = os.path.join(os.environ['SECOND_SIGHT_DATA'], 'shape', subject)"
   ]
  },
  {
   "cell_type": "code",
   "execution_count": 73,
   "metadata": {},
   "outputs": [
    {
     "data": {
      "text/html": [
       "<div>\n",
       "<style scoped>\n",
       "    .dataframe tbody tr th:only-of-type {\n",
       "        vertical-align: middle;\n",
       "    }\n",
       "\n",
       "    .dataframe tbody tr th {\n",
       "        vertical-align: top;\n",
       "    }\n",
       "\n",
       "    .dataframe thead th {\n",
       "        text-align: right;\n",
       "    }\n",
       "</style>\n",
       "<table border=\"1\" class=\"dataframe\">\n",
       "  <thead>\n",
       "    <tr style=\"text-align: right;\">\n",
       "      <th></th>\n",
       "      <th>amp</th>\n",
       "      <th>date</th>\n",
       "      <th>electrode</th>\n",
       "      <th>filename</th>\n",
       "      <th>folder</th>\n",
       "      <th>freq</th>\n",
       "      <th>img_shape</th>\n",
       "      <th>param_str</th>\n",
       "      <th>stim_class</th>\n",
       "      <th>subject</th>\n",
       "    </tr>\n",
       "  </thead>\n",
       "  <tbody>\n",
       "    <tr>\n",
       "      <th>0</th>\n",
       "      <td>2.0</td>\n",
       "      <td>20100121</td>\n",
       "      <td>A05</td>\n",
       "      <td>20100121_112209_trial3.bmp</td>\n",
       "      <td>/home/mbeyeler/data/secondsight/shape/52-001/2...</td>\n",
       "      <td>20.0</td>\n",
       "      <td>(768, 1024)</td>\n",
       "      <td>52-001_SingleElectrode_f20_pw46_20100105.csv A...</td>\n",
       "      <td>SingleElectrode</td>\n",
       "      <td>52-001</td>\n",
       "    </tr>\n",
       "    <tr>\n",
       "      <th>1</th>\n",
       "      <td>2.0</td>\n",
       "      <td>20100121</td>\n",
       "      <td>A05</td>\n",
       "      <td>20100121_112209_trial14.bmp</td>\n",
       "      <td>/home/mbeyeler/data/secondsight/shape/52-001/2...</td>\n",
       "      <td>20.0</td>\n",
       "      <td>(768, 1024)</td>\n",
       "      <td>52-001_SingleElectrode_f20_pw46_20100105.csv A...</td>\n",
       "      <td>SingleElectrode</td>\n",
       "      <td>52-001</td>\n",
       "    </tr>\n",
       "    <tr>\n",
       "      <th>2</th>\n",
       "      <td>2.0</td>\n",
       "      <td>20100121</td>\n",
       "      <td>A05</td>\n",
       "      <td>20100121_112209_trial21.bmp</td>\n",
       "      <td>/home/mbeyeler/data/secondsight/shape/52-001/2...</td>\n",
       "      <td>20.0</td>\n",
       "      <td>(768, 1024)</td>\n",
       "      <td>52-001_SingleElectrode_f20_pw46_20100105.csv A...</td>\n",
       "      <td>SingleElectrode</td>\n",
       "      <td>52-001</td>\n",
       "    </tr>\n",
       "    <tr>\n",
       "      <th>3</th>\n",
       "      <td>2.0</td>\n",
       "      <td>20100121</td>\n",
       "      <td>A05</td>\n",
       "      <td>20100121_112209_trial33.bmp</td>\n",
       "      <td>/home/mbeyeler/data/secondsight/shape/52-001/2...</td>\n",
       "      <td>20.0</td>\n",
       "      <td>(768, 1024)</td>\n",
       "      <td>52-001_SingleElectrode_f20_pw46_20100105.csv A...</td>\n",
       "      <td>SingleElectrode</td>\n",
       "      <td>52-001</td>\n",
       "    </tr>\n",
       "    <tr>\n",
       "      <th>4</th>\n",
       "      <td>2.0</td>\n",
       "      <td>20100121</td>\n",
       "      <td>A05</td>\n",
       "      <td>20100121_112209_trial50.bmp</td>\n",
       "      <td>/home/mbeyeler/data/secondsight/shape/52-001/2...</td>\n",
       "      <td>20.0</td>\n",
       "      <td>(768, 1024)</td>\n",
       "      <td>52-001_SingleElectrode_f20_pw46_20100105.csv A...</td>\n",
       "      <td>SingleElectrode</td>\n",
       "      <td>52-001</td>\n",
       "    </tr>\n",
       "  </tbody>\n",
       "</table>\n",
       "</div>"
      ],
      "text/plain": [
       "   amp      date electrode                     filename  \\\n",
       "0  2.0  20100121       A05   20100121_112209_trial3.bmp   \n",
       "1  2.0  20100121       A05  20100121_112209_trial14.bmp   \n",
       "2  2.0  20100121       A05  20100121_112209_trial21.bmp   \n",
       "3  2.0  20100121       A05  20100121_112209_trial33.bmp   \n",
       "4  2.0  20100121       A05  20100121_112209_trial50.bmp   \n",
       "\n",
       "                                              folder  freq    img_shape  \\\n",
       "0  /home/mbeyeler/data/secondsight/shape/52-001/2...  20.0  (768, 1024)   \n",
       "1  /home/mbeyeler/data/secondsight/shape/52-001/2...  20.0  (768, 1024)   \n",
       "2  /home/mbeyeler/data/secondsight/shape/52-001/2...  20.0  (768, 1024)   \n",
       "3  /home/mbeyeler/data/secondsight/shape/52-001/2...  20.0  (768, 1024)   \n",
       "4  /home/mbeyeler/data/secondsight/shape/52-001/2...  20.0  (768, 1024)   \n",
       "\n",
       "                                           param_str       stim_class subject  \n",
       "0  52-001_SingleElectrode_f20_pw46_20100105.csv A...  SingleElectrode  52-001  \n",
       "1  52-001_SingleElectrode_f20_pw46_20100105.csv A...  SingleElectrode  52-001  \n",
       "2  52-001_SingleElectrode_f20_pw46_20100105.csv A...  SingleElectrode  52-001  \n",
       "3  52-001_SingleElectrode_f20_pw46_20100105.csv A...  SingleElectrode  52-001  \n",
       "4  52-001_SingleElectrode_f20_pw46_20100105.csv A...  SingleElectrode  52-001  "
      ]
     },
     "execution_count": 73,
     "metadata": {},
     "output_type": "execute_result"
    }
   ],
   "source": [
    "X, y = p2pspatial.load_data(datafolder, subject=subject, electrodes=electrodes, date=\"20100121\",\n",
    "                            amplitude=amplitude, frequency=frequency, n_jobs=1)\n",
    "X"
   ]
  },
  {
   "cell_type": "code",
   "execution_count": 74,
   "metadata": {},
   "outputs": [],
   "source": [
    "cmap = plt.get_cmap('coolwarm')"
   ]
  },
  {
   "cell_type": "code",
   "execution_count": 75,
   "metadata": {},
   "outputs": [
    {
     "name": "stdout",
     "output_type": "stream",
     "text": [
      "(0.2298057, 0.298717966, 0.75368315299999999, 1.0)\n",
      "(768, 1024, 3)\n",
      "(0.48385432959999997, 0.62204984959999998, 0.97480820260000001, 1.0)\n",
      "(768, 1024, 3)\n",
      "(0.75361061799999995, 0.83023285099999999, 0.96087115700000003, 1.0)\n",
      "(768, 1024, 3)\n",
      "(0.94734540359999997, 0.79469550479999995, 0.71699050580000001, 1.0)\n",
      "(768, 1024, 3)\n",
      "(0.93183129659999997, 0.51908552320000001, 0.40647960859999999, 1.0)\n",
      "(768, 1024, 3)\n",
      "Saved as 52-001-A05-trials.eps\n"
     ]
    },
    {
     "data": {
      "image/png": "[encoded data removed]",
      "text/plain": [
       "<matplotlib.figure.Figure at 0x7f647e499828>"
      ]
     },
     "metadata": {},
     "output_type": "display_data"
    }
   ],
   "source": [
    "ncols = 5\n",
    "nrows = int(np.ceil(np.sqrt(len(X) / ncols)))\n",
    "fig, axes = plt.subplots(nrows=nrows, ncols=ncols, figsize=(14, 5 * nrows))\n",
    "for i, ((_, row), ax) in enumerate(zip(y.iterrows(), axes.ravel())):\n",
    "    color = cmap(i * 1.0 / len(X))\n",
    "    print(color)\n",
    "    img = np.concatenate((row['image'][:, :, np.newaxis] * color[0],\n",
    "                          row['image'][:, :, np.newaxis] * color[1],\n",
    "                          row['image'][:, :, np.newaxis] * color[2]),\n",
    "                         axis=-1)\n",
    "    print(img.shape)\n",
    "    ax.imshow(img)\n",
    "    ax.axis('off')\n",
    "fig.tight_layout()\n",
    "fname = '%s-%s-trials.eps' % (subject, electrodes[0])\n",
    "fig.savefig(fname)\n",
    "print(\"Saved as %s\" % fname)"
   ]
  },
  {
   "cell_type": "code",
   "execution_count": 65,
   "metadata": {},
   "outputs": [],
   "source": [
    "if len(X) > 0:\n",
    "    Xmean, ymean = p2pspatial.transform_mean_images(X, y, threshold=False)"
   ]
  },
  {
   "cell_type": "code",
   "execution_count": 66,
   "metadata": {},
   "outputs": [
    {
     "name": "stdout",
     "output_type": "stream",
     "text": [
      "saves as 51-009-C01-mean.eps\n"
     ]
    },
    {
     "data": {
      "image/png": "[encoded data removed]",
      "text/plain": [
       "<matplotlib.figure.Figure at 0x7f647d369da0>"
      ]
     },
     "metadata": {},
     "output_type": "display_data"
    }
   ],
   "source": [
    "plt.imshow(255 - ymean.loc[0, 'image'], cmap='gray')\n",
    "plt.axis('off')\n",
    "fname = '%s-%s-mean.eps' % (subject, electrodes[0])\n",
    "plt.savefig(fname)\n",
    "print('saves as %s' % fname)"
   ]
  },
  {
   "cell_type": "code",
   "execution_count": null,
   "metadata": {
    "collapsed": true
   },
   "outputs": [],
   "source": []
  }
 ],
 "metadata": {
  "kernelspec": {
   "display_name": "Python [default]",
   "language": "python",
   "name": "python3"
  },
  "language_info": {
   "codemirror_mode": {
    "name": "ipython",
    "version": 3
   },
   "file_extension": ".py",
   "mimetype": "text/x-python",
   "name": "python",
   "nbconvert_exporter": "python",
   "pygments_lexer": "ipython3",
   "version": "3.5.3"
  }
 },
 "nbformat": 4,
 "nbformat_minor": 2
}
