{
 "cells": [
  {
   "cell_type": "code",
   "execution_count": null,
   "metadata": {},
   "outputs": [],
   "source": [
    "import numpy as np\n",
    "import p2pspatial\n",
    "import pulse2percept as p2p\n",
    "import skimage.io as skio\n",
    "import skimage.transform as skit\n",
    "import scipy.stats as sps\n",
    "import scipy.interpolate as spi\n",
    "\n",
    "%matplotlib inline\n",
    "import matplotlib.pyplot as plt"
   ]
  },
  {
   "cell_type": "code",
   "execution_count": null,
   "metadata": {
    "collapsed": true
   },
   "outputs": [],
   "source": [
    "argus = p2p.implants.ArgusII(eye='RE', rot=np.deg2rad(-45))"
   ]
  },
  {
   "cell_type": "code",
   "execution_count": null,
   "metadata": {
    "collapsed": true
   },
   "outputs": [],
   "source": [
    "sim = p2pspatial.SpatialSimulation(argus)\n",
    "sim.set_optic_fiber_layer(sampling=250)\n",
    "sim.set_ganglion_cell_layer()"
   ]
  },
  {
   "cell_type": "code",
   "execution_count": null,
   "metadata": {
    "collapsed": true
   },
   "outputs": [],
   "source": [
    "model_params = {'loc_od': (15.5, 1.5),\n",
    "                'csmode': 'gaussian',\n",
    "                'cswidth': 100.0,\n",
    "                'sensitivity_rule': 'decay',\n",
    "                'scoring_weights': [1, 1, 1, 1]}\n",
    "sim.set_params(**model_params)"
   ]
  },
  {
   "cell_type": "code",
   "execution_count": null,
   "metadata": {},
   "outputs": [],
   "source": [
    "sim.plot_fundus(stim={'F1': 0, 'A9': 0, 'E10': 0}, upside_down=True);"
   ]
  },
  {
   "cell_type": "code",
   "execution_count": null,
   "metadata": {
    "collapsed": true
   },
   "outputs": [],
   "source": [
    "def cart2pol(x, y):\n",
    "    theta = np.arctan2(y, x)\n",
    "    rho = np.hypot(x, y)\n",
    "    return theta, rho\n",
    "\n",
    "def pol2cart(theta, rho):\n",
    "    x = rho * np.cos(theta)\n",
    "    y = rho * np.sin(theta)\n",
    "    return x, y"
   ]
  },
  {
   "cell_type": "code",
   "execution_count": null,
   "metadata": {
    "collapsed": true
   },
   "outputs": [],
   "source": [
    "def calc_displacement(r, meridian='temporal'):\n",
    "    alpha = np.where(meridian == 'temporal', 1.8938, 2.4607)\n",
    "    beta = np.where(meridian == 'temporal', 2.4598, 1.7463)\n",
    "    gamma = np.where(meridian == 'temporal', 0.91565, 0.77754)\n",
    "    delta = np.where(meridian == 'temporal', 14.904, 15.111)\n",
    "    mu = np.where(meridian == 'temporal', -0.09386, -0.15933)\n",
    "    scale = np.where(meridian == 'temporal', 12.0, 10.0)\n",
    "    \n",
    "    rmubeta = (np.abs(r) - mu) / beta\n",
    "    numer = delta * gamma * np.exp(-rmubeta ** gamma) * rmubeta ** (alpha * gamma - 1)\n",
    "    denom = beta * sps.gamma.pdf(alpha, 5)\n",
    "\n",
    "    return numer / denom / scale"
   ]
  },
  {
   "cell_type": "code",
   "execution_count": null,
   "metadata": {},
   "outputs": [],
   "source": [
    "x = np.arange(-30, 30, 0.1)\n",
    "plt.figure(figsize=(12, 5))\n",
    "plt.plot(x, calc_displacement(np.abs(x), meridian=np.where(x < 0, 'temporal', 'nasal')),\n",
    "         linewidth=3);\n",
    "plt.xlabel('radius (dva)')\n",
    "plt.ylabel('displacement (dva)')\n",
    "plt.text(x[0], 2.0, 'temporal', ha='left')\n",
    "plt.text(x[-1], 2.0, 'nasal', ha='right')"
   ]
  },
  {
   "cell_type": "code",
   "execution_count": null,
   "metadata": {
    "collapsed": true
   },
   "outputs": [],
   "source": [
    "def displace(xy, eye='RE'):\n",
    "    \"\"\"In: retinal surface coords (um), Out: visual field coords (dva)\"\"\"\n",
    "    if eye == 'LE':\n",
    "        # Let's not think about eyes right now...\n",
    "        raise NotImplementedError\n",
    "    \n",
    "    # Convert x, y (um) into polar coordinates\n",
    "    theta, rho_ret = cart2pol(xy[:, 0], xy[:, 1])\n",
    "    \n",
    "#     rho_ret = np.where(rho_ret < 350 / 2.0, np.nan, rho_ret)\n",
    "    \n",
    "    # Convert radius from um to dva\n",
    "    rho_dva = p2p.retina.ret2dva(rho_ret)\n",
    "    \n",
    "    # Add displacement\n",
    "    meridian = np.where(xy[:, 0] < 0, 'temporal', 'nasal')\n",
    "    rho_dva += calc_displacement(rho_dva, meridian=meridian)\n",
    "    \n",
    "    # Convert back to x, y (dva)\n",
    "    x, y = pol2cart(theta, rho_dva)\n",
    "    \n",
    "    return np.vstack((x, y)).T"
   ]
  },
  {
   "cell_type": "code",
   "execution_count": null,
   "metadata": {},
   "outputs": [],
   "source": [
    "plt.figure(figsize=(12, 4))\n",
    "\n",
    "plt.subplot(121)\n",
    "plt.scatter(sim.ofl.gridx, sim.ofl.gridy)\n",
    "plt.title('retinal tissue coordinates (um)')\n",
    "\n",
    "plt.subplot(122)\n",
    "xy = np.vstack((sim.ofl.gridx.ravel(), sim.ofl.gridy.ravel())).T\n",
    "xynew = displace(xy)\n",
    "plt.scatter(xynew[:, 0], xynew[:, 1])\n",
    "plt.title('visual field coordinates (deg)')"
   ]
  },
  {
   "cell_type": "code",
   "execution_count": null,
   "metadata": {},
   "outputs": [],
   "source": [
    "# There should be no output points in the foveola\n",
    "np.any(np.sqrt(xynew[:, 0] ** 2 + xynew[:, 1] ** 2) < calc_displacement(0))"
   ]
  },
  {
   "cell_type": "code",
   "execution_count": null,
   "metadata": {
    "collapsed": true
   },
   "outputs": [],
   "source": [
    "def inv_displace(xy, eye='RE'):\n",
    "    \"\"\"In: visual field coords (dva), Out: retinal surface coords (um)\"\"\"\n",
    "    if eye == 'LE':\n",
    "        # Let's not think about eyes right now...\n",
    "        raise NotImplementedError\n",
    "    \n",
    "    nasal_in = np.arange(0, 30, 0.1)\n",
    "    nasal_out = nasal_in + calc_displacement(nasal_in, meridian='nasal')\n",
    "    inv_displace_nasal = spi.interp1d(nasal_out, nasal_in, bounds_error=False)\n",
    "\n",
    "    temporal_in = np.arange(0, 30, 0.1)\n",
    "    temporal_out = temporal_in + calc_displacement(temporal_in, meridian='temporal')\n",
    "    inv_displace_temporal = spi.interp1d(temporal_out, temporal_in, bounds_error=False)\n",
    "    \n",
    "    # Convert x, y (dva) into polar coordinates\n",
    "    theta, rho_dva = cart2pol(xy[:, 0], xy[:, 1])\n",
    "    \n",
    "    # Add inverse displacement\n",
    "    rho_dva = np.where(xy[:, 0] < 0, inv_displace_temporal(rho_dva),\n",
    "                       inv_displace_nasal(rho_dva))\n",
    "    \n",
    "    # Convert radius from um to dva\n",
    "    rho_ret = p2p.retina.dva2ret(rho_dva)\n",
    "    \n",
    "    # Convert back to x, y (dva)\n",
    "    x, y = pol2cart(theta, rho_ret)\n",
    "    \n",
    "    return np.vstack((x, y)).T"
   ]
  },
  {
   "cell_type": "code",
   "execution_count": null,
   "metadata": {},
   "outputs": [],
   "source": [
    "plt.figure(figsize=(12, 4))\n",
    "\n",
    "plt.subplot(121)\n",
    "xy = np.vstack((sim.ofl.gridx.ravel(), sim.ofl.gridy.ravel())).T\n",
    "xynew = inv_displace(p2p.retina.ret2dva(xy))\n",
    "plt.scatter(xynew[:, 0], xynew[:, 1])\n",
    "plt.title('retinal tissue coordinates (um)')\n",
    "\n",
    "plt.subplot(122)\n",
    "plt.scatter(p2p.retina.ret2dva(sim.ofl.gridx), p2p.retina.ret2dva(sim.ofl.gridy))\n",
    "plt.title('visual field coordinates (deg)')"
   ]
  },
  {
   "cell_type": "code",
   "execution_count": null,
   "metadata": {
    "collapsed": true
   },
   "outputs": [],
   "source": [
    "def inv_warp(xy, img_shape=None):\n",
    "    # From output img coords to output dva coords\n",
    "    x_out_range = (-30, 30)\n",
    "    y_out_range = (-20, 20)\n",
    "    xy_dva = xy\n",
    "    xy_dva[:, 0] = x_out_range[0] + xy[:, 0] / img_shape[1] * np.diff(x_out_range)\n",
    "    xy_dva[:, 1] = y_out_range[0] + xy[:, 1] / img_shape[0] * np.diff(y_out_range)\n",
    "    \n",
    "    # From output dva coords ot input ret coords\n",
    "    xy_ret = inv_displace(xy_dva)\n",
    "    \n",
    "    # From input ret coords to input img coords\n",
    "    x_in_range = (-3500, 3500)\n",
    "    y_in_range = (-3500, 3500)\n",
    "    xy_img = xy_ret\n",
    "    xy_img[:, 0] = (xy_ret[:, 0] - x_in_range[0]) / np.diff(x_in_range) * img_shape[1]\n",
    "    xy_img[:, 1] = (xy_ret[:, 1] - y_in_range[0]) / np.diff(y_in_range) * img_shape[0]\n",
    "    return xy_img"
   ]
  },
  {
   "cell_type": "code",
   "execution_count": null,
   "metadata": {},
   "outputs": [],
   "source": [
    "plt.figure(figsize=(12, 4))\n",
    "\n",
    "plt.subplot(121)\n",
    "img = skio.imread('seattle.jpg', as_grey=True)\n",
    "plt.imshow(np.flipud(img), cmap='gray')\n",
    "plt.title('retinal tissue')\n",
    "\n",
    "plt.subplot(122)\n",
    "plt.imshow(skit.warp(img, inv_warp, map_args={'img_shape': img.shape}), cmap='gray')\n",
    "plt.title('visual field')"
   ]
  },
  {
   "cell_type": "code",
   "execution_count": null,
   "metadata": {},
   "outputs": [],
   "source": [
    "plt.figure(figsize=(12, 4))\n",
    "\n",
    "plt.subplot(121)\n",
    "sim.cswidth = 300\n",
    "sim.set_optic_fiber_layer(sampling=100, decay_const=1)\n",
    "sim.ecs = {}\n",
    "sim.set_params(use_persp_trafo=False)\n",
    "img = sim.pulse2percept('F1_A9_E10', 20.0)\n",
    "plt.imshow(img, cmap='gray')\n",
    "plt.axis('equal')\n",
    "plt.axis('image')\n",
    "plt.title('retinal tissue')\n",
    "\n",
    "plt.subplot(122)\n",
    "img = sim.pulse2percept('F1_A9_E10', 20.0)\n",
    "plt.imshow(skit.warp(img, inv_warp, output_shape=(61, 71), \n",
    "                     map_args={'img_shape': img.shape}), cmap='gray')\n",
    "plt.axis('equal')\n",
    "plt.axis('image')\n",
    "plt.title('visual field')"
   ]
  },
  {
   "cell_type": "code",
   "execution_count": null,
   "metadata": {},
   "outputs": [],
   "source": [
    "plt.figure(figsize=(12, 4))\n",
    "\n",
    "plt.subplot(121)\n",
    "sim.cswidth = 300\n",
    "sim.set_params(use_persp_trafo=False)\n",
    "sim.set_optic_fiber_layer(sampling=100, decay_const=1)\n",
    "sim.ecs = {}\n",
    "img = sim.pulse2percept('F1_A9_E10', 20.0)\n",
    "plt.imshow(img, cmap='gray')\n",
    "plt.axis('equal')\n",
    "plt.axis('image')\n",
    "plt.title('retinal tissue')\n",
    "\n",
    "plt.subplot(122)\n",
    "sim.set_params(use_persp_trafo=True, out_x_range=(-30, 30), out_y_range=(-20, 20))\n",
    "sim.ecs = {}\n",
    "img = sim.pulse2percept('F1_A9_E10', 20.0)\n",
    "plt.imshow(img, cmap='gray')\n",
    "plt.axis('equal')\n",
    "plt.axis('image')\n",
    "plt.title('visual field')"
   ]
  },
  {
   "cell_type": "code",
   "execution_count": null,
   "metadata": {
    "collapsed": true
   },
   "outputs": [],
   "source": []
  }
 ],
 "metadata": {
  "kernelspec": {
   "display_name": "Python [default]",
   "language": "python",
   "name": "python3"
  },
  "language_info": {
   "codemirror_mode": {
    "name": "ipython",
    "version": 3
   },
   "file_extension": ".py",
   "mimetype": "text/x-python",
   "name": "python",
   "nbconvert_exporter": "python",
   "pygments_lexer": "ipython3",
   "version": "3.5.3"
  }
 },
 "nbformat": 4,
 "nbformat_minor": 2
}
