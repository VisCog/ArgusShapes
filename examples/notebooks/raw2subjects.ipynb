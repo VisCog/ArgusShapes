{
 "cells": [
  {
   "cell_type": "code",
   "execution_count": 1,
   "metadata": {},
   "outputs": [
    {
     "name": "stderr",
     "output_type": "stream",
     "text": [
      "/home/mbeyeler/anaconda3/lib/python3.5/site-packages/skvideo/__init__.py:356: UserWarning: avconv/avprobe not found in path: \n",
      "  warnings.warn(\"avconv/avprobe not found in path: \" + str(path), UserWarning)\n",
      "2018-04-25 15:20:24,968 [pulse2percept] [INFO] Welcome to pulse2percept\n"
     ]
    }
   ],
   "source": [
    "import os\n",
    "import numpy as np\n",
    "import pandas as pd\n",
    "\n",
    "import p2pspatial\n",
    "import pulse2percept.implants as p2pi\n",
    "\n",
    "%matplotlib inline\n",
    "import matplotlib.pyplot as plt"
   ]
  },
  {
   "cell_type": "code",
   "execution_count": 2,
   "metadata": {
    "collapsed": true
   },
   "outputs": [],
   "source": [
    "datafolder = os.path.join(os.environ['DATA_ROOT'], '2018-beyeler-shape')"
   ]
  },
  {
   "cell_type": "code",
   "execution_count": 3,
   "metadata": {
    "collapsed": true
   },
   "outputs": [],
   "source": [
    "subject_params = {\n",
    "    'TB': {\n",
    "        'implant_type': p2pi.ArgusI,\n",
    "        'implant_x': -1527,\n",
    "        'implant_y': -556,\n",
    "        'implant_rot': -1.13,\n",
    "        'loc_od_x': 13.6,\n",
    "        'loc_od_y': 0.0,\n",
    "        'xrange': (-36.9, 36.9),\n",
    "        'yrange': (-36.9, 36.9)\n",
    "    },\n",
    "    '12-005': {\n",
    "        'implant_type': p2pi.ArgusII,\n",
    "        'implant_x': -1761,\n",
    "        'implant_y': -212,\n",
    "        'implant_rot': -0.188,\n",
    "        'loc_od_x': 15.4,\n",
    "        'loc_od_y': 1.86,\n",
    "        'xrange': (-30, 30),\n",
    "        'yrange': (-22.5, 22.5)\n",
    "    },\n",
    "    '51-009': {\n",
    "        'implant_type': p2pi.ArgusII,\n",
    "        'implant_x': -799,\n",
    "        'implant_y': 93,\n",
    "        'implant_rot': -1.09,\n",
    "        'loc_od_x': 15.7,\n",
    "        'loc_od_y': 0.75,\n",
    "        'xrange': (-32.5, 32.5),\n",
    "        'yrange': (-24.4, 24.4)\n",
    "    },\n",
    "    '52-001': {\n",
    "        'implant_type': p2pi.ArgusII,\n",
    "        'implant_x': -1230,\n",
    "        'implant_y': 415,\n",
    "        'implant_rot': -0.457,\n",
    "        'loc_od_x': 15.9,\n",
    "        'loc_od_y': 1.96,\n",
    "        'xrange': (-32, 32),\n",
    "        'yrange': (-24, 24)\n",
    "    }\n",
    "}"
   ]
  },
  {
   "cell_type": "code",
   "execution_count": 4,
   "metadata": {},
   "outputs": [
    {
     "data": {
      "text/html": [
       "<div>\n",
       "<style scoped>\n",
       "    .dataframe tbody tr th:only-of-type {\n",
       "        vertical-align: middle;\n",
       "    }\n",
       "\n",
       "    .dataframe tbody tr th {\n",
       "        vertical-align: top;\n",
       "    }\n",
       "\n",
       "    .dataframe thead th {\n",
       "        text-align: right;\n",
       "    }\n",
       "</style>\n",
       "<table border=\"1\" class=\"dataframe\">\n",
       "  <thead>\n",
       "    <tr style=\"text-align: right;\">\n",
       "      <th></th>\n",
       "      <th>implant_rot</th>\n",
       "      <th>implant_type</th>\n",
       "      <th>implant_x</th>\n",
       "      <th>implant_y</th>\n",
       "      <th>loc_od_x</th>\n",
       "      <th>loc_od_y</th>\n",
       "      <th>subject_id</th>\n",
       "      <th>xrange</th>\n",
       "      <th>yrange</th>\n",
       "    </tr>\n",
       "  </thead>\n",
       "  <tbody>\n",
       "    <tr>\n",
       "      <th>0</th>\n",
       "      <td>-1.130</td>\n",
       "      <td>&lt;class 'pulse2percept.implants.ArgusI'&gt;</td>\n",
       "      <td>-1527</td>\n",
       "      <td>-556</td>\n",
       "      <td>13.6</td>\n",
       "      <td>0.00</td>\n",
       "      <td>TB</td>\n",
       "      <td>(-36.9, 36.9)</td>\n",
       "      <td>(-36.9, 36.9)</td>\n",
       "    </tr>\n",
       "    <tr>\n",
       "      <th>1</th>\n",
       "      <td>-1.090</td>\n",
       "      <td>&lt;class 'pulse2percept.implants.ArgusII'&gt;</td>\n",
       "      <td>-799</td>\n",
       "      <td>93</td>\n",
       "      <td>15.7</td>\n",
       "      <td>0.75</td>\n",
       "      <td>51-009</td>\n",
       "      <td>(-32.5, 32.5)</td>\n",
       "      <td>(-24.4, 24.4)</td>\n",
       "    </tr>\n",
       "    <tr>\n",
       "      <th>2</th>\n",
       "      <td>-0.457</td>\n",
       "      <td>&lt;class 'pulse2percept.implants.ArgusII'&gt;</td>\n",
       "      <td>-1230</td>\n",
       "      <td>415</td>\n",
       "      <td>15.9</td>\n",
       "      <td>1.96</td>\n",
       "      <td>52-001</td>\n",
       "      <td>(-32, 32)</td>\n",
       "      <td>(-24, 24)</td>\n",
       "    </tr>\n",
       "    <tr>\n",
       "      <th>3</th>\n",
       "      <td>-0.188</td>\n",
       "      <td>&lt;class 'pulse2percept.implants.ArgusII'&gt;</td>\n",
       "      <td>-1761</td>\n",
       "      <td>-212</td>\n",
       "      <td>15.4</td>\n",
       "      <td>1.86</td>\n",
       "      <td>12-005</td>\n",
       "      <td>(-30, 30)</td>\n",
       "      <td>(-22.5, 22.5)</td>\n",
       "    </tr>\n",
       "  </tbody>\n",
       "</table>\n",
       "</div>"
      ],
      "text/plain": [
       "   implant_rot                              implant_type  implant_x  \\\n",
       "0       -1.130   <class 'pulse2percept.implants.ArgusI'>      -1527   \n",
       "1       -1.090  <class 'pulse2percept.implants.ArgusII'>       -799   \n",
       "2       -0.457  <class 'pulse2percept.implants.ArgusII'>      -1230   \n",
       "3       -0.188  <class 'pulse2percept.implants.ArgusII'>      -1761   \n",
       "\n",
       "   implant_y  loc_od_x  loc_od_y subject_id         xrange         yrange  \n",
       "0       -556      13.6      0.00         TB  (-36.9, 36.9)  (-36.9, 36.9)  \n",
       "1         93      15.7      0.75     51-009  (-32.5, 32.5)  (-24.4, 24.4)  \n",
       "2        415      15.9      1.96     52-001      (-32, 32)      (-24, 24)  \n",
       "3       -212      15.4      1.86     12-005      (-30, 30)  (-22.5, 22.5)  "
      ]
     },
     "execution_count": 4,
     "metadata": {},
     "output_type": "execute_result"
    }
   ],
   "source": [
    "data = []\n",
    "for key, values in subject_params.items():\n",
    "    values.update({'subject_id': key})\n",
    "    data.append(values)\n",
    "df = pd.DataFrame(data)\n",
    "df"
   ]
  },
  {
   "cell_type": "code",
   "execution_count": 5,
   "metadata": {
    "collapsed": true
   },
   "outputs": [],
   "source": [
    "df.to_csv(os.path.join(datafolder, 'subjects.csv'))"
   ]
  },
  {
   "cell_type": "code",
   "execution_count": null,
   "metadata": {
    "collapsed": true
   },
   "outputs": [],
   "source": []
  }
 ],
 "metadata": {
  "kernelspec": {
   "display_name": "Python [default]",
   "language": "python",
   "name": "python3"
  },
  "language_info": {
   "codemirror_mode": {
    "name": "ipython",
    "version": 3
   },
   "file_extension": ".py",
   "mimetype": "text/x-python",
   "name": "python",
   "nbconvert_exporter": "python",
   "pygments_lexer": "ipython3",
   "version": "3.5.3"
  }
 },
 "nbformat": 4,
 "nbformat_minor": 2
}
