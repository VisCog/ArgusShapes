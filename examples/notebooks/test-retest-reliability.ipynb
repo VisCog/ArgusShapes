{
 "cells": [
  {
   "cell_type": "code",
   "execution_count": 1,
   "metadata": {
    "collapsed": false
   },
   "outputs": [
    {
     "name": "stderr",
     "output_type": "stream",
     "text": [
      "2018-01-15 15:31:24,583 [pulse2percept] [INFO] Welcome to pulse2percept\n"
     ]
    }
   ],
   "source": [
    "import os\n",
    "import numpy as np\n",
    "import pandas as pd\n",
    "import itertools\n",
    "import skimage.io as skio\n",
    "import skimage.measure as skim\n",
    "import skimage.transform as skit\n",
    "\n",
    "import pulse2percept as p2p\n",
    "import p2pspatial\n",
    "\n",
    "%matplotlib inline\n",
    "import matplotlib.pyplot as plt"
   ]
  },
  {
   "cell_type": "code",
   "execution_count": 2,
   "metadata": {
    "collapsed": false
   },
   "outputs": [
    {
     "data": {
      "text/plain": [
       "array(['A06', 'C10', 'D04', 'D07', 'E01', 'E03', 'E07', 'E10', 'F02',\n",
       "       'F04', 'F06', 'F09', 'A01', 'A04', 'A08', 'B01', 'B03', 'B09',\n",
       "       'C07', 'D01', 'D08', 'D10', 'C04', 'C08', 'A10'], dtype=object)"
      ]
     },
     "execution_count": 2,
     "metadata": {},
     "output_type": "execute_result"
    }
   ],
   "source": [
    "subject = '12-005'\n",
    "rootfolder = os.path.join(os.environ['SECOND_SIGHT_DATA'], 'shape')\n",
    "X, y = p2pspatial.load_data(rootfolder, subject=subject, amplitude=2.0)\n",
    "electrodes = X.electrode.unique()\n",
    "electrodes"
   ]
  },
  {
   "cell_type": "code",
   "execution_count": null,
   "metadata": {
    "collapsed": false
   },
   "outputs": [
    {
     "name": "stdout",
     "output_type": "stream",
     "text": [
      "0 1 9.98831158084\n",
      "0 2 2.97596996607\n",
      "0 3 1.93965408631\n",
      "1 2 12.4344689159\n",
      "1 3 11.5144550693\n",
      "2 3 0.872602869298\n"
     ]
    }
   ],
   "source": [
    "for comb in itertools.combinations(y.iloc[:4, :].iterrows(), 2):\n",
    "    print(comb[0][0], comb[1][0], p2pspatial.imgproc.dice_loss(comb, w_deg=0.1, n_angles=41))"
   ]
  },
  {
   "cell_type": "code",
   "execution_count": null,
   "metadata": {
    "collapsed": false
   },
   "outputs": [
    {
     "name": "stdout",
     "output_type": "stream",
     "text": [
      "Processing A06\n",
      "Processing C10\n"
     ]
    }
   ],
   "source": [
    "losses = []\n",
    "labels = []\n",
    "for electrode in electrodes:\n",
    "    print('Processing %s' % electrode)\n",
    "    X, y = p2pspatial.load_data(rootfolder, subject=subject, \n",
    "                                electrodes=electrode, amplitude=2.0)\n",
    "    losses.append(p2p.utils.parfor(p2pspatial.imgproc.dice_loss, \n",
    "                                   itertools.combinations(y.iterrows(), 2), \n",
    "                                   func_kwargs={'w_deg': 0.1, 'n_angles': 41}))\n",
    "    labels.append(electrode)"
   ]
  },
  {
   "cell_type": "code",
   "execution_count": null,
   "metadata": {
    "collapsed": false
   },
   "outputs": [],
   "source": [
    "plt.boxplot(losses, labels=labels)\n",
    "plt.title(subject)"
   ]
  },
  {
   "cell_type": "code",
   "execution_count": null,
   "metadata": {
    "collapsed": true
   },
   "outputs": [],
   "source": []
  }
 ],
 "metadata": {
  "kernelspec": {
   "display_name": "Python 3",
   "language": "python",
   "name": "python3"
  },
  "language_info": {
   "codemirror_mode": {
    "name": "ipython",
    "version": 3
   },
   "file_extension": ".py",
   "mimetype": "text/x-python",
   "name": "python",
   "nbconvert_exporter": "python",
   "pygments_lexer": "ipython3",
   "version": "3.5.2"
  }
 },
 "nbformat": 4,
 "nbformat_minor": 2
}
