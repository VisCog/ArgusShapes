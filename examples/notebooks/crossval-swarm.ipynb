{
 "cells": [
  {
   "cell_type": "code",
   "execution_count": 1,
   "metadata": {
    "collapsed": true,
    "deletable": true,
    "editable": true
   },
   "outputs": [],
   "source": [
    "import numpy as np\n",
    "import os\n",
    "import pickle\n",
    "from time import time\n",
    "from datetime import datetime"
   ]
  },
  {
   "cell_type": "code",
   "execution_count": 2,
   "metadata": {
    "collapsed": false,
    "deletable": true,
    "editable": true
   },
   "outputs": [
    {
     "name": "stderr",
     "output_type": "stream",
     "text": [
      "2018-01-17 00:08:14,649 [pulse2percept] [INFO] Welcome to pulse2percept\n"
     ]
    }
   ],
   "source": [
    "import pulse2percept as p2p\n",
    "import p2pspatial"
   ]
  },
  {
   "cell_type": "code",
   "execution_count": 3,
   "metadata": {
    "collapsed": false,
    "deletable": true,
    "editable": true
   },
   "outputs": [],
   "source": [
    "subject = '12-005'\n",
    "modelname = ['A', p2pspatial.models.ModelA]\n",
    "amplitude = 2.0\n",
    "electrodes = None\n",
    "random_state = 42\n",
    "n_folds = 5"
   ]
  },
  {
   "cell_type": "code",
   "execution_count": 4,
   "metadata": {
    "collapsed": false,
    "deletable": true,
    "editable": true
   },
   "outputs": [
    {
     "name": "stdout",
     "output_type": "stream",
     "text": [
      "A-crossval-swarm_12-005_2018-01-17_00-08-15.pickle\n"
     ]
    }
   ],
   "source": [
    "t_start = time()\n",
    "now = datetime.now().strftime('%Y-%m-%d_%H-%M-%S')\n",
    "filename = '%s-crossval-swarm_%s_%s.pickle' % (modelname[0], subject, now)\n",
    "print(filename)"
   ]
  },
  {
   "cell_type": "code",
   "execution_count": 5,
   "metadata": {
    "collapsed": false,
    "deletable": true,
    "editable": true
   },
   "outputs": [
    {
     "name": "stdout",
     "output_type": "stream",
     "text": [
      "(355, 9) (355, 1)\n"
     ]
    }
   ],
   "source": [
    "rootfolder = os.path.join(os.environ['SECOND_SIGHT_DATA'], 'shape')\n",
    "X, y = p2pspatial.load_data(rootfolder, subject=subject, electrodes=electrodes,\n",
    "                            amplitude=amplitude, random_state=random_state,\n",
    "                            single_stim=True, verbose=False)\n",
    "print(X.shape, y.shape)\n",
    "if len(X) == 0:\n",
    "    raise ValueError('no data found')"
   ]
  },
  {
   "cell_type": "code",
   "execution_count": 6,
   "metadata": {
    "collapsed": false,
    "deletable": true,
    "editable": true
   },
   "outputs": [],
   "source": [
    "model_params = {'engine': 'serial', 'n_jobs': 1}\n",
    "regressor = modelname[1](**model_params)"
   ]
  },
  {
   "cell_type": "code",
   "execution_count": null,
   "metadata": {
    "collapsed": true,
    "deletable": true,
    "editable": true
   },
   "outputs": [],
   "source": [
    "search_params = {'rho': (20, 1000)}\n",
    "pso_options = {'max_iter': 100,\n",
    "               'min_func': 0.1}\n",
    "pso = p2pspatial.model_selection.ParticleSwarmOptimizer(\n",
    "    regressor, search_params, **pso_options\n",
    ")"
   ]
  },
  {
   "cell_type": "code",
   "execution_count": null,
   "metadata": {
    "collapsed": false,
    "deletable": true,
    "editable": true
   },
   "outputs": [
    {
     "name": "stdout",
     "output_type": "stream",
     "text": [
      "Fold 1 / 5\n",
      "No constraints given.\n"
     ]
    }
   ],
   "source": [
    "fit_params = {}\n",
    "y_test, y_pred, best_params = p2pspatial.model_selection.crossval_predict(\n",
    "    pso, X, y, fit_params=fit_params, n_folds=n_folds)"
   ]
  },
  {
   "cell_type": "code",
   "execution_count": null,
   "metadata": {
    "collapsed": true,
    "deletable": true,
    "editable": true
   },
   "outputs": [],
   "source": [
    "print(\"Done in %.3fs\" % (time() - t_start))"
   ]
  },
  {
   "cell_type": "code",
   "execution_count": null,
   "metadata": {
    "collapsed": true,
    "deletable": true,
    "editable": true
   },
   "outputs": [],
   "source": [
    "specifics = {'subject': subject,\n",
    "             'modelname': modelname,\n",
    "             'amplitude': amplitude,\n",
    "             'electrodes': electrodes,\n",
    "             'n_folds': n_folds,\n",
    "             'regressor': regressor,\n",
    "             'optimizer': pso,\n",
    "             'model_params': model_params,\n",
    "             'search_params': search_params,\n",
    "             'fit_params': fit_params,\n",
    "             'now': now,\n",
    "             'random_state': random_state}\n",
    "pickle.dump((y_test, y_pred, best_params, specifics), open(filename, 'wb'))\n",
    "print('Dumped data to %s' % filename)"
   ]
  },
  {
   "cell_type": "code",
   "execution_count": null,
   "metadata": {
    "collapsed": true
   },
   "outputs": [],
   "source": []
  }
 ],
 "metadata": {
  "kernelspec": {
   "display_name": "Python 3",
   "language": "python",
   "name": "python3"
  },
  "language_info": {
   "codemirror_mode": {
    "name": "ipython",
    "version": 3
   },
   "file_extension": ".py",
   "mimetype": "text/x-python",
   "name": "python",
   "nbconvert_exporter": "python",
   "pygments_lexer": "ipython3",
   "version": "3.5.2"
  }
 },
 "nbformat": 4,
 "nbformat_minor": 2
}
