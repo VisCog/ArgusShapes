{
 "cells": [
  {
   "cell_type": "code",
   "execution_count": 1,
   "metadata": {
    "collapsed": true,
    "deletable": true,
    "editable": true
   },
   "outputs": [],
   "source": [
    "import numpy as np\n",
    "import os\n",
    "import pickle\n",
    "from time import time\n",
    "from datetime import datetime"
   ]
  },
  {
   "cell_type": "code",
   "execution_count": 2,
   "metadata": {
    "collapsed": false,
    "deletable": true,
    "editable": true
   },
   "outputs": [
    {
     "name": "stderr",
     "output_type": "stream",
     "text": [
      "2018-01-07 12:59:04,396 [pulse2percept] [INFO] Welcome to pulse2percept\n"
     ]
    }
   ],
   "source": [
    "import pulse2percept as p2p\n",
    "import p2pspatial"
   ]
  },
  {
   "cell_type": "code",
   "execution_count": 3,
   "metadata": {
    "collapsed": true,
    "deletable": true,
    "editable": true
   },
   "outputs": [],
   "source": [
    "subject = '12-005'\n",
    "amplitude = 2.0\n",
    "electrodes = None\n",
    "random_state = 42\n",
    "n_folds = 5"
   ]
  },
  {
   "cell_type": "code",
   "execution_count": 4,
   "metadata": {
    "collapsed": false,
    "deletable": true,
    "editable": true
   },
   "outputs": [
    {
     "name": "stdout",
     "output_type": "stream",
     "text": [
      "crossval-swarm_12-005_2018-01-07_12-59-04.pickle\n"
     ]
    }
   ],
   "source": [
    "t_start = time()\n",
    "now = datetime.now().strftime('%Y-%m-%d_%H-%M-%S')\n",
    "filename = 'crossval-swarm_%s_%s.pickle' % (subject, now)\n",
    "print(filename)"
   ]
  },
  {
   "cell_type": "code",
   "execution_count": 5,
   "metadata": {
    "collapsed": false,
    "deletable": true,
    "editable": true
   },
   "outputs": [
    {
     "name": "stdout",
     "output_type": "stream",
     "text": [
      "Found 60 samples in C:\\Users\\mbeyeler\\data\\secondsight\\shape\\12-005\\20091028\\1.5xTh 20Hz 0.45ms 250ms\n",
      "Found 60 samples in C:\\Users\\mbeyeler\\data\\secondsight\\shape\\12-005\\20091028\\5xTh 20Hz 0.45ms 250ms\n",
      "Found 60 samples in C:\\Users\\mbeyeler\\data\\secondsight\\shape\\12-005\\20100127\\1.25xTh 20Hz 0.45ms 250ms set A\n",
      "Found 60 samples in C:\\Users\\mbeyeler\\data\\secondsight\\shape\\12-005\\20100127\\1.5xTh 20Hz 0.45ms 250ms set A\n",
      "Found 60 samples in C:\\Users\\mbeyeler\\data\\secondsight\\shape\\12-005\\20100127\\1.5xTh 20Hz 0.45ms 250ms set B\n",
      "Found 60 samples in C:\\Users\\mbeyeler\\data\\secondsight\\shape\\12-005\\20100127\\2xTh 20Hz 0.45ms 250ms set A\n",
      "Found 60 samples in C:\\Users\\mbeyeler\\data\\secondsight\\shape\\12-005\\20100127\\2xTh 20Hz 0.45ms 250ms set B\n",
      "Found 60 samples in C:\\Users\\mbeyeler\\data\\secondsight\\shape\\12-005\\20100203\\2xTh 20Hz 0.45ms 250ms set A\n",
      "Found 35 samples in C:\\Users\\mbeyeler\\data\\secondsight\\shape\\12-005\\20100428\\1.5xTh 20Hz 0.45ms 250ms set A\n",
      "Found 40 samples in C:\\Users\\mbeyeler\\data\\secondsight\\shape\\12-005\\20100428\\1.5xTh 20Hz 0.45ms 250ms set B\n",
      "Found 55 samples in C:\\Users\\mbeyeler\\data\\secondsight\\shape\\12-005\\20100428\\1.5xTh 20Hz 0.45ms 250ms set C\n",
      "Found 55 samples in C:\\Users\\mbeyeler\\data\\secondsight\\shape\\12-005\\20100428\\1.5xTh 20Hz 0.45ms 250ms set D\n",
      "Found 35 samples in C:\\Users\\mbeyeler\\data\\secondsight\\shape\\12-005\\20100428\\2xTh 20Hz 0.45ms 250ms set A\n",
      "Found 40 samples in C:\\Users\\mbeyeler\\data\\secondsight\\shape\\12-005\\20100428\\2xTh 20Hz 0.45ms 250ms set B\n",
      "Found 55 samples in C:\\Users\\mbeyeler\\data\\secondsight\\shape\\12-005\\20100428\\2xTh 20Hz 0.45ms 250ms set C\n",
      "Found 55 samples in C:\\Users\\mbeyeler\\data\\secondsight\\shape\\12-005\\20100428\\2xTh 20Hz 0.45ms 250ms set D\n",
      "Found 55 samples in C:\\Users\\mbeyeler\\data\\secondsight\\shape\\12-005\\20100512\\1.25xTh 20Hz 0.45ms 250ms set A\n",
      "Found 55 samples in C:\\Users\\mbeyeler\\data\\secondsight\\shape\\12-005\\20100512\\1.25xTh 20Hz 0.45ms 250ms set B\n",
      "Found 55 samples in C:\\Users\\mbeyeler\\data\\secondsight\\shape\\12-005\\20100512\\1.25xTh 20Hz 0.45ms 250ms set C\n",
      "Found 55 samples in C:\\Users\\mbeyeler\\data\\secondsight\\shape\\12-005\\20100512\\1.5xTh 20Hz 0.45ms 250ms set A\n",
      "Found 55 samples in C:\\Users\\mbeyeler\\data\\secondsight\\shape\\12-005\\20100512\\1.5xTh 20Hz 0.45ms 250ms set B\n",
      "Found 55 samples in C:\\Users\\mbeyeler\\data\\secondsight\\shape\\12-005\\20100512\\2xTh 20Hz 0.45ms 250ms set A\n",
      "Found 55 samples in C:\\Users\\mbeyeler\\data\\secondsight\\shape\\12-005\\20100512\\2xTh 20Hz 0.45ms 250ms set B\n",
      "Found 55 samples in C:\\Users\\mbeyeler\\data\\secondsight\\shape\\12-005\\20100512\\2xTh 20Hz 0.45ms 250ms set C\n",
      "Found 55 samples in C:\\Users\\mbeyeler\\data\\secondsight\\shape\\12-005\\20100512\\2xTh 20Hz 0.45ms 250ms set D\n",
      "Found 20 samples in C:\\Users\\mbeyeler\\data\\secondsight\\shape\\12-005\\20100921\\1.5xTh 120 Hz\n",
      "Found 40 samples in C:\\Users\\mbeyeler\\data\\secondsight\\shape\\12-005\\20100921\\1.5xTh 20Hz\n",
      "Found 20 samples in C:\\Users\\mbeyeler\\data\\secondsight\\shape\\12-005\\20100921\\1.5xTh 40 Hz\n",
      "Found 20 samples in C:\\Users\\mbeyeler\\data\\secondsight\\shape\\12-005\\20100921\\1.5xTh 60 Hz\n",
      "Found 40 samples in C:\\Users\\mbeyeler\\data\\secondsight\\shape\\12-005\\20100921\\1.5xTh 6Hz\n",
      "Found 20 samples in C:\\Users\\mbeyeler\\data\\secondsight\\shape\\12-005\\20100921\\2xTh 20 Hz\n",
      "Found 20 samples in C:\\Users\\mbeyeler\\data\\secondsight\\shape\\12-005\\20100921\\3xTh 20 Hz\n",
      "Found 20 samples in C:\\Users\\mbeyeler\\data\\secondsight\\shape\\12-005\\20100921\\5xTh 20 Hz\n",
      "Found 20 samples in C:\\Users\\mbeyeler\\data\\secondsight\\shape\\12-005\\20100921\\7.5xTh 20 Hz C\n",
      "Could not parse row: 20100512_135759_trial30 blank\n",
      "Could not parse row: 20100512_140202_trial34 blank\n",
      "Could not parse row: 20100512_140202_trial28 blank\n",
      "Could not parse row: 20100512_135759_trial49 blank\n",
      "Could not parse row: 20100512_135759_trial39 blank\n",
      "Could not parse row: 20100428_135350_trial25 blank\n",
      "Could not parse row: 20100512_135249_trial44 blank\n",
      "Could not parse row: 20100512_135249_trial52 blank\n",
      "Could not parse row: 20100512_140202_trial3 blank\n",
      "Could not parse row: 20100428_135350_trial23 blank\n",
      "Could not parse row: 20100512_143807_trial19 blank\n",
      "Could not parse row: 20100512_140202_trial19 blank\n",
      "Could not parse row: 20100428_135350_trial24 blank\n",
      "Could not parse row: 20100428_144225_trial53 blank\n",
      "Could not parse row: 20100512_140202_trial49 blank\n",
      "Found 355 samples: 10 feature values, 4 target values\n",
      "(355, 10) (355, 4)\n"
     ]
    }
   ],
   "source": [
    "rootfolder = os.path.join(os.environ['SECOND_SIGHT_DATA'], 'shape')\n",
    "X, y = p2pspatial.load_data(rootfolder, subject=subject, electrodes=electrodes,\n",
    "                            amplitude=amplitude, random_state=random_state,\n",
    "                            single_stim=True, verbose=True)\n",
    "print(X.shape, y.shape)\n",
    "if len(X) == 0:\n",
    "    raise ValueError('no data found')"
   ]
  },
  {
   "cell_type": "code",
   "execution_count": 6,
   "metadata": {
    "collapsed": false,
    "deletable": true,
    "editable": true
   },
   "outputs": [],
   "source": [
    "model_params = {'sampling': 200,\n",
    "                'csmode': 'gaussian',\n",
    "                'sensitivity_rule': 'decay',\n",
    "                'thresh': 1.0}\n",
    "regressor = p2pspatial.SpatialModelRegressor(**model_params)"
   ]
  },
  {
   "cell_type": "code",
   "execution_count": null,
   "metadata": {
    "collapsed": true,
    "deletable": true,
    "editable": true
   },
   "outputs": [],
   "source": [
    "search_params = {'decay_const': (0.001, 10),\n",
    "                 'cswidth': (10, 1000),\n",
    "                 'implant_x': (-1500, 1500),\n",
    "                 'implant_y': (-1000, 1000),\n",
    "                 'loc_od_x': (13, 17),\n",
    "                 'loc_od_y': (0, 4),\n",
    "                 'implant_rot': np.deg2rad((-75, -15))}\n",
    "pso_options = {'max_iter': 100,\n",
    "               'min_func': 1e-4}\n",
    "pso = p2pspatial.model_selection.ParticleSwarmOptimizer(\n",
    "    regressor, search_params, **pso_options\n",
    ")"
   ]
  },
  {
   "cell_type": "code",
   "execution_count": null,
   "metadata": {
    "collapsed": false,
    "deletable": true,
    "editable": true
   },
   "outputs": [
    {
     "name": "stdout",
     "output_type": "stream",
     "text": [
      "No constraints given.\n",
      "implant (x, y): (-542.73, 589.13), rot: -0.817211\n",
      "Set loc_od: 16.3127585809 2.47006067502 decay_const: 5.06276137187 sensitivity_rule: decay thresh: 1.0\n"
     ]
    }
   ],
   "source": [
    "fit_params = {'scoring_weights': {'area': 0.001,\n",
    "                                  'orientation': 100.0,\n",
    "                                  'major_axis_length': 0.1,\n",
    "                                  'minor_axis_length': 0.1}}\n",
    "y_test, y_pred, best_params = p2pspatial.model_selection.crossval_predict(\n",
    "    pso, X, y, fit_params=fit_params, n_folds=n_folds)"
   ]
  },
  {
   "cell_type": "code",
   "execution_count": null,
   "metadata": {
    "collapsed": false,
    "deletable": true,
    "editable": true
   },
   "outputs": [],
   "source": [
    "print(\"Done in %.3fs\" % (time() - t_start))"
   ]
  },
  {
   "cell_type": "code",
   "execution_count": null,
   "metadata": {
    "collapsed": true,
    "deletable": true,
    "editable": true
   },
   "outputs": [],
   "source": [
    "specifics = {'subject': subject,\n",
    "             'amplitude': amplitude,\n",
    "             'electrodes': electrodes,\n",
    "             'n_folds': n_folds,\n",
    "             'regressor': regressor,\n",
    "             'optimizer': pso,\n",
    "             'model_params': model_params,\n",
    "             'search_params': search_params,\n",
    "             'fit_params': fit_params,\n",
    "             'now': now,\n",
    "             'random_state': random_state}\n",
    "pickle.dump((y_test, y_pred, best_params, specifics), open(filename, 'wb'))\n",
    "print('Dumped data to %s' % filename)"
   ]
  }
 ],
 "metadata": {
  "kernelspec": {
   "display_name": "Python 3",
   "language": "python",
   "name": "python3"
  },
  "language_info": {
   "codemirror_mode": {
    "name": "ipython",
    "version": 3
   },
   "file_extension": ".py",
   "mimetype": "text/x-python",
   "name": "python",
   "nbconvert_exporter": "python",
   "pygments_lexer": "ipython3",
   "version": "3.5.2"
  }
 },
 "nbformat": 4,
 "nbformat_minor": 2
}
