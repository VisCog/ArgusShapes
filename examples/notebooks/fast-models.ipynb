{
 "cells": [
  {
   "cell_type": "code",
   "execution_count": 1,
   "metadata": {},
   "outputs": [
    {
     "name": "stderr",
     "output_type": "stream",
     "text": [
      "/home/mbeyeler/anaconda3/lib/python3.5/site-packages/skvideo/__init__.py:356: UserWarning: avconv/avprobe not found in path: \n",
      "  warnings.warn(\"avconv/avprobe not found in path: \" + str(path), UserWarning)\n",
      "2018-03-29 19:11:19,715 [pulse2percept] [INFO] Welcome to pulse2percept\n"
     ]
    }
   ],
   "source": [
    "import os\n",
    "import numpy as np\n",
    "import pandas as pd\n",
    "import p2pspatial"
   ]
  },
  {
   "cell_type": "code",
   "execution_count": 2,
   "metadata": {
    "collapsed": true
   },
   "outputs": [],
   "source": [
    "class ValidAxonMapModel(p2pspatial.models.SRDLossMixin, p2pspatial.models.RetinalGridMixin,\n",
    "                        p2pspatial.models.AxonMapMixin):\n",
    "    \"\"\"A class that implements all abstract methods of AxonMapModel\"\"\"\n",
    "\n",
    "    def build_optic_fiber_layer(self):\n",
    "        self.axon_contrib = [np.zeros((1, 3))] * int(np.prod(self.xret.shape))\n",
    "\n",
    "    def _predicts_target_values(self, row):\n",
    "        return row\n",
    "\n",
    "    def _predicts(self, Xrow):\n",
    "        \"\"\"Returns the input (a DataFrame row, without its index)\"\"\"\n",
    "        _, row = Xrow\n",
    "        return self._predicts_target_values(row)"
   ]
  },
  {
   "cell_type": "code",
   "execution_count": 3,
   "metadata": {
    "collapsed": true
   },
   "outputs": [],
   "source": [
    "subject = '12-005'\n",
    "amplitude = 2.0\n",
    "electrodes = None\n",
    "random_state = 42"
   ]
  },
  {
   "cell_type": "code",
   "execution_count": 4,
   "metadata": {
    "collapsed": true
   },
   "outputs": [],
   "source": [
    "rootfolder = os.path.join(os.environ['SECOND_SIGHT_DATA'], 'shape')\n",
    "X, y = p2pspatial.load_data(rootfolder, subject=subject, electrodes=electrodes,\n",
    "                            amplitude=amplitude, random_state=random_state,\n",
    "                            single_stim=True, verbose=False)\n",
    "X = X[:10]\n",
    "y = y[:10]"
   ]
  },
  {
   "cell_type": "code",
   "execution_count": 5,
   "metadata": {},
   "outputs": [
    {
     "data": {
      "text/plain": [
       "ModelC(ax_segments_range=(3, 50), axlambda=100, axons_range=(-180, 180),\n",
       "    engine='serial', greater_is_better=False, img_thresh=0.1,\n",
       "    implant_rot=0, implant_type=<class 'pulse2percept.implants.ArgusII'>,\n",
       "    implant_x=0, implant_y=0, loc_od_x=15.5, loc_od_y=1.5,\n",
       "    n_ax_segments=301, n_axons=301, n_jobs=-1, rho=100,\n",
       "    scheduler='threading', w_dice=34, w_rot=33, w_scale=34,\n",
       "    xrange=(-30, 30), xystep=1, yrange=(-20, 20))"
      ]
     },
     "execution_count": 5,
     "metadata": {},
     "output_type": "execute_result"
    }
   ],
   "source": [
    "model = p2pspatial.models.ModelC(engine='serial', xystep=1)\n",
    "model"
   ]
  },
  {
   "cell_type": "code",
   "execution_count": 6,
   "metadata": {
    "collapsed": true
   },
   "outputs": [],
   "source": [
    "model.build_ganglion_cell_layer()"
   ]
  },
  {
   "cell_type": "code",
   "execution_count": 7,
   "metadata": {
    "collapsed": true
   },
   "outputs": [],
   "source": [
    "bundles = model._grows_axon_bundles()"
   ]
  },
  {
   "cell_type": "code",
   "execution_count": 8,
   "metadata": {
    "collapsed": true
   },
   "outputs": [],
   "source": [
    "axons = model._finds_closest_axons(np.array(bundles))"
   ]
  },
  {
   "cell_type": "code",
   "execution_count": 9,
   "metadata": {
    "collapsed": true
   },
   "outputs": [],
   "source": [
    "axon_contrib = model._calcs_axon_contribution(axons)"
   ]
  },
  {
   "cell_type": "code",
   "execution_count": 10,
   "metadata": {},
   "outputs": [
    {
     "name": "stdout",
     "output_type": "stream",
     "text": [
      "46.7 ms ± 132 µs per loop (mean ± std. dev. of 7 runs, 10 loops each)\n"
     ]
    }
   ],
   "source": [
    "%timeit model._grows_axon_bundles()"
   ]
  },
  {
   "cell_type": "code",
   "execution_count": null,
   "metadata": {
    "collapsed": true
   },
   "outputs": [],
   "source": []
  },
  {
   "cell_type": "code",
   "execution_count": 11,
   "metadata": {},
   "outputs": [
    {
     "name": "stdout",
     "output_type": "stream",
     "text": [
      "580 ms ± 5.68 ms per loop (mean ± std. dev. of 7 runs, 1 loop each)\n"
     ]
    }
   ],
   "source": [
    "%timeit model._finds_closest_axons(bundles)"
   ]
  },
  {
   "cell_type": "code",
   "execution_count": 12,
   "metadata": {},
   "outputs": [
    {
     "name": "stdout",
     "output_type": "stream",
     "text": [
      "199 ms ± 1.46 ms per loop (mean ± std. dev. of 7 runs, 10 loops each)\n"
     ]
    }
   ],
   "source": [
    "%%timeit\n",
    "model.set_params(engine='cython')\n",
    "model._finds_closest_axons(bundles)"
   ]
  },
  {
   "cell_type": "code",
   "execution_count": null,
   "metadata": {
    "collapsed": true
   },
   "outputs": [],
   "source": []
  },
  {
   "cell_type": "code",
   "execution_count": 13,
   "metadata": {},
   "outputs": [
    {
     "name": "stdout",
     "output_type": "stream",
     "text": [
      "138 ms ± 144 µs per loop (mean ± std. dev. of 7 runs, 10 loops each)\n"
     ]
    }
   ],
   "source": [
    "%%timeit\n",
    "model.set_params(engine='joblib')\n",
    "model._calcs_axon_contribution(axons)"
   ]
  },
  {
   "cell_type": "code",
   "execution_count": 14,
   "metadata": {},
   "outputs": [
    {
     "name": "stdout",
     "output_type": "stream",
     "text": [
      "23.8 ms ± 270 µs per loop (mean ± std. dev. of 7 runs, 10 loops each)\n"
     ]
    }
   ],
   "source": [
    "%%timeit\n",
    "model.set_params(engine='cython')\n",
    "model._calcs_axon_contribution(axons)"
   ]
  },
  {
   "cell_type": "code",
   "execution_count": null,
   "metadata": {
    "collapsed": true
   },
   "outputs": [],
   "source": []
  },
  {
   "cell_type": "code",
   "execution_count": 15,
   "metadata": {},
   "outputs": [
    {
     "data": {
      "text/plain": [
       "True"
      ]
     },
     "execution_count": 15,
     "metadata": {},
     "output_type": "execute_result"
    }
   ],
   "source": [
    "model.set_params(engine='cython')\n",
    "ax1 = model._finds_closest_axons(bundles)\n",
    "model.set_params(engine='joblib')\n",
    "ax2 = model._finds_closest_axons(bundles)\n",
    "np.allclose([np.allclose(ax1[a], ax2[a]) for a in range(len(ax1))], True)"
   ]
  },
  {
   "cell_type": "code",
   "execution_count": 25,
   "metadata": {},
   "outputs": [
    {
     "name": "stdout",
     "output_type": "stream",
     "text": [
      "wrong length\n",
      "wrong length\n",
      "wrong length\n",
      "wrong length\n",
      "not close\n",
      "not close\n",
      "not close\n",
      "not close\n",
      "not close\n",
      "not close\n",
      "wrong length\n",
      "wrong length\n",
      "wrong length\n",
      "not close\n",
      "not close\n",
      "not close\n",
      "not close\n",
      "not close\n",
      "wrong length\n",
      "wrong length\n",
      "wrong length\n",
      "wrong length\n",
      "wrong length\n",
      "wrong length\n",
      "wrong length\n",
      "wrong length\n",
      "wrong length\n",
      "wrong length\n",
      "wrong length\n",
      "wrong length\n",
      "wrong length\n",
      "wrong length\n",
      "wrong length\n",
      "wrong length\n",
      "wrong length\n",
      "not close\n",
      "wrong length\n",
      "wrong length\n",
      "wrong length\n",
      "not close\n",
      "not close\n",
      "wrong length\n"
     ]
    }
   ],
   "source": [
    "model.set_params(engine='cython')\n",
    "ax1 = model._calcs_axon_contribution(axons)\n",
    "model.set_params(engine='joblib')\n",
    "ax2 = model._calcs_axon_contribution(axons)\n",
    "for a1, a2 in zip(ax1, ax2):\n",
    "    if len(a1) != len(a2):\n",
    "        print('wrong length')\n",
    "        continue\n",
    "    if not np.allclose(a1, a2):\n",
    "        print('not close')"
   ]
  },
  {
   "cell_type": "code",
   "execution_count": null,
   "metadata": {},
   "outputs": [],
   "source": [
    "ax1[0]"
   ]
  },
  {
   "cell_type": "code",
   "execution_count": null,
   "metadata": {},
   "outputs": [],
   "source": [
    "ax2[0]"
   ]
  },
  {
   "cell_type": "code",
   "execution_count": null,
   "metadata": {
    "collapsed": true
   },
   "outputs": [],
   "source": []
  }
 ],
 "metadata": {
  "kernelspec": {
   "display_name": "Python [default]",
   "language": "python",
   "name": "python3"
  },
  "language_info": {
   "codemirror_mode": {
    "name": "ipython",
    "version": 3
   },
   "file_extension": ".py",
   "mimetype": "text/x-python",
   "name": "python",
   "nbconvert_exporter": "python",
   "pygments_lexer": "ipython3",
   "version": "3.5.3"
  }
 },
 "nbformat": 4,
 "nbformat_minor": 2
}
