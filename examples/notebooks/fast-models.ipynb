{
 "cells": [
  {
   "cell_type": "code",
   "execution_count": 1,
   "metadata": {},
   "outputs": [
    {
     "name": "stderr",
     "output_type": "stream",
     "text": [
      "/home/mbeyeler/anaconda3/lib/python3.5/site-packages/skvideo/__init__.py:356: UserWarning: avconv/avprobe not found in path: \n",
      "  warnings.warn(\"avconv/avprobe not found in path: \" + str(path), UserWarning)\n",
      "2018-03-30 14:49:35,258 [pulse2percept] [INFO] Welcome to pulse2percept\n"
     ]
    }
   ],
   "source": [
    "import os\n",
    "import numpy as np\n",
    "import pandas as pd\n",
    "import argus_shapes"
   ]
  },
  {
   "cell_type": "code",
   "execution_count": 2,
   "metadata": {
    "collapsed": true
   },
   "outputs": [],
   "source": [
    "subject = '12-005'\n",
    "amplitude = 2.0\n",
    "electrodes = None\n",
    "random_state = 42"
   ]
  },
  {
   "cell_type": "code",
   "execution_count": 3,
   "metadata": {},
   "outputs": [
    {
     "data": {
      "text/plain": [
       "110"
      ]
     },
     "execution_count": 3,
     "metadata": {},
     "output_type": "execute_result"
    }
   ],
   "source": [
    "rootfolder = os.path.join(os.environ['SECOND_SIGHT_DATA'], 'shape')\n",
    "X, y = argus_shapes.load_data(rootfolder, subject=subject, electrodes=electrodes,\n",
    "                            amplitude=amplitude, random_state=random_state,\n",
    "                            verbose=False)\n",
    "len(X)"
   ]
  },
  {
   "cell_type": "code",
   "execution_count": 4,
   "metadata": {},
   "outputs": [],
   "source": [
    "result = []\n",
    "for engine in ['cython', 'joblib', 'serial']:\n",
    "    model = argus_shapes.models.ModelC(engine=engine, n_jobs=-1, xystep=1, axlambda=500)\n",
    "    model.implant = model.implant_type(x_center=model.implant_x,\n",
    "                                       y_center=model.implant_y,\n",
    "                                       rot=model.implant_rot)\n",
    "    t_fit = %timeit -oq model.fit(X)\n",
    "\n",
    "    # Run it so we have all the variables we need\n",
    "    model.build_ganglion_cell_layer()\n",
    "    bundles = model._grows_axon_bundles()\n",
    "    axons = model._finds_closest_axons(np.array(bundles))\n",
    "    \n",
    "    # time it\n",
    "    model._curr_map = {}\n",
    "    t_gcl = %timeit -oq model.build_ganglion_cell_layer()\n",
    "    t_ofl = %timeit -oq model.build_optic_fiber_layer()\n",
    "    t_bundles = %timeit -oq model._grows_axon_bundles()\n",
    "    t_closest = %timeit -oq model._finds_closest_axons(bundles)\n",
    "    t_contrib = %timeit -oq model._calcs_axon_contribution(axons)\n",
    "    t_curr_map = %timeit -oq model.calc_curr_map(X)\n",
    "    \n",
    "    result.append({'engine': engine,\n",
    "                   '0_gcl': t_gcl.average,\n",
    "                   '1_ofl': t_ofl.average,\n",
    "                   '1a_bundles': t_bundles.average,\n",
    "                   '1b_closest': t_closest.average,\n",
    "                   '1c_contrib': t_contrib.average,\n",
    "                   '2_curr_map': t_curr_map.average,\n",
    "                   '3_fit': t_fit.average})"
   ]
  },
  {
   "cell_type": "code",
   "execution_count": 5,
   "metadata": {},
   "outputs": [
    {
     "data": {
      "text/html": [
       "<div>\n",
       "<style scoped>\n",
       "    .dataframe tbody tr th:only-of-type {\n",
       "        vertical-align: middle;\n",
       "    }\n",
       "\n",
       "    .dataframe tbody tr th {\n",
       "        vertical-align: top;\n",
       "    }\n",
       "\n",
       "    .dataframe thead th {\n",
       "        text-align: right;\n",
       "    }\n",
       "</style>\n",
       "<table border=\"1\" class=\"dataframe\">\n",
       "  <thead>\n",
       "    <tr style=\"text-align: right;\">\n",
       "      <th></th>\n",
       "      <th>0_gcl</th>\n",
       "      <th>1_ofl</th>\n",
       "      <th>1a_bundles</th>\n",
       "      <th>1b_closest</th>\n",
       "      <th>1c_contrib</th>\n",
       "      <th>2_curr_map</th>\n",
       "      <th>3_fit</th>\n",
       "    </tr>\n",
       "    <tr>\n",
       "      <th>engine</th>\n",
       "      <th></th>\n",
       "      <th></th>\n",
       "      <th></th>\n",
       "      <th></th>\n",
       "      <th></th>\n",
       "      <th></th>\n",
       "      <th></th>\n",
       "    </tr>\n",
       "  </thead>\n",
       "  <tbody>\n",
       "    <tr>\n",
       "      <th>cython</th>\n",
       "      <td>0.000357</td>\n",
       "      <td>0.043453</td>\n",
       "      <td>0.044127</td>\n",
       "      <td>0.200949</td>\n",
       "      <td>0.027413</td>\n",
       "      <td>0.000071</td>\n",
       "      <td>0.042112</td>\n",
       "    </tr>\n",
       "    <tr>\n",
       "      <th>joblib</th>\n",
       "      <td>0.000364</td>\n",
       "      <td>0.151001</td>\n",
       "      <td>0.359074</td>\n",
       "      <td>0.594050</td>\n",
       "      <td>0.132483</td>\n",
       "      <td>0.000072</td>\n",
       "      <td>0.145824</td>\n",
       "    </tr>\n",
       "    <tr>\n",
       "      <th>serial</th>\n",
       "      <td>0.000384</td>\n",
       "      <td>0.145933</td>\n",
       "      <td>0.044569</td>\n",
       "      <td>0.584223</td>\n",
       "      <td>0.133071</td>\n",
       "      <td>0.000071</td>\n",
       "      <td>0.147381</td>\n",
       "    </tr>\n",
       "  </tbody>\n",
       "</table>\n",
       "</div>"
      ],
      "text/plain": [
       "           0_gcl     1_ofl  1a_bundles  1b_closest  1c_contrib  2_curr_map  \\\n",
       "engine                                                                       \n",
       "cython  0.000357  0.043453    0.044127    0.200949    0.027413    0.000071   \n",
       "joblib  0.000364  0.151001    0.359074    0.594050    0.132483    0.000072   \n",
       "serial  0.000384  0.145933    0.044569    0.584223    0.133071    0.000071   \n",
       "\n",
       "           3_fit  \n",
       "engine            \n",
       "cython  0.042112  \n",
       "joblib  0.145824  \n",
       "serial  0.147381  "
      ]
     },
     "execution_count": 5,
     "metadata": {},
     "output_type": "execute_result"
    }
   ],
   "source": [
    "pd.DataFrame(result).groupby('engine').mean()"
   ]
  },
  {
   "cell_type": "code",
   "execution_count": 6,
   "metadata": {
    "collapsed": true
   },
   "outputs": [],
   "source": [
    "%load_ext line_profiler"
   ]
  },
  {
   "cell_type": "code",
   "execution_count": 14,
   "metadata": {},
   "outputs": [],
   "source": [
    "model.set_params(engine='serial')\n",
    "model.fit(X)\n",
    "%lprun -f model.predict model.predict(X)"
   ]
  },
  {
   "cell_type": "code",
   "execution_count": null,
   "metadata": {
    "collapsed": true
   },
   "outputs": [],
   "source": []
  }
 ],
 "metadata": {
  "kernelspec": {
   "display_name": "Python [default]",
   "language": "python",
   "name": "python3"
  },
  "language_info": {
   "codemirror_mode": {
    "name": "ipython",
    "version": 3
   },
   "file_extension": ".py",
   "mimetype": "text/x-python",
   "name": "python",
   "nbconvert_exporter": "python",
   "pygments_lexer": "ipython3",
   "version": "3.5.3"
  }
 },
 "nbformat": 4,
 "nbformat_minor": 2
}
