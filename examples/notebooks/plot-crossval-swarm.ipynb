{
 "cells": [
  {
   "cell_type": "code",
   "execution_count": 1,
   "metadata": {},
   "outputs": [
    {
     "name": "stderr",
     "output_type": "stream",
     "text": [
      "/home/mbeyeler/anaconda3/lib/python3.5/site-packages/skvideo/__init__.py:356: UserWarning: avconv/avprobe not found in path: \n",
      "  warnings.warn(\"avconv/avprobe not found in path: \" + str(path), UserWarning)\n",
      "2018-01-10 16:22:51,050 [pulse2percept] [INFO] Welcome to pulse2percept\n"
     ]
    }
   ],
   "source": [
    "import numpy as np\n",
    "import pandas as pd\n",
    "import pickle\n",
    "import scipy.stats as sps\n",
    "\n",
    "import pulse2percept as p2p\n",
    "import p2pspatial\n",
    "\n",
    "%matplotlib inline\n",
    "import matplotlib.pyplot as plt"
   ]
  },
  {
   "cell_type": "code",
   "execution_count": 2,
   "metadata": {
    "collapsed": true
   },
   "outputs": [],
   "source": [
    "fname = '../../results/A_crossval-swarm_12-005_2018-01-09_07-00-36.pickle'"
   ]
  },
  {
   "cell_type": "code",
   "execution_count": 3,
   "metadata": {
    "collapsed": true
   },
   "outputs": [],
   "source": [
    "y_true, y_pred, best_params, specifics = pickle.load(open(fname, 'rb'))"
   ]
  },
  {
   "cell_type": "code",
   "execution_count": 4,
   "metadata": {},
   "outputs": [
    {
     "data": {
      "text/plain": [
       "{'amplitude': 2.0,\n",
       " 'electrodes': None,\n",
       " 'fit_params': {'decay_const': 0,\n",
       "  'loc_od_x': 15.5,\n",
       "  'loc_od_y': 1.2,\n",
       "  'scoring_weights': {'area': 0.001,\n",
       "   'major_axis_length': 0.1,\n",
       "   'minor_axis_length': 0.1,\n",
       "   'orientation': 100.0},\n",
       "  'use_ofl': False,\n",
       "  'use_persp_trafo': False},\n",
       " 'model_params': {'csmode': 'gaussian',\n",
       "  'sampling': 200,\n",
       "  'sensitivity_rule': 'decay',\n",
       "  'thresh': 1.0},\n",
       " 'n_folds': 5,\n",
       " 'now': '2018-01-09_07-00-36',\n",
       " 'optimizer': ParticleSwarmOptimizer(estimator=SpatialModelRegressor(csmode='gaussian', sampling=200,\n",
       "            sensitivity_rule='decay', thresh=1.0, x_range=(-30, 30),\n",
       "            y_range=(-20, 20)),\n",
       "             greater_is_better=False, max_iter=100, min_func=0.01,\n",
       "             search_params={'implant_y': (-1000, 1000), 'cswidth': (10, 1000), 'implant_rot': array([-1.309 , -0.2618]), 'implant_x': (-1500, 1500)},\n",
       "             swarm_size=40, verbose=True),\n",
       " 'random_state': 42,\n",
       " 'regressor': SpatialModelRegressor(csmode='gaussian', sampling=200,\n",
       "            sensitivity_rule='decay', thresh=1.0, x_range=(-30, 30),\n",
       "            y_range=(-20, 20)),\n",
       " 'search_params': {'cswidth': (10, 1000),\n",
       "  'implant_rot': array([-1.30899694, -0.26179939]),\n",
       "  'implant_x': (-1500, 1500),\n",
       "  'implant_y': (-1000, 1000)},\n",
       " 'subject': '12-005'}"
      ]
     },
     "execution_count": 4,
     "metadata": {},
     "output_type": "execute_result"
    }
   ],
   "source": [
    "specifics"
   ]
  },
  {
   "cell_type": "code",
   "execution_count": 5,
   "metadata": {},
   "outputs": [
    {
     "data": {
      "text/plain": [
       "[-1.9093658537742624,\n",
       " -1.7457596519335872,\n",
       " -1.7687137337662464,\n",
       " -1.8514652108809759,\n",
       " -1.6547088170803417]"
      ]
     },
     "execution_count": 5,
     "metadata": {},
     "output_type": "execute_result"
    }
   ],
   "source": [
    "p2pspatial.model_selection.crossval_score(y_true, y_pred, metric='r2')"
   ]
  },
  {
   "cell_type": "markdown",
   "metadata": {},
   "source": [
    "## Plot all"
   ]
  },
  {
   "cell_type": "code",
   "execution_count": 70,
   "metadata": {
    "collapsed": true
   },
   "outputs": [],
   "source": [
    "data = {\n",
    "    'A': {'12-005': '../../results/A_crossval-swarm_12-005_2018-01-09_07-00-36.pickle',\n",
    "          '51-009': '../../results/A_crossval-swarm_51-009_2018-01-09_07-06-53.pickle',\n",
    "          '52-001': '../../results/A_crossval-swarm_52-001_2018-01-09_07-16-27.pickle'},\n",
    "    'B': {'12-005': '../../results/B_crossval-swarm_12-005_2018-01-09_07-13-05.pickle',\n",
    "          '51-009': '../../results/B_crossval-swarm_51-009_2018-01-09_07-08-24.pickle',\n",
    "          '52-001': '../../results/B_crossval-swarm_52-001_2018-01-09_07-09-40.pickle'},\n",
    "    'C': {'12-005': '../../results/C_crossval-swarm_12-005_2018-01-09_04-22-22.pickle',\n",
    "          '51-009': '../../results/C_crossval-swarm_51-009_2018-01-09_04-25-47.pickle',\n",
    "          '52-001': '../../results/C_crossval-swarm_52-001_2018-01-09_04-37-32.pickle'}\n",
    "}"
   ]
  },
  {
   "cell_type": "code",
   "execution_count": 71,
   "metadata": {},
   "outputs": [
    {
     "data": {
      "text/plain": [
       "array(['A', 'B', 'C'], \n",
       "      dtype='<U1')"
      ]
     },
     "execution_count": 71,
     "metadata": {},
     "output_type": "execute_result"
    }
   ],
   "source": [
    "models = np.sort(list(data.keys()))\n",
    "models"
   ]
  },
  {
   "cell_type": "code",
   "execution_count": 72,
   "metadata": {},
   "outputs": [
    {
     "data": {
      "text/plain": [
       "array(['12-005', '51-009', '52-001'], \n",
       "      dtype='<U6')"
      ]
     },
     "execution_count": 72,
     "metadata": {},
     "output_type": "execute_result"
    }
   ],
   "source": [
    "subjects = set()\n",
    "for _, v in data.items():\n",
    "    subjects = subjects.union(v)\n",
    "subjects = np.sort(list(subjects))\n",
    "subjects"
   ]
  },
  {
   "cell_type": "code",
   "execution_count": 89,
   "metadata": {},
   "outputs": [],
   "source": [
    "metric = 'var_explained'\n",
    "weights = pd.Series(specifics['fit_params']['scoring_weights'])\n",
    "scores_mu = {}\n",
    "scores_std = {}\n",
    "for model, datafile in data.items():\n",
    "    mu = []\n",
    "    std = []\n",
    "    for subject in subjects:\n",
    "        y_true, y_pred, best_params, specifics = pickle.load(open(datafile[subject], 'rb'))\n",
    "        scores = p2pspatial.model_selection.crossval_score(y_true, y_pred,\n",
    "                                                           metric=metric,\n",
    "                                                           weights=weights)\n",
    "        mu.append(np.mean(scores))\n",
    "        std.append(np.std(scores))\n",
    "    scores_mu[model] = mu\n",
    "    scores_std[model] = std"
   ]
  },
  {
   "cell_type": "code",
   "execution_count": 87,
   "metadata": {},
   "outputs": [
    {
     "data": {
      "text/plain": [
       "{'A': [-1.0945469724089107, -0.68901622970039889, -0.68686409520383729],\n",
       " 'B': [0.090387652617166511, 0.07530219284764525, 0.086042635323182723],\n",
       " 'C': [0.020110044020279251, 0.00063002444420004607, 0.12232289253420188]}"
      ]
     },
     "execution_count": 87,
     "metadata": {},
     "output_type": "execute_result"
    }
   ],
   "source": [
    "scores_mu"
   ]
  },
  {
   "cell_type": "code",
   "execution_count": 75,
   "metadata": {
    "collapsed": true
   },
   "outputs": [],
   "source": [
    "# def label_diff(i,j,text,X,Y):\n",
    "#     x = (X[i]+X[j])/2\n",
    "#     y = 1.1*max(Y[i], Y[j])\n",
    "#     dx = abs(X[i]-X[j])\n",
    "\n",
    "#     props = {'connectionstyle':'bar','arrowstyle':'-',\\\n",
    "#                  'shrinkA':20,'shrinkB':20,'lw':2}\n",
    "#     ax.annotate(text, xy=(X[i],y+7), zorder=10)\n",
    "#     ax.annotate('', xy=(X[i],y), xytext=(X[j],y), arrowprops=props)\n",
    "\n",
    "# # Call the function\n",
    "# label_diff(0,1,'p=0.0370',X,menMeans)"
   ]
  },
  {
   "cell_type": "code",
   "execution_count": 95,
   "metadata": {},
   "outputs": [
    {
     "name": "stdout",
     "output_type": "stream",
     "text": [
      "['all', 'area', 'major_axis_length', 'minor_axis_length', 'orientation']\n"
     ]
    },
    {
     "data": {
      "image/png": "[encoded data removed]",
      "text/plain": [
       "<matplotlib.figure.Figure at 0x7fefc651e160>"
      ]
     },
     "metadata": {},
     "output_type": "display_data"
    }
   ],
   "source": [
    "metric = 'r2'\n",
    "weights = pd.Series(specifics['fit_params']['scoring_weights'])\n",
    "keys = ['all'] + list(np.sort(list(specifics['fit_params']['scoring_weights'])))\n",
    "print(keys)\n",
    "plt.style.use('ggplot')\n",
    "\n",
    "fig, axes = plt.subplots(nrows=2, ncols=3, sharex=True, sharey=True, figsize=(14, 7))\n",
    "# plt.figure(figsize=(12, 6))\n",
    "\n",
    "N = len(subjects)\n",
    "width = 0.8 / N\n",
    "ind = np.arange(N)\n",
    "\n",
    "for key, ax in zip(keys, axes.ravel()):\n",
    "    rects = []\n",
    "    for m, model in enumerate(models):\n",
    "        mu = []\n",
    "        std = []\n",
    "        for subject in subjects:\n",
    "            y_true, y_pred, best_params, specifics = pickle.load(open(data[model][subject], 'rb'))\n",
    "            scores = p2pspatial.model_selection.crossval_score(y_true, y_pred, key=key,\n",
    "                                                               metric=metric,\n",
    "                                                               weights=weights)\n",
    "            mu.append(np.mean(scores))\n",
    "            std.append(np.std(scores))\n",
    "#         if m > 1:\n",
    "#             mu = [0, 0, 0]\n",
    "#             std = [0, 0, 0]\n",
    "        rects.append(ax.bar(ind + m * width, mu, width, yerr=std))\n",
    "    ax.set_xticks(ind + (len(models) - 1) / 2 * width)\n",
    "    ax.set_xticklabels(subjects, rotation=45, ha='center', fontsize=16)\n",
    "    ax.set_yticks(np.arange(-2, 1.01, 0.5))\n",
    "    ax.set_yticklabels(np.arange(-2, 1.01, 0.5), fontsize=16)\n",
    "    ax.set_title(key, fontsize=16)\n",
    "    ax.set_ylabel('$R^2$', fontsize=16)\n",
    "axes.ravel()[-1].axis('off')\n",
    "axes.ravel()[-1].legend([r[0] for r in rects], ['Model ' + mm for mm in models], loc='upper right', fontsize=16)\n",
    "plt.ylim(-2, 1)\n",
    "plt.tight_layout()\n",
    "plt.savefig('results-ABC.png')"
   ]
  },
  {
   "cell_type": "code",
   "execution_count": 111,
   "metadata": {},
   "outputs": [
    {
     "name": "stdout",
     "output_type": "stream",
     "text": [
      "12-005 all Ttest_indResult(statistic=-9.1955656229248461, pvalue=1.5817951079603766e-05)\n",
      "12-005 area Ttest_indResult(statistic=-5.0661957214107556, pvalue=0.0009695699021311443)\n",
      "12-005 major_axis_length Ttest_indResult(statistic=-6.5891684680903531, pvalue=0.00017131100915286906)\n",
      "12-005 minor_axis_length Ttest_indResult(statistic=-4.582748910662894, pvalue=0.0017955314117918475)\n",
      "12-005 orientation Ttest_indResult(statistic=-9.1506210304717008, pvalue=1.6399895039934193e-05)\n",
      "51-009 all Ttest_indResult(statistic=-10.719518116130274, pvalue=5.0411419073368823e-06)\n",
      "51-009 area Ttest_indResult(statistic=1.8952781703732493, pvalue=0.094653674983491157)\n",
      "51-009 major_axis_length Ttest_indResult(statistic=-6.4086110844047335, pvalue=0.00020722336682953266)\n",
      "51-009 minor_axis_length Ttest_indResult(statistic=1.1792010473666983, pvalue=0.27219625798204561)\n",
      "51-009 orientation Ttest_indResult(statistic=-10.725245847967759, pvalue=5.0209022502993524e-06)\n",
      "52-001 all Ttest_indResult(statistic=-4.2207681685105101, pvalue=0.0029127708714684376)\n",
      "52-001 area Ttest_indResult(statistic=-4.6872699528853277, pvalue=0.0015670547772185417)\n",
      "52-001 major_axis_length Ttest_indResult(statistic=-7.9375396068277286, pvalue=4.6200927591743459e-05)\n",
      "52-001 minor_axis_length Ttest_indResult(statistic=-8.0924047158191357, pvalue=4.0199666246451555e-05)\n",
      "52-001 orientation Ttest_indResult(statistic=-4.2090203367244881, pvalue=0.002959826384358388)\n"
     ]
    }
   ],
   "source": [
    "model1 = 'A'\n",
    "model2 = 'C'\n",
    "for subject in subjects:\n",
    "    for key in keys:\n",
    "        y_true, y_pred, best_params, specifics = pickle.load(open(data[model1][subject], 'rb'))\n",
    "        scores1 = p2pspatial.model_selection.crossval_score(y_true, y_pred, key=key,\n",
    "                                                           metric=metric,\n",
    "                                                           weights=weights)\n",
    "        y_true, y_pred, best_params, specifics = pickle.load(open(data[model2][subject], 'rb'))\n",
    "        scores2 = p2pspatial.model_selection.crossval_score(y_true, y_pred, key=key,\n",
    "                                                           metric=metric,\n",
    "                                                           weights=weights)\n",
    "        print(subject, key, sps.ttest_ind(scores1, scores2))"
   ]
  },
  {
   "cell_type": "code",
   "execution_count": 99,
   "metadata": {},
   "outputs": [
    {
     "data": {
      "text/plain": [
       "Ttest_indResult(statistic=0.94999805066770304, pvalue=0.3699260933979675)"
      ]
     },
     "execution_count": 99,
     "metadata": {},
     "output_type": "execute_result"
    }
   ],
   "source": []
  },
  {
   "cell_type": "code",
   "execution_count": null,
   "metadata": {
    "collapsed": true
   },
   "outputs": [],
   "source": []
  }
 ],
 "metadata": {
  "kernelspec": {
   "display_name": "Python [default]",
   "language": "python",
   "name": "python3"
  },
  "language_info": {
   "codemirror_mode": {
    "name": "ipython",
    "version": 3
   },
   "file_extension": ".py",
   "mimetype": "text/x-python",
   "name": "python",
   "nbconvert_exporter": "python",
   "pygments_lexer": "ipython3",
   "version": "3.5.3"
  }
 },
 "nbformat": 4,
 "nbformat_minor": 2
}
