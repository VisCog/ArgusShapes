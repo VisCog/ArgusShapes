{
 "cells": [
  {
   "cell_type": "code",
   "execution_count": 1,
   "metadata": {},
   "outputs": [
    {
     "name": "stderr",
     "output_type": "stream",
     "text": [
      "/home/mbeyeler/anaconda3/lib/python3.5/site-packages/skvideo/__init__.py:356: UserWarning: avconv/avprobe not found in path: \n",
      "  warnings.warn(\"avconv/avprobe not found in path: \" + str(path), UserWarning)\n",
      "2018-01-10 11:18:33,708 [pulse2percept] [INFO] Welcome to pulse2percept\n"
     ]
    }
   ],
   "source": [
    "import numpy as np\n",
    "import pandas as pd\n",
    "import pickle\n",
    "\n",
    "import pulse2percept as p2p\n",
    "import p2pspatial\n",
    "\n",
    "%matplotlib inline\n",
    "import matplotlib.pyplot as plt"
   ]
  },
  {
   "cell_type": "code",
   "execution_count": 2,
   "metadata": {
    "collapsed": true
   },
   "outputs": [],
   "source": [
    "fname = '../../results/A_crossval-swarm_12-005_2018-01-09_07-00-36.pickle'"
   ]
  },
  {
   "cell_type": "code",
   "execution_count": 3,
   "metadata": {
    "collapsed": true
   },
   "outputs": [],
   "source": [
    "y_true, y_pred, best_params, specifics = pickle.load(open(fname, 'rb'))"
   ]
  },
  {
   "cell_type": "code",
   "execution_count": 4,
   "metadata": {},
   "outputs": [
    {
     "data": {
      "text/plain": [
       "{'amplitude': 2.0,\n",
       " 'electrodes': None,\n",
       " 'fit_params': {'decay_const': 0,\n",
       "  'loc_od_x': 15.5,\n",
       "  'loc_od_y': 1.2,\n",
       "  'scoring_weights': {'area': 0.001,\n",
       "   'major_axis_length': 0.1,\n",
       "   'minor_axis_length': 0.1,\n",
       "   'orientation': 100.0},\n",
       "  'use_ofl': False,\n",
       "  'use_persp_trafo': False},\n",
       " 'model_params': {'csmode': 'gaussian',\n",
       "  'sampling': 200,\n",
       "  'sensitivity_rule': 'decay',\n",
       "  'thresh': 1.0},\n",
       " 'n_folds': 5,\n",
       " 'now': '2018-01-09_07-00-36',\n",
       " 'optimizer': ParticleSwarmOptimizer(estimator=SpatialModelRegressor(csmode='gaussian', sampling=200,\n",
       "            sensitivity_rule='decay', thresh=1.0, x_range=(-30, 30),\n",
       "            y_range=(-20, 20)),\n",
       "             greater_is_better=False, max_iter=100, min_func=0.01,\n",
       "             search_params={'implant_y': (-1000, 1000), 'implant_rot': array([-1.309 , -0.2618]), 'implant_x': (-1500, 1500), 'cswidth': (10, 1000)},\n",
       "             swarm_size=40, verbose=True),\n",
       " 'random_state': 42,\n",
       " 'regressor': SpatialModelRegressor(csmode='gaussian', sampling=200,\n",
       "            sensitivity_rule='decay', thresh=1.0, x_range=(-30, 30),\n",
       "            y_range=(-20, 20)),\n",
       " 'search_params': {'cswidth': (10, 1000),\n",
       "  'implant_rot': array([-1.30899694, -0.26179939]),\n",
       "  'implant_x': (-1500, 1500),\n",
       "  'implant_y': (-1000, 1000)},\n",
       " 'subject': '12-005'}"
      ]
     },
     "execution_count": 4,
     "metadata": {},
     "output_type": "execute_result"
    }
   ],
   "source": [
    "specifics"
   ]
  },
  {
   "cell_type": "code",
   "execution_count": 5,
   "metadata": {},
   "outputs": [
    {
     "data": {
      "text/plain": [
       "[-1.9093658537742624,\n",
       " -1.7457596519335872,\n",
       " -1.7687137337662464,\n",
       " -1.8514652108809759,\n",
       " -1.6547088170803417]"
      ]
     },
     "execution_count": 5,
     "metadata": {},
     "output_type": "execute_result"
    }
   ],
   "source": [
    "p2pspatial.model_selection.crossval_score(y_true, y_pred, metric='r2')"
   ]
  },
  {
   "cell_type": "markdown",
   "metadata": {},
   "source": [
    "## Plot all"
   ]
  },
  {
   "cell_type": "code",
   "execution_count": 6,
   "metadata": {
    "collapsed": true
   },
   "outputs": [],
   "source": [
    "data = {\n",
    "    'A': {'12-005': '../../results/A_crossval-swarm_12-005_2018-01-09_07-00-36.pickle',\n",
    "          '51-009': '../../results/A_crossval-swarm_51-009_2018-01-09_07-06-53.pickle',\n",
    "          '52-001': '../../results/A_crossval-swarm_52-001_2018-01-09_07-16-27.pickle'},\n",
    "    'B': {'12-005': '../../results/B_crossval-swarm_12-005_2018-01-09_07-13-05.pickle',\n",
    "          '51-009': '../../results/B_crossval-swarm_51-009_2018-01-09_07-08-24.pickle',\n",
    "          '52-001': '../../results/B_crossval-swarm_52-001_2018-01-09_07-09-40.pickle'},\n",
    "    'C': {'12-005': '../../results/C_crossval-swarm_12-005_2018-01-09_04-22-22.pickle',\n",
    "          '51-009': '../../results/C_crossval-swarm_51-009_2018-01-09_04-25-47.pickle',\n",
    "          '52-001': '../../results/C_crossval-swarm_52-001_2018-01-09_04-37-32.pickle'}\n",
    "}"
   ]
  },
  {
   "cell_type": "code",
   "execution_count": 7,
   "metadata": {},
   "outputs": [
    {
     "data": {
      "text/plain": [
       "array(['A', 'B', 'C'], \n",
       "      dtype='<U1')"
      ]
     },
     "execution_count": 7,
     "metadata": {},
     "output_type": "execute_result"
    }
   ],
   "source": [
    "models = np.sort(list(data.keys()))\n",
    "models"
   ]
  },
  {
   "cell_type": "code",
   "execution_count": 8,
   "metadata": {},
   "outputs": [
    {
     "data": {
      "text/plain": [
       "array(['12-005', '51-009', '52-001'], \n",
       "      dtype='<U6')"
      ]
     },
     "execution_count": 8,
     "metadata": {},
     "output_type": "execute_result"
    }
   ],
   "source": [
    "subjects = set()\n",
    "for _, v in data.items():\n",
    "    subjects = subjects.union(v)\n",
    "subjects = np.sort(list(subjects))\n",
    "subjects"
   ]
  },
  {
   "cell_type": "code",
   "execution_count": 9,
   "metadata": {
    "collapsed": true
   },
   "outputs": [],
   "source": [
    "metric = 'r2'\n",
    "weights = pd.Series(specifics['fit_params']['scoring_weights'])\n",
    "scores_mu = {}\n",
    "scores_std = {}\n",
    "for model, datafile in data.items():\n",
    "    mu = []\n",
    "    std = []\n",
    "    for subject in subjects:\n",
    "        y_true, y_pred, best_params, specifics = pickle.load(open(datafile[subject], 'rb'))\n",
    "        scores = p2pspatial.model_selection.crossval_score(y_true, y_pred,\n",
    "                                                           metric=metric,\n",
    "                                                           weights=weights)\n",
    "        mu.append(np.mean(scores))\n",
    "        std.append(np.std(scores))\n",
    "    scores_mu[model] = mu\n",
    "    scores_std[model] = std"
   ]
  },
  {
   "cell_type": "code",
   "execution_count": 10,
   "metadata": {},
   "outputs": [
    {
     "data": {
      "text/plain": [
       "{'A': [-1.0962694457606257, -0.68977821904385894, -0.68810754675293562],\n",
       " 'B': [0.088906108715771981, 0.074768638293784828, 0.085566625332097676],\n",
       " 'C': [0.018860437884694818, -8.4139670268439101e-05, 0.12181697729186425]}"
      ]
     },
     "execution_count": 10,
     "metadata": {},
     "output_type": "execute_result"
    }
   ],
   "source": [
    "scores_mu"
   ]
  },
  {
   "cell_type": "code",
   "execution_count": 11,
   "metadata": {},
   "outputs": [],
   "source": [
    "# def label_diff(i,j,text,X,Y):\n",
    "#     x = (X[i]+X[j])/2\n",
    "#     y = 1.1*max(Y[i], Y[j])\n",
    "#     dx = abs(X[i]-X[j])\n",
    "\n",
    "#     props = {'connectionstyle':'bar','arrowstyle':'-',\\\n",
    "#                  'shrinkA':20,'shrinkB':20,'lw':2}\n",
    "#     ax.annotate(text, xy=(X[i],y+7), zorder=10)\n",
    "#     ax.annotate('', xy=(X[i],y), xytext=(X[j],y), arrowprops=props)\n",
    "\n",
    "# # Call the function\n",
    "# label_diff(0,1,'p=0.0370',X,menMeans)"
   ]
  },
  {
   "cell_type": "code",
   "execution_count": 12,
   "metadata": {},
   "outputs": [
    {
     "data": {
      "text/plain": [
       "<matplotlib.text.Text at 0x7f03dabe63c8>"
      ]
     },
     "execution_count": 12,
     "metadata": {},
     "output_type": "execute_result"
    },
    {
     "data": {
      "image/png": "[encoded data removed]",
      "text/plain": [
       "<matplotlib.figure.Figure at 0x7f03dac13470>"
      ]
     },
     "metadata": {},
     "output_type": "display_data"
    }
   ],
   "source": [
    "# metric = 'mse'\n",
    "# keys = ['all'] + list(specifics['fit_params']['scoring_weights'])\n",
    "# print(keys)\n",
    "\n",
    "plt.figure(figsize=(12, 6))\n",
    "N = len(subjects)\n",
    "width = 0.8 / N\n",
    "ind = np.arange(N)\n",
    "key = 'all'\n",
    "metric = 'mse'\n",
    "rects = []\n",
    "for m, model in enumerate(models):\n",
    "    mu = []\n",
    "    std = []\n",
    "    for subject in subjects:\n",
    "        y_true, y_pred, best_params, specifics = pickle.load(open(data[model][subject], 'rb'))\n",
    "        scores = p2pspatial.model_selection.crossval_score(y_true, y_pred, key=key,\n",
    "                                                           metric=metric,\n",
    "                                                           weights=weights)\n",
    "        mu.append(np.mean(scores))\n",
    "        std.append(np.std(scores))\n",
    "    rects.append(plt.bar(ind + m * width, mu, width, yerr=std))\n",
    "plt.legend([r[0] for r in rects], ['Model ' + mm for mm in models])\n",
    "plt.xticks(ind + (N - 1) / 2 * width, subjects, rotation=45, ha='center')\n",
    "plt.title(metric)"
   ]
  },
  {
   "cell_type": "code",
   "execution_count": null,
   "metadata": {
    "collapsed": true
   },
   "outputs": [],
   "source": []
  },
  {
   "cell_type": "code",
   "execution_count": null,
   "metadata": {
    "collapsed": true
   },
   "outputs": [],
   "source": []
  }
 ],
 "metadata": {
  "kernelspec": {
   "display_name": "Python [default]",
   "language": "python",
   "name": "python3"
  },
  "language_info": {
   "codemirror_mode": {
    "name": "ipython",
    "version": 3
   },
   "file_extension": ".py",
   "mimetype": "text/x-python",
   "name": "python",
   "nbconvert_exporter": "python",
   "pygments_lexer": "ipython3",
   "version": "3.5.3"
  }
 },
 "nbformat": 4,
 "nbformat_minor": 2
}
