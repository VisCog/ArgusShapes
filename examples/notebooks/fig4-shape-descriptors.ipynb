{
 "cells": [
  {
   "cell_type": "code",
   "execution_count": 1,
   "metadata": {},
   "outputs": [
    {
     "name": "stderr",
     "output_type": "stream",
     "text": [
      "/home/mbeyeler/anaconda3/lib/python3.5/site-packages/skvideo/__init__.py:356: UserWarning: avconv/avprobe not found in path: \n",
      "  warnings.warn(\"avconv/avprobe not found in path: \" + str(path), UserWarning)\n",
      "2018-04-26 18:01:14,610 [pulse2percept] [INFO] Welcome to pulse2percept\n"
     ]
    }
   ],
   "source": [
    "import os\n",
    "import numpy as np\n",
    "import pandas as pd\n",
    "from scipy import stats\n",
    "\n",
    "import argus_shapes\n",
    "import pulse2percept.implants as p2pi\n",
    "\n",
    "%matplotlib inline\n",
    "import matplotlib.pyplot as plt\n",
    "plt.style.use('seaborn-colorblind')"
   ]
  },
  {
   "cell_type": "code",
   "execution_count": 2,
   "metadata": {
    "collapsed": true
   },
   "outputs": [],
   "source": [
    "subject_params = {\n",
    "    'TB': {\n",
    "        'implant_type': p2pi.ArgusI,\n",
    "        'implant_x': -1527,\n",
    "        'implant_y': -556,\n",
    "        'implant_rot': -1.13,\n",
    "        'loc_od_x': 13.6,\n",
    "        'loc_od_y': 0.0,\n",
    "        'xrange': (-36.9, 36.9),\n",
    "        'yrange': (-36.9, 36.9)\n",
    "    },\n",
    "    '12-005': {\n",
    "        'implant_type': p2pi.ArgusII,\n",
    "        'implant_x': -1761,\n",
    "        'implant_y': -212,\n",
    "        'implant_rot': -0.188,\n",
    "        'loc_od_x': 15.4,\n",
    "        'loc_od_y': 1.86,\n",
    "        'xrange': (-30, 30),\n",
    "        'yrange': (-22.5, 22.5)\n",
    "    },\n",
    "    '51-009': {\n",
    "        'implant_type': p2pi.ArgusII,\n",
    "        'implant_x': -799,\n",
    "        'implant_y': 93,\n",
    "        'implant_rot': -1.09,\n",
    "        'loc_od_x': 15.7,\n",
    "        'loc_od_y': 0.75,\n",
    "        'xrange': (-32.5, 32.5),\n",
    "        'yrange': (-24.4, 24.4)\n",
    "    },\n",
    "    '52-001': {\n",
    "        'implant_type': p2pi.ArgusII,\n",
    "        'implant_x': -1230,\n",
    "        'implant_y': 415,\n",
    "        'implant_rot': -0.457,\n",
    "        'loc_od_x': 15.9,\n",
    "        'loc_od_y': 1.96,\n",
    "        'xrange': (-32, 32),\n",
    "        'yrange': (-24, 24)\n",
    "    }\n",
    "}\n",
    "\n",
    "use_electrodes = {\n",
    "    'TB': ['A4', 'C2', 'C3', 'C4', 'D2', 'D3', 'B3', 'D4'],\n",
    "    '12-005': ['A04', 'A06', 'B03', 'C07', 'C10', 'D07', 'D08', 'D10',\n",
    "               'F06'],\n",
    "    '51-009': ['A02', 'C01', 'C05', 'C06', 'D03', 'E01', 'E05', 'E07',\n",
    "               'F04', 'F06'],\n",
    "    '52-001': ['A05', 'A07', 'B09', 'A10', 'C10', 'D05', 'D07', 'E04',\n",
    "               'E09', 'E10', 'F06', 'F07', 'F08', 'F09', 'F10']\n",
    "}"
   ]
  },
  {
   "cell_type": "code",
   "execution_count": 3,
   "metadata": {
    "collapsed": true
   },
   "outputs": [],
   "source": [
    "subjects = ['TB', '12-005', '51-009', '52-001']"
   ]
  },
  {
   "cell_type": "code",
   "execution_count": 4,
   "metadata": {
    "collapsed": true
   },
   "outputs": [],
   "source": [
    "datafolder = os.path.join(os.environ['SECOND_SIGHT_DATA'], 'shape')\n",
    "features = []\n",
    "targets = []\n",
    "for subject in subjects:\n",
    "    f, t = argus_shapes.load_data(datafolder, subject=subject,\n",
    "                                electrodes=use_electrodes[subject],\n",
    "                                amplitude=2.0, random_state=42)\n",
    "    xyrange = np.array([np.diff(subject_params[subject]['xrange'])[0],\n",
    "                        np.diff(subject_params[subject]['yrange'])[0]])\n",
    "    t['area'] = [y['area'] / np.prod(x['img_shape']) * np.prod(xyrange)\n",
    "                 for (_, x), (_, y) in zip(f.iterrows(), t.iterrows())]\n",
    "    t['orientation'] = np.rad2deg(t['orientation'])\n",
    "    t['compactness'] = 1.0 / (t['compactness'] / (4 * np.pi))\n",
    "    t['electrode'] = ['%s%d' % (row['electrode'][0], int(row['electrode'][1:]))\n",
    "                      for _, row in t.iterrows()]\n",
    "    features.append(f)\n",
    "    targets.append(t)"
   ]
  },
  {
   "cell_type": "code",
   "execution_count": 5,
   "metadata": {
    "collapsed": true
   },
   "outputs": [],
   "source": [
    "Xy = pd.concat((pd.concat(features), pd.concat(targets).drop(columns='electrode')), axis=1)"
   ]
  },
  {
   "cell_type": "code",
   "execution_count": 6,
   "metadata": {
    "collapsed": true
   },
   "outputs": [],
   "source": [
    "cols = ['area', 'orientation', 'eccentricity', 'compactness']\n",
    "ylabels = ['area (deg$^2$)', 'orientation (rad)', 'eccentricity', 'compactness']\n",
    "markers = ['o', 's', 'v', '^']\n",
    "# colors = ['#0072B2', '#009E73', '#D55E00', '#CC79A7']"
   ]
  },
  {
   "cell_type": "markdown",
   "metadata": {},
   "source": [
    "# Fig. 4A: Shape descriptors"
   ]
  },
  {
   "cell_type": "code",
   "execution_count": 7,
   "metadata": {},
   "outputs": [
    {
     "data": {
      "image/png": "[encoded data removed]",
      "text/plain": [
       "<matplotlib.figure.Figure at 0x7fab9cb08c18>"
      ]
     },
     "metadata": {},
     "output_type": "display_data"
    }
   ],
   "source": [
    "ylimits = [[0, 80], [-90, 90], [0, 1], [0, 1]]\n",
    "\n",
    "fig, axes = plt.subplots(ncols=len(cols), figsize=(14, 3))\n",
    "for col, ax, ylabel, ylim in zip(cols, axes, ylabels, ylimits):\n",
    "    gb = Xy.loc[:, ['subject', col]].groupby('subject', sort=False)\n",
    "    gb.boxplot(subplots=False, grid=False, rot=45, ax=ax)\n",
    "    ax.set_ylim(*ylim)\n",
    "    ax.set_yticks(np.linspace(*ylim, num=5))\n",
    "    ax.set_xticklabels(subjects)\n",
    "    ax.set_ylabel(ylabel)\n",
    "fig.tight_layout()\n",
    "fig.savefig('fig4a-shape-descriptors.png')\n",
    "fig.savefig('fig4a-shape-descriptors.eps')"
   ]
  },
  {
   "cell_type": "markdown",
   "metadata": {},
   "source": [
    "# Fig. 4B: Shape variability"
   ]
  },
  {
   "cell_type": "code",
   "execution_count": 8,
   "metadata": {},
   "outputs": [
    {
     "data": {
      "image/png": "[encoded data removed]",
      "text/plain": [
       "<matplotlib.figure.Figure at 0x7fab76c187f0>"
      ]
     },
     "metadata": {},
     "output_type": "display_data"
    }
   ],
   "source": [
    "ylimits = [[0, 80], [-90, 90], [0, 1], [0, 1]]\n",
    "\n",
    "fig, axes = plt.subplots(ncols=len(cols), figsize=(14, 3))\n",
    "for col, ax, ylabel, ylim in zip(cols, axes, ylabels, ylimits):\n",
    "    gb = Xy.loc[:, ['subject', 'electrode', col]].groupby(['subject', 'electrode'], sort=False)\n",
    "    ggb = gb.std().groupby('subject')\n",
    "    ggb.boxplot(subplots=False, grid=False, rot=45, ax=ax)\n",
    "    ax.set_ylim(*ylim)\n",
    "    ax.set_yticks(np.linspace(*ylim, num=5))\n",
    "    ax.set_xticklabels(subjects)\n",
    "    ax.set_ylabel('$\\Delta$ %s' % ylabel)\n",
    "fig.tight_layout()\n",
    "fig.savefig('fig4b-shape-variability.png')\n",
    "fig.savefig('fig4b-shape-variability.eps')"
   ]
  },
  {
   "cell_type": "code",
   "execution_count": null,
   "metadata": {
    "collapsed": true
   },
   "outputs": [],
   "source": []
  }
 ],
 "metadata": {
  "kernelspec": {
   "display_name": "Python [default]",
   "language": "python",
   "name": "python3"
  },
  "language_info": {
   "codemirror_mode": {
    "name": "ipython",
    "version": 3
   },
   "file_extension": ".py",
   "mimetype": "text/x-python",
   "name": "python",
   "nbconvert_exporter": "python",
   "pygments_lexer": "ipython3",
   "version": "3.5.3"
  }
 },
 "nbformat": 4,
 "nbformat_minor": 2
}
