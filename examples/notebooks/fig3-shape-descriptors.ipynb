{
 "cells": [
  {
   "cell_type": "code",
   "execution_count": 1,
   "metadata": {},
   "outputs": [
    {
     "name": "stderr",
     "output_type": "stream",
     "text": [
      "/home/mbeyeler/anaconda3/lib/python3.5/site-packages/skvideo/__init__.py:356: UserWarning: avconv/avprobe not found in path: \n",
      "  warnings.warn(\"avconv/avprobe not found in path: \" + str(path), UserWarning)\n",
      "2018-05-04 14:31:27,415 [pulse2percept] [INFO] Welcome to pulse2percept\n"
     ]
    }
   ],
   "source": [
    "import os\n",
    "import numpy as np\n",
    "import pandas as pd\n",
    "from scipy import stats\n",
    "\n",
    "import argus_shapes\n",
    "import pulse2percept.implants as p2pi\n",
    "\n",
    "%matplotlib inline\n",
    "import matplotlib.pyplot as plt\n",
    "plt.style.use('seaborn-colorblind')"
   ]
  },
  {
   "cell_type": "code",
   "execution_count": 2,
   "metadata": {
    "collapsed": true
   },
   "outputs": [],
   "source": [
    "datafolder = os.environ['ARGUS_SHAPES_DATA']\n",
    "subjectdata = argus_shapes.load_subjects(os.path.join(datafolder, 'subjects.csv'))"
   ]
  },
  {
   "cell_type": "code",
   "execution_count": 3,
   "metadata": {},
   "outputs": [],
   "source": [
    "subjects = subjectdata.index.sort_values()"
   ]
  },
  {
   "cell_type": "code",
   "execution_count": 4,
   "metadata": {},
   "outputs": [],
   "source": [
    "features = []\n",
    "targets = []\n",
    "for subject in subjects:\n",
    "    f, t = argus_shapes.load_data(os.path.join(datafolder, 'drawings_single.csv'),\n",
    "                                  subject=subject, amp=2.0, random_state=42)\n",
    "    xyrange = np.array([np.diff(subjectdata.loc[subject, 'xrange'])[0],\n",
    "                        np.diff(subjectdata.loc[subject, 'yrange'])[0]])\n",
    "    t['area'] = [y['area'] / np.prod(x['img_shape']) * np.prod(xyrange)\n",
    "                 for (_, x), (_, y) in zip(f.iterrows(), t.iterrows())]\n",
    "    t['orientation'] = np.rad2deg(t['orientation'])\n",
    "    features.append(f)\n",
    "    targets.append(t)"
   ]
  },
  {
   "cell_type": "code",
   "execution_count": 5,
   "metadata": {
    "collapsed": true
   },
   "outputs": [],
   "source": [
    "Xy = pd.concat((pd.concat(features), pd.concat(targets).drop(columns='electrode')), axis=1)"
   ]
  },
  {
   "cell_type": "code",
   "execution_count": 6,
   "metadata": {
    "collapsed": true
   },
   "outputs": [],
   "source": [
    "cols = ['area', 'orientation', 'eccentricity', 'compactness']\n",
    "ylabels = ['area (deg$^2$)', 'orientation (deg)', 'elongation', 'compactness']\n",
    "markers = ['o', 's', 'v', '^']\n",
    "# colors = ['#0072B2', '#009E73', '#D55E00', '#CC79A7']"
   ]
  },
  {
   "cell_type": "markdown",
   "metadata": {},
   "source": [
    "# Fig. 4A: Shape descriptors"
   ]
  },
  {
   "cell_type": "code",
   "execution_count": 7,
   "metadata": {},
   "outputs": [
    {
     "data": {
      "image/png": "[encoded data removed]",
      "text/plain": [
       "<matplotlib.figure.Figure at 0x7f47a53f5390>"
      ]
     },
     "metadata": {},
     "output_type": "display_data"
    }
   ],
   "source": [
    "ylimits = [[0, 80], [-90, 90], [0, 1], [0, 1]]\n",
    "\n",
    "fig, axes = plt.subplots(ncols=len(cols), figsize=(14, 3))\n",
    "for col, ax, ylabel, ylim in zip(cols, axes, ylabels, ylimits):\n",
    "    gb = Xy.loc[:, ['subject', col]].groupby('subject', sort=False)\n",
    "    gb.boxplot(subplots=False, grid=False, rot=45, ax=ax)\n",
    "    ax.set_ylim(*ylim)\n",
    "    ax.set_yticks(np.linspace(*ylim, num=5))\n",
    "    ax.set_xticklabels(subjects)\n",
    "    ax.set_ylabel(ylabel)\n",
    "fig.tight_layout()\n",
    "fig.savefig('fig4a-shape-descriptors.eps')"
   ]
  },
  {
   "cell_type": "markdown",
   "metadata": {},
   "source": [
    "# Fig. 4B: Shape variability"
   ]
  },
  {
   "cell_type": "code",
   "execution_count": 8,
   "metadata": {},
   "outputs": [
    {
     "data": {
      "image/png": "[encoded data removed]",
      "text/plain": [
       "<matplotlib.figure.Figure at 0x7f47a1420b00>"
      ]
     },
     "metadata": {},
     "output_type": "display_data"
    }
   ],
   "source": [
    "ylimits = [[0, 80], [0, 90], [0, 1], [0, 1]]\n",
    "\n",
    "fig, axes = plt.subplots(ncols=len(cols), figsize=(14, 3))\n",
    "for col, ax, ylabel, ylim in zip(cols, axes, ylabels, ylimits):\n",
    "    gb = Xy.loc[:, ['subject', 'electrode', col]].groupby(['subject', 'electrode'], sort=False)\n",
    "    ggb = gb.std().groupby('subject')\n",
    "    ggb.boxplot(subplots=False, grid=False, rot=45, ax=ax)\n",
    "    ax.set_ylim(*ylim)\n",
    "    ax.set_yticks(np.linspace(*ylim, num=5))\n",
    "    ax.set_xticklabels(subjects)\n",
    "    ax.set_ylabel('$\\Delta$ %s' % ylabel)\n",
    "fig.tight_layout()\n",
    "fig.savefig('fig4b-shape-variability.eps')"
   ]
  },
  {
   "cell_type": "code",
   "execution_count": null,
   "metadata": {
    "collapsed": true
   },
   "outputs": [],
   "source": []
  }
 ],
 "metadata": {
  "kernelspec": {
   "display_name": "Python [default]",
   "language": "python",
   "name": "python3"
  },
  "language_info": {
   "codemirror_mode": {
    "name": "ipython",
    "version": 3
   },
   "file_extension": ".py",
   "mimetype": "text/x-python",
   "name": "python",
   "nbconvert_exporter": "python",
   "pygments_lexer": "ipython3",
   "version": "3.5.3"
  }
 },
 "nbformat": 4,
 "nbformat_minor": 2
}
