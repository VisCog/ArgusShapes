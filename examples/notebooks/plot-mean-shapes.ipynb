{
 "cells": [
  {
   "cell_type": "code",
   "execution_count": 1,
   "metadata": {},
   "outputs": [
    {
     "name": "stderr",
     "output_type": "stream",
     "text": [
      "/home/mbeyeler/anaconda3/lib/python3.5/site-packages/skvideo/__init__.py:356: UserWarning: avconv/avprobe not found in path: \n",
      "  warnings.warn(\"avconv/avprobe not found in path: \" + str(path), UserWarning)\n",
      "2018-01-30 09:43:15,312 [pulse2percept] [INFO] Welcome to pulse2percept\n"
     ]
    }
   ],
   "source": [
    "import os\n",
    "import numpy as np\n",
    "import pandas as pd\n",
    "import pulse2percept as p2p\n",
    "import p2pspatial\n",
    "\n",
    "import skimage\n",
    "import skimage.io as skio\n",
    "import skimage.transform as skit\n",
    "\n",
    "%matplotlib inline\n",
    "import matplotlib.pyplot as plt"
   ]
  },
  {
   "cell_type": "code",
   "execution_count": 2,
   "metadata": {
    "collapsed": true
   },
   "outputs": [],
   "source": [
    "subject = '12-005'"
   ]
  },
  {
   "cell_type": "code",
   "execution_count": 3,
   "metadata": {},
   "outputs": [
    {
     "data": {
      "text/plain": [
       "array(['A01', 'A04', 'A08', 'B01', 'B03', 'B09', 'C07', 'C10', 'D01',\n",
       "       'D08', 'D10', 'E01', 'A06', 'D04', 'D07', 'E03', 'E07', 'E10',\n",
       "       'F02', 'F04', 'F06', 'F09'], dtype=object)"
      ]
     },
     "execution_count": 3,
     "metadata": {},
     "output_type": "execute_result"
    }
   ],
   "source": [
    "X, y = p2pspatial.load_data(os.path.join(os.environ['SECOND_SIGHT_DATA'], 'shape'),\n",
    "                            subject=subject, amplitude=2.0)\n",
    "electrodes = X.electrode.unique()\n",
    "electrodes"
   ]
  },
  {
   "cell_type": "code",
   "execution_count": 4,
   "metadata": {
    "collapsed": true
   },
   "outputs": [],
   "source": [
    "Xtrafo, ytrafo = p2pspatial.transform_mean_images(X, y)"
   ]
  },
  {
   "cell_type": "code",
   "execution_count": 5,
   "metadata": {},
   "outputs": [
    {
     "data": {
      "image/png": "[encoded data removed]",
      "text/plain": [
       "<matplotlib.figure.Figure at 0x7f8c71046908>"
      ]
     },
     "metadata": {},
     "output_type": "display_data"
    }
   ],
   "source": [
    "nrows = 6\n",
    "ncols = int(np.ceil(len(Xtrafo) / nrows))\n",
    "\n",
    "fig, axes = plt.subplots(nrows=nrows, ncols=ncols, figsize=(14, 2 * nrows))\n",
    "for Xrow, yrow, ax in zip(Xtrafo.iterrows(), ytrafo.iterrows(), axes.ravel()):\n",
    "    ax.imshow(yrow[1]['image'], cmap='gray')\n",
    "    ax.set_title(Xrow[1]['electrode'])\n",
    "    ax.axis('off')\n",
    "fig.subplots_adjust(hspace=0.1, wspace=0.1)"
   ]
  },
  {
   "cell_type": "markdown",
   "metadata": {},
   "source": [
    "# An Example"
   ]
  },
  {
   "cell_type": "code",
   "execution_count": 6,
   "metadata": {},
   "outputs": [
    {
     "data": {
      "image/png": "[encoded data removed]",
      "text/plain": [
       "<matplotlib.figure.Figure at 0x7f8c6df4deb8>"
      ]
     },
     "metadata": {},
     "output_type": "display_data"
    }
   ],
   "source": [
    "electrode = electrodes[8]\n",
    "ncols = 5\n",
    "nrows = int(np.ceil(len(X[X.electrode == electrodes[0]]) / ncols))\n",
    "fig, axes = plt.subplots(ncols=ncols, nrows=nrows, figsize=(12, 2 * nrows))\n",
    "\n",
    "imgs = []\n",
    "areas = []\n",
    "orientations = []\n",
    "for Xrow, ax in zip(X[X.electrode == electrode].iterrows(), axes.ravel()):\n",
    "    _, row = Xrow\n",
    "    img = skio.imread(os.path.join(row['folder'], row['filename']), as_grey=True)\n",
    "    img = skimage.img_as_float(img)\n",
    "    props = p2pspatial.imgproc.get_region_props(img, thresh=0)\n",
    "    assert not np.isnan(props.area)\n",
    "    assert not np.isnan(props.orientation)\n",
    "    areas.append(props.area)\n",
    "    orientations.append(props.orientation)\n",
    "    imgs.append(img)\n",
    "    ax.imshow(img, cmap='gray')\n",
    "    ax.axis('off')\n",
    "fig.suptitle('%s: all trials' % electrode)\n",
    "fig.tight_layout()"
   ]
  },
  {
   "cell_type": "code",
   "execution_count": 7,
   "metadata": {},
   "outputs": [
    {
     "name": "stdout",
     "output_type": "stream",
     "text": [
      "mean area: 2947.0\n",
      "mean orientation: -0.545636839416\n"
     ]
    }
   ],
   "source": [
    "print('mean area:', np.mean(areas))\n",
    "print('mean orientation:', np.mean(orientations))"
   ]
  },
  {
   "cell_type": "code",
   "execution_count": 8,
   "metadata": {
    "collapsed": true
   },
   "outputs": [],
   "source": [
    "import skimage.morphology as skim"
   ]
  },
  {
   "cell_type": "code",
   "execution_count": 9,
   "metadata": {
    "collapsed": true
   },
   "outputs": [],
   "source": [
    "img_diced = []\n",
    "seed = None\n",
    "for i, img in enumerate(imgs):\n",
    "    img = skim.dilation(p2pspatial.imgproc.center_phosphene(img), skim.disk(10))\n",
    "    if i == 0:\n",
    "        # Save first image as seed image\n",
    "        seed = img\n",
    "    else:\n",
    "        # Compare image to seed image\n",
    "        assert seed is not None\n",
    "        _, _, params = p2pspatial.imgproc.srd_loss((seed, img), return_raw=True)\n",
    "        img = p2pspatial.imgproc.scale_phosphene(img, params['scale'])\n",
    "        img = skit.rotate(img, params['angle'], order=3)\n",
    "    img_diced.append(img)"
   ]
  },
  {
   "cell_type": "code",
   "execution_count": 10,
   "metadata": {},
   "outputs": [
    {
     "data": {
      "image/png": "[encoded data removed]",
      "text/plain": [
       "<matplotlib.figure.Figure at 0x7f8c6d915518>"
      ]
     },
     "metadata": {},
     "output_type": "display_data"
    }
   ],
   "source": [
    "ncols = 5\n",
    "nrows = int(np.ceil(len(img_diced) / ncols))\n",
    "fig, axes = plt.subplots(ncols=ncols, nrows=nrows, figsize=(12, 2 * nrows))\n",
    "\n",
    "imgs = []\n",
    "for img, ax in zip(img_diced, axes.ravel()):\n",
    "    ax.imshow(img, cmap='gray')\n",
    "    ax.axis('off')\n",
    "fig.suptitle('%s: scaled and rotated' % electrode)\n",
    "fig.tight_layout()"
   ]
  },
  {
   "cell_type": "code",
   "execution_count": 11,
   "metadata": {},
   "outputs": [
    {
     "data": {
      "text/plain": [
       "<matplotlib.text.Text at 0x7f8c6d9c41d0>"
      ]
     },
     "execution_count": 11,
     "metadata": {},
     "output_type": "execute_result"
    },
    {
     "data": {
      "image/png": "[encoded data removed]",
      "text/plain": [
       "<matplotlib.figure.Figure at 0x7f8c6d6f07b8>"
      ]
     },
     "metadata": {},
     "output_type": "display_data"
    }
   ],
   "source": [
    "import functools\n",
    "img_avg = functools.reduce(lambda x, y: x + y, img_diced)\n",
    "img_avg_th = p2pspatial.imgproc.get_thresholded_image(img_avg, thresh='otsu')\n",
    "\n",
    "plt.figure(figsize=(12, 5))\n",
    "plt.subplot(121)\n",
    "plt.imshow(img_avg)\n",
    "plt.title('%s: average image' % electrode)\n",
    "\n",
    "plt.subplot(122)\n",
    "plt.imshow(skim.erosion(skim.binary_closing(img_avg_th, selem=skim.disk(11)), skim.disk(5)), cmap='gray')\n",
    "plt.title('%s: average thresholded image' % electrode)"
   ]
  },
  {
   "cell_type": "code",
   "execution_count": 12,
   "metadata": {},
   "outputs": [
    {
     "name": "stdout",
     "output_type": "stream",
     "text": [
      "-0.6862977179640865 =? -0.545636839416 diff: 0.140660878549\n"
     ]
    }
   ],
   "source": [
    "props = p2pspatial.imgproc.get_region_props(img_avg_th, thresh=0)\n",
    "img_angle = np.mean(orientations) - props.orientation\n",
    "print(props.orientation, '=?', np.mean(orientations), 'diff:', img_angle)"
   ]
  },
  {
   "cell_type": "code",
   "execution_count": 13,
   "metadata": {},
   "outputs": [
    {
     "name": "stdout",
     "output_type": "stream",
     "text": [
      "-0.5451506457330079 == -0.545636839416\n"
     ]
    }
   ],
   "source": [
    "img_final = skit.rotate(img_avg_th, np.rad2deg(img_angle), order=3)\n",
    "props = p2pspatial.imgproc.get_region_props(img_final, thresh=0)\n",
    "print(props.orientation, '==', np.mean(orientations))"
   ]
  },
  {
   "cell_type": "code",
   "execution_count": 14,
   "metadata": {},
   "outputs": [
    {
     "name": "stdout",
     "output_type": "stream",
     "text": [
      "3233 == 2947.0\n"
     ]
    }
   ],
   "source": [
    "img_scale = np.sqrt(np.mean(areas) / props.area)\n",
    "img_final = p2pspatial.imgproc.scale_phosphene(img_final, img_scale)\n",
    "props = p2pspatial.imgproc.get_region_props(img_final, thresh=0)\n",
    "print(props.area, '==', np.mean(areas))"
   ]
  },
  {
   "cell_type": "code",
   "execution_count": 15,
   "metadata": {},
   "outputs": [
    {
     "data": {
      "text/plain": [
       "<matplotlib.image.AxesImage at 0x7f8c6dadb7f0>"
      ]
     },
     "execution_count": 15,
     "metadata": {},
     "output_type": "execute_result"
    },
    {
     "data": {
      "image/png": "[encoded data removed]",
      "text/plain": [
       "<matplotlib.figure.Figure at 0x7f8c6d8e3240>"
      ]
     },
     "metadata": {},
     "output_type": "display_data"
    }
   ],
   "source": [
    "plt.imshow(img_final, cmap='gray')"
   ]
  },
  {
   "cell_type": "code",
   "execution_count": null,
   "metadata": {
    "collapsed": true
   },
   "outputs": [],
   "source": []
  }
 ],
 "metadata": {
  "kernelspec": {
   "display_name": "Python [default]",
   "language": "python",
   "name": "python3"
  },
  "language_info": {
   "codemirror_mode": {
    "name": "ipython",
    "version": 3
   },
   "file_extension": ".py",
   "mimetype": "text/x-python",
   "name": "python",
   "nbconvert_exporter": "python",
   "pygments_lexer": "ipython3",
   "version": "3.5.3"
  }
 },
 "nbformat": 4,
 "nbformat_minor": 2
}
