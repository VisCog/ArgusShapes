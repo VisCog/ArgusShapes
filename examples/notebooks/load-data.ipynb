{
 "cells": [
  {
   "cell_type": "code",
   "execution_count": 1,
   "metadata": {
    "collapsed": false
   },
   "outputs": [
    {
     "name": "stderr",
     "output_type": "stream",
     "text": [
      "2017-11-12 12:33:54,573 [pulse2percept] [INFO] Welcome to pulse2percept\n"
     ]
    }
   ],
   "source": [
    "import numpy as np\n",
    "import argus_shapes\n",
    "import os\n",
    "import skimage.io as skio\n",
    "import skimage.transform as skit\n",
    "\n",
    "%matplotlib inline\n",
    "import matplotlib.pyplot as plt"
   ]
  },
  {
   "cell_type": "code",
   "execution_count": 2,
   "metadata": {
    "collapsed": false
   },
   "outputs": [],
   "source": [
    "rootfolder = 'C:/Users/mbeyeler/data/secondsight/shape/52-001'\n",
    "df = argus_shapes.load_data(rootfolder)"
   ]
  },
  {
   "cell_type": "code",
   "execution_count": 3,
   "metadata": {
    "collapsed": false
   },
   "outputs": [
    {
     "data": {
      "text/html": [
       "<div>\n",
       "<style>\n",
       "    .dataframe thead tr:only-child th {\n",
       "        text-align: right;\n",
       "    }\n",
       "\n",
       "    .dataframe thead th {\n",
       "        text-align: left;\n",
       "    }\n",
       "\n",
       "    .dataframe tbody tr th {\n",
       "        vertical-align: top;\n",
       "    }\n",
       "</style>\n",
       "<table border=\"1\" class=\"dataframe\">\n",
       "  <thead>\n",
       "    <tr style=\"text-align: right;\">\n",
       "      <th></th>\n",
       "      <th>Filename</th>\n",
       "      <th>Params</th>\n",
       "      <th>Folder</th>\n",
       "    </tr>\n",
       "  </thead>\n",
       "  <tbody>\n",
       "    <tr>\n",
       "      <th>0</th>\n",
       "      <td>20100121_112209_trial8.bmp</td>\n",
       "      <td>52-001_SingleElectrode_f20_pw46_20100105.csv A...</td>\n",
       "      <td>C:/Users/mbeyeler/data/secondsight/shape/52-00...</td>\n",
       "    </tr>\n",
       "    <tr>\n",
       "      <th>1</th>\n",
       "      <td>20100121_112209_trial13.bmp</td>\n",
       "      <td>52-001_SingleElectrode_f20_pw46_20100105.csv A...</td>\n",
       "      <td>C:/Users/mbeyeler/data/secondsight/shape/52-00...</td>\n",
       "    </tr>\n",
       "    <tr>\n",
       "      <th>2</th>\n",
       "      <td>20100121_112209_trial29.bmp</td>\n",
       "      <td>52-001_SingleElectrode_f20_pw46_20100105.csv A...</td>\n",
       "      <td>C:/Users/mbeyeler/data/secondsight/shape/52-00...</td>\n",
       "    </tr>\n",
       "    <tr>\n",
       "      <th>3</th>\n",
       "      <td>20100121_112209_trial32.bmp</td>\n",
       "      <td>52-001_SingleElectrode_f20_pw46_20100105.csv A...</td>\n",
       "      <td>C:/Users/mbeyeler/data/secondsight/shape/52-00...</td>\n",
       "    </tr>\n",
       "    <tr>\n",
       "      <th>4</th>\n",
       "      <td>20100121_112209_trial49.bmp</td>\n",
       "      <td>52-001_SingleElectrode_f20_pw46_20100105.csv A...</td>\n",
       "      <td>C:/Users/mbeyeler/data/secondsight/shape/52-00...</td>\n",
       "    </tr>\n",
       "  </tbody>\n",
       "</table>\n",
       "</div>"
      ],
      "text/plain": [
       "                      Filename  \\\n",
       "0   20100121_112209_trial8.bmp   \n",
       "1  20100121_112209_trial13.bmp   \n",
       "2  20100121_112209_trial29.bmp   \n",
       "3  20100121_112209_trial32.bmp   \n",
       "4  20100121_112209_trial49.bmp   \n",
       "\n",
       "                                              Params  \\\n",
       "0  52-001_SingleElectrode_f20_pw46_20100105.csv A...   \n",
       "1  52-001_SingleElectrode_f20_pw46_20100105.csv A...   \n",
       "2  52-001_SingleElectrode_f20_pw46_20100105.csv A...   \n",
       "3  52-001_SingleElectrode_f20_pw46_20100105.csv A...   \n",
       "4  52-001_SingleElectrode_f20_pw46_20100105.csv A...   \n",
       "\n",
       "                                              Folder  \n",
       "0  C:/Users/mbeyeler/data/secondsight/shape/52-00...  \n",
       "1  C:/Users/mbeyeler/data/secondsight/shape/52-00...  \n",
       "2  C:/Users/mbeyeler/data/secondsight/shape/52-00...  \n",
       "3  C:/Users/mbeyeler/data/secondsight/shape/52-00...  \n",
       "4  C:/Users/mbeyeler/data/secondsight/shape/52-00...  "
      ]
     },
     "execution_count": 3,
     "metadata": {},
     "output_type": "execute_result"
    }
   ],
   "source": [
    "df[:5]"
   ]
  },
  {
   "cell_type": "code",
   "execution_count": 4,
   "metadata": {
    "collapsed": false
   },
   "outputs": [],
   "source": [
    "preprocess = argus_shapes.DataPreprocessor(electrodes='A05')"
   ]
  },
  {
   "cell_type": "code",
   "execution_count": 5,
   "metadata": {
    "collapsed": false
   },
   "outputs": [
    {
     "name": "stderr",
     "output_type": "stream",
     "text": [
      "c:\\users\\mbeyeler\\miniconda3\\lib\\site-packages\\skimage\\transform\\_warps.py:84: UserWarning: The default mode, 'constant', will be changed to 'reflect' in skimage 0.15.\n",
      "  warn(\"The default mode, 'constant', will be changed to 'reflect' in \"\n"
     ]
    },
    {
     "name": "stdout",
     "output_type": "stream",
     "text": [
      "Could not parse row: 20100121_112209_trial15 blank\n",
      "Could not parse row: 20100121_112209_trial43 blank\n",
      "Found multiple props: C:/Users/mbeyeler/data/secondsight/shape/52-001\\20100128\\2xTh_20Hz_0.45ms_250ms 20100128_113533_trial12.bmp\n",
      "Chose props[0] with area 309.000000\n",
      "Could not parse row: 20100429_100826_trial3 blank\n",
      "Could not parse row: 20100429_100826_trial20 blank\n",
      "Could not parse row: 20100429_100826_trial32 blank\n",
      "Could not parse row: 20100429_100826_trial33 blank\n"
     ]
    }
   ],
   "source": [
    "X, y = preprocess.fit_transform(df)"
   ]
  },
  {
   "cell_type": "code",
   "execution_count": 6,
   "metadata": {
    "collapsed": false
   },
   "outputs": [
    {
     "data": {
      "text/plain": [
       "array(['20100121', '20100128', '20100204'],\n",
       "      dtype='<U8')"
      ]
     },
     "execution_count": 6,
     "metadata": {},
     "output_type": "execute_result"
    }
   ],
   "source": [
    "np.unique([x['date'] for x in X])"
   ]
  },
  {
   "cell_type": "code",
   "execution_count": 7,
   "metadata": {
    "collapsed": false
   },
   "outputs": [
    {
     "data": {
      "text/plain": [
       "(15, 15)"
      ]
     },
     "execution_count": 7,
     "metadata": {},
     "output_type": "execute_result"
    }
   ],
   "source": [
    "len(X), len(y)"
   ]
  },
  {
   "cell_type": "code",
   "execution_count": 8,
   "metadata": {
    "collapsed": false
   },
   "outputs": [
    {
     "data": {
      "text/plain": [
       "(31.274999999999999, 15.398471244466661)"
      ]
     },
     "execution_count": 8,
     "metadata": {},
     "output_type": "execute_result"
    }
   ],
   "source": [
    "areas = [x['area'] for x in X]\n",
    "np.mean(areas), np.std(areas)"
   ]
  },
  {
   "cell_type": "code",
   "execution_count": 9,
   "metadata": {
    "collapsed": false
   },
   "outputs": [
    {
     "data": {
      "text/plain": [
       "(8.6449233465761139, 1.7255675721090227)"
      ]
     },
     "execution_count": 9,
     "metadata": {},
     "output_type": "execute_result"
    }
   ],
   "source": [
    "majors = [x['major_axis_length'] for x in X]\n",
    "np.mean(majors), np.std(majors)"
   ]
  },
  {
   "cell_type": "code",
   "execution_count": 10,
   "metadata": {
    "collapsed": false
   },
   "outputs": [
    {
     "data": {
      "text/plain": [
       "(5.2722868476053852, 1.8847726665607205)"
      ]
     },
     "execution_count": 10,
     "metadata": {},
     "output_type": "execute_result"
    }
   ],
   "source": [
    "minors = [x['minor_axis_length'] for x in X]\n",
    "np.mean(minors), np.std(minors)"
   ]
  },
  {
   "cell_type": "code",
   "execution_count": 11,
   "metadata": {
    "collapsed": false
   },
   "outputs": [
    {
     "data": {
      "text/plain": [
       "(45.479213326139828, 44.943626401905718)"
      ]
     },
     "execution_count": 11,
     "metadata": {},
     "output_type": "execute_result"
    }
   ],
   "source": [
    "orient = np.rad2deg([x['orientation'] for x in X])\n",
    "np.mean(orient), np.std(orient)"
   ]
  },
  {
   "cell_type": "code",
   "execution_count": 12,
   "metadata": {
    "collapsed": false
   },
   "outputs": [],
   "source": [
    "img = skio.imread(os.path.join(X[0]['folder'], X[0]['filename']))"
   ]
  },
  {
   "cell_type": "code",
   "execution_count": 13,
   "metadata": {
    "collapsed": false
   },
   "outputs": [
    {
     "data": {
      "text/plain": [
       "(768, 1024)"
      ]
     },
     "execution_count": 13,
     "metadata": {},
     "output_type": "execute_result"
    }
   ],
   "source": [
    "img.shape"
   ]
  },
  {
   "cell_type": "code",
   "execution_count": 14,
   "metadata": {
    "collapsed": false
   },
   "outputs": [
    {
     "data": {
      "text/plain": [
       "<matplotlib.image.AxesImage at 0x249b4feac50>"
      ]
     },
     "execution_count": 14,
     "metadata": {},
     "output_type": "execute_result"
    },
    {
     "data": {
      "image/png": "[encoded data removed]",
      "text/plain": [
       "<matplotlib.figure.Figure at 0x249b3f8edd8>"
      ]
     },
     "metadata": {},
     "output_type": "display_data"
    }
   ],
   "source": [
    "plt.imshow(img, cmap='gray')"
   ]
  },
  {
   "cell_type": "code",
   "execution_count": null,
   "metadata": {
    "collapsed": true
   },
   "outputs": [],
   "source": []
  }
 ],
 "metadata": {
  "kernelspec": {
   "display_name": "Python 3",
   "language": "python",
   "name": "python3"
  },
  "language_info": {
   "codemirror_mode": {
    "name": "ipython",
    "version": 3
   },
   "file_extension": ".py",
   "mimetype": "text/x-python",
   "name": "python",
   "nbconvert_exporter": "python",
   "pygments_lexer": "ipython3",
   "version": "3.5.2"
  }
 },
 "nbformat": 4,
 "nbformat_minor": 2
}
