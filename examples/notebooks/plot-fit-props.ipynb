{
 "cells": [
  {
   "cell_type": "code",
   "execution_count": 1,
   "metadata": {},
   "outputs": [
    {
     "name": "stderr",
     "output_type": "stream",
     "text": [
      "/home/mbeyeler/anaconda3/lib/python3.5/site-packages/skvideo/__init__.py:356: UserWarning: avconv/avprobe not found in path: \n",
      "  warnings.warn(\"avconv/avprobe not found in path: \" + str(path), UserWarning)\n",
      "2018-03-04 18:30:38,469 [pulse2percept] [INFO] Welcome to pulse2percept\n"
     ]
    }
   ],
   "source": [
    "import os\n",
    "import six\n",
    "import glob\n",
    "import pickle\n",
    "\n",
    "import numpy as np\n",
    "import pandas as pd\n",
    "\n",
    "import p2pspatial\n",
    "import pulse2percept.utils as p2pu\n",
    "\n",
    "from sklearn.base import clone\n",
    "\n",
    "%matplotlib inline\n",
    "import matplotlib.pyplot as plt\n",
    "plt.style.use('ggplot')"
   ]
  },
  {
   "cell_type": "code",
   "execution_count": 2,
   "metadata": {},
   "outputs": [
    {
     "data": {
      "text/plain": [
       "array(['../../results/newLOO/fit/A-fit-swarm_12-005_2018-02-14_17-05-35.pickle',\n",
       "       '../../results/newLOO/fit/A-fit-swarm_51-009_2018-02-14_17-14-10.pickle',\n",
       "       '../../results/newLOO/fit/A-fit-swarm_52-001_2018-02-14_17-24-19.pickle',\n",
       "       '../../results/newLOO/fit/A-fit-swarm_TB_2018-02-14_17-01-49.pickle',\n",
       "       '../../results/newLOO/fit/C-fit-swarm_12-005_2018-02-14_09-40-18.pickle',\n",
       "       '../../results/newLOO/fit/C-fit-swarm_51-009_2018-02-14_10-46-19.pickle',\n",
       "       '../../results/newLOO/fit/C-fit-swarm_52-001_2018-02-14_13-43-52.pickle',\n",
       "       '../../results/newLOO/fit/C-fit-swarm_TB_2018-02-14_09-27-36.pickle',\n",
       "       '../../results/newLOO/fit/D2-fit-swarm_12-005_2018-02-13_19-50-19.pickle',\n",
       "       '../../results/newLOO/fit/D2-fit-swarm_51-009_2018-02-14_01-12-34.pickle',\n",
       "       '../../results/newLOO/fit/D2-fit-swarm_52-001_2018-02-14_07-55-14.pickle',\n",
       "       '../../results/newLOO/fit/D2-fit-swarm_TB_2018-02-13_18-15-09.pickle',\n",
       "       '../../results/newLOO/fit/E2-fit-swarm_12-005_2018-02-20_15-14-54.pickle',\n",
       "       '../../results/newLOO/fit/E2-fit-swarm_51-009_2018-02-24_18-27-54.pickle',\n",
       "       '../../results/newLOO/fit/E2-fit-swarm_52-001_2018-02-22_09-36-39.pickle',\n",
       "       '../../results/newLOO/fit/E2-fit-swarm_TB_2018-02-20_03-21-18.pickle',\n",
       "       '../../results/newLOO/fit/F2-fit-swarm_12-005_2018-02-21_13-57-07.pickle',\n",
       "       '../../results/newLOO/fit/F2-fit-swarm_51-009_2018-02-26_04-56-43.pickle',\n",
       "       '../../results/newLOO/fit/F2-fit-swarm_52-001_2018-02-23_15-46-21.pickle',\n",
       "       '../../results/newLOO/fit/F2-fit-swarm_TB_2018-02-20_08-27-12.pickle'], \n",
       "      dtype='<U71')"
      ]
     },
     "execution_count": 2,
     "metadata": {},
     "output_type": "execute_result"
    }
   ],
   "source": [
    "results_dir = '../../results/newLOO/fit/'\n",
    "pickle_files = np.sort(glob.glob(os.path.join(results_dir, '*.pickle')))\n",
    "pickle_files"
   ]
  },
  {
   "cell_type": "code",
   "execution_count": 3,
   "metadata": {
    "collapsed": true
   },
   "outputs": [],
   "source": [
    "subjects = ['12-005', '51-009', '52-001', 'TB']\n",
    "models = ['A', 'C', 'D2', 'E2', 'F2']\n",
    "assert_params = {\n",
    "    'amplitude': 2.0,\n",
    "    'w_scale': 20,\n",
    "    'w_rot': 0,\n",
    "    'w_dice': 80\n",
    "}"
   ]
  },
  {
   "cell_type": "code",
   "execution_count": 4,
   "metadata": {},
   "outputs": [
    {
     "name": "stdout",
     "output_type": "stream",
     "text": [
      "Calculating drawing error: 12-005\n",
      "Calculating drawing error: 51-009\n",
      "Calculating drawing error: 52-001\n",
      "Calculating drawing error: TB\n"
     ]
    }
   ],
   "source": [
    "rootfolder = os.path.join(os.environ['SECOND_SIGHT_DATA'], 'shape')\n",
    "drawing_error = {s: {} for s in subjects}\n",
    "idx_el = {s: None for s in subjects}\n",
    "for subject in subjects:\n",
    "    print('Calculating drawing error: %s' % subject)\n",
    "    X, y = p2pspatial.load_data(os.path.join(rootfolder, subject), subject=subject, electrodes=None,\n",
    "                                amplitude=assert_params['amplitude'], random_state=42,\n",
    "                                single_stim=True, verbose=False)\n",
    "    assert len(X) == len(y) != 0\n",
    "    for e in X.electrode.unique():\n",
    "        drawings = y[X['electrode'] == e]\n",
    "        props = [p2pspatial.imgproc.get_region_props(d['image'], thresh=0.5) \n",
    "                 for _, d in drawings.iterrows()]\n",
    "        area = np.std([p.area for p in props])\n",
    "        err = np.array([np.rad2deg(np.abs(p.orientation)) for p in props])\n",
    "        err = np.where(err > 180, 360 - err, err)\n",
    "        orient = np.var(err)\n",
    "        major_axis = np.var([p.major_axis_length for p in props])\n",
    "        minor_axis = np.var([p.minor_axis_length for p in props])\n",
    "        drawing_error[subject][e] = {'area': np.maximum(1, area),\n",
    "                                     'orientation': np.maximum(np.pi/180, orient),\n",
    "                                     'major_axis_length': np.maximum(1, major_axis),\n",
    "                                     'minor_axis_length': np.maximum(1, minor_axis)}\n",
    "    X, y = p2pspatial.transform_mean_images(X, y)\n",
    "    idx_el[subject] = np.array(X.electrode)"
   ]
  },
  {
   "cell_type": "code",
   "execution_count": 5,
   "metadata": {
    "collapsed": true
   },
   "outputs": [],
   "source": [
    "def calc_props_loss(X, y, specifics, drawing_error, idx_el):\n",
    "    subject = specifics['subject']\n",
    "    model = specifics['regressor']\n",
    "    model.set_params(xystep=0.25)\n",
    "    model._curr_map = {}\n",
    "    model.fit(X)\n",
    "    \n",
    "    area = []\n",
    "    orient = []\n",
    "    major = []\n",
    "    minor = []\n",
    "    for (ix, x), (iy, yt), el in zip(X.iterrows(), y.iterrows(), idx_el[subject]):\n",
    "        assert ix == iy\n",
    "        assert el in drawing_error[subject]\n",
    "        assert 'image' in yt\n",
    "        yt_props = p2pspatial.imgproc.get_region_props(yt['image'], thresh=0.5)\n",
    "        if yt_props is None:\n",
    "            yt_area = 0\n",
    "            yt_orient = 0\n",
    "            yt_major = 0\n",
    "            yt_minor = 0\n",
    "        else:\n",
    "            yt_area = yt_props.area\n",
    "            yt_orient = yt_props.orientation\n",
    "            yt_major = yt_props.major_axis_length\n",
    "            yt_minor = yt_props.minor_axis_length\n",
    "\n",
    "        y_pred = model._predicts_image((ix, x))\n",
    "        yp_props = p2pspatial.imgproc.get_region_props(y_pred, thresh=model.img_thresh)\n",
    "        if yp_props is None:\n",
    "            yp_area = 0\n",
    "            yp_orient = 0\n",
    "            yp_major = 0\n",
    "            yp_minor = 0\n",
    "        else:\n",
    "            yp_area = yp_props.area\n",
    "            yp_orient = yp_props.orientation\n",
    "            yp_major = yp_props.major_axis_length\n",
    "            yp_minor = yp_props.minor_axis_length\n",
    "\n",
    "        # Calc relative error: area\n",
    "        err = ((yt_area - yp_area) ** 2) / drawing_error[subject][el]['area']\n",
    "        err = np.minimum(err, 1e3)\n",
    "        area.append(err)\n",
    "        \n",
    "        # Calc relative error: orientation\n",
    "        err = np.rad2deg(np.abs(yt_orient - yp_orient))\n",
    "        err = 360 - err if err > 180 else err\n",
    "        err = (err ** 2) / drawing_error[subject][el]['orientation']\n",
    "        orient.append(err)\n",
    "        \n",
    "        err = ((yt_major - yp_major) ** 2) / drawing_error[subject][el]['major_axis_length']\n",
    "        err = np.minimum(err, 1e3)\n",
    "        major.append(err)\n",
    "\n",
    "        err = ((yt_minor - yp_minor) ** 2) / drawing_error[subject][el]['minor_axis_length']\n",
    "        err = np.minimum(err, 1e3)\n",
    "        minor.append(err)\n",
    "\n",
    "    return {'area': area, 'orientation': orient, \n",
    "            'major_axis_length': major, 'minor_axis_length': minor}"
   ]
  },
  {
   "cell_type": "code",
   "execution_count": 12,
   "metadata": {},
   "outputs": [
    {
     "data": {
      "text/plain": [
       "{'A02': {'area': 16.338910612400081,\n",
       "  'major_axis_length': 19.467091482075126,\n",
       "  'minor_axis_length': 1.0,\n",
       "  'orientation': 21.90094247240004},\n",
       " 'A04': {'area': 1.0,\n",
       "  'major_axis_length': 1.0,\n",
       "  'minor_axis_length': 1.0,\n",
       "  'orientation': 0.017453292519943295},\n",
       " 'A08': {'area': 5.0,\n",
       "  'major_axis_length': 3.885256856840138,\n",
       "  'minor_axis_length': 1.0,\n",
       "  'orientation': 826.02463042574925},\n",
       " 'A10': {'area': 92.155665407324065,\n",
       "  'major_axis_length': 203.96523856185499,\n",
       "  'minor_axis_length': 1.0,\n",
       "  'orientation': 473.13453707926288},\n",
       " 'B03': {'area': 66.994328118132501,\n",
       "  'major_axis_length': 100.00727359897769,\n",
       "  'minor_axis_length': 1.2704842003764552,\n",
       "  'orientation': 66.405424022456231},\n",
       " 'B04': {'area': 112.68256298114629,\n",
       "  'major_axis_length': 389.88425206617831,\n",
       "  'minor_axis_length': 1.0,\n",
       "  'orientation': 8.3860058509696991},\n",
       " 'B09': {'area': 149.33705352508986,\n",
       "  'major_axis_length': 197.70295219259091,\n",
       "  'minor_axis_length': 8.1244591646788535,\n",
       "  'orientation': 237.82963033187625},\n",
       " 'C01': {'area': 104.93998284733993,\n",
       "  'major_axis_length': 380.29921225197984,\n",
       "  'minor_axis_length': 1.1801155300864938,\n",
       "  'orientation': 114.31603896559129},\n",
       " 'C03': {'area': 95.52926253248269,\n",
       "  'major_axis_length': 224.25452694040573,\n",
       "  'minor_axis_length': 1.0,\n",
       "  'orientation': 268.99667445221337},\n",
       " 'C05': {'area': 59.615434243155519,\n",
       "  'major_axis_length': 147.56470722428455,\n",
       "  'minor_axis_length': 1.0,\n",
       "  'orientation': 54.998464990980509},\n",
       " 'C06': {'area': 58.925037123450331,\n",
       "  'major_axis_length': 89.526719973429437,\n",
       "  'minor_axis_length': 1.0,\n",
       "  'orientation': 65.574917779309573},\n",
       " 'C08': {'area': 173.01560623250148,\n",
       "  'major_axis_length': 703.94978834207848,\n",
       "  'minor_axis_length': 1.0,\n",
       "  'orientation': 204.04692099668586},\n",
       " 'C09': {'area': 84.768434573253742,\n",
       "  'major_axis_length': 231.82711441722364,\n",
       "  'minor_axis_length': 1.0,\n",
       "  'orientation': 47.35972161756726},\n",
       " 'C10': {'area': 231.32747350887658,\n",
       "  'major_axis_length': 1195.7984240962337,\n",
       "  'minor_axis_length': 63.815332700590922,\n",
       "  'orientation': 136.59002022337714},\n",
       " 'D03': {'area': 129.00449604568053,\n",
       "  'major_axis_length': 575.91970516852905,\n",
       "  'minor_axis_length': 3.8666635914623044,\n",
       "  'orientation': 0.81141593423943148},\n",
       " 'D08': {'area': 92.304861735447062,\n",
       "  'major_axis_length': 227.61721137184867,\n",
       "  'minor_axis_length': 2.3470527157246304,\n",
       "  'orientation': 29.548768402729202},\n",
       " 'D09': {'area': 110.16097312569455,\n",
       "  'major_axis_length': 305.77263623208393,\n",
       "  'minor_axis_length': 5.9719415400579647,\n",
       "  'orientation': 252.80358903366232},\n",
       " 'D10': {'area': 55.5,\n",
       "  'major_axis_length': 129.262660440481,\n",
       "  'minor_axis_length': 1.0,\n",
       "  'orientation': 1492.5790235031527},\n",
       " 'E01': {'area': 78.726361531573389,\n",
       "  'major_axis_length': 300.86880314489309,\n",
       "  'minor_axis_length': 18.328642643703382,\n",
       "  'orientation': 17.991151508521909},\n",
       " 'E03': {'area': 84.696845015357894,\n",
       "  'major_axis_length': 203.19709617862495,\n",
       "  'minor_axis_length': 1.0,\n",
       "  'orientation': 138.75447689229944},\n",
       " 'E05': {'area': 74.303701119123261,\n",
       "  'major_axis_length': 184.60552630184952,\n",
       "  'minor_axis_length': 1.0,\n",
       "  'orientation': 107.39250441448655},\n",
       " 'E07': {'area': 85.339322706475713,\n",
       "  'major_axis_length': 234.66689534366634,\n",
       "  'minor_axis_length': 1.0,\n",
       "  'orientation': 24.960480525958083},\n",
       " 'E09': {'area': 132.26549058616914,\n",
       "  'major_axis_length': 124.16297334261824,\n",
       "  'minor_axis_length': 4.4641740082020789,\n",
       "  'orientation': 39.093453148900302},\n",
       " 'F02': {'area': 173.40838830864692,\n",
       "  'major_axis_length': 751.33144670198931,\n",
       "  'minor_axis_length': 23.31541948420756,\n",
       "  'orientation': 57.032479403661732},\n",
       " 'F04': {'area': 135.8057799820877,\n",
       "  'major_axis_length': 417.68766432633902,\n",
       "  'minor_axis_length': 17.047020242563576,\n",
       "  'orientation': 644.26271822000206},\n",
       " 'F06': {'area': 97.206995633030445,\n",
       "  'major_axis_length': 421.61446238090429,\n",
       "  'minor_axis_length': 1.0,\n",
       "  'orientation': 43.234760777224231},\n",
       " 'F09': {'area': 84.163861339386969,\n",
       "  'major_axis_length': 217.24619002811642,\n",
       "  'minor_axis_length': 1.0,\n",
       "  'orientation': 41.98864017364901},\n",
       " 'F10': {'area': 216.0,\n",
       "  'major_axis_length': 243.96523885962597,\n",
       "  'minor_axis_length': 7.0285955732180163,\n",
       "  'orientation': 148.80274416726655}}"
      ]
     },
     "execution_count": 12,
     "metadata": {},
     "output_type": "execute_result"
    }
   ],
   "source": [
    "drawing_error['51-009']"
   ]
  },
  {
   "cell_type": "code",
   "execution_count": 6,
   "metadata": {},
   "outputs": [
    {
     "name": "stdout",
     "output_type": "stream",
     "text": [
      "Processing Model A, Subject 12-005\n",
      "Processing Model A, Subject 51-009\n",
      "Processing Model A, Subject 52-001\n",
      "Processing Model A, Subject TB\n",
      "Processing Model C, Subject 12-005\n",
      "Processing Model C, Subject 51-009\n",
      "Processing Model C, Subject 52-001\n",
      "Processing Model C, Subject TB\n",
      "Processing Model D2, Subject 12-005\n",
      "Processing Model D2, Subject 51-009\n",
      "Processing Model D2, Subject 52-001\n",
      "Processing Model D2, Subject TB\n",
      "Processing Model E2, Subject 12-005\n",
      "Processing Model E2, Subject 51-009\n",
      "Processing Model E2, Subject 52-001\n",
      "Processing Model E2, Subject TB\n",
      "Processing Model F2, Subject 12-005\n",
      "Processing Model F2, Subject 51-009\n",
      "Processing Model F2, Subject 52-001\n",
      "Processing Model F2, Subject TB\n"
     ]
    }
   ],
   "source": [
    "loss = {a: {s: None for s in subjects} for a in models}\n",
    "for file in pickle_files:\n",
    "    loaddata = pickle.load(open(file, 'rb'))\n",
    "    if len(loaddata) < 4:\n",
    "        print('File \"%s\" corrupt?' % file)\n",
    "        continue\n",
    "    _, _, best_params, specifics = loaddata\n",
    "    for key, value in six.iteritems(assert_params):\n",
    "        assert np.isclose(specifics[key], value)\n",
    "    n_folds = specifics['n_folds']\n",
    "    assert n_folds == 1\n",
    "#     print(len(best_params), n_folds)\n",
    "#     assert len(best_params) == n_folds\n",
    "    model = specifics['modelname']\n",
    "    subject = specifics['subject']\n",
    "    if model not in models:\n",
    "        print('Model %s found, skip.' % model)\n",
    "        continue\n",
    "    if subject not in subjects:\n",
    "        print('Subject %s found, skip.' % subject)\n",
    "        continue\n",
    "    print('Processing Model %s, Subject %s' % (model, subject))\n",
    "    \n",
    "    X, y = p2pspatial.load_data(os.path.join(rootfolder, subject), subject=subject, electrodes=None,\n",
    "                                amplitude=assert_params['amplitude'], random_state=42,\n",
    "                                single_stim=True, verbose=False)\n",
    "\n",
    "#     y_pred = specifics['regressor'].predict(X)\n",
    "    loss[model][subject] = calc_props_loss(X, y, specifics, drawing_error, idx_el)"
   ]
  },
  {
   "cell_type": "code",
   "execution_count": 7,
   "metadata": {
    "collapsed": true
   },
   "outputs": [],
   "source": [
    "models = ['A', 'E2', 'F2']"
   ]
  },
  {
   "cell_type": "code",
   "execution_count": 8,
   "metadata": {
    "collapsed": true
   },
   "outputs": [],
   "source": [
    "model_names = {\n",
    "    'A': 'Scoreboard model',\n",
    "    'E2': 'Axon map model',\n",
    "    'F2': 'Axon map + visual field map model'\n",
    "}"
   ]
  },
  {
   "cell_type": "code",
   "execution_count": 9,
   "metadata": {},
   "outputs": [
    {
     "data": {
      "image/png": "[encoded data removed]",
      "text/plain": [
       "<matplotlib.figure.Figure at 0x7f7a5c4b9550>"
      ]
     },
     "metadata": {},
     "output_type": "display_data"
    }
   ],
   "source": [
    "cols = ['area', 'orientation', 'major_axis_length', 'minor_axis_length']\n",
    "N = len(cols)\n",
    "width = 0.8 / N\n",
    "ind = np.arange(N)\n",
    "\n",
    "fig, axes = plt.subplots(ncols=len(subjects), figsize=(15, 4), sharex=True, sharey=True)\n",
    "cm = plt.get_cmap('hot')\n",
    "\n",
    "show_ylabel = True\n",
    "for ax, subject in zip(axes.ravel(), subjects):\n",
    "    rects = {}\n",
    "    for m, model in enumerate(models):\n",
    "        for c, col in enumerate(cols):\n",
    "            if not loss[model][subject]:\n",
    "                continue\n",
    "            attr = loss[model][subject][col]\n",
    "            r = ax.bar(c + m * width, np.mean(np.sqrt(attr)), width, yerr=np.std(np.sqrt(attr)), \n",
    "                       color=cm(m / len(models)), edgecolor='k', \n",
    "                       label='Model %s' % model)\n",
    "            rects[model] = r[0]\n",
    "    a = ax.axis()\n",
    "    ax.plot([a[0], a[1]], [1, 1], 'k--')\n",
    "    if show_ylabel:\n",
    "        ax.set_ylabel('Model error')\n",
    "        show_ylabel = False\n",
    "    ax.set_xticks(ind + 0.5 * (len(models) - 1) * width)\n",
    "    ax.set_xticklabels(cols, rotation=45, ha='right', fontsize=12)\n",
    "#     ax.set_yscale('log')\n",
    "#     ax.set_ylim(0.1, 100)\n",
    "    ax.set_ylim(0, 50)\n",
    "    ax.yaxis.set_tick_params(labelsize=16)\n",
    "    ax.set_title('%s' % subject, fontsize=16)\n",
    "fig.suptitle(os.path.basename(os.path.dirname(results_dir)), fontsize=20)\n",
    "fig.legend([rects[m] for m in models if m in rects],\n",
    "          [model_names[m] for m in models if m in rects], \n",
    "          ncol=4, loc='lower center', fontsize=12)\n",
    "fig.tight_layout(rect=[0, 0.1, 1, 0.9])\n",
    "fig.savefig(os.path.join(results_dir, 'mse_props_loss.png'))"
   ]
  },
  {
   "cell_type": "code",
   "execution_count": null,
   "metadata": {
    "collapsed": true
   },
   "outputs": [],
   "source": []
  },
  {
   "cell_type": "code",
   "execution_count": null,
   "metadata": {
    "collapsed": true
   },
   "outputs": [],
   "source": []
  }
 ],
 "metadata": {
  "kernelspec": {
   "display_name": "Python [default]",
   "language": "python",
   "name": "python3"
  },
  "language_info": {
   "codemirror_mode": {
    "name": "ipython",
    "version": 3
   },
   "file_extension": ".py",
   "mimetype": "text/x-python",
   "name": "python",
   "nbconvert_exporter": "python",
   "pygments_lexer": "ipython3",
   "version": "3.5.3"
  }
 },
 "nbformat": 4,
 "nbformat_minor": 2
}
