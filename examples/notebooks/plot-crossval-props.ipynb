{
 "cells": [
  {
   "cell_type": "code",
   "execution_count": 1,
   "metadata": {},
   "outputs": [
    {
     "name": "stderr",
     "output_type": "stream",
     "text": [
      "/home/mbeyeler/anaconda3/lib/python3.5/site-packages/skvideo/__init__.py:356: UserWarning: avconv/avprobe not found in path: \n",
      "  warnings.warn(\"avconv/avprobe not found in path: \" + str(path), UserWarning)\n",
      "2018-03-02 16:25:29,164 [pulse2percept] [INFO] Welcome to pulse2percept\n"
     ]
    }
   ],
   "source": [
    "import os\n",
    "import six\n",
    "import glob\n",
    "import pickle\n",
    "\n",
    "import numpy as np\n",
    "import pandas as pd\n",
    "\n",
    "import p2pspatial\n",
    "import pulse2percept.utils as p2pu\n",
    "\n",
    "from sklearn.base import clone\n",
    "\n",
    "%matplotlib inline\n",
    "import matplotlib.pyplot as plt\n",
    "plt.style.use('ggplot')"
   ]
  },
  {
   "cell_type": "code",
   "execution_count": 2,
   "metadata": {},
   "outputs": [
    {
     "data": {
      "text/plain": [
       "array(['../../results/newLOO/A-crossval-swarm_12-005_2018-01-30_07-25-57.pickle',\n",
       "       '../../results/newLOO/A-crossval-swarm_51-009_2018-02-04_13-46-32.pickle',\n",
       "       '../../results/newLOO/A-crossval-swarm_52-001_2018-02-04_13-54-32.pickle',\n",
       "       '../../results/newLOO/A-crossval-swarm_TB_2018-02-07_01-59-30.pickle',\n",
       "       '../../results/newLOO/C-crossval-swarm_12-005_2018-01-30_17-00-54.pickle',\n",
       "       '../../results/newLOO/C-crossval-swarm_51-009_2018-01-30_17-55-55.pickle',\n",
       "       '../../results/newLOO/C-crossval-swarm_52-001_2018-01-30_17-59-15.pickle',\n",
       "       '../../results/newLOO/C-crossval-swarm_TB_2018-02-06_17-41-35.pickle',\n",
       "       '../../results/newLOO/D-crossval-swarm_12-005_2018-02-03_06-45-33.pickle',\n",
       "       '../../results/newLOO/D-crossval-swarm_51-009_2018-02-03_06-46-14.pickle',\n",
       "       '../../results/newLOO/D-crossval-swarm_52-001_2018-02-03_06-46-52.pickle',\n",
       "       '../../results/newLOO/D-crossval-swarm_TB_2018-02-07_03-06-04.pickle',\n",
       "       '../../results/newLOO/D2-crossval-swarm_12-005_2018-02-07_15-30-24.pickle',\n",
       "       '../../results/newLOO/D2-crossval-swarm_51-009_2018-02-11_19-43-41.pickle',\n",
       "       '../../results/newLOO/D2-crossval-swarm_52-001_2018-02-07_21-39-44.pickle',\n",
       "       '../../results/newLOO/D2-crossval-swarm_TB_2018-02-06_23-28-41.pickle',\n",
       "       '../../results/newLOO/E2-crossval-swarm_TB_2018-02-19_19-16-50.pickle',\n",
       "       '../../results/newLOO/F2-crossval-swarm_TB_2018-02-24_03-48-12.pickle'], \n",
       "      dtype='<U72')"
      ]
     },
     "execution_count": 2,
     "metadata": {},
     "output_type": "execute_result"
    }
   ],
   "source": [
    "results_dir = '../../results/newLOO/'\n",
    "pickle_files = np.sort(glob.glob(os.path.join(results_dir, '*.pickle')))\n",
    "pickle_files"
   ]
  },
  {
   "cell_type": "code",
   "execution_count": 3,
   "metadata": {
    "collapsed": true
   },
   "outputs": [],
   "source": [
    "subjects = ['12-005', '51-009', '52-001', 'TB']\n",
    "models = ['A', 'C', 'D', 'D2', 'E2', 'F2']\n",
    "assert_params = {\n",
    "    'amplitude': 2.0,\n",
    "    'w_scale': 20,\n",
    "    'w_rot': 0,\n",
    "    'w_dice': 80\n",
    "}"
   ]
  },
  {
   "cell_type": "code",
   "execution_count": 4,
   "metadata": {},
   "outputs": [
    {
     "name": "stdout",
     "output_type": "stream",
     "text": [
      "Calculating drawing error: 12-005\n",
      "Calculating drawing error: 51-009\n",
      "Calculating drawing error: 52-001\n",
      "Calculating drawing error: TB\n"
     ]
    }
   ],
   "source": [
    "rootfolder = os.path.join(os.environ['SECOND_SIGHT_DATA'], 'shape')\n",
    "drawing_error = {s: {} for s in subjects}\n",
    "idx_el = {s: None for s in subjects}\n",
    "for subject in subjects:\n",
    "    print('Calculating drawing error: %s' % subject)\n",
    "    X, y = p2pspatial.load_data(os.path.join(rootfolder, subject), subject=subject, electrodes=None,\n",
    "                                amplitude=assert_params['amplitude'], random_state=42,\n",
    "                                single_stim=True, verbose=False)\n",
    "    assert len(X) == len(y) != 0\n",
    "    for e in X.electrode.unique():\n",
    "        drawings = y[X['electrode'] == e]\n",
    "        props = [p2pspatial.imgproc.get_region_props(d['image'], thresh=0.5) \n",
    "                 for _, d in drawings.iterrows()]\n",
    "        area = np.std([p.area for p in props])\n",
    "        err = np.array([np.rad2deg(np.abs(p.orientation)) for p in props])\n",
    "        err = np.where(err > 180, 360 - err, err)\n",
    "        orient = np.var(err)\n",
    "        major_axis = np.var([p.major_axis_length for p in props])\n",
    "        minor_axis = np.var([p.minor_axis_length for p in props])\n",
    "        drawing_error[subject][e] = {'area': np.maximum(1, area), \n",
    "                                     'orientation': np.maximum(np.pi/180, orient),\n",
    "                                     'major_axis_length': np.maximum(1, major_axis),\n",
    "                                     'minor_axis_length': np.maximum(1, minor_axis)}\n",
    "    X, y = p2pspatial.transform_mean_images(X, y)\n",
    "    idx_el[subject] = np.array(X.electrode)"
   ]
  },
  {
   "cell_type": "code",
   "execution_count": 5,
   "metadata": {
    "collapsed": true
   },
   "outputs": [],
   "source": [
    "def calc_props_loss(ytyp, specifics, drawing_error, idx_el):\n",
    "    y_true, y_pred = ytyp\n",
    "    subject = specifics['subject']\n",
    "    model = specifics['regressor']\n",
    "    \n",
    "    area = []\n",
    "    orient = []\n",
    "    for (iyt, yt), (iyp, yp), el in zip(y_true.iterrows(), y_pred.iterrows(), idx_el[subject]):\n",
    "        if 'image' in yt:\n",
    "            yt_props = p2pspatial.imgproc.get_region_props(yt['image'], thresh=0.5)\n",
    "            yt_area = yt_props.area\n",
    "            yt_orient = yt_props.orientation\n",
    "        else:\n",
    "            yt_area = yt['area']\n",
    "            yt_orient = yt['orientation']\n",
    "\n",
    "        if 'image' in yp:\n",
    "            yp_props = p2pspatial.imgproc.get_region_props(yp['image'], thresh=model.img_thresh)\n",
    "            if yp_props is None:\n",
    "                yp_area = 0\n",
    "                yp_orient = 0\n",
    "            else:\n",
    "                yp_area = yp_props.area\n",
    "                yp_orient = yp_props.orientation\n",
    "        else:\n",
    "            yp_area = yp['area']\n",
    "            yp_orient = yp['orientation']\n",
    "        assert iyt == iyp\n",
    "        assert el in drawing_error[subject]\n",
    "\n",
    "        # Calc relative error: area\n",
    "        err = ((yt_area - yp_area) ** 2) / drawing_error[subject][el]['area']\n",
    "        area.append(err)\n",
    "        \n",
    "        # Calc relative error: orientation\n",
    "        err = np.rad2deg(np.abs(yt_orient - yp_orient))\n",
    "        err = 360 - err if err > 180 else err\n",
    "        err = (err ** 2) / drawing_error[subject][el]['orientation']\n",
    "        orient.append(err)\n",
    "        \n",
    "    return {'area': area, 'orientation': orient}"
   ]
  },
  {
   "cell_type": "code",
   "execution_count": 6,
   "metadata": {},
   "outputs": [
    {
     "name": "stdout",
     "output_type": "stream",
     "text": [
      "Processing Model A, Subject 12-005\n",
      "Processing Model A, Subject 51-009\n",
      "Processing Model A, Subject 52-001\n",
      "Processing Model A, Subject TB\n",
      "Processing Model C, Subject 12-005\n",
      "Processing Model C, Subject 51-009\n",
      "Processing Model C, Subject 52-001\n",
      "Processing Model C, Subject TB\n",
      "Processing Model D, Subject 12-005\n",
      "Processing Model D, Subject 51-009\n",
      "Processing Model D, Subject 52-001\n",
      "Processing Model D, Subject TB\n",
      "Processing Model D2, Subject 12-005\n",
      "Processing Model D2, Subject 51-009\n",
      "Processing Model D2, Subject 52-001\n",
      "Processing Model D2, Subject TB\n",
      "Processing Model E2, Subject TB\n",
      "Processing Model F2, Subject TB\n"
     ]
    }
   ],
   "source": [
    "loss = {a: {s: None for s in subjects} for a in models}\n",
    "for file in pickle_files:\n",
    "    y_test, y_pred, best_params, specifics = pickle.load(open(file, 'rb'))\n",
    "    for key, value in six.iteritems(assert_params):\n",
    "        assert np.isclose(specifics[key], value)\n",
    "    n_folds = specifics['n_folds']\n",
    "    assert len(y_pred) == n_folds\n",
    "    assert len(y_test) == n_folds\n",
    "    assert len(best_params) == n_folds\n",
    "    model = specifics['modelname']\n",
    "    subject = specifics['subject']\n",
    "    if model not in models:\n",
    "        print('Model %s found, skip.' % model)\n",
    "        continue\n",
    "    if subject not in subjects:\n",
    "        print('Subject %s found, skip.' % subject)\n",
    "        continue\n",
    "    print('Processing Model %s, Subject %s' % (model, subject))\n",
    "    \n",
    "    loss[model][subject] = p2pu.parfor(calc_props_loss, zip(y_test, y_pred), \n",
    "                                       func_args=[specifics, drawing_error, idx_el])"
   ]
  },
  {
   "cell_type": "code",
   "execution_count": 11,
   "metadata": {
    "collapsed": true
   },
   "outputs": [],
   "source": [
    "model_names = {\n",
    "    'A': 'Scoreboard model',\n",
    "    'C': 'Axon map model (Devyani)',\n",
    "    'D': 'Axon map + visual field model (Devyani)',\n",
    "    'E2': 'Axon map model',\n",
    "    'F2': 'Axon map + visual field map model'\n",
    "}"
   ]
  },
  {
   "cell_type": "code",
   "execution_count": 14,
   "metadata": {
    "collapsed": true
   },
   "outputs": [],
   "source": [
    "models = ['A', 'C', 'D', 'E2', 'F2']"
   ]
  },
  {
   "cell_type": "code",
   "execution_count": 16,
   "metadata": {},
   "outputs": [
    {
     "data": {
      "image/png": "[encoded data removed]",
      "text/plain": [
       "<matplotlib.figure.Figure at 0x7fa037f845c0>"
      ]
     },
     "metadata": {},
     "output_type": "display_data"
    }
   ],
   "source": [
    "cols = ['area', 'orientation']\n",
    "N = len(cols)\n",
    "width = 0.3 / N\n",
    "ind = np.arange(N)\n",
    "\n",
    "fig, axes = plt.subplots(ncols=len(subjects), figsize=(14, 4), sharex=True, sharey=True)\n",
    "cm = plt.get_cmap('hot')\n",
    "\n",
    "show_ylabel = True\n",
    "for ax, subject in zip(axes.ravel(), subjects):\n",
    "    rects = {}\n",
    "    for m, model in enumerate(models):\n",
    "        for c, col in enumerate(cols):\n",
    "            if not loss[model][subject]:\n",
    "                continue\n",
    "            attr = [l[col] for l in loss[model][subject]]\n",
    "            attr = [item for sublist in attr for item in sublist]\n",
    "            r = ax.bar(c + m * width, np.mean(np.sqrt(attr)), width, yerr=np.std(np.sqrt(attr)), \n",
    "                       color=cm(m / len(models)), edgecolor='k', \n",
    "                       label='Model %s' % model)\n",
    "            rects[model] = r[0]\n",
    "    a = ax.axis()\n",
    "    ax.plot([a[0], a[1]], [1, 1], 'k--')\n",
    "    if show_ylabel:\n",
    "        ax.set_ylabel('Model error', fontsize=20)\n",
    "        show_ylabel = False\n",
    "    ax.set_xticks(ind + 0.5 * (len(models) - 1) * width)\n",
    "    ax.set_xticklabels(cols, rotation=45, ha='center', fontsize=12)\n",
    "    ax.set_yscale('log')\n",
    "    ax.set_ylim(0.1, 1000)\n",
    "    ax.yaxis.set_tick_params(labelsize=16)\n",
    "    ax.set_title('%s' % subject, fontsize=16)\n",
    "fig.suptitle(os.path.basename(os.path.dirname(results_dir)), fontsize=20)\n",
    "fig.legend([rects[m] for m in models if m in rects],\n",
    "          [model_names[m] for m in models if m in rects], \n",
    "          ncol=4, loc='lower center', fontsize=12)\n",
    "fig.tight_layout(rect=[0, 0.1, 1, 0.9])\n",
    "fig.savefig(os.path.join(results_dir, 'mse_props_loss.png'))"
   ]
  },
  {
   "cell_type": "code",
   "execution_count": null,
   "metadata": {
    "collapsed": true
   },
   "outputs": [],
   "source": []
  }
 ],
 "metadata": {
  "kernelspec": {
   "display_name": "Python [default]",
   "language": "python",
   "name": "python3"
  },
  "language_info": {
   "codemirror_mode": {
    "name": "ipython",
    "version": 3
   },
   "file_extension": ".py",
   "mimetype": "text/x-python",
   "name": "python",
   "nbconvert_exporter": "python",
   "pygments_lexer": "ipython3",
   "version": "3.5.3"
  }
 },
 "nbformat": 4,
 "nbformat_minor": 2
}
