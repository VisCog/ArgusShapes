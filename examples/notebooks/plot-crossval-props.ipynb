{
 "cells": [
  {
   "cell_type": "code",
   "execution_count": 1,
   "metadata": {},
   "outputs": [
    {
     "name": "stderr",
     "output_type": "stream",
     "text": [
      "/home/mbeyeler/anaconda3/lib/python3.5/site-packages/skvideo/__init__.py:356: UserWarning: avconv/avprobe not found in path: \n",
      "  warnings.warn(\"avconv/avprobe not found in path: \" + str(path), UserWarning)\n",
      "2018-03-21 17:13:20,557 [pulse2percept] [INFO] Welcome to pulse2percept\n"
     ]
    }
   ],
   "source": [
    "import os\n",
    "import six\n",
    "import glob\n",
    "import pickle\n",
    "\n",
    "import numpy as np\n",
    "import pandas as pd\n",
    "\n",
    "import argus_shapes\n",
    "import pulse2percept.utils as p2pu\n",
    "\n",
    "from sklearn.base import clone\n",
    "\n",
    "%matplotlib inline\n",
    "import matplotlib.pyplot as plt\n",
    "# plt.style.use('ggplot')"
   ]
  },
  {
   "cell_type": "code",
   "execution_count": 2,
   "metadata": {},
   "outputs": [
    {
     "data": {
      "text/plain": [
       "array(['../../results/newLOO/A-crossval-swarm_12-005_2018-01-30_07-25-57.pickle',\n",
       "       '../../results/newLOO/A-crossval-swarm_51-009_2018-02-04_13-46-32.pickle',\n",
       "       '../../results/newLOO/A-crossval-swarm_52-001_2018-02-04_13-54-32.pickle',\n",
       "       '../../results/newLOO/A-crossval-swarm_TB_2018-02-07_01-59-30.pickle',\n",
       "       '../../results/newLOO/C-crossval-swarm_12-005_2018-01-30_17-00-54.pickle',\n",
       "       '../../results/newLOO/C-crossval-swarm_51-009_2018-01-30_17-55-55.pickle',\n",
       "       '../../results/newLOO/C-crossval-swarm_52-001_2018-01-30_17-59-15.pickle',\n",
       "       '../../results/newLOO/C-crossval-swarm_TB_2018-02-06_17-41-35.pickle',\n",
       "       '../../results/newLOO/C2-crossval-swarm_51-009_2018-03-01_18-10-40.pickle',\n",
       "       '../../results/newLOO/D-crossval-swarm_12-005_2018-02-03_06-45-33.pickle',\n",
       "       '../../results/newLOO/D-crossval-swarm_51-009_2018-02-03_06-46-14.pickle',\n",
       "       '../../results/newLOO/D-crossval-swarm_52-001_2018-02-03_06-46-52.pickle',\n",
       "       '../../results/newLOO/D-crossval-swarm_TB_2018-02-07_03-06-04.pickle',\n",
       "       '../../results/newLOO/D2-crossval-swarm_12-005_2018-02-07_15-30-24.pickle',\n",
       "       '../../results/newLOO/D2-crossval-swarm_51-009_2018-02-11_19-43-41.pickle',\n",
       "       '../../results/newLOO/D2-crossval-swarm_52-001_2018-02-07_21-39-44.pickle',\n",
       "       '../../results/newLOO/D2-crossval-swarm_TB_2018-02-06_23-28-41.pickle',\n",
       "       '../../results/newLOO/E2-crossval-swarm_12-005_2018-03-01_17-42-12.pickle',\n",
       "       '../../results/newLOO/E2-crossval-swarm_TB_2018-02-19_19-16-50.pickle',\n",
       "       '../../results/newLOO/F2-crossval-swarm_TB_2018-02-24_03-48-12.pickle'], \n",
       "      dtype='<U72')"
      ]
     },
     "execution_count": 2,
     "metadata": {},
     "output_type": "execute_result"
    }
   ],
   "source": [
    "results_dir = '../../results/newLOO/'\n",
    "pickle_files = np.sort(glob.glob(os.path.join(results_dir, '*.pickle')))\n",
    "pickle_files"
   ]
  },
  {
   "cell_type": "code",
   "execution_count": 59,
   "metadata": {},
   "outputs": [],
   "source": [
    "subjects = ['12-005', '51-009', '52-001', 'TB']\n",
    "models = {\n",
    "    'A': 'Scoreboard',\n",
    "    'B': 'Scoreboard + visual field',\n",
    "    'C': 'Axon map (Devyani)',\n",
    "    'C2': 'Axon map + OD',\n",
    "    'D': 'Axon map (Devyani) + visual field',\n",
    "    'D2': 'Axon map + visual field + OD',\n",
    "    'E': 'Axon map',\n",
    "    'E2': 'Axon map + OD',\n",
    "    'F': 'Axon map + visual field map',\n",
    "    'F2': 'Axon map + visual field map + OD'\n",
    "}\n",
    "assert_params = {\n",
    "    'amplitude': 2.0,\n",
    "    'w_scale': 20,\n",
    "    'w_rot': 0,\n",
    "    'w_dice': 80\n",
    "}"
   ]
  },
  {
   "cell_type": "code",
   "execution_count": 4,
   "metadata": {},
   "outputs": [
    {
     "name": "stdout",
     "output_type": "stream",
     "text": [
      "Calculating drawing error: 12-005\n",
      "Calculating drawing error: 51-009\n",
      "Calculating drawing error: 52-001\n",
      "Calculating drawing error: TB\n"
     ]
    }
   ],
   "source": [
    "rootfolder = os.path.join(os.environ['SECOND_SIGHT_DATA'], 'shape')\n",
    "drawing_error = {s: {} for s in subjects}\n",
    "idx_el = {s: None for s in subjects}\n",
    "for subject in subjects:\n",
    "    print('Calculating drawing error: %s' % subject)\n",
    "    X, y = argus_shapes.load_data(os.path.join(rootfolder, subject), subject=subject, electrodes=None,\n",
    "                                amplitude=assert_params['amplitude'], random_state=42,\n",
    "                                single_stim=True, verbose=False)\n",
    "    assert len(X) == len(y) != 0\n",
    "    for e in X.electrode.unique():\n",
    "        drawings = y[X['electrode'] == e]\n",
    "        props = [argus_shapes.imgproc.get_region_props(d['image'], thresh=0.5) \n",
    "                 for _, d in drawings.iterrows()]\n",
    "        area = np.std([p.area for p in props])\n",
    "        err = np.array([np.rad2deg(np.abs(p.orientation)) for p in props])\n",
    "        err = np.where(err > 180, 360 - err, err)\n",
    "        orient = np.var(err)\n",
    "        major_axis = np.var([p.major_axis_length for p in props])\n",
    "        minor_axis = np.var([p.minor_axis_length for p in props])\n",
    "        drawing_error[subject][e] = {'area': np.maximum(1, area), \n",
    "                                     'orientation': np.maximum(np.pi/180, orient),\n",
    "                                     'major_axis_length': np.maximum(1, major_axis),\n",
    "                                     'minor_axis_length': np.maximum(1, minor_axis)}\n",
    "    X, y = argus_shapes.transform_mean_images(X, y)\n",
    "    idx_el[subject] = np.array(X.electrode)"
   ]
  },
  {
   "cell_type": "code",
   "execution_count": 5,
   "metadata": {
    "collapsed": true
   },
   "outputs": [],
   "source": [
    "def calc_props_loss(ytyp, specifics, drawing_error, idx_el):\n",
    "    y_true, y_pred = ytyp\n",
    "    subject = specifics['subject']\n",
    "    model = specifics['regressor']\n",
    "    \n",
    "    area = []\n",
    "    orient = []\n",
    "    for (iyt, yt), (iyp, yp), el in zip(y_true.iterrows(), y_pred.iterrows(), idx_el[subject]):\n",
    "        if 'image' in yt:\n",
    "            yt_props = argus_shapes.imgproc.get_region_props(yt['image'], thresh=0.5)\n",
    "            yt_area = yt_props.area\n",
    "            yt_orient = yt_props.orientation\n",
    "        else:\n",
    "            yt_area = yt['area']\n",
    "            yt_orient = yt['orientation']\n",
    "\n",
    "        if 'image' in yp:\n",
    "            yp_props = argus_shapes.imgproc.get_region_props(yp['image'], thresh=model.img_thresh)\n",
    "            if yp_props is None:\n",
    "                yp_area = 0\n",
    "                yp_orient = 0\n",
    "            else:\n",
    "                yp_area = yp_props.area\n",
    "                yp_orient = yp_props.orientation\n",
    "        else:\n",
    "            yp_area = yp['area']\n",
    "            yp_orient = yp['orientation']\n",
    "        assert iyt == iyp\n",
    "        assert el in drawing_error[subject]\n",
    "\n",
    "        # Calc relative error: area\n",
    "        err = ((yt_area - yp_area) ** 2) #/ drawing_error[subject][el]['area']\n",
    "        area.append(err)\n",
    "        \n",
    "        # Calc relative error: orientation\n",
    "        err = np.rad2deg(np.abs(yt_orient - yp_orient))\n",
    "        err = 360 - err if err > 180 else err\n",
    "        err = (err ** 2) #/ drawing_error[subject][el]['orientation']\n",
    "        orient.append(err)\n",
    "        \n",
    "    return {'area': area, 'orientation': orient}"
   ]
  },
  {
   "cell_type": "code",
   "execution_count": 6,
   "metadata": {},
   "outputs": [
    {
     "name": "stdout",
     "output_type": "stream",
     "text": [
      "Processing Model A, Subject 12-005\n",
      "Processing Model A, Subject 51-009\n",
      "Processing Model A, Subject 52-001\n",
      "Processing Model A, Subject TB\n",
      "Processing Model C, Subject 12-005\n",
      "Processing Model C, Subject 51-009\n",
      "Processing Model C, Subject 52-001\n",
      "Processing Model C, Subject TB\n",
      "Processing Model C2, Subject 51-009\n",
      "Processing Model D, Subject 12-005\n",
      "Processing Model D, Subject 51-009\n",
      "Processing Model D, Subject 52-001\n",
      "Processing Model D, Subject TB\n",
      "Processing Model D2, Subject 12-005\n",
      "Processing Model D2, Subject 51-009\n",
      "Processing Model D2, Subject 52-001\n",
      "Processing Model D2, Subject TB\n",
      "Processing Model E2, Subject 12-005\n",
      "Processing Model E2, Subject TB\n",
      "Processing Model F2, Subject TB\n"
     ]
    }
   ],
   "source": [
    "loss = {a: {s: None for s in subjects} for a in models}\n",
    "for file in pickle_files:\n",
    "    y_test, y_pred, best_params, specifics = pickle.load(open(file, 'rb'))\n",
    "    for key, value in six.iteritems(assert_params):\n",
    "        assert np.isclose(specifics[key], value)\n",
    "    n_folds = specifics['n_folds']\n",
    "    assert len(y_pred) == n_folds\n",
    "    assert len(y_test) == n_folds\n",
    "    assert len(best_params) == n_folds\n",
    "    model = specifics['modelname']\n",
    "    subject = specifics['subject']\n",
    "    if model not in models:\n",
    "        print('Model %s found, skip.' % model)\n",
    "        continue\n",
    "    if subject not in subjects:\n",
    "        print('Subject %s found, skip.' % subject)\n",
    "        continue\n",
    "    print('Processing Model %s, Subject %s' % (model, subject))\n",
    "    \n",
    "    loss[model][subject] = p2pu.parfor(calc_props_loss, zip(y_test, y_pred), \n",
    "                                       func_args=[specifics, drawing_error, idx_el])"
   ]
  },
  {
   "cell_type": "code",
   "execution_count": 60,
   "metadata": {},
   "outputs": [
    {
     "data": {
      "image/png": "[encoded data removed]",
      "text/plain": [
       "<matplotlib.figure.Figure at 0x7fc0f8f0dfd0>"
      ]
     },
     "metadata": {},
     "output_type": "display_data"
    }
   ],
   "source": [
    "plot_models = ['A', 'C', 'C2', 'D2', 'E2']\n",
    "cols = ['area', 'orientation']\n",
    "N = len(cols)\n",
    "width = 0.3 / N\n",
    "ind = np.arange(N)\n",
    "\n",
    "fig, axes = plt.subplots(ncols=len(subjects), figsize=(14, 4), sharex=True, sharey=True)\n",
    "cm = plt.get_cmap('coolwarm')\n",
    "\n",
    "show_ylabel = True\n",
    "for ax, subject in zip(axes.ravel(), subjects):\n",
    "    rects = {}\n",
    "    for m, model in enumerate(plot_models):\n",
    "        pcolor = list(cm(m / len(plot_models)))\n",
    "        for c, col in enumerate(cols):\n",
    "            if not loss[model][subject]:\n",
    "                continue\n",
    "            attr = [l[col] for l in loss[model][subject]]\n",
    "            attr = [item for sublist in attr for item in sublist]\n",
    "            r = ax.bar(c + m * width, np.mean(np.sqrt(attr)), width, yerr=np.std(np.sqrt(attr)), \n",
    "                       color=pcolor, edgecolor='k')\n",
    "            ax.scatter(np.ones_like(attr) * (c + m * width), np.sqrt(attr), color=(0, 0, 0, 0.5),\n",
    "                       edgecolor='k', zorder=5, s=20)\n",
    "            rects[model] = r[0]\n",
    "    a = ax.axis()\n",
    "    ax.plot([a[0], a[1]], [1, 1], 'k--')\n",
    "    if show_ylabel:\n",
    "        ax.set_ylabel('Model error', fontsize=20)\n",
    "        show_ylabel = False\n",
    "    ax.set_xticks(ind + 0.5 * width * (len(plot_models) - 1))\n",
    "    ax.set_xticklabels(cols, rotation=45, ha='center', fontsize=12)\n",
    "    ax.set_yscale('log')\n",
    "    ax.set_ylim(0.1, 10000)\n",
    "    ax.yaxis.set_tick_params(labelsize=16)\n",
    "    ax.set_title('%s' % subject, fontsize=16)\n",
    "fig.suptitle(os.path.basename(os.path.dirname(results_dir)), fontsize=20)\n",
    "fig.legend([rects[m] for m in plot_models if m in rects],\n",
    "           [models[m] for m in plot_models if m in rects], \n",
    "          ncol=4, loc='lower center', fontsize=12)\n",
    "fig.tight_layout(rect=[0, 0.1, 1, 0.9])\n",
    "fig.savefig(os.path.join(results_dir, 'mse_props_loss.png'))"
   ]
  },
  {
   "cell_type": "code",
   "execution_count": 72,
   "metadata": {},
   "outputs": [
    {
     "data": {
      "image/png": "[encoded data removed]",
      "text/plain": [
       "<matplotlib.figure.Figure at 0x7fc0f6737128>"
      ]
     },
     "metadata": {},
     "output_type": "display_data"
    }
   ],
   "source": [
    "plot_models = ['A', 'E2', 'F2']\n",
    "columns = ['area', 'orientation']\n",
    "N = len(plot_models)\n",
    "width = 0.8 / N\n",
    "ind = np.arange(N)\n",
    "\n",
    "fig, axes = plt.subplots(ncols=len(columns), figsize=(14, 4), sharex=True, sharey=False)\n",
    "cm = plt.get_cmap('gray')\n",
    "\n",
    "show_ylabel = True\n",
    "for ax, col in zip(axes.ravel(), columns):\n",
    "    rects = {}\n",
    "    for m, model in enumerate(plot_models):\n",
    "        pcolor = list(cm(m / len(plot_models)))\n",
    "        alldata = []\n",
    "        pos = []\n",
    "        for s, subject in enumerate(subjects):\n",
    "            if not loss[model][subject]:\n",
    "                continue\n",
    "            attr = [l[col] for l in loss[model][subject]]\n",
    "            attr = [item for sublist in attr for item in sublist]\n",
    "            alldata.append(attr)\n",
    "            pos.append(s + m * width)\n",
    "#             r = ax.bar(s + m * width, np.mean(np.sqrt(attr)), width, yerr=np.std(np.sqrt(attr)), \n",
    "#                        color=pcolor, edgecolor='w', linewidth=2,\n",
    "#                        label='Model %s' % model)\n",
    "#             ax.scatter(np.ones_like(attr) * (s + m * width), np.sqrt(attr), color=(0, 0, 0, 0.5),\n",
    "#                        edgecolor='k', zorder=5, s=20)\n",
    "        bp = ax.boxplot(alldata, positions=pos, widths=0.6 * width, notch=False, \n",
    "                        showfliers=False, vert=True, patch_artist=True)\n",
    "        [b.set_facecolor(pcolor) for b in bp['boxes']]\n",
    "        rects[model] = bp\n",
    "#             rects[model] = r[0]\n",
    "#     a = ax.axis()\n",
    "#     ax.plot([a[0], a[1]], [1, 1], 'k--')\n",
    "    if show_ylabel:\n",
    "        ax.set_ylabel('Model error', fontsize=20)\n",
    "        show_ylabel = False\n",
    "    ax.set_xticks(ind + 0.5 * width * (len(plot_models) - 1))\n",
    "    ax.set_xticklabels(subjects, rotation=45, ha='center', fontsize=12)\n",
    "#     ax.set_yscale('log')\n",
    "#     ax.set_ylim(0.1, 10000)\n",
    "    ax.yaxis.set_tick_params(labelsize=16)\n",
    "    ax.set_title('%s' % col, fontsize=16)\n",
    "fig.suptitle(os.path.basename(os.path.dirname(results_dir)), fontsize=20)\n",
    "# fig.legend([rects[m] for m in models if m in rects],\n",
    "#            [models[m] for m in models if m in rects], \n",
    "#           ncol=4, loc='lower center', fontsize=12)\n",
    "# fig.tight_layout(rect=[0, 0.1, 1, 0.9])\n",
    "fig.savefig(os.path.join(results_dir, 'mse_props_loss2.png'))"
   ]
  },
  {
   "cell_type": "code",
   "execution_count": 64,
   "metadata": {},
   "outputs": [
    {
     "data": {
      "text/plain": [
       "{'boxes': [<matplotlib.patches.PathPatch at 0x7fc0f8868dd8>],\n",
       " 'caps': [<matplotlib.lines.Line2D at 0x7fc0f88198d0>,\n",
       "  <matplotlib.lines.Line2D at 0x7fc0f6793ac8>],\n",
       " 'fliers': [],\n",
       " 'means': [],\n",
       " 'medians': [<matplotlib.lines.Line2D at 0x7fc0f6781c50>],\n",
       " 'whiskers': [<matplotlib.lines.Line2D at 0x7fc0f8819860>,\n",
       "  <matplotlib.lines.Line2D at 0x7fc0f8819a20>]}"
      ]
     },
     "execution_count": 64,
     "metadata": {},
     "output_type": "execute_result"
    }
   ],
   "source": [
    "bp"
   ]
  },
  {
   "cell_type": "code",
   "execution_count": 66,
   "metadata": {},
   "outputs": [
    {
     "data": {
      "text/plain": [
       "<matplotlib.patches.Rectangle at 0x7fc0f8b1c7f0>"
      ]
     },
     "execution_count": 66,
     "metadata": {},
     "output_type": "execute_result"
    }
   ],
   "source": [
    "ax.bar(0, 3)[0]"
   ]
  },
  {
   "cell_type": "code",
   "execution_count": 74,
   "metadata": {},
   "outputs": [],
   "source": [
    "import seaborn as sns"
   ]
  },
  {
   "cell_type": "code",
   "execution_count": 76,
   "metadata": {
    "collapsed": true
   },
   "outputs": [],
   "source": [
    "import pandas as pd"
   ]
  },
  {
   "cell_type": "code",
   "execution_count": 77,
   "metadata": {},
   "outputs": [
    {
     "data": {
      "text/html": [
       "<div>\n",
       "<style scoped>\n",
       "    .dataframe tbody tr th:only-of-type {\n",
       "        vertical-align: middle;\n",
       "    }\n",
       "\n",
       "    .dataframe tbody tr th {\n",
       "        vertical-align: top;\n",
       "    }\n",
       "\n",
       "    .dataframe thead th {\n",
       "        text-align: right;\n",
       "    }\n",
       "</style>\n",
       "<table border=\"1\" class=\"dataframe\">\n",
       "  <thead>\n",
       "    <tr style=\"text-align: right;\">\n",
       "      <th></th>\n",
       "      <th>area</th>\n",
       "      <th>orientation</th>\n",
       "    </tr>\n",
       "  </thead>\n",
       "  <tbody>\n",
       "    <tr>\n",
       "      <th>0</th>\n",
       "      <td>[7017201]</td>\n",
       "      <td>[20419.1529165]</td>\n",
       "    </tr>\n",
       "    <tr>\n",
       "      <th>1</th>\n",
       "      <td>[7921]</td>\n",
       "      <td>[16235.6602398]</td>\n",
       "    </tr>\n",
       "    <tr>\n",
       "      <th>2</th>\n",
       "      <td>[203401]</td>\n",
       "      <td>[1856.79148618]</td>\n",
       "    </tr>\n",
       "    <tr>\n",
       "      <th>3</th>\n",
       "      <td>[33124]</td>\n",
       "      <td>[2795.05209412]</td>\n",
       "    </tr>\n",
       "    <tr>\n",
       "      <th>4</th>\n",
       "      <td>[1234321]</td>\n",
       "      <td>[23004.3328964]</td>\n",
       "    </tr>\n",
       "    <tr>\n",
       "      <th>5</th>\n",
       "      <td>[24025]</td>\n",
       "      <td>[12393.2754835]</td>\n",
       "    </tr>\n",
       "    <tr>\n",
       "      <th>6</th>\n",
       "      <td>[17424]</td>\n",
       "      <td>[4595.50806348]</td>\n",
       "    </tr>\n",
       "    <tr>\n",
       "      <th>7</th>\n",
       "      <td>[2304]</td>\n",
       "      <td>[19497.576884]</td>\n",
       "    </tr>\n",
       "    <tr>\n",
       "      <th>8</th>\n",
       "      <td>[1521]</td>\n",
       "      <td>[6808.93367726]</td>\n",
       "    </tr>\n",
       "    <tr>\n",
       "      <th>9</th>\n",
       "      <td>[65536]</td>\n",
       "      <td>[7186.04833832]</td>\n",
       "    </tr>\n",
       "    <tr>\n",
       "      <th>10</th>\n",
       "      <td>[39204]</td>\n",
       "      <td>[7488.9134071]</td>\n",
       "    </tr>\n",
       "    <tr>\n",
       "      <th>11</th>\n",
       "      <td>[370881]</td>\n",
       "      <td>[19351.2686433]</td>\n",
       "    </tr>\n",
       "    <tr>\n",
       "      <th>12</th>\n",
       "      <td>[145161]</td>\n",
       "      <td>[16517.0039836]</td>\n",
       "    </tr>\n",
       "    <tr>\n",
       "      <th>13</th>\n",
       "      <td>[158404]</td>\n",
       "      <td>[4507.42986311]</td>\n",
       "    </tr>\n",
       "    <tr>\n",
       "      <th>14</th>\n",
       "      <td>[38025]</td>\n",
       "      <td>[3928.14643007]</td>\n",
       "    </tr>\n",
       "    <tr>\n",
       "      <th>15</th>\n",
       "      <td>[1077444]</td>\n",
       "      <td>[16098.741388]</td>\n",
       "    </tr>\n",
       "  </tbody>\n",
       "</table>\n",
       "</div>"
      ],
      "text/plain": [
       "         area      orientation\n",
       "0   [7017201]  [20419.1529165]\n",
       "1      [7921]  [16235.6602398]\n",
       "2    [203401]  [1856.79148618]\n",
       "3     [33124]  [2795.05209412]\n",
       "4   [1234321]  [23004.3328964]\n",
       "5     [24025]  [12393.2754835]\n",
       "6     [17424]  [4595.50806348]\n",
       "7      [2304]   [19497.576884]\n",
       "8      [1521]  [6808.93367726]\n",
       "9     [65536]  [7186.04833832]\n",
       "10    [39204]   [7488.9134071]\n",
       "11   [370881]  [19351.2686433]\n",
       "12   [145161]  [16517.0039836]\n",
       "13   [158404]  [4507.42986311]\n",
       "14    [38025]  [3928.14643007]\n",
       "15  [1077444]   [16098.741388]"
      ]
     },
     "execution_count": 77,
     "metadata": {},
     "output_type": "execute_result"
    }
   ],
   "source": [
    "pd.DataFrame(loss['A']['TB'])"
   ]
  },
  {
   "cell_type": "code",
   "execution_count": 87,
   "metadata": {},
   "outputs": [
    {
     "data": {
      "text/plain": [
       "<matplotlib.axes._subplots.AxesSubplot at 0x7fc0cf0f7e80>"
      ]
     },
     "execution_count": 87,
     "metadata": {},
     "output_type": "execute_result"
    },
    {
     "data": {
      "image/png": "[encoded data removed]",
      "text/plain": [
       "<matplotlib.figure.Figure at 0x7fc0f8854438>"
      ]
     },
     "metadata": {},
     "output_type": "display_data"
    }
   ],
   "source": [
    "import pandas as pd\n",
    "import matplotlib.pyplot as plt\n",
    "import seaborn as sns\n",
    "dd=pd.melt(df, id_vars=['Group'], value_vars=['Apple','Orange'], var_name='fruits')\n",
    "sns.boxplot(x='Group', y='value', data=dd, hue='fruits', palette='coolwarm', width=0.5)"
   ]
  },
  {
   "cell_type": "code",
   "execution_count": null,
   "metadata": {
    "collapsed": true
   },
   "outputs": [],
   "source": []
  }
 ],
 "metadata": {
  "kernelspec": {
   "display_name": "Python [default]",
   "language": "python",
   "name": "python3"
  },
  "language_info": {
   "codemirror_mode": {
    "name": "ipython",
    "version": 3
   },
   "file_extension": ".py",
   "mimetype": "text/x-python",
   "name": "python",
   "nbconvert_exporter": "python",
   "pygments_lexer": "ipython3",
   "version": "3.5.3"
  }
 },
 "nbformat": 4,
 "nbformat_minor": 2
}
