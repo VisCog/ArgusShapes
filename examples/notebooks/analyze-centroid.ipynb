{
 "cells": [
  {
   "cell_type": "code",
   "execution_count": 1,
   "metadata": {},
   "outputs": [
    {
     "name": "stderr",
     "output_type": "stream",
     "text": [
      "/home/mbeyeler/anaconda3/lib/python3.5/site-packages/skvideo/__init__.py:356: UserWarning: avconv/avprobe not found in path: \n",
      "  warnings.warn(\"avconv/avprobe not found in path: \" + str(path), UserWarning)\n",
      "2018-04-24 16:15:31,965 [pulse2percept] [INFO] Welcome to pulse2percept\n"
     ]
    }
   ],
   "source": [
    "import os\n",
    "import numpy as np\n",
    "import pandas as pd\n",
    "import p2pspatial\n",
    "import pulse2percept.implants as p2pi\n",
    "import pulse2percept.utils as p2pu\n",
    "from pulse2percept.retina import dva2ret, ret2dva\n",
    "import pyswarm\n",
    "\n",
    "import sklearn.base as sklb\n",
    "\n",
    "import matplotlib.pyplot as plt\n",
    "%matplotlib inline"
   ]
  },
  {
   "cell_type": "code",
   "execution_count": 2,
   "metadata": {
    "collapsed": true
   },
   "outputs": [],
   "source": [
    "use_trafo = False"
   ]
  },
  {
   "cell_type": "code",
   "execution_count": 3,
   "metadata": {
    "collapsed": true
   },
   "outputs": [],
   "source": [
    "subject_params = {\n",
    "    'TB': {\n",
    "        'implant_type': p2pi.ArgusI,\n",
    "        'implant_x': -1527,\n",
    "        'implant_y': -556,\n",
    "        'implant_rot': -1.13,\n",
    "        'loc_od_x': 13.6,\n",
    "        'loc_od_y': 0.0,\n",
    "        'xrange': (-36.9, 36.9),\n",
    "        'yrange': (-36.9, 36.9)\n",
    "    },\n",
    "    '12-005': {\n",
    "        'implant_type': p2pi.ArgusII,\n",
    "        'implant_x': -1761,\n",
    "        'implant_y': -212,\n",
    "        'implant_rot': -0.188,\n",
    "        'loc_od_x': 15.4,\n",
    "        'loc_od_y': 1.86,\n",
    "        'xrange': (-30, 30),\n",
    "        'yrange': (-22.5, 22.5)\n",
    "    },\n",
    "    '51-009': {\n",
    "        'implant_type': p2pi.ArgusII,\n",
    "        'implant_x': -799,\n",
    "        'implant_y': 93,\n",
    "        'implant_rot': -1.09,\n",
    "        'loc_od_x': 15.7,\n",
    "        'loc_od_y': 0.75,\n",
    "        'xrange': (-32.5, 32.5),\n",
    "        'yrange': (-24.4, 24.4)\n",
    "    },\n",
    "    '52-001': {\n",
    "        'implant_type': p2pi.ArgusII,\n",
    "        'implant_x': -1230,\n",
    "        'implant_y': 415,\n",
    "        'implant_rot': -0.457,\n",
    "        'loc_od_x': 15.9,\n",
    "        'loc_od_y': 1.96,\n",
    "        'xrange': (-32, 32),\n",
    "        'yrange': (-24, 24)\n",
    "    }\n",
    "}\n",
    "\n",
    "use_electrodes = {\n",
    "    'TB': ['A4', 'C2', 'C3', 'C4', 'D2', 'D3', 'B3', 'D4'],\n",
    "    '12-005': ['A04', 'A06', 'B03', 'C07', 'C10', 'D07', 'D08', 'D10',\n",
    "               'F06'],\n",
    "    '51-009': ['A02', 'B03', 'B04', 'C01', 'C05', 'C06', 'C08', 'D03',\n",
    "               'E01', 'E05', 'E07', 'E09', 'F04', 'F06'],\n",
    "    '52-001': ['A05', 'A07', 'B09', 'A10', 'C10', 'D05', 'D07', 'E04',\n",
    "               'E09', 'E10', 'F06', 'F07', 'F08', 'F09', 'F10']\n",
    "}"
   ]
  },
  {
   "cell_type": "code",
   "execution_count": 4,
   "metadata": {},
   "outputs": [],
   "source": [
    "subject = '52-001'\n",
    "X, y = p2pspatial.load_data(os.path.join(os.environ['SECOND_SIGHT_DATA'], 'shape'), subject=subject,\n",
    "                            amplitude=2.0, electrodes=use_electrodes[subject])\n",
    "Xy = pd.concat((X, y.drop(columns='electrode')), axis=1)"
   ]
  },
  {
   "cell_type": "code",
   "execution_count": 5,
   "metadata": {},
   "outputs": [],
   "source": [
    "if use_trafo:\n",
    "    trafo = p2pspatial.models.ModelB()\n",
    "    \n",
    "y_true = []\n",
    "for _, row in Xy.iterrows():\n",
    "    props = p2pspatial.imgproc.get_region_props(row['image'], thresh=0.1)\n",
    "    xrange = subject_params[subject]['xrange']\n",
    "    yrange = subject_params[subject]['yrange']\n",
    "    x_center = props.centroid[1] / row['img_shape'][1] * np.diff(xrange)[0] + xrange[0]\n",
    "    y_center = props.centroid[0] / row['img_shape'][0] * np.diff(yrange)[0] + yrange[0]\n",
    "    if use_trafo:\n",
    "        xy = trafo._displaces_rgc(np.array([[x_center, y_center]]))\n",
    "        xy = (xy[0][0], xy[1][0])\n",
    "    else:\n",
    "        xy = (288*x_center, 288*y_center)\n",
    "        xy = dva2ret((x_center, y_center))\n",
    "    y_true.append({'x_center': xy[0], 'y_center': xy[1]})\n",
    "y_true = pd.DataFrame(y_true, index=y.index)"
   ]
  },
  {
   "cell_type": "code",
   "execution_count": 6,
   "metadata": {
    "collapsed": true
   },
   "outputs": [],
   "source": [
    "electrodes = list(X.electrode.unique())"
   ]
  },
  {
   "cell_type": "code",
   "execution_count": 7,
   "metadata": {
    "collapsed": true
   },
   "outputs": [],
   "source": [
    "class ImplantPlacement(sklb.BaseEstimator):\n",
    "    def __init__(self, x_center=0, y_center=0, rot=0):\n",
    "        self.x_center = x_center\n",
    "        self.y_center = y_center\n",
    "        self.rot = rot\n",
    "        self._is_fitted = False\n",
    "        self.greater_is_better = False\n",
    "    \n",
    "    def get_params(self, deep=True):\n",
    "        return {'x_center': self.x_center, 'y_center': self.y_center, 'rot': self.rot}\n",
    "    \n",
    "    def fit(self, X, y=None, **fit_params):\n",
    "        self.set_params(**fit_params)\n",
    "        self.implant = p2pi.ArgusII(x_center=self.x_center, y_center=self.y_center,\n",
    "                                    rot=self.rot)\n",
    "        self._is_fitted = True\n",
    "        return self\n",
    "    \n",
    "    def predict(self, X):\n",
    "        assert self._is_fitted\n",
    "        y_pred = []\n",
    "        for _, row in X.iterrows():\n",
    "            ename = '%s%d' % (row['electrode'][0], int(row['electrode'][1:]))\n",
    "            el = self.implant[ename]\n",
    "            y_pred.append({'x_center': el.x_center, 'y_center': el.y_center})\n",
    "        return pd.DataFrame(y_pred, index=X.index)\n",
    "    \n",
    "    def score(self, X, y, sample_weight=None):\n",
    "        assert self._is_fitted\n",
    "        y_pred = self.predict(X)\n",
    "        err = [(yt[1]['x_center'] - yp[1]['x_center']) ** 2 + (yt[1]['y_center'] - yp[1]['y_center']) ** 2\n",
    "               for yt, yp in zip(y.iterrows(), y_pred.iterrows())]\n",
    "        return np.mean(err)"
   ]
  },
  {
   "cell_type": "code",
   "execution_count": 8,
   "metadata": {
    "collapsed": true
   },
   "outputs": [],
   "source": [
    "yy_true = pd.concat((X, y_true), axis=1).groupby('electrode', as_index=False).mean()"
   ]
  },
  {
   "cell_type": "code",
   "execution_count": 9,
   "metadata": {
    "collapsed": true
   },
   "outputs": [],
   "source": [
    "# argus = p2pi.ArgusII(x_center=-700, y_center=180, rot=-0.12345)\n",
    "# for j in yy_true.index:\n",
    "#     ename = '%s%d' % (yy_true.loc[j, 'electrode'][0], int(yy_true.loc[j, 'electrode'][1:]))\n",
    "#     yy_true.loc[j, 'x_center'] = argus[ename].x_center\n",
    "#     yy_true.loc[j, 'y_center'] = argus[ename].y_center"
   ]
  },
  {
   "cell_type": "code",
   "execution_count": 10,
   "metadata": {
    "collapsed": true
   },
   "outputs": [],
   "source": [
    "XX = yy_true"
   ]
  },
  {
   "cell_type": "code",
   "execution_count": 11,
   "metadata": {
    "collapsed": true
   },
   "outputs": [],
   "source": [
    "regressor = ImplantPlacement()"
   ]
  },
  {
   "cell_type": "code",
   "execution_count": 12,
   "metadata": {
    "collapsed": true
   },
   "outputs": [],
   "source": [
    "search_params = {'x_center': (-3000, 3000),\n",
    "                 'y_center': (-2000, 2000),\n",
    "                 'rot': (np.deg2rad(-90), np.deg2rad(90))}\n",
    "pso_options = {'max_iter': 100,\n",
    "               'min_func': 0.01}"
   ]
  },
  {
   "cell_type": "code",
   "execution_count": 13,
   "metadata": {
    "collapsed": true
   },
   "outputs": [],
   "source": [
    "pso = p2pspatial.model_selection.ParticleSwarmOptimizer(\n",
    "    regressor, search_params, **pso_options\n",
    ")"
   ]
  },
  {
   "cell_type": "code",
   "execution_count": 14,
   "metadata": {},
   "outputs": [
    {
     "name": "stdout",
     "output_type": "stream",
     "text": [
      "No constraints given.\n",
      "New best for swarm at iteration 1: [ -2.13128089e+03   2.00000000e+03  -5.42441420e-01] 1281771.7863380692\n",
      "Best after iteration 1: [ -2.13128089e+03   2.00000000e+03  -5.42441420e-01] 1281771.7863380692\n",
      "Best after iteration 2: [ -2.13128089e+03   2.00000000e+03  -5.42441420e-01] 1281771.7863380692\n",
      "Best after iteration 3: [ -2.13128089e+03   2.00000000e+03  -5.42441420e-01] 1281771.7863380692\n",
      "New best for swarm at iteration 4: [ -2.00986686e+03   2.00000000e+03  -3.00808913e-01] 1146677.6599742915\n",
      "Best after iteration 4: [ -2.00986686e+03   2.00000000e+03  -3.00808913e-01] 1146677.6599742915\n",
      "New best for swarm at iteration 5: [ -2.06342349e+03   2.00000000e+03  -3.21612608e-01] 1137364.839094264\n",
      "Best after iteration 5: [ -2.06342349e+03   2.00000000e+03  -3.21612608e-01] 1137364.839094264\n",
      "New best for swarm at iteration 6: [ -2.02118157e+03   2.00000000e+03  -3.82515160e-01] 1126306.4088851223\n",
      "Best after iteration 6: [ -2.02118157e+03   2.00000000e+03  -3.82515160e-01] 1126306.4088851223\n",
      "Best after iteration 7: [ -2.02118157e+03   2.00000000e+03  -3.82515160e-01] 1126306.4088851223\n",
      "Best after iteration 8: [ -2.02118157e+03   2.00000000e+03  -3.82515160e-01] 1126306.4088851223\n",
      "Best after iteration 9: [ -2.02118157e+03   2.00000000e+03  -3.82515160e-01] 1126306.4088851223\n",
      "New best for swarm at iteration 10: [ -2.03813983e+03   2.00000000e+03  -3.64578707e-01] 1126035.6933001273\n",
      "Best after iteration 10: [ -2.03813983e+03   2.00000000e+03  -3.64578707e-01] 1126035.6933001273\n",
      "New best for swarm at iteration 11: [ -2.02851173e+03   2.00000000e+03  -3.65654753e-01] 1125693.714397107\n",
      "Best after iteration 11: [ -2.02851173e+03   2.00000000e+03  -3.65654753e-01] 1125693.714397107\n",
      "Best after iteration 12: [ -2.02851173e+03   2.00000000e+03  -3.65654753e-01] 1125693.714397107\n",
      "Best after iteration 13: [ -2.02851173e+03   2.00000000e+03  -3.65654753e-01] 1125693.714397107\n",
      "New best for swarm at iteration 14: [ -2.01179135e+03   2.00000000e+03  -3.70834492e-01] 1125538.5636468376\n",
      "Best after iteration 14: [ -2.01179135e+03   2.00000000e+03  -3.70834492e-01] 1125538.5636468376\n",
      "New best for swarm at iteration 15: [ -2.01318296e+03   2.00000000e+03  -3.70265576e-01] 1125521.9663061998\n",
      "New best for swarm at iteration 15: [ -2.01853389e+03   2.00000000e+03  -3.68139034e-01] 1125516.124971613\n",
      "Best after iteration 15: [ -2.01853389e+03   2.00000000e+03  -3.68139034e-01] 1125516.124971613\n",
      "Best after iteration 16: [ -2.01853389e+03   2.00000000e+03  -3.68139034e-01] 1125516.124971613\n",
      "New best for swarm at iteration 17: [ -2.01859875e+03   2.00000000e+03  -3.69321645e-01] 1125509.4654880941\n",
      "Best after iteration 17: [ -2.01859875e+03   2.00000000e+03  -3.69321645e-01] 1125509.4654880941\n",
      "New best for swarm at iteration 18: [ -2.01734819e+03   2.00000000e+03  -3.69232870e-01] 1125506.7955498039\n",
      "Best after iteration 18: [ -2.01734819e+03   2.00000000e+03  -3.69232870e-01] 1125506.7955498039\n",
      "New best for swarm at iteration 19: [ -2.01672291e+03   2.00000000e+03  -3.69188483e-01] 1125506.684164005\n",
      "Best after iteration 19: [ -2.01672291e+03   2.00000000e+03  -3.69188483e-01] 1125506.684164005\n",
      "Best after iteration 20: [ -2.01672291e+03   2.00000000e+03  -3.69188483e-01] 1125506.684164005\n",
      "Best after iteration 21: [ -2.01672291e+03   2.00000000e+03  -3.69188483e-01] 1125506.684164005\n",
      "New best for swarm at iteration 22: [ -2.01670716e+03   2.00000000e+03  -3.69200556e-01] 1125506.6627646212\n",
      "Best after iteration 22: [ -2.01670716e+03   2.00000000e+03  -3.69200556e-01] 1125506.6627646212\n",
      "New best for swarm at iteration 23: [ -2.01679934e+03   2.00000000e+03  -3.69198339e-01] 1125506.644441537\n",
      "New best for swarm at iteration 23: [ -2.01727136e+03   2.00000000e+03  -3.69355016e-01] 1125506.5879654922\n",
      "Best after iteration 23: [ -2.01727136e+03   2.00000000e+03  -3.69355016e-01] 1125506.5879654922\n",
      "New best for swarm at iteration 24: [ -2.01684391e+03   2.00000000e+03  -3.69241944e-01] 1125506.5550102848\n",
      "Best after iteration 24: [ -2.01684391e+03   2.00000000e+03  -3.69241944e-01] 1125506.5550102848\n",
      "New best for swarm at iteration 25: [ -2.01720843e+03   2.00000000e+03  -3.69359159e-01] 1125506.5371113713\n",
      "New best for swarm at iteration 25: [ -2.01702424e+03   2.00000000e+03  -3.69295436e-01] 1125506.49983584\n",
      "New best for swarm at iteration 25: [ -2.01672378e+03   2.00000000e+03  -3.69512744e-01] 1125506.42308974\n",
      "Best after iteration 25: [ -2.01672378e+03   2.00000000e+03  -3.69512744e-01] 1125506.42308974\n",
      "New best for swarm at iteration 26: [ -2.01670971e+03   2.00000000e+03  -3.69379081e-01] 1125506.420653289\n",
      "Stopping search: Swarm best objective change less than 0.01\n",
      "Best err: 1125506.42065 Best params: {'x_center': -2016.7097117923443, 'y_center': 2000.0, 'rot': -0.36937908126181856}\n"
     ]
    }
   ],
   "source": [
    "pso.fit(XX, yy_true)"
   ]
  },
  {
   "cell_type": "code",
   "execution_count": 15,
   "metadata": {},
   "outputs": [
    {
     "data": {
      "image/png": "[encoded data removed]",
      "text/plain": [
       "<matplotlib.figure.Figure at 0x7f565daa4518>"
      ]
     },
     "metadata": {},
     "output_type": "display_data"
    }
   ],
   "source": [
    "for (_, yt), (_, yp) in zip(yy_true.iterrows(), pso.predict(XX).iterrows()):\n",
    "    plt.scatter(yt['x_center'], yt['y_center'], c='b', marker='s')\n",
    "    plt.scatter(yp['x_center'], yp['y_center'], c='r', marker='o')\n",
    "    plt.plot([yt['x_center'], yp['x_center']], [yt['y_center'], yp['y_center']], 'k--')"
   ]
  },
  {
   "cell_type": "code",
   "execution_count": 16,
   "metadata": {},
   "outputs": [
    {
     "data": {
      "text/plain": [
       "(-2016.7097117923443, 2000.0, -0.36937908126181856)"
      ]
     },
     "execution_count": 16,
     "metadata": {},
     "output_type": "execute_result"
    }
   ],
   "source": [
    "pso.estimator.x_center, pso.estimator.y_center, pso.estimator.rot"
   ]
  },
  {
   "cell_type": "code",
   "execution_count": 17,
   "metadata": {
    "collapsed": true
   },
   "outputs": [],
   "source": [
    "# 280*dva: 863413\n",
    "# dva2ret: 773831\n",
    "# prtrafo: 907130"
   ]
  },
  {
   "cell_type": "code",
   "execution_count": null,
   "metadata": {
    "collapsed": true
   },
   "outputs": [],
   "source": []
  }
 ],
 "metadata": {
  "kernelspec": {
   "display_name": "Python [default]",
   "language": "python",
   "name": "python3"
  },
  "language_info": {
   "codemirror_mode": {
    "name": "ipython",
    "version": 3
   },
   "file_extension": ".py",
   "mimetype": "text/x-python",
   "name": "python",
   "nbconvert_exporter": "python",
   "pygments_lexer": "ipython3",
   "version": "3.5.3"
  }
 },
 "nbformat": 4,
 "nbformat_minor": 2
}
