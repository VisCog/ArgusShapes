{
 "cells": [
  {
   "cell_type": "code",
   "execution_count": 1,
   "metadata": {},
   "outputs": [
    {
     "name": "stderr",
     "output_type": "stream",
     "text": [
      "/home/mbeyeler/anaconda3/lib/python3.5/site-packages/skvideo/__init__.py:356: UserWarning: avconv/avprobe not found in path: \n",
      "  warnings.warn(\"avconv/avprobe not found in path: \" + str(path), UserWarning)\n",
      "2018-05-03 16:22:50,399 [pulse2percept] [INFO] Welcome to pulse2percept\n"
     ]
    }
   ],
   "source": [
    "import os\n",
    "import six\n",
    "import glob\n",
    "import pickle\n",
    "\n",
    "import numpy as np\n",
    "import pandas as pd\n",
    "import scipy.stats as spst\n",
    "\n",
    "import argus_shapes\n",
    "import pulse2percept.utils as p2pu\n",
    "\n",
    "from sklearn.base import clone\n",
    "import sklearn.metrics as sklm\n",
    "\n",
    "%matplotlib inline\n",
    "import matplotlib.pyplot as plt\n",
    "plt.style.use('seaborn-colorblind')"
   ]
  },
  {
   "cell_type": "markdown",
   "metadata": {},
   "source": [
    "# Load data"
   ]
  },
  {
   "cell_type": "code",
   "execution_count": 2,
   "metadata": {
    "collapsed": true
   },
   "outputs": [],
   "source": [
    "def load_data(pickle_files, verbose=True):\n",
    "    data = []\n",
    "    for pickle_file in pickle_files:\n",
    "        if verbose:\n",
    "            print('- Processing %s' % pickle_file)\n",
    "        y, y_pred, best_params, specifics = pickle.load(open(pickle_file, 'rb'))\n",
    "        if isinstance(specifics, list):\n",
    "            assert np.allclose([s['avg_img'] for s in specifics], True)\n",
    "            specifics = specifics[0]\n",
    "        else:\n",
    "            assert specifics['avg_img']\n",
    "        if isinstance(y, list):\n",
    "            y = pd.concat(y)\n",
    "        if isinstance(y_pred, list):\n",
    "            y_pred = pd.concat(y_pred)\n",
    "            \n",
    "        row = {\n",
    "            'subject': specifics['subject'],\n",
    "            'model': specifics['modelname'],\n",
    "            'exetime': specifics['exetime'],\n",
    "            'adjust_bias': specifics['adjust_bias'],\n",
    "            'best_train_cost': specifics['best_train_score'][0],\n",
    "            'idx_fold': specifics['idx_fold'],\n",
    "            'y_test': y,\n",
    "            'y_pred': y_pred,\n",
    "            'n_samples': len(y),\n",
    "            'n_folds': specifics['n_folds'],\n",
    "            'filepath': os.path.dirname(pickle_file),\n",
    "            'filename': os.path.basename(pickle_file)\n",
    "        }\n",
    "        data.append(row)\n",
    "    return pd.DataFrame(data)"
   ]
  },
  {
   "cell_type": "code",
   "execution_count": 3,
   "metadata": {
    "collapsed": true
   },
   "outputs": [],
   "source": [
    "def calc_test_cost(grouped_data, verbose=True):\n",
    "    compact_data = []\n",
    "    for (subject, model, adjust_bias), data in grouped_data:\n",
    "        if verbose:\n",
    "            print('- Processing %s, %s %s' % (subject, model, adjust_bias))\n",
    "        # Aggregate test data from all folds:\n",
    "        y_test = pd.DataFrame([{'area': float(row['area']),\n",
    "                                'orientation': float(row['orientation']),\n",
    "                                'eccentricity': float(row['eccentricity']),\n",
    "                                'compactness': float(row['compactness'])}\n",
    "                               for row in data['y_test']], index=data.index)\n",
    "        y_pred = pd.DataFrame([{'area': float(row['area']),\n",
    "                                'orientation': float(row['orientation']),\n",
    "                                'eccentricity': float(row['eccentricity']),\n",
    "                                'compactness': float(row['compactness'])}\n",
    "                               for row in data['y_pred']], index=data.index)\n",
    "        y_test['orientation'] = np.rad2deg(y_test['orientation'])\n",
    "        y_pred['orientation'] = np.rad2deg(y_pred['orientation'])\n",
    "\n",
    "#         y_test['compactness'] = np.minimum(1, np.maximum(0, 1.0 / (y_test['compactness'] / (4 * np.pi))))\n",
    "#         y_pred['compactness'] = np.minimum(1, np.maximum(0, 1.0 / (y_pred['compactness'] / (4 * np.pi))))\n",
    "        \n",
    "#         idx = np.isclose(y_pred['compactness'], 1)\n",
    "#         y_pred['orientation'][idx] = 0\n",
    "#         y_pred['eccentricity'][idx] = 0\n",
    "#         idx = np.isclose(y_test['compactness'], 1)\n",
    "#         y_test['orientation'][idx] = 0\n",
    "#         y_test['eccentricity'][idx] = 0\n",
    "            \n",
    "        # Calculate r2:\n",
    "        best_cost = 0\n",
    "        r2_scores = {}\n",
    "        for col in y_test.columns:\n",
    "            yt = y_test.loc[:, col]\n",
    "            yp = y_pred.loc[:, col]\n",
    "\n",
    "            if col == 'orientation':\n",
    "                # Use circular error:\n",
    "                err = np.abs(yt - np.nan_to_num(yp))\n",
    "                err = np.where(err > np.pi / 2, np.pi - err, err)\n",
    "                # Use circular variance in `ss_tot`, which divides by len(yt).\n",
    "                # Therefore, we also need to divide `ss_res` by len(yt), which\n",
    "                # is the same as taking the mean instead of the sum.\n",
    "                ss_res = np.mean(err ** 2)\n",
    "                ss_tot = spst.circvar(yt, low=-90, high=90)\n",
    "                r2_scores['r2_orientation'] = 1 - ss_res / (ss_tot + 1e-12)\n",
    "            else:\n",
    "                r2_scores['r2_' + col] = sklm.r2_score(yt, np.nan_to_num(yp))\n",
    "            if verbose:\n",
    "                print('  - Processing %s: r2=%f' % (col, r2_scores['r2_' + col]))\n",
    "            \n",
    "            l = 1 - r2_scores['r2_' + col]\n",
    "            best_cost += 2 if np.isnan(l) else l\n",
    "        compact_row = {\n",
    "            'subject': subject,\n",
    "            'model': model,\n",
    "            'adjust_bias': adjust_bias,\n",
    "            'best_test_cost': best_cost,\n",
    "            'y_test': y_test,\n",
    "            'y_pred': y_pred,\n",
    "        }\n",
    "        compact_row.update(r2_scores)\n",
    "        compact_data.append(compact_row)\n",
    "    return pd.DataFrame(compact_data)"
   ]
  },
  {
   "cell_type": "code",
   "execution_count": 4,
   "metadata": {},
   "outputs": [
    {
     "name": "stdout",
     "output_type": "stream",
     "text": [
      "Found 7 files\n"
     ]
    }
   ],
   "source": [
    "results_dir = '../../results/shape8cv/'\n",
    "pickle_files = np.sort(glob.glob(os.path.join(results_dir, '*.pickle')))\n",
    "print('Found', len(pickle_files), 'files')"
   ]
  },
  {
   "cell_type": "code",
   "execution_count": 5,
   "metadata": {
    "collapsed": true
   },
   "outputs": [],
   "source": [
    "subjects = ['TB', '12-005', '51-009', '52-001']\n",
    "assert_params = {\n",
    "    'amplitude': 2.0,\n",
    "}\n",
    "rootfolder = os.path.join(os.environ['SECOND_SIGHT_DATA'], 'shape')"
   ]
  },
  {
   "cell_type": "code",
   "execution_count": 6,
   "metadata": {
    "collapsed": true
   },
   "outputs": [],
   "source": [
    "data = load_data(pickle_files, verbose=False)"
   ]
  },
  {
   "cell_type": "code",
   "execution_count": 7,
   "metadata": {},
   "outputs": [
    {
     "data": {
      "text/plain": [
       "Index(['adjust_bias', 'best_train_cost', 'exetime', 'filename', 'filepath',\n",
       "       'idx_fold', 'model', 'n_folds', 'n_samples', 'subject', 'y_pred',\n",
       "       'y_test'],\n",
       "      dtype='object')"
      ]
     },
     "execution_count": 7,
     "metadata": {},
     "output_type": "execute_result"
    }
   ],
   "source": [
    "data.columns"
   ]
  },
  {
   "cell_type": "markdown",
   "metadata": {},
   "source": [
    "# All runs"
   ]
  },
  {
   "cell_type": "code",
   "execution_count": 8,
   "metadata": {
    "collapsed": true
   },
   "outputs": [],
   "source": [
    "# Group by these:\n",
    "groupcols = ['subject', 'model', 'adjust_bias']\n",
    "# Don't show these:\n",
    "extracols = ['filepath', 'exetime', 'n_samples', 'filename']\n",
    "predcols = ['area', 'orientation', 'eccentricity', 'compactness']\n",
    "r2cols = ['r2_%s' % name for name in predcols]"
   ]
  },
  {
   "cell_type": "code",
   "execution_count": 9,
   "metadata": {},
   "outputs": [
    {
     "data": {
      "text/html": [
       "<div>\n",
       "<style scoped>\n",
       "    .dataframe tbody tr th:only-of-type {\n",
       "        vertical-align: middle;\n",
       "    }\n",
       "\n",
       "    .dataframe tbody tr th {\n",
       "        vertical-align: top;\n",
       "    }\n",
       "\n",
       "    .dataframe thead tr th {\n",
       "        text-align: left;\n",
       "    }\n",
       "\n",
       "    .dataframe thead tr:last-of-type th {\n",
       "        text-align: right;\n",
       "    }\n",
       "</style>\n",
       "<table border=\"1\" class=\"dataframe\">\n",
       "  <thead>\n",
       "    <tr>\n",
       "      <th></th>\n",
       "      <th></th>\n",
       "      <th></th>\n",
       "      <th></th>\n",
       "      <th colspan=\"3\" halign=\"left\">exetime</th>\n",
       "      <th colspan=\"3\" halign=\"left\">best_train_cost</th>\n",
       "    </tr>\n",
       "    <tr>\n",
       "      <th></th>\n",
       "      <th></th>\n",
       "      <th></th>\n",
       "      <th></th>\n",
       "      <th>mean</th>\n",
       "      <th>std</th>\n",
       "      <th>count</th>\n",
       "      <th>mean</th>\n",
       "      <th>std</th>\n",
       "      <th>count</th>\n",
       "    </tr>\n",
       "    <tr>\n",
       "      <th>subject</th>\n",
       "      <th>model</th>\n",
       "      <th>adjust_bias</th>\n",
       "      <th>idx_fold</th>\n",
       "      <th></th>\n",
       "      <th></th>\n",
       "      <th></th>\n",
       "      <th></th>\n",
       "      <th></th>\n",
       "      <th></th>\n",
       "    </tr>\n",
       "  </thead>\n",
       "  <tbody>\n",
       "    <tr>\n",
       "      <th rowspan=\"7\" valign=\"top\">TB</th>\n",
       "      <th rowspan=\"7\" valign=\"top\">C</th>\n",
       "      <th rowspan=\"7\" valign=\"top\">False</th>\n",
       "      <th>0</th>\n",
       "      <td>719.184646</td>\n",
       "      <td>NaN</td>\n",
       "      <td>1</td>\n",
       "      <td>7.632619</td>\n",
       "      <td>NaN</td>\n",
       "      <td>1</td>\n",
       "    </tr>\n",
       "    <tr>\n",
       "      <th>1</th>\n",
       "      <td>2018.496984</td>\n",
       "      <td>NaN</td>\n",
       "      <td>1</td>\n",
       "      <td>4.300310</td>\n",
       "      <td>NaN</td>\n",
       "      <td>1</td>\n",
       "    </tr>\n",
       "    <tr>\n",
       "      <th>2</th>\n",
       "      <td>804.565960</td>\n",
       "      <td>NaN</td>\n",
       "      <td>1</td>\n",
       "      <td>5.948967</td>\n",
       "      <td>NaN</td>\n",
       "      <td>1</td>\n",
       "    </tr>\n",
       "    <tr>\n",
       "      <th>3</th>\n",
       "      <td>1445.649070</td>\n",
       "      <td>NaN</td>\n",
       "      <td>1</td>\n",
       "      <td>5.077961</td>\n",
       "      <td>NaN</td>\n",
       "      <td>1</td>\n",
       "    </tr>\n",
       "    <tr>\n",
       "      <th>4</th>\n",
       "      <td>2005.187232</td>\n",
       "      <td>NaN</td>\n",
       "      <td>1</td>\n",
       "      <td>5.059254</td>\n",
       "      <td>NaN</td>\n",
       "      <td>1</td>\n",
       "    </tr>\n",
       "    <tr>\n",
       "      <th>5</th>\n",
       "      <td>2273.688582</td>\n",
       "      <td>NaN</td>\n",
       "      <td>1</td>\n",
       "      <td>5.559382</td>\n",
       "      <td>NaN</td>\n",
       "      <td>1</td>\n",
       "    </tr>\n",
       "    <tr>\n",
       "      <th>6</th>\n",
       "      <td>3277.801027</td>\n",
       "      <td>NaN</td>\n",
       "      <td>1</td>\n",
       "      <td>5.455404</td>\n",
       "      <td>NaN</td>\n",
       "      <td>1</td>\n",
       "    </tr>\n",
       "  </tbody>\n",
       "</table>\n",
       "</div>"
      ],
      "text/plain": [
       "                                        exetime           best_train_cost      \\\n",
       "                                           mean std count            mean std   \n",
       "subject model adjust_bias idx_fold                                              \n",
       "TB      C     False       0          719.184646 NaN     1        7.632619 NaN   \n",
       "                          1         2018.496984 NaN     1        4.300310 NaN   \n",
       "                          2          804.565960 NaN     1        5.948967 NaN   \n",
       "                          3         1445.649070 NaN     1        5.077961 NaN   \n",
       "                          4         2005.187232 NaN     1        5.059254 NaN   \n",
       "                          5         2273.688582 NaN     1        5.559382 NaN   \n",
       "                          6         3277.801027 NaN     1        5.455404 NaN   \n",
       "\n",
       "                                          \n",
       "                                   count  \n",
       "subject model adjust_bias idx_fold        \n",
       "TB      C     False       0            1  \n",
       "                          1            1  \n",
       "                          2            1  \n",
       "                          3            1  \n",
       "                          4            1  \n",
       "                          5            1  \n",
       "                          6            1  "
      ]
     },
     "execution_count": 9,
     "metadata": {},
     "output_type": "execute_result"
    }
   ],
   "source": [
    "data.groupby(groupcols + ['idx_fold'], sort=False)['exetime', 'best_train_cost'].agg(['mean', 'std', 'count'])"
   ]
  },
  {
   "cell_type": "markdown",
   "metadata": {},
   "source": [
    "# The best runs in their respective category"
   ]
  },
  {
   "cell_type": "code",
   "execution_count": 10,
   "metadata": {},
   "outputs": [
    {
     "name": "stdout",
     "output_type": "stream",
     "text": [
      "Best scores:\n"
     ]
    },
    {
     "data": {
      "text/html": [
       "<div>\n",
       "<style scoped>\n",
       "    .dataframe tbody tr th:only-of-type {\n",
       "        vertical-align: middle;\n",
       "    }\n",
       "\n",
       "    .dataframe tbody tr th {\n",
       "        vertical-align: top;\n",
       "    }\n",
       "\n",
       "    .dataframe thead th {\n",
       "        text-align: right;\n",
       "    }\n",
       "</style>\n",
       "<table border=\"1\" class=\"dataframe\">\n",
       "  <thead>\n",
       "    <tr style=\"text-align: right;\">\n",
       "      <th></th>\n",
       "      <th></th>\n",
       "      <th></th>\n",
       "      <th></th>\n",
       "      <th>count</th>\n",
       "      <th>min</th>\n",
       "    </tr>\n",
       "    <tr>\n",
       "      <th>subject</th>\n",
       "      <th>model</th>\n",
       "      <th>adjust_bias</th>\n",
       "      <th>idx_fold</th>\n",
       "      <th></th>\n",
       "      <th></th>\n",
       "    </tr>\n",
       "  </thead>\n",
       "  <tbody>\n",
       "    <tr>\n",
       "      <th rowspan=\"7\" valign=\"top\">TB</th>\n",
       "      <th rowspan=\"7\" valign=\"top\">C</th>\n",
       "      <th rowspan=\"7\" valign=\"top\">False</th>\n",
       "      <th>0</th>\n",
       "      <td>1</td>\n",
       "      <td>7.632619</td>\n",
       "    </tr>\n",
       "    <tr>\n",
       "      <th>1</th>\n",
       "      <td>1</td>\n",
       "      <td>4.300310</td>\n",
       "    </tr>\n",
       "    <tr>\n",
       "      <th>2</th>\n",
       "      <td>1</td>\n",
       "      <td>5.948967</td>\n",
       "    </tr>\n",
       "    <tr>\n",
       "      <th>3</th>\n",
       "      <td>1</td>\n",
       "      <td>5.077961</td>\n",
       "    </tr>\n",
       "    <tr>\n",
       "      <th>4</th>\n",
       "      <td>1</td>\n",
       "      <td>5.059254</td>\n",
       "    </tr>\n",
       "    <tr>\n",
       "      <th>5</th>\n",
       "      <td>1</td>\n",
       "      <td>5.559382</td>\n",
       "    </tr>\n",
       "    <tr>\n",
       "      <th>6</th>\n",
       "      <td>1</td>\n",
       "      <td>5.455404</td>\n",
       "    </tr>\n",
       "  </tbody>\n",
       "</table>\n",
       "</div>"
      ],
      "text/plain": [
       "                                    count       min\n",
       "subject model adjust_bias idx_fold                 \n",
       "TB      C     False       0             1  7.632619\n",
       "                          1             1  4.300310\n",
       "                          2             1  5.948967\n",
       "                          3             1  5.077961\n",
       "                          4             1  5.059254\n",
       "                          5             1  5.559382\n",
       "                          6             1  5.455404"
      ]
     },
     "execution_count": 10,
     "metadata": {},
     "output_type": "execute_result"
    }
   ],
   "source": [
    "print('Best scores:')\n",
    "# Find the rows that have the best score in their subject/model/bias group:\n",
    "best_idx = data.groupby(groupcols + ['idx_fold'])['best_train_cost'].idxmin()\n",
    "data.loc[best_idx, :].drop(columns=extracols).groupby(groupcols + ['idx_fold'])['best_train_cost'].agg(['count',\n",
    "                                                                                                        'min'])"
   ]
  },
  {
   "cell_type": "code",
   "execution_count": 11,
   "metadata": {},
   "outputs": [
    {
     "data": {
      "text/html": [
       "<div>\n",
       "<style scoped>\n",
       "    .dataframe tbody tr th:only-of-type {\n",
       "        vertical-align: middle;\n",
       "    }\n",
       "\n",
       "    .dataframe tbody tr th {\n",
       "        vertical-align: top;\n",
       "    }\n",
       "\n",
       "    .dataframe thead th {\n",
       "        text-align: right;\n",
       "    }\n",
       "</style>\n",
       "<table border=\"1\" class=\"dataframe\">\n",
       "  <thead>\n",
       "    <tr style=\"text-align: right;\">\n",
       "      <th></th>\n",
       "      <th>adjust_bias</th>\n",
       "      <th>best_test_cost</th>\n",
       "      <th>model</th>\n",
       "      <th>r2_area</th>\n",
       "      <th>r2_compactness</th>\n",
       "      <th>r2_eccentricity</th>\n",
       "      <th>r2_orientation</th>\n",
       "      <th>subject</th>\n",
       "      <th>y_pred</th>\n",
       "      <th>y_test</th>\n",
       "    </tr>\n",
       "  </thead>\n",
       "  <tbody>\n",
       "    <tr>\n",
       "      <th>0</th>\n",
       "      <td>False</td>\n",
       "      <td>11.350397</td>\n",
       "      <td>C</td>\n",
       "      <td>-1.901666</td>\n",
       "      <td>-1.996269</td>\n",
       "      <td>-4.134773</td>\n",
       "      <td>0.682311</td>\n",
       "      <td>TB</td>\n",
       "      <td>area  compactness  eccentricity  orientati...</td>\n",
       "      <td>area  compactness  eccentricity  orientat...</td>\n",
       "    </tr>\n",
       "  </tbody>\n",
       "</table>\n",
       "</div>"
      ],
      "text/plain": [
       "   adjust_bias  best_test_cost model   r2_area  r2_compactness  \\\n",
       "0        False       11.350397     C -1.901666       -1.996269   \n",
       "\n",
       "   r2_eccentricity  r2_orientation subject  \\\n",
       "0        -4.134773        0.682311      TB   \n",
       "\n",
       "                                              y_pred  \\\n",
       "0      area  compactness  eccentricity  orientati...   \n",
       "\n",
       "                                              y_test  \n",
       "0       area  compactness  eccentricity  orientat...  "
      ]
     },
     "execution_count": 11,
     "metadata": {},
     "output_type": "execute_result"
    }
   ],
   "source": [
    "best = calc_test_cost(data.loc[best_idx, :].groupby(groupcols, sort=False), verbose=False)\n",
    "best"
   ]
  },
  {
   "cell_type": "markdown",
   "metadata": {},
   "source": [
    "# Plot predictions"
   ]
  },
  {
   "cell_type": "code",
   "execution_count": 12,
   "metadata": {},
   "outputs": [
    {
     "data": {
      "image/png": "[encoded data removed]",
      "text/plain": [
       "<matplotlib.figure.Figure at 0x7fdae5d2e198>"
      ]
     },
     "metadata": {},
     "output_type": "display_data"
    }
   ],
   "source": [
    "plotmodel = 'C'\n",
    "fig, axes = plt.subplots(ncols=len(predcols), nrows=len(subjects), \n",
    "                         figsize=(14, 3 * len(subjects)))\n",
    "markers = ['o', 's', 'v', '^']\n",
    "colors = ['#0072B2', '#009E73', '#D55E00', '#CC79A7']\n",
    "ticks = [[0, 16000], [-90, 90], [0, 1], [0, 1]]\n",
    "limits = [[-1600, 16600], [-108, 108], [-0.1, 1.1], [-0.1, 1.1]]\n",
    "labels = ['area (deg$^2$)', 'orientation (deg)', 'eccentricity', 'compactness']\n",
    "for subject, marker, color, axrow in zip(subjects, markers, colors, axes):\n",
    "    for _, row in best[np.logical_and(best['subject'] == subject, best['model'] == plotmodel)].iterrows():\n",
    "        for col, ax, tick, lim, label in zip(predcols, axrow, ticks, limits, labels):\n",
    "            y = row['y_test']\n",
    "            y_pred = row['y_pred']\n",
    "            ax.scatter(y[col], y_pred[col], marker=marker, s=50, c=color, alpha=0.5)\n",
    "            ax.plot([tick[0], tick[1]], [tick[0], tick[1]], 'k--')\n",
    "            ax.set_xticks(np.linspace(*tick, num=5))\n",
    "            ax.set_yticks(np.linspace(*tick, num=5))\n",
    "            ax.set_xlim(*lim)\n",
    "            ax.set_ylim(*lim)\n",
    "            ax.set_xlabel('observed %s' % label)\n",
    "            ax.set_ylabel('predicted %s' % label)\n",
    "            ax.axis('square')\n",
    "            slope, intercept, rval, pval, _ = spst.linregress(y[col], y_pred[col])\n",
    "            ax.text(tick[1], tick[0], \"$N$=%d\\n$r$=%.3f, $p$=%.2e\" % (len(y), rval, pval), va='bottom', ha='right')\n",
    "        break\n",
    "    axrow[0].set_ylabel('Subject: %s, Model: %s\\npredicted %s' % (row['subject'], row['model'], labels[0]))\n",
    "fig.tight_layout()\n",
    "fig.savefig('predict-cv-%s.png' % plotmodel)"
   ]
  },
  {
   "cell_type": "code",
   "execution_count": null,
   "metadata": {
    "collapsed": true
   },
   "outputs": [],
   "source": []
  },
  {
   "cell_type": "code",
   "execution_count": null,
   "metadata": {
    "collapsed": true
   },
   "outputs": [],
   "source": []
  },
  {
   "cell_type": "code",
   "execution_count": null,
   "metadata": {
    "collapsed": true
   },
   "outputs": [],
   "source": []
  }
 ],
 "metadata": {
  "kernelspec": {
   "display_name": "Python [default]",
   "language": "python",
   "name": "python3"
  },
  "language_info": {
   "codemirror_mode": {
    "name": "ipython",
    "version": 3
   },
   "file_extension": ".py",
   "mimetype": "text/x-python",
   "name": "python",
   "nbconvert_exporter": "python",
   "pygments_lexer": "ipython3",
   "version": "3.5.3"
  }
 },
 "nbformat": 4,
 "nbformat_minor": 2
}
