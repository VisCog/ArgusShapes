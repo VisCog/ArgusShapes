{
 "cells": [
  {
   "cell_type": "code",
   "execution_count": 1,
   "metadata": {},
   "outputs": [
    {
     "name": "stderr",
     "output_type": "stream",
     "text": [
      "/home/mbeyeler/anaconda3/lib/python3.5/site-packages/skvideo/__init__.py:356: UserWarning: avconv/avprobe not found in path: \n",
      "  warnings.warn(\"avconv/avprobe not found in path: \" + str(path), UserWarning)\n",
      "2018-04-08 04:44:21,646 [pulse2percept] [INFO] Welcome to pulse2percept\n"
     ]
    }
   ],
   "source": [
    "import os\n",
    "import six\n",
    "import glob\n",
    "import pickle\n",
    "\n",
    "import numpy as np\n",
    "import pandas as pd\n",
    "import scipy.stats as spst\n",
    "\n",
    "import p2pspatial\n",
    "import pulse2percept.utils as p2pu\n",
    "\n",
    "from sklearn.base import clone\n",
    "import sklearn.metrics as sklm\n",
    "\n",
    "%matplotlib inline\n",
    "import matplotlib.pyplot as plt\n",
    "plt.style.use('ggplot')"
   ]
  },
  {
   "cell_type": "markdown",
   "metadata": {},
   "source": [
    "# Load data"
   ]
  },
  {
   "cell_type": "code",
   "execution_count": 2,
   "metadata": {
    "collapsed": true
   },
   "outputs": [],
   "source": [
    "def fix_data(pickle_files, verbose=True):\n",
    "    data = []\n",
    "    for pickle_file in pickle_files:\n",
    "        if verbose:\n",
    "            print('- Processing %s' % pickle_file)\n",
    "        y_test, y_pred, best_params, specifics = pickle.load(open(pickle_file, 'rb'))\n",
    "        \n",
    "        if np.allclose([c in specifics for c in ['idx_fold', 'best_train_score', 'best_test_score']], True):\n",
    "            if verbose:\n",
    "                print(\"  - File up-to-date, skip.\")\n",
    "            continue\n",
    "\n",
    "        if 'idx_fold' in specifics:\n",
    "            idx_fold = specifics['idx_fold']\n",
    "        else:\n",
    "            idx_begin = pickle_file.find(\"shape3cvLOO-\") + 12\n",
    "            assert idx_begin > 12\n",
    "            idx_end = pickle_file[idx_begin:].find(\"-\")\n",
    "            if idx_end > 2:\n",
    "                print('  - No CV fold found, skip.')\n",
    "                continue\n",
    "            idx_fold = int(pickle_file[idx_begin:idx_begin + idx_end])\n",
    "            \n",
    "        if 'best_test_score' in specifics:\n",
    "            best_test_score = specifics['best_test_score']\n",
    "        elif 'best_score' in specifics:\n",
    "            best_test_score = specifics['best_score'][0]\n",
    "            del specifics['best_score']\n",
    "        else:\n",
    "            best_test_score = np.inf\n",
    "\n",
    "        if 'best_train_score' in specifics:\n",
    "            best_train_score = specifics['best_train_score']\n",
    "        else:\n",
    "            rootfolder = os.path.join(os.environ['SECOND_SIGHT_DATA'], 'shape')\n",
    "            X, y = p2pspatial.load_data(rootfolder, subject=specifics['subject'], electrodes=None,\n",
    "                                        amplitude=specifics['amplitude'], random_state=42,\n",
    "                                        n_jobs=1, verbose=False)\n",
    "            X, y = p2pspatial.exclude_bistables(X, y)\n",
    "            if specifics['adjust_bias']:\n",
    "                y = p2pspatial.adjust_drawing_bias(X, y,\n",
    "                                                   scale_major=specifics['drawing']['major'],\n",
    "                                                   scale_minor=specifics['drawing']['minor'],\n",
    "                                                   rotate=specifics['drawing']['orient'])\n",
    "                print('  - Adjusted for drawing bias:', X.shape, y.shape)\n",
    "            if len(X) == 0:\n",
    "                raise ValueError('No data found. Abort.')\n",
    "            if specifics['avg_img']:\n",
    "                X, y = p2pspatial.calc_mean_images(X, y)\n",
    "            reg = specifics['regressor']\n",
    "            reg.set_params(**best_params[0])\n",
    "            reg.fit(X.drop(y_test[0].index));\n",
    "            reg.set_params(engine='serial')\n",
    "            best_train_score = reg.score(X.drop(y_test[0].index), y.drop(y_test[0].index))\n",
    "        \n",
    "        print('  - idx_fold=%d, best_train_score=%f, best_test_score=%f' % (idx_fold,\\\n",
    "                                                                            best_train_score,\n",
    "                                                                            best_test_score))\n",
    "        specifics['idx_fold'] = idx_fold\n",
    "        specifics['best_train_score'] = best_train_score\n",
    "        specifics['best_test_score'] = best_test_score\n",
    "\n",
    "        pickle.dump((y_test, y_pred, best_params, specifics), open(pickle_file, 'wb'))\n",
    "        print('  - Dumped new data to', pickle_file)"
   ]
  },
  {
   "cell_type": "code",
   "execution_count": 3,
   "metadata": {},
   "outputs": [
    {
     "name": "stdout",
     "output_type": "stream",
     "text": [
      "Found 1158 files\n"
     ]
    }
   ],
   "source": [
    "results_dir = '../../results/shape3cv/'\n",
    "pickle_files = np.sort(glob.glob(os.path.join(results_dir, '*.pickle')))\n",
    "print('Found', len(pickle_files), 'files')"
   ]
  },
  {
   "cell_type": "code",
   "execution_count": null,
   "metadata": {
    "collapsed": true
   },
   "outputs": [],
   "source": [
    "subjects = ['12-005', '51-009', '52-001', 'TB']\n",
    "assert_params = {\n",
    "    'amplitude': 2.0,\n",
    "}\n",
    "rootfolder = os.path.join(os.environ['SECOND_SIGHT_DATA'], 'shape')"
   ]
  },
  {
   "cell_type": "code",
   "execution_count": null,
   "metadata": {},
   "outputs": [
    {
     "name": "stdout",
     "output_type": "stream",
     "text": [
      "  - idx_fold=12, best_train_score=11.831376, best_test_score=3708451533.234240\n",
      "  - Dumped new data to ../../results/shape3cv/51-009_D__shape3cvLOO-12-swarm_2018-04-08_01-21-51.pickle\n",
      "  - idx_fold=2, best_train_score=9.539236, best_test_score=464341778997.627747\n",
      "  - Dumped new data to ../../results/shape3cv/51-009_D__shape3cvLOO-2-swarm_2018-04-08_00-54-21.pickle\n",
      "  - idx_fold=3, best_train_score=7.423799, best_test_score=158341419598.408722\n",
      "  - Dumped new data to ../../results/shape3cv/51-009_D__shape3cvLOO-3-swarm_2018-04-08_03-10-27.pickle\n",
      "  - idx_fold=8, best_train_score=10.041312, best_test_score=462407965844.873047\n",
      "  - Dumped new data to ../../results/shape3cv/51-009_D__shape3cvLOO-8-swarm_2018-04-08_00-41-41.pickle\n",
      "  - Adjusted for drawing bias: (90, 10) (90, 8)\n",
      "  - idx_fold=1, best_train_score=14.738177, best_test_score=2033766455131.810303\n",
      "  - Dumped new data to ../../results/shape3cv/51-009_D_adjust_shape3cvLOO-1-swarm_2018-04-07_13-22-57.pickle\n",
      "  - Adjusted for drawing bias: (90, 10) (90, 8)\n",
      "  - idx_fold=10, best_train_score=8.086923, best_test_score=775646299768.470581\n",
      "  - Dumped new data to ../../results/shape3cv/51-009_D_adjust_shape3cvLOO-10-swarm_2018-04-08_00-29-50.pickle\n",
      "  - Adjusted for drawing bias: (90, 10) (90, 8)\n",
      "  - idx_fold=4, best_train_score=6.228773, best_test_score=2252346390144.684570\n",
      "  - Dumped new data to ../../results/shape3cv/51-009_D_adjust_shape3cvLOO-4-swarm_2018-04-08_03-12-22.pickle\n",
      "  - Adjusted for drawing bias: (90, 10) (90, 8)\n",
      "  - idx_fold=8, best_train_score=10.791452, best_test_score=499362804402.138062\n",
      "  - Dumped new data to ../../results/shape3cv/51-009_D_adjust_shape3cvLOO-8-swarm_2018-04-08_01-12-24.pickle\n",
      "  - idx_fold=10, best_train_score=3.429156, best_test_score=768783954313.958374\n",
      "  - Dumped new data to ../../results/shape3cv/52-001_D__shape3cvLOO-10-swarm_2018-04-08_05-26-27.pickle\n",
      "  - idx_fold=11, best_train_score=4.706485, best_test_score=46642548459.338699\n",
      "  - Dumped new data to ../../results/shape3cv/52-001_D__shape3cvLOO-11-swarm_2018-04-08_08-56-59.pickle\n",
      "  - idx_fold=9, best_train_score=3.439412, best_test_score=5734903658.983571\n",
      "  - Dumped new data to ../../results/shape3cv/52-001_D__shape3cvLOO-9-swarm_2018-04-08_02-54-30.pickle\n",
      "  - Adjusted for drawing bias: (125, 10) (125, 8)\n",
      "  - idx_fold=10, best_train_score=5.784686, best_test_score=377926211610.890747\n",
      "  - Dumped new data to ../../results/shape3cv/52-001_D_adjust_shape3cvLOO-10-swarm_2018-04-08_07-23-07.pickle\n",
      "  - Adjusted for drawing bias: (125, 10) (125, 8)\n",
      "  - idx_fold=11, best_train_score=5.009839, best_test_score=454508106020.284180\n",
      "  - Dumped new data to ../../results/shape3cv/52-001_D_adjust_shape3cvLOO-11-swarm_2018-04-08_08-02-57.pickle\n",
      "  - Adjusted for drawing bias: (125, 10) (125, 8)\n",
      "  - idx_fold=12, best_train_score=4.432759, best_test_score=169600964800.818176\n",
      "  - Dumped new data to ../../results/shape3cv/52-001_D_adjust_shape3cvLOO-12-swarm_2018-04-08_09-26-39.pickle\n",
      "  - Adjusted for drawing bias: (125, 10) (125, 8)\n",
      "  - idx_fold=3, best_train_score=4.041614, best_test_score=2453825205208.746582\n",
      "  - Dumped new data to ../../results/shape3cv/52-001_D_adjust_shape3cvLOO-3-swarm_2018-04-08_03-04-42.pickle\n",
      "  - Adjusted for drawing bias: (125, 10) (125, 8)\n",
      "  - idx_fold=7, best_train_score=4.550098, best_test_score=5690990161.486246\n",
      "  - Dumped new data to ../../results/shape3cv/52-001_D_adjust_shape3cvLOO-7-swarm_2018-04-08_01-59-25.pickle\n",
      "  - Adjusted for drawing bias: (125, 10) (125, 8)\n",
      "  - idx_fold=9, best_train_score=3.472344, best_test_score=3015473764.031991\n",
      "  - Dumped new data to ../../results/shape3cv/52-001_D_adjust_shape3cvLOO-9-swarm_2018-04-08_03-16-40.pickle\n"
     ]
    }
   ],
   "source": [
    "data = fix_data(pickle_files, verbose=False)"
   ]
  },
  {
   "cell_type": "code",
   "execution_count": null,
   "metadata": {},
   "outputs": [],
   "source": [
    "print('All Done!')"
   ]
  },
  {
   "cell_type": "code",
   "execution_count": null,
   "metadata": {
    "collapsed": true
   },
   "outputs": [],
   "source": []
  }
 ],
 "metadata": {
  "kernelspec": {
   "display_name": "Python [default]",
   "language": "python",
   "name": "python3"
  },
  "language_info": {
   "codemirror_mode": {
    "name": "ipython",
    "version": 3
   },
   "file_extension": ".py",
   "mimetype": "text/x-python",
   "name": "python",
   "nbconvert_exporter": "python",
   "pygments_lexer": "ipython3",
   "version": "3.5.3"
  }
 },
 "nbformat": 4,
 "nbformat_minor": 2
}
