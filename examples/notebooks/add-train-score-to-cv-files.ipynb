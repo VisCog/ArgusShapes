{
 "cells": [
  {
   "cell_type": "code",
   "execution_count": 1,
   "metadata": {},
   "outputs": [
    {
     "name": "stderr",
     "output_type": "stream",
     "text": [
      "/home/mbeyeler/anaconda3/lib/python3.5/site-packages/skvideo/__init__.py:356: UserWarning: avconv/avprobe not found in path: \n",
      "  warnings.warn(\"avconv/avprobe not found in path: \" + str(path), UserWarning)\n",
      "2018-04-09 16:17:13,078 [pulse2percept] [INFO] Welcome to pulse2percept\n"
     ]
    }
   ],
   "source": [
    "import os\n",
    "import six\n",
    "import glob\n",
    "import pickle\n",
    "\n",
    "import numpy as np\n",
    "import pandas as pd\n",
    "import scipy.stats as spst\n",
    "\n",
    "import argus_shapes\n",
    "import pulse2percept.utils as p2pu\n",
    "\n",
    "from sklearn.base import clone\n",
    "import sklearn.metrics as sklm\n",
    "\n",
    "%matplotlib inline\n",
    "import matplotlib.pyplot as plt\n",
    "plt.style.use('ggplot')"
   ]
  },
  {
   "cell_type": "markdown",
   "metadata": {},
   "source": [
    "# Load data"
   ]
  },
  {
   "cell_type": "code",
   "execution_count": 2,
   "metadata": {
    "collapsed": true
   },
   "outputs": [],
   "source": [
    "def fix_data(pickle_files, verbose=True):\n",
    "    data = []\n",
    "    for pickle_file in pickle_files:\n",
    "        if verbose:\n",
    "            print('- Processing %s' % pickle_file)\n",
    "        y_test, y_pred, best_params, specifics = pickle.load(open(pickle_file, 'rb'))\n",
    "        \n",
    "        if np.allclose([c in specifics for c in ['idx_fold', 'best_train_score', 'best_test_score']], True):\n",
    "            if verbose:\n",
    "                print(\"  - File up-to-date, skip.\")\n",
    "            continue\n",
    "\n",
    "        if 'idx_fold' in specifics:\n",
    "            idx_fold = specifics['idx_fold']\n",
    "        else:\n",
    "            idx_begin = pickle_file.find(\"shape3cvLOO-\") + 12\n",
    "            assert idx_begin > 12\n",
    "            idx_end = pickle_file[idx_begin:].find(\"-\")\n",
    "            if idx_end > 2:\n",
    "                print('  - No CV fold found, skip.')\n",
    "                continue\n",
    "            idx_fold = int(pickle_file[idx_begin:idx_begin + idx_end])\n",
    "            \n",
    "        if 'best_test_score' in specifics:\n",
    "            best_test_score = specifics['best_test_score']\n",
    "        elif 'best_score' in specifics:\n",
    "            best_test_score = specifics['best_score'][0]\n",
    "            del specifics['best_score']\n",
    "        else:\n",
    "            best_test_score = np.inf\n",
    "\n",
    "        if 'best_train_score' in specifics:\n",
    "            best_train_score = specifics['best_train_score']\n",
    "        else:\n",
    "            rootfolder = os.path.join(os.environ['SECOND_SIGHT_DATA'], 'shape')\n",
    "            X, y = argus_shapes.load_data(rootfolder, subject=specifics['subject'], electrodes=None,\n",
    "                                        amplitude=specifics['amplitude'], random_state=42,\n",
    "                                        n_jobs=1, verbose=False)\n",
    "            X, y = argus_shapes.exclude_bistables(X, y)\n",
    "            if specifics['adjust_bias']:\n",
    "                y = argus_shapes.adjust_drawing_bias(X, y,\n",
    "                                                   scale_major=specifics['drawing']['major'],\n",
    "                                                   scale_minor=specifics['drawing']['minor'],\n",
    "                                                   rotate=specifics['drawing']['orient'])\n",
    "                print('  - Adjusted for drawing bias:', X.shape, y.shape)\n",
    "            if len(X) == 0:\n",
    "                raise ValueError('No data found. Abort.')\n",
    "            if specifics['avg_img']:\n",
    "                X, y = argus_shapes.calc_mean_images(X, y)\n",
    "            reg = specifics['regressor']\n",
    "            reg.set_params(**best_params[0])\n",
    "            reg.fit(X.drop(y_test[0].index));\n",
    "            reg.set_params(engine='serial')\n",
    "            best_train_score = reg.score(X.drop(y_test[0].index), y.drop(y_test[0].index))\n",
    "        \n",
    "        print('  - idx_fold=%d, best_train_score=%f, best_test_score=%f' % (idx_fold,\\\n",
    "                                                                            best_train_score,\n",
    "                                                                            best_test_score))\n",
    "        specifics['idx_fold'] = idx_fold\n",
    "        specifics['best_train_score'] = best_train_score\n",
    "        specifics['best_test_score'] = best_test_score\n",
    "\n",
    "        pickle.dump((y_test, y_pred, best_params, specifics), open(pickle_file, 'wb'))\n",
    "        print('  - Dumped new data to', pickle_file)"
   ]
  },
  {
   "cell_type": "code",
   "execution_count": 3,
   "metadata": {},
   "outputs": [
    {
     "name": "stdout",
     "output_type": "stream",
     "text": [
      "Found 1209 files\n"
     ]
    }
   ],
   "source": [
    "results_dir = '../../results/shape3cv/'\n",
    "pickle_files = np.sort(glob.glob(os.path.join(results_dir, '*.pickle')))\n",
    "print('Found', len(pickle_files), 'files')"
   ]
  },
  {
   "cell_type": "code",
   "execution_count": 4,
   "metadata": {
    "collapsed": true
   },
   "outputs": [],
   "source": [
    "subjects = ['12-005', '51-009', '52-001', 'TB']\n",
    "assert_params = {\n",
    "    'amplitude': 2.0,\n",
    "}\n",
    "rootfolder = os.path.join(os.environ['SECOND_SIGHT_DATA'], 'shape')"
   ]
  },
  {
   "cell_type": "code",
   "execution_count": 5,
   "metadata": {},
   "outputs": [
    {
     "name": "stdout",
     "output_type": "stream",
     "text": [
      "  - idx_fold=0, best_train_score=12.347908, best_test_score=1830216475410.484619\n",
      "  - Dumped new data to ../../results/shape3cv/51-009_D__shape3cvLOO-0-swarm_2018-04-09_03-36-50.pickle\n",
      "  - idx_fold=1, best_train_score=6.988467, best_test_score=163031929329.170471\n",
      "  - Dumped new data to ../../results/shape3cv/51-009_D__shape3cvLOO-1-swarm_2018-04-09_13-23-16.pickle\n",
      "  - idx_fold=10, best_train_score=6.404791, best_test_score=3071676425.052069\n",
      "  - Dumped new data to ../../results/shape3cv/51-009_D__shape3cvLOO-10-swarm_2018-04-09_12-08-10.pickle\n",
      "  - idx_fold=11, best_train_score=10.074544, best_test_score=469790598523.792847\n",
      "  - Dumped new data to ../../results/shape3cv/51-009_D__shape3cvLOO-11-swarm_2018-04-09_16-07-22.pickle\n",
      "  - idx_fold=12, best_train_score=8.003070, best_test_score=65328453968.044060\n",
      "  - Dumped new data to ../../results/shape3cv/51-009_D__shape3cvLOO-12-swarm_2018-04-09_00-57-14.pickle\n",
      "  - idx_fold=2, best_train_score=6.042219, best_test_score=230006948312.796875\n",
      "  - Dumped new data to ../../results/shape3cv/51-009_D__shape3cvLOO-2-swarm_2018-04-08_21-05-48.pickle\n",
      "  - idx_fold=2, best_train_score=12.277499, best_test_score=485654692723.307739\n",
      "  - Dumped new data to ../../results/shape3cv/51-009_D__shape3cvLOO-2-swarm_2018-04-09_16-52-25.pickle\n",
      "  - idx_fold=4, best_train_score=7.886386, best_test_score=12636921680.983816\n",
      "  - Dumped new data to ../../results/shape3cv/51-009_D__shape3cvLOO-4-swarm_2018-04-09_02-59-17.pickle\n",
      "  - idx_fold=5, best_train_score=8.686824, best_test_score=607933609890.706665\n",
      "  - Dumped new data to ../../results/shape3cv/51-009_D__shape3cvLOO-5-swarm_2018-04-09_05-28-34.pickle\n",
      "  - idx_fold=6, best_train_score=13.343666, best_test_score=438906243831.671936\n",
      "  - Dumped new data to ../../results/shape3cv/51-009_D__shape3cvLOO-6-swarm_2018-04-08_20-32-41.pickle\n",
      "  - idx_fold=7, best_train_score=12.570450, best_test_score=2324454215734.263672\n",
      "  - Dumped new data to ../../results/shape3cv/51-009_D__shape3cvLOO-7-swarm_2018-04-09_04-00-35.pickle\n",
      "  - idx_fold=8, best_train_score=13.100143, best_test_score=298918598103.507019\n",
      "  - Dumped new data to ../../results/shape3cv/51-009_D__shape3cvLOO-8-swarm_2018-04-09_06-31-18.pickle\n",
      "  - idx_fold=9, best_train_score=8.514565, best_test_score=59581777.962820\n",
      "  - Dumped new data to ../../results/shape3cv/51-009_D__shape3cvLOO-9-swarm_2018-04-09_06-11-47.pickle\n",
      "  - Adjusted for drawing bias: (90, 10) (90, 8)\n",
      "  - idx_fold=0, best_train_score=18.429389, best_test_score=518670043744.719604\n",
      "  - Dumped new data to ../../results/shape3cv/51-009_D_adjust_shape3cvLOO-0-swarm_2018-04-09_08-51-54.pickle\n",
      "  - Adjusted for drawing bias: (90, 10) (90, 8)\n",
      "  - idx_fold=1, best_train_score=10.843102, best_test_score=2226533755590.038574\n",
      "  - Dumped new data to ../../results/shape3cv/51-009_D_adjust_shape3cvLOO-1-swarm_2018-04-08_22-13-35.pickle\n",
      "  - Adjusted for drawing bias: (90, 10) (90, 8)\n",
      "  - idx_fold=1, best_train_score=35.594466, best_test_score=165110992537.472656\n",
      "  - Dumped new data to ../../results/shape3cv/51-009_D_adjust_shape3cvLOO-1-swarm_2018-04-09_15-13-49.pickle\n",
      "  - Adjusted for drawing bias: (90, 10) (90, 8)\n",
      "  - idx_fold=10, best_train_score=6.837478, best_test_score=1202260515775.528320\n",
      "  - Dumped new data to ../../results/shape3cv/51-009_D_adjust_shape3cvLOO-10-swarm_2018-04-09_03-24-12.pickle\n",
      "  - Adjusted for drawing bias: (90, 10) (90, 8)\n",
      "  - idx_fold=11, best_train_score=31.460883, best_test_score=68031888748.315590\n",
      "  - Dumped new data to ../../results/shape3cv/51-009_D_adjust_shape3cvLOO-11-swarm_2018-04-09_05-45-47.pickle\n",
      "  - Adjusted for drawing bias: (90, 10) (90, 8)\n",
      "  - idx_fold=12, best_train_score=7.648856, best_test_score=8575629094.056775\n",
      "  - Dumped new data to ../../results/shape3cv/51-009_D_adjust_shape3cvLOO-12-swarm_2018-04-09_13-23-45.pickle\n",
      "  - Adjusted for drawing bias: (90, 10) (90, 8)\n",
      "  - idx_fold=2, best_train_score=8.304731, best_test_score=1435272204717.245361\n",
      "  - Dumped new data to ../../results/shape3cv/51-009_D_adjust_shape3cvLOO-2-swarm_2018-04-09_04-52-03.pickle\n",
      "  - Adjusted for drawing bias: (90, 10) (90, 8)\n",
      "  - idx_fold=3, best_train_score=8.147670, best_test_score=566741481838.127197\n",
      "  - Dumped new data to ../../results/shape3cv/51-009_D_adjust_shape3cvLOO-3-swarm_2018-04-09_07-38-17.pickle\n",
      "  - Adjusted for drawing bias: (90, 10) (90, 8)\n",
      "  - idx_fold=4, best_train_score=5.208928, best_test_score=360154520456.191772\n",
      "  - Dumped new data to ../../results/shape3cv/51-009_D_adjust_shape3cvLOO-4-swarm_2018-04-08_21-12-39.pickle\n",
      "  - Adjusted for drawing bias: (90, 10) (90, 8)\n",
      "  - idx_fold=4, best_train_score=10.495298, best_test_score=2143201195394.980225\n",
      "  - Dumped new data to ../../results/shape3cv/51-009_D_adjust_shape3cvLOO-4-swarm_2018-04-09_09-43-38.pickle\n",
      "  - Adjusted for drawing bias: (90, 10) (90, 8)\n",
      "  - idx_fold=5, best_train_score=4.776135, best_test_score=828947792166.135742\n",
      "  - Dumped new data to ../../results/shape3cv/51-009_D_adjust_shape3cvLOO-5-swarm_2018-04-09_03-24-34.pickle\n",
      "  - Adjusted for drawing bias: (90, 10) (90, 8)\n",
      "  - idx_fold=5, best_train_score=44.026813, best_test_score=1592756499568.127686\n",
      "  - Dumped new data to ../../results/shape3cv/51-009_D_adjust_shape3cvLOO-5-swarm_2018-04-09_13-13-38.pickle\n",
      "  - Adjusted for drawing bias: (90, 10) (90, 8)\n",
      "  - idx_fold=6, best_train_score=5.522681, best_test_score=415218427527.840820\n",
      "  - Dumped new data to ../../results/shape3cv/51-009_D_adjust_shape3cvLOO-6-swarm_2018-04-08_23-59-50.pickle\n",
      "  - Adjusted for drawing bias: (90, 10) (90, 8)\n",
      "  - idx_fold=7, best_train_score=89.680909, best_test_score=35213278611.777771\n",
      "  - Dumped new data to ../../results/shape3cv/51-009_D_adjust_shape3cvLOO-7-swarm_2018-04-09_07-31-06.pickle\n",
      "  - Adjusted for drawing bias: (90, 10) (90, 8)\n",
      "  - idx_fold=8, best_train_score=8.305616, best_test_score=499362804402.138062\n",
      "  - Dumped new data to ../../results/shape3cv/51-009_D_adjust_shape3cvLOO-8-swarm_2018-04-09_09-31-22.pickle\n",
      "  - Adjusted for drawing bias: (90, 10) (90, 8)\n",
      "  - idx_fold=9, best_train_score=6.269948, best_test_score=661626642254.677734\n",
      "  - Dumped new data to ../../results/shape3cv/51-009_D_adjust_shape3cvLOO-9-swarm_2018-04-08_23-57-55.pickle\n",
      "  - Adjusted for drawing bias: (90, 10) (90, 8)\n",
      "  - idx_fold=9, best_train_score=8.871881, best_test_score=106476223002.057831\n",
      "  - Dumped new data to ../../results/shape3cv/51-009_D_adjust_shape3cvLOO-9-swarm_2018-04-09_16-40-06.pickle\n"
     ]
    }
   ],
   "source": [
    "data = fix_data(pickle_files, verbose=False)"
   ]
  },
  {
   "cell_type": "code",
   "execution_count": 6,
   "metadata": {},
   "outputs": [
    {
     "name": "stdout",
     "output_type": "stream",
     "text": [
      "All Done!\n"
     ]
    }
   ],
   "source": [
    "print('All Done!')"
   ]
  },
  {
   "cell_type": "code",
   "execution_count": null,
   "metadata": {
    "collapsed": true
   },
   "outputs": [],
   "source": []
  }
 ],
 "metadata": {
  "kernelspec": {
   "display_name": "Python [default]",
   "language": "python",
   "name": "python3"
  },
  "language_info": {
   "codemirror_mode": {
    "name": "ipython",
    "version": 3
   },
   "file_extension": ".py",
   "mimetype": "text/x-python",
   "name": "python",
   "nbconvert_exporter": "python",
   "pygments_lexer": "ipython3",
   "version": "3.5.3"
  }
 },
 "nbformat": 4,
 "nbformat_minor": 2
}
