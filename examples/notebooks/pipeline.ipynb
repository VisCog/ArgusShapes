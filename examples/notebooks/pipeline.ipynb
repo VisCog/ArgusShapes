{
 "cells": [
  {
   "cell_type": "code",
   "execution_count": 1,
   "metadata": {},
   "outputs": [
    {
     "name": "stderr",
     "output_type": "stream",
     "text": [
      "/home/mbeyeler/anaconda3/lib/python3.5/site-packages/skvideo/__init__.py:356: UserWarning: avconv/avprobe not found in path: \n",
      "  warnings.warn(\"avconv/avprobe not found in path: \" + str(path), UserWarning)\n",
      "2017-11-13 15:58:12,717 [pulse2percept] [INFO] Welcome to pulse2percept\n"
     ]
    }
   ],
   "source": [
    "import numpy as np\n",
    "import os\n",
    "import skimage.io as skio\n",
    "import skimage.transform as skit\n",
    "from sklearn.pipeline import Pipeline\n",
    "\n",
    "import pulse2percept as p2p\n",
    "import p2pmodelselect\n",
    "import p2pspatial\n",
    "# console = logging.StreamHandler()\n",
    "# console.setLevel(logging.ERROR)\n",
    "\n",
    "%matplotlib inline\n",
    "import matplotlib.pyplot as plt"
   ]
  },
  {
   "cell_type": "code",
   "execution_count": 3,
   "metadata": {},
   "outputs": [],
   "source": [
    "rootfolder = '/home/mbeyeler/data/secondsight/shape/52-001'\n",
    "subject = None\n",
    "electrodes = 'A05'\n",
    "scaling = 8\n",
    "img_shape = (41, 61)\n",
    "X, y = p2pspatial.load_data(rootfolder, subject=subject, electrodes=electrodes,\n",
    "                            scaling=scaling, img_shape=img_shape)"
   ]
  },
  {
   "cell_type": "markdown",
   "metadata": {},
   "source": [
    "### Setup"
   ]
  },
  {
   "cell_type": "code",
   "execution_count": null,
   "metadata": {
    "collapsed": true
   },
   "outputs": [],
   "source": [
    "n_jobs = 1\n",
    "n_folds = 5\n",
    "sensitivity_rule = 'decay'\n",
    "cvmethod = 'random'\n",
    "cvparams = {'n_iter': 2}\n",
    "search_params = {'reg__decay_const': np.arange(1, 2),\n",
    "                 'reg__implant_x': np.linspace(-100, 100, 2),\n",
    "                 'reg__implant_y': np.linspace(-100, 100, 2),\n",
    "                 'reg__implant_rot': np.linspace(0, 2 * np.pi, 3)}\n",
    "fit_params = {'reg__sampling': 200,\n",
    "              'reg__sensitivity_rule': sensitivity_rule}\n",
    "pipe = Pipeline([('reg', p2pspatial.SpatialModelRegressor())])\n",
    "validator = p2pmodelselect.ModelValidator(pipe, search_params, fit_params=fit_params,\n",
    "                                          cvmethod=cvmethod, cvparams=cvparams,\n",
    "                                          n_jobs=n_jobs)"
   ]
  },
  {
   "cell_type": "markdown",
   "metadata": {},
   "source": [
    "### Visualize"
   ]
  },
  {
   "cell_type": "code",
   "execution_count": null,
   "metadata": {},
   "outputs": [],
   "source": [
    "best_params = {'reg__decay_const': 5,\n",
    "               'reg__implant_x': 0,\n",
    "               'reg__implant_y': 0,\n",
    "               'reg__implant_rot': 0}\n",
    "pipe.set_params(**best_params)\n",
    "pipe.fit(X, **fit_params)"
   ]
  },
  {
   "cell_type": "code",
   "execution_count": null,
   "metadata": {},
   "outputs": [],
   "source": [
    "%%timeit\n",
    "row = X.iloc[0, :]\n",
    "mp = pipe.steps[0][1].model_params\n",
    "implant = p2p.implants.ArgusII(x_center=mp['implant_x'],\n",
    "                                           y_center=mp['implant_y'],\n",
    "                                           rot=mp['implant_rot'])\n",
    "sim = p2pspatial.SpatialSimulation(implant)\n",
    "sim.set_optic_fiber_layer(sampling=mp['sampling'],\n",
    "                          x_range=p2p.retina.dva2ret((-30, 30)),\n",
    "                          y_range=p2p.retina.dva2ret((-20, 20)),\n",
    "                          decay_const=mp['decay_const'],\n",
    "                          sensitivity_rule=mp['sensitivity_rule'])\n",
    "electrode = '%s%d' % (row['electrode'][0], int(row['electrode'][1:]))\n",
    "img = sim.pulse2percept(electrode)"
   ]
  },
  {
   "cell_type": "code",
   "execution_count": null,
   "metadata": {},
   "outputs": [],
   "source": [
    "row = X.iloc[0, :]\n",
    "mp = pipe.steps[0][1].model_params\n",
    "implant = p2p.implants.ArgusII(x_center=mp['implant_x'],\n",
    "                                           y_center=mp['implant_y'],\n",
    "                                           rot=mp['implant_rot'])\n",
    "sim = p2pspatial.SpatialSimulation(implant)\n",
    "sim.set_optic_fiber_layer(sampling=mp['sampling'],\n",
    "                          x_range=p2p.retina.dva2ret((-30, 30)),\n",
    "                          y_range=p2p.retina.dva2ret((-20, 20)),\n",
    "                          decay_const=mp['decay_const'],\n",
    "                          sensitivity_rule=mp['sensitivity_rule'])\n",
    "# get rid of the leading zeros\n",
    "electrode = '%s%d' % (row['electrode'][0], int(row['electrode'][1:]))\n",
    "img = sim.pulse2percept(electrode)\n",
    "res_shape = (row['img_shape'][0] * row['scaling'],\n",
    "             row['img_shape'][1] * row['scaling'])\n",
    "props = p2pspatial.get_region_props(img, res_shape=res_shape, verbose=False)\n",
    "\n",
    "plt.figure(figsize=(12, 6))\n",
    "plt.subplot(121)\n",
    "plt.imshow(img)\n",
    "plt.subplot(122)\n",
    "plt.imshow(p2pspatial.get_thresholded_image(img))"
   ]
  },
  {
   "cell_type": "markdown",
   "metadata": {},
   "source": [
    "## Run grid search"
   ]
  },
  {
   "cell_type": "code",
   "execution_count": null,
   "metadata": {},
   "outputs": [],
   "source": [
    "from sklearn.model_selection import ParameterGrid\n",
    "from sklearn.base import clone\n",
    "\n",
    "def gridscore(g, ppipe, XX, yy, model_params={}):\n",
    "    pipe = clone(ppipe)\n",
    "    pipe.set_params(**g)\n",
    "    pipe.fit(XX, **model_params)\n",
    "    return pipe.score(XX, yy)\n",
    "\n",
    "grid = ParameterGrid(search_params)\n",
    "scores = p2p.utils.parfor(gridscore, grid, func_args=[pipe, X, y],\n",
    "                          func_kwargs={'model_params': fit_params})"
   ]
  },
  {
   "cell_type": "markdown",
   "metadata": {},
   "source": [
    "### Run grid search with cross-validation"
   ]
  },
  {
   "cell_type": "code",
   "execution_count": null,
   "metadata": {},
   "outputs": [],
   "source": [
    "X_test, y_true, y_pred, cv_results = p2pmodelselect.utils.crossval_predict(\n",
    "    validator, X, y, n_folds=n_folds\n",
    ")"
   ]
  },
  {
   "cell_type": "code",
   "execution_count": null,
   "metadata": {
    "collapsed": true
   },
   "outputs": [],
   "source": []
  }
 ],
 "metadata": {
  "kernelspec": {
   "display_name": "Python [default]",
   "language": "python",
   "name": "python3"
  },
  "language_info": {
   "codemirror_mode": {
    "name": "ipython",
    "version": 3
   },
   "file_extension": ".py",
   "mimetype": "text/x-python",
   "name": "python",
   "nbconvert_exporter": "python",
   "pygments_lexer": "ipython3",
   "version": "3.5.3"
  }
 },
 "nbformat": 4,
 "nbformat_minor": 2
}
