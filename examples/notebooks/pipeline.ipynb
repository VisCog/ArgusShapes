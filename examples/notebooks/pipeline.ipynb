{
 "cells": [
  {
   "cell_type": "code",
   "execution_count": 1,
   "metadata": {
    "collapsed": false
   },
   "outputs": [
    {
     "name": "stderr",
     "output_type": "stream",
     "text": [
      "2017-11-12 17:48:33,095 [pulse2percept] [INFO] Welcome to pulse2percept\n"
     ]
    }
   ],
   "source": [
    "import numpy as np\n",
    "import os\n",
    "import skimage.io as skio\n",
    "import skimage.transform as skit\n",
    "from sklearn.pipeline import Pipeline\n",
    "\n",
    "import pulse2percept as p2p\n",
    "import p2pmodelselect\n",
    "import p2pspatial\n",
    "# console = logging.StreamHandler()\n",
    "# console.setLevel(logging.ERROR)\n",
    "\n",
    "%matplotlib inline\n",
    "import matplotlib.pyplot as plt"
   ]
  },
  {
   "cell_type": "code",
   "execution_count": 10,
   "metadata": {
    "collapsed": false
   },
   "outputs": [
    {
     "data": {
      "text/plain": [
       "1347.5261375"
      ]
     },
     "execution_count": 10,
     "metadata": {},
     "output_type": "execute_result"
    }
   ],
   "source": [
    "p2p.retina.dva2ret(5)"
   ]
  },
  {
   "cell_type": "code",
   "execution_count": 12,
   "metadata": {
    "collapsed": false
   },
   "outputs": [
    {
     "name": "stdout",
     "output_type": "stream",
     "text": [
      "Runtime error with minimum threshold\n",
      "Runtime error with minimum threshold\n",
      "Runtime error with minimum threshold\n",
      "Runtime error with minimum threshold\n",
      "Runtime error with minimum threshold\n",
      "Could not parse row: 20100121_112209_trial15 blank\n",
      "Could not parse row: 20100121_112209_trial43 blank\n",
      "Runtime error with minimum threshold\n",
      "Runtime error with minimum threshold\n",
      "Runtime error with minimum threshold\n",
      "Runtime error with minimum threshold\n",
      "Runtime error with minimum threshold\n",
      "Runtime error with minimum threshold\n",
      "Runtime error with minimum threshold\n",
      "Runtime error with minimum threshold\n",
      "Runtime error with minimum threshold\n",
      "Runtime error with minimum threshold\n",
      "Could not parse row: 20100429_100826_trial3 blank\n",
      "Could not parse row: 20100429_100826_trial20 blank\n",
      "Could not parse row: 20100429_100826_trial32 blank\n",
      "Could not parse row: 20100429_100826_trial33 blank\n",
      "Found 15 samples: 13 feature values, 7 target values\n"
     ]
    }
   ],
   "source": [
    "rootfolder = 'C:/Users/mbeyeler/data/secondsight/shape/52-001'\n",
    "subject = None\n",
    "electrodes = 'A05'\n",
    "scaling = 8\n",
    "img_shape = (41, 61)\n",
    "X, y = p2pspatial.load_data(rootfolder, subject=subject, electrodes=electrodes,\n",
    "                            scaling=scaling, img_shape=img_shape)"
   ]
  },
  {
   "cell_type": "markdown",
   "metadata": {},
   "source": [
    "### Setup"
   ]
  },
  {
   "cell_type": "code",
   "execution_count": 3,
   "metadata": {
    "collapsed": true
   },
   "outputs": [],
   "source": [
    "n_jobs = 1\n",
    "n_folds = 5\n",
    "sensitivity_rule = 'decay'\n",
    "cvmethod = 'random'\n",
    "cvparams = {'n_iter': 2}\n",
    "search_params = {'reg__decay_const': np.arange(1, 2),\n",
    "                 'reg__implant_x': np.linspace(-100, 100, 2),\n",
    "                 'reg__implant_y': np.linspace(-100, 100, 2),\n",
    "                 'reg__implant_rot': np.linspace(0, 2 * np.pi, 3)}\n",
    "fit_params = {'reg__sampling': 200,\n",
    "              'reg__sensitivity_rule': sensitivity_rule}\n",
    "pipe = Pipeline([('reg', p2pspatial.SpatialModelRegressor())])\n",
    "validator = p2pmodelselect.ModelValidator(pipe, search_params, fit_params=fit_params,\n",
    "                                          cvmethod=cvmethod, cvparams=cvparams,\n",
    "                                          n_jobs=n_jobs)"
   ]
  },
  {
   "cell_type": "markdown",
   "metadata": {},
   "source": [
    "### Visualize"
   ]
  },
  {
   "cell_type": "code",
   "execution_count": 4,
   "metadata": {
    "collapsed": false
   },
   "outputs": [
    {
     "data": {
      "text/plain": [
       "Pipeline(memory=None, steps=[('reg', SpatialModelRegressor())])"
      ]
     },
     "execution_count": 4,
     "metadata": {},
     "output_type": "execute_result"
    }
   ],
   "source": [
    "best_params = {'reg__decay_const': 5,\n",
    "               'reg__implant_x': 0,\n",
    "               'reg__implant_y': 0,\n",
    "               'reg__implant_rot': 0}\n",
    "pipe.set_params(**best_params)\n",
    "pipe.fit(X, **fit_params)"
   ]
  },
  {
   "cell_type": "code",
   "execution_count": 5,
   "metadata": {
    "collapsed": false
   },
   "outputs": [
    {
     "name": "stdout",
     "output_type": "stream",
     "text": [
      "770 ms ± 114 ms per loop (mean ± std. dev. of 7 runs, 1 loop each)\n"
     ]
    }
   ],
   "source": [
    "%%timeit\n",
    "row = X.iloc[0, :]\n",
    "mp = pipe.steps[0][1].model_params\n",
    "implant = p2p.implants.ArgusII(x_center=mp['implant_x'],\n",
    "                                           y_center=mp['implant_y'],\n",
    "                                           rot=mp['implant_rot'])\n",
    "sim = p2pspatial.SpatialSimulation(implant)\n",
    "sim.set_optic_fiber_layer(sampling=mp['sampling'],\n",
    "                          x_range=p2p.retina.dva2ret((-30, 30)),\n",
    "                          y_range=p2p.retina.dva2ret((-20, 20)),\n",
    "                          decay_const=mp['decay_const'],\n",
    "                          sensitivity_rule=mp['sensitivity_rule'])\n",
    "electrode = '%s%d' % (row['electrode'][0], int(row['electrode'][1:]))\n",
    "img = sim.pulse2percept(electrode)"
   ]
  },
  {
   "cell_type": "code",
   "execution_count": 6,
   "metadata": {
    "collapsed": false
   },
   "outputs": [
    {
     "data": {
      "text/plain": [
       "<matplotlib.image.AxesImage at 0x22bf38196d8>"
      ]
     },
     "execution_count": 6,
     "metadata": {},
     "output_type": "execute_result"
    },
    {
     "data": {
      "image/png": "[encoded data removed]",
      "text/plain": [
       "<matplotlib.figure.Figure at 0x22bf3740eb8>"
      ]
     },
     "metadata": {},
     "output_type": "display_data"
    }
   ],
   "source": [
    "row = X.iloc[0, :]\n",
    "mp = pipe.steps[0][1].model_params\n",
    "implant = p2p.implants.ArgusII(x_center=mp['implant_x'],\n",
    "                                           y_center=mp['implant_y'],\n",
    "                                           rot=mp['implant_rot'])\n",
    "sim = p2pspatial.SpatialSimulation(implant)\n",
    "sim.set_optic_fiber_layer(sampling=mp['sampling'],\n",
    "                          x_range=p2p.retina.dva2ret((-30, 30)),\n",
    "                          y_range=p2p.retina.dva2ret((-20, 20)),\n",
    "                          decay_const=mp['decay_const'],\n",
    "                          sensitivity_rule=mp['sensitivity_rule'])\n",
    "# get rid of the leading zeros\n",
    "electrode = '%s%d' % (row['electrode'][0], int(row['electrode'][1:]))\n",
    "img = sim.pulse2percept(electrode)\n",
    "res_shape = (row['img_shape'][0] * row['scaling'],\n",
    "             row['img_shape'][1] * row['scaling'])\n",
    "props = p2pspatial.get_region_props(img, res_shape=res_shape, verbose=False)\n",
    "\n",
    "plt.figure(figsize=(12, 6))\n",
    "plt.subplot(121)\n",
    "plt.imshow(img)\n",
    "plt.subplot(122)\n",
    "plt.imshow(p2pspatial.get_thresholded_image(img))"
   ]
  },
  {
   "cell_type": "markdown",
   "metadata": {},
   "source": [
    "## Run grid search"
   ]
  },
  {
   "cell_type": "code",
   "execution_count": 7,
   "metadata": {
    "collapsed": false
   },
   "outputs": [],
   "source": [
    "from sklearn.model_selection import ParameterGrid\n",
    "from sklearn.base import clone\n",
    "\n",
    "def gridscore(g, ppipe, XX, yy, model_params={}):\n",
    "    pipe = clone(ppipe)\n",
    "    pipe.set_params(**g)\n",
    "    pipe.fit(XX, **model_params)\n",
    "    return pipe.score(XX, yy)\n",
    "\n",
    "grid = ParameterGrid(search_params)\n",
    "scores = p2p.utils.parfor(gridscore, grid, func_args=[pipe, X, y],\n",
    "                          func_kwargs={'model_params': fit_params})"
   ]
  },
  {
   "cell_type": "markdown",
   "metadata": {},
   "source": [
    "### Run grid search with cross-validation"
   ]
  },
  {
   "cell_type": "code",
   "execution_count": 8,
   "metadata": {
    "collapsed": false
   },
   "outputs": [
    {
     "ename": "AssertionError",
     "evalue": "",
     "output_type": "error",
     "traceback": [
      "\u001b[1;31m---------------------------------------------------------------------------\u001b[0m",
      "\u001b[1;31mAssertionError\u001b[0m                            Traceback (most recent call last)",
      "\u001b[1;32m<ipython-input-8-6fad385e7c37>\u001b[0m in \u001b[0;36m<module>\u001b[1;34m()\u001b[0m\n\u001b[0;32m      1\u001b[0m X_test, y_true, y_pred, cv_results = p2pmodelselect.utils.crossval_predict(\n\u001b[1;32m----> 2\u001b[1;33m     \u001b[0mvalidator\u001b[0m\u001b[1;33m,\u001b[0m \u001b[0mX\u001b[0m\u001b[1;33m,\u001b[0m \u001b[0my\u001b[0m\u001b[1;33m,\u001b[0m \u001b[0mn_folds\u001b[0m\u001b[1;33m=\u001b[0m\u001b[0mn_folds\u001b[0m\u001b[1;33m\u001b[0m\u001b[0m\n\u001b[0m\u001b[0;32m      3\u001b[0m )\n",
      "\u001b[1;32mc:\\users\\mbeyeler\\miniconda3\\lib\\site-packages\\p2pmodelselect-0.1.dev0-py3.5-win-amd64.egg\\p2pmodelselect\\utils.py\u001b[0m in \u001b[0;36mcrossval_predict\u001b[1;34m(estimator, X, y, n_folds)\u001b[0m\n\u001b[0;32m     20\u001b[0m         \u001b[0mtrain_idx\u001b[0m \u001b[1;33m=\u001b[0m \u001b[0mnp\u001b[0m\u001b[1;33m.\u001b[0m\u001b[0mdelete\u001b[0m\u001b[1;33m(\u001b[0m\u001b[0mall_idx\u001b[0m\u001b[1;33m,\u001b[0m \u001b[0mtest_idx\u001b[0m\u001b[1;33m)\u001b[0m\u001b[1;33m\u001b[0m\u001b[0m\n\u001b[0;32m     21\u001b[0m         \u001b[0mest\u001b[0m \u001b[1;33m=\u001b[0m \u001b[0msklb\u001b[0m\u001b[1;33m.\u001b[0m\u001b[0mclone\u001b[0m\u001b[1;33m(\u001b[0m\u001b[0mestimator\u001b[0m\u001b[1;33m)\u001b[0m\u001b[1;33m\u001b[0m\u001b[0m\n\u001b[1;32m---> 22\u001b[1;33m         \u001b[0mest\u001b[0m\u001b[1;33m.\u001b[0m\u001b[0mfit\u001b[0m\u001b[1;33m(\u001b[0m\u001b[0mX\u001b[0m\u001b[1;33m.\u001b[0m\u001b[0miloc\u001b[0m\u001b[1;33m[\u001b[0m\u001b[0mtrain_idx\u001b[0m\u001b[1;33m,\u001b[0m \u001b[1;33m:\u001b[0m\u001b[1;33m]\u001b[0m\u001b[1;33m,\u001b[0m \u001b[0my\u001b[0m\u001b[1;33m.\u001b[0m\u001b[0miloc\u001b[0m\u001b[1;33m[\u001b[0m\u001b[0mtrain_idx\u001b[0m\u001b[1;33m]\u001b[0m\u001b[1;33m)\u001b[0m\u001b[1;33m\u001b[0m\u001b[0m\n\u001b[0m\u001b[0;32m     23\u001b[0m         \u001b[0mcv_results\u001b[0m\u001b[1;33m.\u001b[0m\u001b[0mappend\u001b[0m\u001b[1;33m(\u001b[0m\u001b[0mest\u001b[0m\u001b[1;33m.\u001b[0m\u001b[0mcv_result\u001b[0m\u001b[1;33m)\u001b[0m\u001b[1;33m\u001b[0m\u001b[0m\n\u001b[0;32m     24\u001b[0m         \u001b[0mX_test\u001b[0m\u001b[1;33m.\u001b[0m\u001b[0mappend\u001b[0m\u001b[1;33m(\u001b[0m\u001b[0mX\u001b[0m\u001b[1;33m.\u001b[0m\u001b[0miloc\u001b[0m\u001b[1;33m[\u001b[0m\u001b[0mtest_idx\u001b[0m\u001b[1;33m,\u001b[0m \u001b[1;33m:\u001b[0m\u001b[1;33m]\u001b[0m\u001b[1;33m)\u001b[0m\u001b[1;33m\u001b[0m\u001b[0m\n",
      "\u001b[1;32mc:\\users\\mbeyeler\\miniconda3\\lib\\site-packages\\p2pmodelselect-0.1.dev0-py3.5-win-amd64.egg\\p2pmodelselect\\p2pmodelselect.py\u001b[0m in \u001b[0;36mfit\u001b[1;34m(self, X, y, **fit_params)\u001b[0m\n\u001b[0;32m    601\u001b[0m             \u001b[1;32mif\u001b[0m \u001b[0mself\u001b[0m\u001b[1;33m.\u001b[0m\u001b[0mcvsample\u001b[0m\u001b[1;33m.\u001b[0m\u001b[0mlower\u001b[0m\u001b[1;33m(\u001b[0m\u001b[1;33m)\u001b[0m \u001b[1;33m==\u001b[0m \u001b[1;34m'uniform'\u001b[0m\u001b[1;33m:\u001b[0m\u001b[1;33m\u001b[0m\u001b[0m\n\u001b[0;32m    602\u001b[0m                 \u001b[1;32mfor\u001b[0m \u001b[0mkey\u001b[0m\u001b[1;33m,\u001b[0m \u001b[0mvalrange\u001b[0m \u001b[1;32min\u001b[0m \u001b[0msix\u001b[0m\u001b[1;33m.\u001b[0m\u001b[0miteritems\u001b[0m\u001b[1;33m(\u001b[0m\u001b[0mself\u001b[0m\u001b[1;33m.\u001b[0m\u001b[0msearch_params\u001b[0m\u001b[1;33m)\u001b[0m\u001b[1;33m:\u001b[0m\u001b[1;33m\u001b[0m\u001b[0m\n\u001b[1;32m--> 603\u001b[1;33m                     \u001b[1;32massert\u001b[0m \u001b[0misinstance\u001b[0m\u001b[1;33m(\u001b[0m\u001b[0mself\u001b[0m\u001b[1;33m.\u001b[0m\u001b[0msearch_params\u001b[0m\u001b[1;33m[\u001b[0m\u001b[0mkey\u001b[0m\u001b[1;33m]\u001b[0m\u001b[1;33m,\u001b[0m \u001b[1;33m(\u001b[0m\u001b[0mtuple\u001b[0m\u001b[1;33m,\u001b[0m \u001b[0mlist\u001b[0m\u001b[1;33m)\u001b[0m\u001b[1;33m)\u001b[0m\u001b[1;33m\u001b[0m\u001b[0m\n\u001b[0m\u001b[0;32m    604\u001b[0m                     self.search_params[key] = scst.uniform(\n\u001b[0;32m    605\u001b[0m                         \u001b[0mloc\u001b[0m\u001b[1;33m=\u001b[0m\u001b[0mvalrange\u001b[0m\u001b[1;33m[\u001b[0m\u001b[1;36m0\u001b[0m\u001b[1;33m]\u001b[0m\u001b[1;33m,\u001b[0m \u001b[0mscale\u001b[0m\u001b[1;33m=\u001b[0m\u001b[0mvalrange\u001b[0m\u001b[1;33m[\u001b[0m\u001b[1;36m1\u001b[0m\u001b[1;33m]\u001b[0m \u001b[1;33m-\u001b[0m \u001b[0mvalrange\u001b[0m\u001b[1;33m[\u001b[0m\u001b[1;36m0\u001b[0m\u001b[1;33m]\u001b[0m\u001b[1;33m\u001b[0m\u001b[0m\n",
      "\u001b[1;31mAssertionError\u001b[0m: "
     ]
    }
   ],
   "source": [
    "X_test, y_true, y_pred, cv_results = p2pmodelselect.utils.crossval_predict(\n",
    "    validator, X, y, n_folds=n_folds\n",
    ")"
   ]
  },
  {
   "cell_type": "code",
   "execution_count": null,
   "metadata": {
    "collapsed": true
   },
   "outputs": [],
   "source": []
  }
 ],
 "metadata": {
  "kernelspec": {
   "display_name": "Python 3",
   "language": "python",
   "name": "python3"
  },
  "language_info": {
   "codemirror_mode": {
    "name": "ipython",
    "version": 3
   },
   "file_extension": ".py",
   "mimetype": "text/x-python",
   "name": "python",
   "nbconvert_exporter": "python",
   "pygments_lexer": "ipython3",
   "version": "3.5.2"
  }
 },
 "nbformat": 4,
 "nbformat_minor": 2
}
