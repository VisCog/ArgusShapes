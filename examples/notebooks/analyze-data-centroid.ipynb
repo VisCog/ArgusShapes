{
 "cells": [
  {
   "cell_type": "code",
   "execution_count": 1,
   "metadata": {},
   "outputs": [
    {
     "name": "stderr",
     "output_type": "stream",
     "text": [
      "/home/mbeyeler/anaconda3/lib/python3.5/site-packages/skvideo/__init__.py:356: UserWarning: avconv/avprobe not found in path: \n",
      "  warnings.warn(\"avconv/avprobe not found in path: \" + str(path), UserWarning)\n",
      "2018-01-29 20:16:19,694 [pulse2percept] [INFO] Welcome to pulse2percept\n"
     ]
    }
   ],
   "source": [
    "import os\n",
    "import numpy as np\n",
    "import pandas as pd\n",
    "import p2pspatial\n",
    "import pulse2percept.implants as p2pi\n",
    "import pulse2percept.utils as p2pu\n",
    "from pulse2percept.retina import dva2ret, ret2dva\n",
    "import pyswarm\n",
    "\n",
    "import sklearn.base as sklb\n",
    "\n",
    "import matplotlib.pyplot as plt\n",
    "%matplotlib inline"
   ]
  },
  {
   "cell_type": "code",
   "execution_count": 2,
   "metadata": {
    "collapsed": true
   },
   "outputs": [],
   "source": [
    "use_trafo = False"
   ]
  },
  {
   "cell_type": "code",
   "execution_count": 3,
   "metadata": {},
   "outputs": [
    {
     "data": {
      "text/plain": [
       "(153, 9)"
      ]
     },
     "execution_count": 3,
     "metadata": {},
     "output_type": "execute_result"
    }
   ],
   "source": [
    "subject = '52-001'\n",
    "X, y = p2pspatial.load_data(os.path.join(os.environ['SECOND_SIGHT_DATA'], 'shape'), subject=subject,\n",
    "                            amplitude=2.0, single_stim=True)\n",
    "X.shape"
   ]
  },
  {
   "cell_type": "code",
   "execution_count": 4,
   "metadata": {},
   "outputs": [],
   "source": [
    "if use_trafo:\n",
    "    trafo = p2pspatial.models.ModelB()\n",
    "    \n",
    "y_true = []\n",
    "for _, row in y.iterrows():\n",
    "    props = p2pspatial.imgproc.get_region_props(row['image'], thresh=0.1)\n",
    "    x_center = props.centroid[1] / row['image'].shape[1] * 60 - 30\n",
    "    y_center = props.centroid[0] / row['image'].shape[0] * 40 - 20\n",
    "    if use_trafo:\n",
    "        xy = trafo._displaces_rgc(np.array([[x_center, y_center]]))\n",
    "        xy = (xy[0][0], xy[1][0])\n",
    "    else:\n",
    "        xy = (280*x_center, 280*y_center)\n",
    "        xy = dva2ret((x_center, y_center))\n",
    "    y_true.append({'x_center': xy[0], 'y_center': xy[1]})\n",
    "y_true = pd.DataFrame(y_true, index=y.index)"
   ]
  },
  {
   "cell_type": "code",
   "execution_count": 5,
   "metadata": {},
   "outputs": [],
   "source": [
    "electrodes = list(X.electrode.unique())"
   ]
  },
  {
   "cell_type": "code",
   "execution_count": 6,
   "metadata": {
    "collapsed": true
   },
   "outputs": [],
   "source": [
    "class ImplantPlacement(sklb.BaseEstimator):\n",
    "    def __init__(self, x_center=0, y_center=0, rot=0):\n",
    "        self.x_center = x_center\n",
    "        self.y_center = y_center\n",
    "        self.rot = rot\n",
    "        self._is_fitted = False\n",
    "        self.greater_is_better = False\n",
    "    \n",
    "    def get_params(self, deep=True):\n",
    "        return {'x_center': self.x_center, 'y_center': self.y_center, 'rot': self.rot}\n",
    "    \n",
    "    def fit(self, X, y=None, **fit_params):\n",
    "        self.set_params(**fit_params)\n",
    "        self.implant = p2pi.ArgusII(x_center=self.x_center, y_center=self.y_center,\n",
    "                                    rot=self.rot)\n",
    "        self._is_fitted = True\n",
    "        return self\n",
    "    \n",
    "    def predict(self, X):\n",
    "        assert self._is_fitted\n",
    "        y_pred = []\n",
    "        for _, row in X.iterrows():\n",
    "            ename = '%s%d' % (row['electrode'][0], int(row['electrode'][1:]))\n",
    "            el = self.implant[ename]\n",
    "            y_pred.append({'x_center': el.x_center, 'y_center': el.y_center})\n",
    "        return pd.DataFrame(y_pred, index=X.index)\n",
    "    \n",
    "    def score(self, X, y, sample_weight=None):\n",
    "        assert self._is_fitted\n",
    "        y_pred = self.predict(X)\n",
    "        err = [(yt[1]['x_center'] - yp[1]['x_center']) ** 2 + (yt[1]['y_center'] - yp[1]['y_center']) ** 2\n",
    "               for yt, yp in zip(y.iterrows(), y_pred.iterrows())]\n",
    "        return np.mean(err)"
   ]
  },
  {
   "cell_type": "code",
   "execution_count": 7,
   "metadata": {
    "collapsed": true
   },
   "outputs": [],
   "source": [
    "yy_true = pd.concat((X, y_true), axis=1).groupby('electrode', as_index=False).mean()"
   ]
  },
  {
   "cell_type": "code",
   "execution_count": 8,
   "metadata": {
    "collapsed": true
   },
   "outputs": [],
   "source": [
    "# argus = p2pi.ArgusII(x_center=-700, y_center=180, rot=-0.12345)\n",
    "# for j in yy_true.index:\n",
    "#     ename = '%s%d' % (yy_true.loc[j, 'electrode'][0], int(yy_true.loc[j, 'electrode'][1:]))\n",
    "#     yy_true.loc[j, 'x_center'] = argus[ename].x_center\n",
    "#     yy_true.loc[j, 'y_center'] = argus[ename].y_center"
   ]
  },
  {
   "cell_type": "code",
   "execution_count": 9,
   "metadata": {
    "collapsed": true
   },
   "outputs": [],
   "source": [
    "XX = yy_true"
   ]
  },
  {
   "cell_type": "code",
   "execution_count": 10,
   "metadata": {
    "collapsed": true
   },
   "outputs": [],
   "source": [
    "regressor = ImplantPlacement()"
   ]
  },
  {
   "cell_type": "code",
   "execution_count": 11,
   "metadata": {
    "collapsed": true
   },
   "outputs": [],
   "source": [
    "search_params = {'x_center': (-3000, 3000),\n",
    "                 'y_center': (-2000, 2000),\n",
    "                 'rot': (np.deg2rad(-90), np.deg2rad(90))}\n",
    "pso_options = {'max_iter': 100,\n",
    "               'min_func': 0.01}"
   ]
  },
  {
   "cell_type": "code",
   "execution_count": 12,
   "metadata": {},
   "outputs": [],
   "source": [
    "pso = p2pspatial.model_selection.ParticleSwarmOptimizer(\n",
    "    regressor, search_params, **pso_options\n",
    ")"
   ]
  },
  {
   "cell_type": "code",
   "execution_count": 13,
   "metadata": {},
   "outputs": [
    {
     "name": "stdout",
     "output_type": "stream",
     "text": [
      "No constraints given.\n",
      "New best for swarm at iteration 1: [ -5.23592422e-02  -2.17041308e+03   1.17902346e+03] 1466689.8408989657\n",
      "Best after iteration 1: [ -5.23592422e-02  -2.17041308e+03   1.17902346e+03] 1466689.8408989657\n",
      "Best after iteration 2: [ -5.23592422e-02  -2.17041308e+03   1.17902346e+03] 1466689.8408989657\n",
      "New best for swarm at iteration 3: [ -1.71631139e-01  -1.97029669e+03   1.03399197e+03] 1421884.750853026\n",
      "New best for swarm at iteration 3: [ -5.28575263e-01  -1.88068929e+03   2.00000000e+03] 891346.9797574575\n",
      "Best after iteration 3: [ -5.28575263e-01  -1.88068929e+03   2.00000000e+03] 891346.9797574575\n",
      "New best for swarm at iteration 4: [ -3.30418017e-01  -2.01022803e+03   1.54619598e+03] 843310.1529101671\n",
      "Best after iteration 4: [ -3.30418017e-01  -2.01022803e+03   1.54619598e+03] 843310.1529101671\n",
      "New best for swarm at iteration 5: [ -3.47558540e-01  -2.16686997e+03   1.62702266e+03] 825892.1954887894\n",
      "Best after iteration 5: [ -3.47558540e-01  -2.16686997e+03   1.62702266e+03] 825892.1954887894\n",
      "New best for swarm at iteration 6: [ -3.58728941e-01  -2.10789581e+03   1.61844750e+03] 814745.288170516\n",
      "Best after iteration 6: [ -3.58728941e-01  -2.10789581e+03   1.61844750e+03] 814745.288170516\n",
      "New best for swarm at iteration 7: [ -4.53406717e-01  -1.90846057e+03   1.83295368e+03] 806943.0640752506\n",
      "Best after iteration 7: [ -4.53406717e-01  -1.90846057e+03   1.83295368e+03] 806943.0640752506\n",
      "New best for swarm at iteration 8: [ -3.82681208e-01  -2.01796528e+03   1.78159717e+03] 774740.5245075483\n",
      "Best after iteration 8: [ -3.82681208e-01  -2.01796528e+03   1.78159717e+03] 774740.5245075483\n",
      "Best after iteration 9: [ -3.82681208e-01  -2.01796528e+03   1.78159717e+03] 774740.5245075483\n",
      "Best after iteration 10: [ -3.82681208e-01  -2.01796528e+03   1.78159717e+03] 774740.5245075483\n",
      "New best for swarm at iteration 11: [ -4.00734186e-01  -2.02677344e+03   1.80933510e+03] 774672.542483591\n",
      "Best after iteration 11: [ -4.00734186e-01  -2.02677344e+03   1.80933510e+03] 774672.542483591\n",
      "New best for swarm at iteration 12: [ -3.81192468e-01  -2.01924588e+03   1.78305125e+03] 774648.5570251592\n",
      "New best for swarm at iteration 12: [ -3.75055294e-01  -2.02222806e+03   1.79636871e+03] 774441.7653244573\n",
      "Best after iteration 12: [ -3.75055294e-01  -2.02222806e+03   1.79636871e+03] 774441.7653244573\n",
      "New best for swarm at iteration 13: [ -3.88663926e-01  -2.00997601e+03   1.81497843e+03] 774411.2981792837\n",
      "New best for swarm at iteration 13: [ -3.90523786e-01  -2.01912581e+03   1.80675939e+03] 774105.8710674653\n",
      "Best after iteration 13: [ -3.90523786e-01  -2.01912581e+03   1.80675939e+03] 774105.8710674653\n",
      "New best for swarm at iteration 14: [ -3.79663264e-01  -2.04000588e+03   1.80118124e+03] 774073.8173130482\n",
      "Best after iteration 14: [ -3.79663264e-01  -2.04000588e+03   1.80118124e+03] 774073.8173130482\n",
      "New best for swarm at iteration 15: [ -3.82653420e-01  -2.04096968e+03   1.80938831e+03] 773956.4819926969\n",
      "Best after iteration 15: [ -3.82653420e-01  -2.04096968e+03   1.80938831e+03] 773956.4819926969\n",
      "New best for swarm at iteration 16: [ -3.83936561e-01  -2.03512391e+03   1.81299079e+03] 773886.4935530159\n",
      "New best for swarm at iteration 16: [ -3.88870732e-01  -2.02940480e+03   1.80911749e+03] 773869.4748150021\n",
      "Best after iteration 16: [ -3.88870732e-01  -2.02940480e+03   1.80911749e+03] 773869.4748150021\n",
      "New best for swarm at iteration 17: [ -3.87074949e-01  -2.03750210e+03   1.81107346e+03] 773860.6025814505\n",
      "New best for swarm at iteration 17: [ -3.87209027e-01  -2.03347120e+03   1.80929922e+03] 773835.3604429716\n",
      "Best after iteration 17: [ -3.87209027e-01  -2.03347120e+03   1.80929922e+03] 773835.3604429716\n",
      "Best after iteration 18: [ -3.87209027e-01  -2.03347120e+03   1.80929922e+03] 773835.3604429716\n",
      "New best for swarm at iteration 19: [ -3.86354858e-01  -2.03164370e+03   1.80977337e+03] 773834.2582813355\n",
      "Best after iteration 19: [ -3.86354858e-01  -2.03164370e+03   1.80977337e+03] 773834.2582813355\n",
      "New best for swarm at iteration 20: [ -3.86199164e-01  -2.03377779e+03   1.80881597e+03] 773832.6573082107\n",
      "Best after iteration 20: [ -3.86199164e-01  -2.03377779e+03   1.80881597e+03] 773832.6573082107\n",
      "New best for swarm at iteration 21: [ -3.86104925e-01  -2.03286015e+03   1.80836455e+03] 773831.6387972878\n",
      "Best after iteration 21: [ -3.86104925e-01  -2.03286015e+03   1.80836455e+03] 773831.6387972878\n",
      "Best after iteration 22: [ -3.86104925e-01  -2.03286015e+03   1.80836455e+03] 773831.6387972878\n",
      "Best after iteration 23: [ -3.86104925e-01  -2.03286015e+03   1.80836455e+03] 773831.6387972878\n",
      "Best after iteration 24: [ -3.86104925e-01  -2.03286015e+03   1.80836455e+03] 773831.6387972878\n",
      "New best for swarm at iteration 25: [ -3.86298577e-01  -2.03260814e+03   1.80830880e+03] 773831.6232386952\n",
      "Best after iteration 25: [ -3.86298577e-01  -2.03260814e+03   1.80830880e+03] 773831.6232386952\n",
      "New best for swarm at iteration 26: [ -3.86207660e-01  -2.03274584e+03   1.80834904e+03] 773831.5679520724\n",
      "Best after iteration 26: [ -3.86207660e-01  -2.03274584e+03   1.80834904e+03] 773831.5679520724\n",
      "New best for swarm at iteration 27: [ -3.86170460e-01  -2.03268448e+03   1.80850325e+03] 773831.5612564045\n",
      "Stopping search: Swarm best objective change less than 0.01\n",
      "Best err: 773831.561256 Best params: {'rot': -0.38617046045731535, 'x_center': -2032.684477922252, 'y_center': 1808.5032506957762}\n"
     ]
    }
   ],
   "source": [
    "pso.fit(XX, yy_true)"
   ]
  },
  {
   "cell_type": "code",
   "execution_count": 14,
   "metadata": {},
   "outputs": [
    {
     "data": {
      "image/png": "[encoded data removed]",
      "text/plain": [
       "<matplotlib.figure.Figure at 0x7f547ad94ef0>"
      ]
     },
     "metadata": {},
     "output_type": "display_data"
    }
   ],
   "source": [
    "for (_, yt), (_, yp) in zip(yy_true.iterrows(), pso.predict(XX).iterrows()):\n",
    "    plt.scatter(yt['x_center'], yt['y_center'], c='b', marker='s')\n",
    "    plt.scatter(yp['x_center'], yp['y_center'], c='r', marker='o')\n",
    "    plt.plot([yt['x_center'], yp['x_center']], [yt['y_center'], yp['y_center']], 'k--')"
   ]
  },
  {
   "cell_type": "code",
   "execution_count": 15,
   "metadata": {
    "collapsed": true
   },
   "outputs": [],
   "source": [
    "# 280*dva: 863413\n",
    "# dva2ret: 773831\n",
    "# prtrafo: 907130"
   ]
  },
  {
   "cell_type": "code",
   "execution_count": 16,
   "metadata": {},
   "outputs": [
    {
     "ename": "UnicodeDecodeError",
     "evalue": "'utf-8' codec can't decode byte 0xd0 in position 0: invalid continuation byte",
     "output_type": "error",
     "traceback": [
      "\u001b[0;31m---------------------------------------------------------------------------\u001b[0m",
      "\u001b[0;31mUnicodeDecodeError\u001b[0m                        Traceback (most recent call last)",
      "\u001b[0;32m<ipython-input-16-34a55d96115b>\u001b[0m in \u001b[0;36m<module>\u001b[0;34m()\u001b[0m\n\u001b[1;32m      1\u001b[0m \u001b[0mfolder\u001b[0m \u001b[0;34m=\u001b[0m \u001b[0mos\u001b[0m\u001b[0;34m.\u001b[0m\u001b[0mpath\u001b[0m\u001b[0;34m.\u001b[0m\u001b[0mjoin\u001b[0m\u001b[0;34m(\u001b[0m\u001b[0mos\u001b[0m\u001b[0;34m.\u001b[0m\u001b[0menviron\u001b[0m\u001b[0;34m[\u001b[0m\u001b[0;34m'SECOND_SIGHT_DATA'\u001b[0m\u001b[0;34m]\u001b[0m\u001b[0;34m,\u001b[0m \u001b[0;34m'shape'\u001b[0m\u001b[0;34m,\u001b[0m \u001b[0;34m'TB'\u001b[0m\u001b[0;34m)\u001b[0m\u001b[0;34m\u001b[0m\u001b[0m\n\u001b[0;32m----> 2\u001b[0;31m \u001b[0mX\u001b[0m\u001b[0;34m,\u001b[0m \u001b[0my\u001b[0m \u001b[0;34m=\u001b[0m \u001b[0mp2pspatial\u001b[0m\u001b[0;34m.\u001b[0m\u001b[0mload_data\u001b[0m\u001b[0;34m(\u001b[0m\u001b[0mfolder\u001b[0m\u001b[0;34m,\u001b[0m \u001b[0msubject\u001b[0m\u001b[0;34m=\u001b[0m\u001b[0;34m'TB'\u001b[0m\u001b[0;34m)\u001b[0m\u001b[0;34m\u001b[0m\u001b[0m\n\u001b[0m\u001b[1;32m      3\u001b[0m \u001b[0mX\u001b[0m\u001b[0;34m.\u001b[0m\u001b[0mshape\u001b[0m\u001b[0;34m\u001b[0m\u001b[0m\n",
      "\u001b[0;32m~/anaconda3/lib/python3.5/site-packages/p2pspatial-0.1.dev0-py3.5.egg/p2pspatial/p2pspatial.py\u001b[0m in \u001b[0;36mload_data\u001b[0;34m(folder, subject, electrodes, amplitude, date, verbose, random_state, single_stim)\u001b[0m\n\u001b[1;32m    121\u001b[0m     \u001b[0;32mfor\u001b[0m \u001b[0msearch_pattern\u001b[0m \u001b[0;32min\u001b[0m \u001b[0msearch_patterns\u001b[0m\u001b[0;34m:\u001b[0m\u001b[0;34m\u001b[0m\u001b[0m\n\u001b[1;32m    122\u001b[0m         \u001b[0;32mfor\u001b[0m \u001b[0mfname\u001b[0m \u001b[0;32min\u001b[0m \u001b[0mglob\u001b[0m\u001b[0;34m.\u001b[0m\u001b[0miglob\u001b[0m\u001b[0;34m(\u001b[0m\u001b[0msearch_pattern\u001b[0m\u001b[0;34m,\u001b[0m \u001b[0mrecursive\u001b[0m\u001b[0;34m=\u001b[0m\u001b[0;32mTrue\u001b[0m\u001b[0;34m)\u001b[0m\u001b[0;34m:\u001b[0m\u001b[0;34m\u001b[0m\u001b[0m\n\u001b[0;32m--> 123\u001b[0;31m             \u001b[0mtmp\u001b[0m \u001b[0;34m=\u001b[0m \u001b[0mpd\u001b[0m\u001b[0;34m.\u001b[0m\u001b[0mread_csv\u001b[0m\u001b[0;34m(\u001b[0m\u001b[0mfname\u001b[0m\u001b[0;34m)\u001b[0m\u001b[0;34m\u001b[0m\u001b[0m\n\u001b[0m\u001b[1;32m    124\u001b[0m             \u001b[0mtmp\u001b[0m\u001b[0;34m[\u001b[0m\u001b[0;34m'Folder'\u001b[0m\u001b[0;34m]\u001b[0m \u001b[0;34m=\u001b[0m \u001b[0mos\u001b[0m\u001b[0;34m.\u001b[0m\u001b[0mpath\u001b[0m\u001b[0;34m.\u001b[0m\u001b[0mdirname\u001b[0m\u001b[0;34m(\u001b[0m\u001b[0mfname\u001b[0m\u001b[0;34m)\u001b[0m\u001b[0;34m\u001b[0m\u001b[0m\n\u001b[1;32m    125\u001b[0m             \u001b[0mn_samples\u001b[0m \u001b[0;34m+=\u001b[0m \u001b[0mlen\u001b[0m\u001b[0;34m(\u001b[0m\u001b[0mtmp\u001b[0m\u001b[0;34m)\u001b[0m\u001b[0;34m\u001b[0m\u001b[0m\n",
      "\u001b[0;32m~/anaconda3/lib/python3.5/site-packages/pandas/io/parsers.py\u001b[0m in \u001b[0;36mparser_f\u001b[0;34m(filepath_or_buffer, sep, delimiter, header, names, index_col, usecols, squeeze, prefix, mangle_dupe_cols, dtype, engine, converters, true_values, false_values, skipinitialspace, skiprows, nrows, na_values, keep_default_na, na_filter, verbose, skip_blank_lines, parse_dates, infer_datetime_format, keep_date_col, date_parser, dayfirst, iterator, chunksize, compression, thousands, decimal, lineterminator, quotechar, quoting, escapechar, comment, encoding, dialect, tupleize_cols, error_bad_lines, warn_bad_lines, skipfooter, skip_footer, doublequote, delim_whitespace, as_recarray, compact_ints, use_unsigned, low_memory, buffer_lines, memory_map, float_precision)\u001b[0m\n\u001b[1;32m    703\u001b[0m                     skip_blank_lines=skip_blank_lines)\n\u001b[1;32m    704\u001b[0m \u001b[0;34m\u001b[0m\u001b[0m\n\u001b[0;32m--> 705\u001b[0;31m         \u001b[0;32mreturn\u001b[0m \u001b[0m_read\u001b[0m\u001b[0;34m(\u001b[0m\u001b[0mfilepath_or_buffer\u001b[0m\u001b[0;34m,\u001b[0m \u001b[0mkwds\u001b[0m\u001b[0;34m)\u001b[0m\u001b[0;34m\u001b[0m\u001b[0m\n\u001b[0m\u001b[1;32m    706\u001b[0m \u001b[0;34m\u001b[0m\u001b[0m\n\u001b[1;32m    707\u001b[0m     \u001b[0mparser_f\u001b[0m\u001b[0;34m.\u001b[0m\u001b[0m__name__\u001b[0m \u001b[0;34m=\u001b[0m \u001b[0mname\u001b[0m\u001b[0;34m\u001b[0m\u001b[0m\n",
      "\u001b[0;32m~/anaconda3/lib/python3.5/site-packages/pandas/io/parsers.py\u001b[0m in \u001b[0;36m_read\u001b[0;34m(filepath_or_buffer, kwds)\u001b[0m\n\u001b[1;32m    443\u001b[0m \u001b[0;34m\u001b[0m\u001b[0m\n\u001b[1;32m    444\u001b[0m     \u001b[0;31m# Create the parser.\u001b[0m\u001b[0;34m\u001b[0m\u001b[0;34m\u001b[0m\u001b[0m\n\u001b[0;32m--> 445\u001b[0;31m     \u001b[0mparser\u001b[0m \u001b[0;34m=\u001b[0m \u001b[0mTextFileReader\u001b[0m\u001b[0;34m(\u001b[0m\u001b[0mfilepath_or_buffer\u001b[0m\u001b[0;34m,\u001b[0m \u001b[0;34m**\u001b[0m\u001b[0mkwds\u001b[0m\u001b[0;34m)\u001b[0m\u001b[0;34m\u001b[0m\u001b[0m\n\u001b[0m\u001b[1;32m    446\u001b[0m \u001b[0;34m\u001b[0m\u001b[0m\n\u001b[1;32m    447\u001b[0m     \u001b[0;32mif\u001b[0m \u001b[0mchunksize\u001b[0m \u001b[0;32mor\u001b[0m \u001b[0miterator\u001b[0m\u001b[0;34m:\u001b[0m\u001b[0;34m\u001b[0m\u001b[0m\n",
      "\u001b[0;32m~/anaconda3/lib/python3.5/site-packages/pandas/io/parsers.py\u001b[0m in \u001b[0;36m__init__\u001b[0;34m(self, f, engine, **kwds)\u001b[0m\n\u001b[1;32m    812\u001b[0m             \u001b[0mself\u001b[0m\u001b[0;34m.\u001b[0m\u001b[0moptions\u001b[0m\u001b[0;34m[\u001b[0m\u001b[0;34m'has_index_names'\u001b[0m\u001b[0;34m]\u001b[0m \u001b[0;34m=\u001b[0m \u001b[0mkwds\u001b[0m\u001b[0;34m[\u001b[0m\u001b[0;34m'has_index_names'\u001b[0m\u001b[0;34m]\u001b[0m\u001b[0;34m\u001b[0m\u001b[0m\n\u001b[1;32m    813\u001b[0m \u001b[0;34m\u001b[0m\u001b[0m\n\u001b[0;32m--> 814\u001b[0;31m         \u001b[0mself\u001b[0m\u001b[0;34m.\u001b[0m\u001b[0m_make_engine\u001b[0m\u001b[0;34m(\u001b[0m\u001b[0mself\u001b[0m\u001b[0;34m.\u001b[0m\u001b[0mengine\u001b[0m\u001b[0;34m)\u001b[0m\u001b[0;34m\u001b[0m\u001b[0m\n\u001b[0m\u001b[1;32m    815\u001b[0m \u001b[0;34m\u001b[0m\u001b[0m\n\u001b[1;32m    816\u001b[0m     \u001b[0;32mdef\u001b[0m \u001b[0mclose\u001b[0m\u001b[0;34m(\u001b[0m\u001b[0mself\u001b[0m\u001b[0;34m)\u001b[0m\u001b[0;34m:\u001b[0m\u001b[0;34m\u001b[0m\u001b[0m\n",
      "\u001b[0;32m~/anaconda3/lib/python3.5/site-packages/pandas/io/parsers.py\u001b[0m in \u001b[0;36m_make_engine\u001b[0;34m(self, engine)\u001b[0m\n\u001b[1;32m   1043\u001b[0m     \u001b[0;32mdef\u001b[0m \u001b[0m_make_engine\u001b[0m\u001b[0;34m(\u001b[0m\u001b[0mself\u001b[0m\u001b[0;34m,\u001b[0m \u001b[0mengine\u001b[0m\u001b[0;34m=\u001b[0m\u001b[0;34m'c'\u001b[0m\u001b[0;34m)\u001b[0m\u001b[0;34m:\u001b[0m\u001b[0;34m\u001b[0m\u001b[0m\n\u001b[1;32m   1044\u001b[0m         \u001b[0;32mif\u001b[0m \u001b[0mengine\u001b[0m \u001b[0;34m==\u001b[0m \u001b[0;34m'c'\u001b[0m\u001b[0;34m:\u001b[0m\u001b[0;34m\u001b[0m\u001b[0m\n\u001b[0;32m-> 1045\u001b[0;31m             \u001b[0mself\u001b[0m\u001b[0;34m.\u001b[0m\u001b[0m_engine\u001b[0m \u001b[0;34m=\u001b[0m \u001b[0mCParserWrapper\u001b[0m\u001b[0;34m(\u001b[0m\u001b[0mself\u001b[0m\u001b[0;34m.\u001b[0m\u001b[0mf\u001b[0m\u001b[0;34m,\u001b[0m \u001b[0;34m**\u001b[0m\u001b[0mself\u001b[0m\u001b[0;34m.\u001b[0m\u001b[0moptions\u001b[0m\u001b[0;34m)\u001b[0m\u001b[0;34m\u001b[0m\u001b[0m\n\u001b[0m\u001b[1;32m   1046\u001b[0m         \u001b[0;32melse\u001b[0m\u001b[0;34m:\u001b[0m\u001b[0;34m\u001b[0m\u001b[0m\n\u001b[1;32m   1047\u001b[0m             \u001b[0;32mif\u001b[0m \u001b[0mengine\u001b[0m \u001b[0;34m==\u001b[0m \u001b[0;34m'python'\u001b[0m\u001b[0;34m:\u001b[0m\u001b[0;34m\u001b[0m\u001b[0m\n",
      "\u001b[0;32m~/anaconda3/lib/python3.5/site-packages/pandas/io/parsers.py\u001b[0m in \u001b[0;36m__init__\u001b[0;34m(self, src, **kwds)\u001b[0m\n\u001b[1;32m   1682\u001b[0m         \u001b[0mkwds\u001b[0m\u001b[0;34m[\u001b[0m\u001b[0;34m'allow_leading_cols'\u001b[0m\u001b[0;34m]\u001b[0m \u001b[0;34m=\u001b[0m \u001b[0mself\u001b[0m\u001b[0;34m.\u001b[0m\u001b[0mindex_col\u001b[0m \u001b[0;32mis\u001b[0m \u001b[0;32mnot\u001b[0m \u001b[0;32mFalse\u001b[0m\u001b[0;34m\u001b[0m\u001b[0m\n\u001b[1;32m   1683\u001b[0m \u001b[0;34m\u001b[0m\u001b[0m\n\u001b[0;32m-> 1684\u001b[0;31m         \u001b[0mself\u001b[0m\u001b[0;34m.\u001b[0m\u001b[0m_reader\u001b[0m \u001b[0;34m=\u001b[0m \u001b[0mparsers\u001b[0m\u001b[0;34m.\u001b[0m\u001b[0mTextReader\u001b[0m\u001b[0;34m(\u001b[0m\u001b[0msrc\u001b[0m\u001b[0;34m,\u001b[0m \u001b[0;34m**\u001b[0m\u001b[0mkwds\u001b[0m\u001b[0;34m)\u001b[0m\u001b[0;34m\u001b[0m\u001b[0m\n\u001b[0m\u001b[1;32m   1685\u001b[0m \u001b[0;34m\u001b[0m\u001b[0m\n\u001b[1;32m   1686\u001b[0m         \u001b[0;31m# XXX\u001b[0m\u001b[0;34m\u001b[0m\u001b[0;34m\u001b[0m\u001b[0m\n",
      "\u001b[0;32mpandas/_libs/parsers.pyx\u001b[0m in \u001b[0;36mpandas._libs.parsers.TextReader.__cinit__\u001b[0;34m()\u001b[0m\n",
      "\u001b[0;32mpandas/_libs/parsers.pyx\u001b[0m in \u001b[0;36mpandas._libs.parsers.TextReader._get_header\u001b[0;34m()\u001b[0m\n",
      "\u001b[0;31mUnicodeDecodeError\u001b[0m: 'utf-8' codec can't decode byte 0xd0 in position 0: invalid continuation byte"
     ]
    }
   ],
   "source": [
    "folder = os.path.join(os.environ['SECOND_SIGHT_DATA'], 'shape', 'TB')\n",
    "X, y = p2pspatial.load_data(folder, subject='TB')\n",
    "X.shape"
   ]
  },
  {
   "cell_type": "code",
   "execution_count": null,
   "metadata": {
    "collapsed": true
   },
   "outputs": [],
   "source": [
    "import glob"
   ]
  },
  {
   "cell_type": "code",
   "execution_count": null,
   "metadata": {},
   "outputs": [],
   "source": [
    "search_pattern = os.path.join(folder, '**', '*_VIDFileList_*')"
   ]
  },
  {
   "cell_type": "code",
   "execution_count": null,
   "metadata": {},
   "outputs": [],
   "source": [
    "list(glob.iglob(search_pattern, recursive=True))"
   ]
  },
  {
   "cell_type": "code",
   "execution_count": null,
   "metadata": {
    "collapsed": true
   },
   "outputs": [],
   "source": []
  }
 ],
 "metadata": {
  "kernelspec": {
   "display_name": "Python [default]",
   "language": "python",
   "name": "python3"
  },
  "language_info": {
   "codemirror_mode": {
    "name": "ipython",
    "version": 3
   },
   "file_extension": ".py",
   "mimetype": "text/x-python",
   "name": "python",
   "nbconvert_exporter": "python",
   "pygments_lexer": "ipython3",
   "version": "3.5.3"
  }
 },
 "nbformat": 4,
 "nbformat_minor": 2
}
