{
 "cells": [
  {
   "cell_type": "code",
   "execution_count": 1,
   "metadata": {
    "collapsed": false,
    "deletable": true,
    "editable": true
   },
   "outputs": [
    {
     "name": "stderr",
     "output_type": "stream",
     "text": [
      "2018-01-14 14:10:10,082 [pulse2percept] [INFO] Welcome to pulse2percept\n"
     ]
    }
   ],
   "source": [
    "import os\n",
    "import numpy as np\n",
    "import pandas as pd\n",
    "import skimage.io as skio\n",
    "import skimage.measure as skim\n",
    "import skimage.transform as skit\n",
    "\n",
    "import p2pspatial\n",
    "\n",
    "%matplotlib inline\n",
    "import matplotlib.pyplot as plt"
   ]
  },
  {
   "cell_type": "code",
   "execution_count": 39,
   "metadata": {
    "collapsed": false,
    "deletable": true,
    "editable": true
   },
   "outputs": [
    {
     "data": {
      "text/plain": [
       "(10, 10)"
      ]
     },
     "execution_count": 39,
     "metadata": {},
     "output_type": "execute_result"
    }
   ],
   "source": [
    "rootfolder = os.path.join(os.environ['SECOND_SIGHT_DATA'], 'shape')\n",
    "X, y = p2pspatial.load_data(rootfolder, subject='12-005', electrodes=['E03'], amplitude=2.0)\n",
    "X.shape"
   ]
  },
  {
   "cell_type": "markdown",
   "metadata": {},
   "source": [
    "# Load data"
   ]
  },
  {
   "cell_type": "code",
   "execution_count": 40,
   "metadata": {
    "collapsed": false,
    "deletable": true,
    "editable": true
   },
   "outputs": [
    {
     "data": {
      "image/png": "[encoded data removed]",
      "text/plain": [
       "<matplotlib.figure.Figure at 0x1a68d10c9b0>"
      ]
     },
     "metadata": {},
     "output_type": "display_data"
    }
   ],
   "source": [
    "ncols = np.minimum(5, len(X))\n",
    "nrows = int(np.ceil(len(X) / ncols))\n",
    "fig, axes = plt.subplots(nrows=nrows, ncols=ncols, figsize=(12, nrows * 3))\n",
    "for ax, Xrow in zip(axes.ravel(), X.iterrows()):\n",
    "    _, row = Xrow\n",
    "    ax.imshow(skio.imread(os.path.join(row['folder'], row['filename'])))\n",
    "    ax.axis('image')\n",
    "    ax.axis('off')\n",
    "fig.suptitle('example phosphenes')\n",
    "fig.tight_layout()"
   ]
  },
  {
   "cell_type": "markdown",
   "metadata": {},
   "source": [
    "# Step 1: Center and scale phosphene\n",
    "\n",
    "1a. Center both phosphenes in the image\n",
    "\n",
    "1b. Scale the predicted phosphene so that it has the same area (`m[0, 0]`) of ground-truth phosphene"
   ]
  },
  {
   "cell_type": "code",
   "execution_count": 41,
   "metadata": {
    "collapsed": true,
    "deletable": true,
    "editable": true
   },
   "outputs": [],
   "source": [
    "def center_phosphene(img_in):\n",
    "    \"\"\"Centers a phosphene in an image\"\"\"\n",
    "    # Subtract center of mass from image center\n",
    "    m = skim.moments(img_in, order=1)\n",
    "    transl = (img_in.shape[1] // 2 - m[1, 0] / m[0, 0],\n",
    "              img_in.shape[0] // 2 - m[0, 1] / m[0, 0])\n",
    "    return skit.warp(img_in, skit.SimilarityTransform(translation=transl).inverse)"
   ]
  },
  {
   "cell_type": "code",
   "execution_count": 42,
   "metadata": {
    "collapsed": false,
    "deletable": true,
    "editable": true
   },
   "outputs": [],
   "source": [
    "def center_scale_phosphene(img_truth, img_pred):\n",
    "    \"\"\"Center and scale a phosphene in `img_pred` to the size of `img_truth`\"\"\"\n",
    "    assert np.allclose(img_truth.shape, img_pred.shape)\n",
    "    img_truth = center_phosphene(img_truth)\n",
    "    img_pred = center_phosphene(img_pred)\n",
    "    \n",
    "    # Scale phosphene in `img_pred` to area of phosphene in `img_truth`\n",
    "    area_truth = skim.moments(img_truth, order=0)[0, 0]\n",
    "    area_pred = skim.moments(img_pred, order=0)[0, 0]\n",
    "    scale = area_truth / area_pred\n",
    "\n",
    "    # Shift the phosphene to (0, 0), scale, shift back to the image center\n",
    "    shift_y, shift_x = np.array(img_pred.shape[:2]) / 2.0\n",
    "    tf_shift = skit.SimilarityTransform(translation=[-shift_x, -shift_y])\n",
    "    tf_scale = skit.SimilarityTransform(scale=scale)\n",
    "    tf_shift_inv = skit.SimilarityTransform(translation=[shift_x, shift_y])\n",
    "    return skit.warp(img_pred, (tf_shift + (tf_scale + tf_shift_inv)).inverse)"
   ]
  },
  {
   "cell_type": "code",
   "execution_count": 43,
   "metadata": {
    "collapsed": false,
    "deletable": true,
    "editable": true
   },
   "outputs": [],
   "source": [
    "img0 = skio.imread(os.path.join(X.loc[0, 'folder'], X.loc[0, 'filename']))\n",
    "img1 = skio.imread(os.path.join(X.loc[1, 'folder'], X.loc[1, 'filename']))"
   ]
  },
  {
   "cell_type": "code",
   "execution_count": 44,
   "metadata": {
    "collapsed": false,
    "deletable": true,
    "editable": true
   },
   "outputs": [
    {
     "data": {
      "text/plain": [
       "<matplotlib.text.Text at 0x1a68d067b38>"
      ]
     },
     "execution_count": 44,
     "metadata": {},
     "output_type": "execute_result"
    },
    {
     "data": {
      "image/png": "[encoded data removed]",
      "text/plain": [
       "<matplotlib.figure.Figure at 0x1a68c0cd978>"
      ]
     },
     "metadata": {},
     "output_type": "display_data"
    }
   ],
   "source": [
    "# pretend `img0` is the ground-truth phosphene\n",
    "img_true = center_phosphene(img0)\n",
    "\n",
    "# pretend `img` is the predicted phosphene\n",
    "img_pred = center_scale_phosphene(img0, img1)\n",
    "\n",
    "plt.figure(figsize=(14, 6))\n",
    "plt.subplot(131)\n",
    "plt.imshow(img_true)\n",
    "plt.title('ground-truth phosphene')\n",
    "\n",
    "plt.subplot(132)\n",
    "plt.imshow(img_pred)\n",
    "plt.title('predicted phosphene')\n",
    "\n",
    "plt.subplot(133)\n",
    "plt.imshow(img_true + img_pred)\n",
    "plt.title('phosphene overlap')"
   ]
  },
  {
   "cell_type": "markdown",
   "metadata": {},
   "source": [
    "# Step 2: Find best rotation using dice coefficient\n",
    "\n",
    "Now that both phosphenes are centered and have the same area, find the rotation angle that gives the best phosphene overlap (measured with the dice coefficient)."
   ]
  },
  {
   "cell_type": "code",
   "execution_count": 45,
   "metadata": {
    "collapsed": true
   },
   "outputs": [],
   "source": [
    "def dice_coeff(img0, img1):\n",
    "    \"\"\"Compute dice coefficient\"\"\"\n",
    "    img0 = img0 > 0\n",
    "    img1 = img1 > 0\n",
    "    return 2 * np.sum(img0 * img1) / (np.sum(img0) + np.sum(img1))"
   ]
  },
  {
   "cell_type": "code",
   "execution_count": 70,
   "metadata": {
    "collapsed": false,
    "deletable": true,
    "editable": true
   },
   "outputs": [
    {
     "data": {
      "text/plain": [
       "(-90.0, 0.76310018903591681)"
      ]
     },
     "execution_count": 70,
     "metadata": {},
     "output_type": "execute_result"
    },
    {
     "data": {
      "image/png": "[encoded data removed]",
      "text/plain": [
       "<matplotlib.figure.Figure at 0x1a68d10c908>"
      ]
     },
     "metadata": {},
     "output_type": "display_data"
    }
   ],
   "source": [
    "rot = np.linspace(-180, 180, 21)\n",
    "dice = [dice_coeff(img_true, skit.rotate(img_pred, r)) for r in rot]\n",
    "plt.plot(rot, dice)\n",
    "plt.xlabel('rotation (deg)')\n",
    "plt.ylabel('dice coefficient')\n",
    "rot[np.argmax(dice)], np.max(dice)"
   ]
  },
  {
   "cell_type": "markdown",
   "metadata": {},
   "source": [
    "It's possible to get multiple angles with the same max dice coefficient: Choose the smallest rotation angle."
   ]
  },
  {
   "cell_type": "code",
   "execution_count": 47,
   "metadata": {
    "collapsed": false,
    "deletable": true,
    "editable": true
   },
   "outputs": [
    {
     "name": "stdout",
     "output_type": "stream",
     "text": [
      "Best angle: 100.8 deg\n"
     ]
    }
   ],
   "source": [
    "print('Best angle:', np.abs(rot[np.isclose(dice, np.max(dice))]).min(), 'deg')"
   ]
  },
  {
   "cell_type": "code",
   "execution_count": 48,
   "metadata": {
    "collapsed": false,
    "deletable": true,
    "editable": true
   },
   "outputs": [
    {
     "data": {
      "text/plain": [
       "<matplotlib.image.AxesImage at 0x1a68d194fd0>"
      ]
     },
     "execution_count": 48,
     "metadata": {},
     "output_type": "execute_result"
    },
    {
     "data": {
      "image/png": "[encoded data removed]",
      "text/plain": [
       "<matplotlib.figure.Figure at 0x1a68d04e8d0>"
      ]
     },
     "metadata": {},
     "output_type": "display_data"
    }
   ],
   "source": [
    "plt.figure(figsize=(14, 6))\n",
    "plt.subplot(131)\n",
    "plt.imshow(img_true)\n",
    "plt.title('ground-truth phosphene')\n",
    "plt.subplot(132)\n",
    "plt.title('predicted phosphene, rotated')\n",
    "plt.imshow(skit.rotate(img_pred, rot[np.argmax(dice)]))\n",
    "plt.subplot(133)\n",
    "plt.title('best alignment')\n",
    "plt.imshow(img_true + skit.rotate(img_pred, rot[np.argmax(dice)]))"
   ]
  },
  {
   "cell_type": "markdown",
   "metadata": {
    "collapsed": true,
    "deletable": true,
    "editable": true
   },
   "source": [
    "# Putting it all together"
   ]
  },
  {
   "cell_type": "code",
   "execution_count": 49,
   "metadata": {
    "collapsed": true
   },
   "outputs": [],
   "source": [
    "def scale_phosphene(img, scale):\n",
    "    \"\"\"Scales phosphene with a scaling factor\"\"\"\n",
    "    # Shift the phosphene to (0, 0), scale, shift back to the image center\n",
    "    shift_y, shift_x = np.array(img.shape[:2]) / 2.0\n",
    "    tf_shift = skit.SimilarityTransform(translation=[-shift_x, -shift_y])\n",
    "    tf_scale = skit.SimilarityTransform(scale=scale)\n",
    "    tf_shift_inv = skit.SimilarityTransform(translation=[shift_x, shift_y])\n",
    "    return skit.warp(img, (tf_shift + (tf_scale + tf_shift_inv)).inverse)"
   ]
  },
  {
   "cell_type": "code",
   "execution_count": 88,
   "metadata": {
    "collapsed": true
   },
   "outputs": [],
   "source": [
    "import scipy.interpolate as spi\n",
    "def loss(img_true, img_pred, w_deg=1):\n",
    "    \"\"\"Calculate loss function\"\"\"\n",
    "    img_true = center_phosphene(img_true)\n",
    "    img_pred = center_phosphene(img_pred)\n",
    "    \n",
    "    # Scale phosphene in `img_pred` to area of phosphene in `img_truth`\n",
    "    area_true = skim.moments(img_true, order=0)[0, 0]\n",
    "    area_pred = skim.moments(img_pred, order=0)[0, 0]\n",
    "    scale = area_true / area_pred\n",
    "    img_pred = scale_phosphene(img_pred, scale)\n",
    "    \n",
    "    # Rotate the phosphene so that dice coefficient is maximized\n",
    "    angles = np.linspace(-180, 180, 101)\n",
    "    dice = [dice_coeff(img_true, skit.rotate(img_pred, r)) for r in angles]\n",
    "    rot_deg = np.abs(angles[np.isclose(dice, np.max(dice))]).min()\n",
    "    \n",
    "    return scale + w_deg * rot_deg - np.max(dice)"
   ]
  },
  {
   "cell_type": "code",
   "execution_count": 89,
   "metadata": {
    "collapsed": false
   },
   "outputs": [
    {
     "data": {
      "text/plain": [
       "0.0"
      ]
     },
     "execution_count": 89,
     "metadata": {},
     "output_type": "execute_result"
    }
   ],
   "source": [
    "loss(img0, img0)"
   ]
  },
  {
   "cell_type": "code",
   "execution_count": 90,
   "metadata": {
    "collapsed": false
   },
   "outputs": [
    {
     "data": {
      "text/plain": [
       "90.752172874833263"
      ]
     },
     "execution_count": 90,
     "metadata": {},
     "output_type": "execute_result"
    }
   ],
   "source": [
    "loss(img0, img1)"
   ]
  },
  {
   "cell_type": "code",
   "execution_count": 96,
   "metadata": {
    "collapsed": false
   },
   "outputs": [
    {
     "data": {
      "text/plain": [
       "[<matplotlib.lines.Line2D at 0x1a68d22ada0>]"
      ]
     },
     "execution_count": 96,
     "metadata": {},
     "output_type": "execute_result"
    },
    {
     "data": {
      "image/png": "[encoded data removed]",
      "text/plain": [
       "<matplotlib.figure.Figure at 0x1a68bf0d1d0>"
      ]
     },
     "metadata": {},
     "output_type": "display_data"
    }
   ],
   "source": [
    "angles = np.arange(0, 46, 5)\n",
    "plt.plot(angles, [loss(img0, skit.rotate(img0, a)) for a in angles])"
   ]
  },
  {
   "cell_type": "code",
   "execution_count": 95,
   "metadata": {
    "collapsed": false
   },
   "outputs": [
    {
     "name": "stdout",
     "output_type": "stream",
     "text": [
      "0.0515137619723 0.0229198675903\n",
      "10.8393921209 10.8684978427\n",
      "36.0419551201 32.4702446391\n"
     ]
    }
   ],
   "source": [
    "for r in [1, 10, 35]:\n",
    "    print(loss(img0, skit.rotate(img0, r)), loss(img0, skit.rotate(img0, -r)))"
   ]
  },
  {
   "cell_type": "code",
   "execution_count": null,
   "metadata": {
    "collapsed": true
   },
   "outputs": [],
   "source": []
  }
 ],
 "metadata": {
  "kernelspec": {
   "display_name": "Python 3",
   "language": "python",
   "name": "python3"
  },
  "language_info": {
   "codemirror_mode": {
    "name": "ipython",
    "version": 3
   },
   "file_extension": ".py",
   "mimetype": "text/x-python",
   "name": "python",
   "nbconvert_exporter": "python",
   "pygments_lexer": "ipython3",
   "version": "3.5.2"
  }
 },
 "nbformat": 4,
 "nbformat_minor": 2
}
