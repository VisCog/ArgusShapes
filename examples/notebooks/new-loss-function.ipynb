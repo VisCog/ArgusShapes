{
 "cells": [
  {
   "cell_type": "code",
   "execution_count": 28,
   "metadata": {
    "collapsed": false
   },
   "outputs": [],
   "source": [
    "import os\n",
    "import numpy as np\n",
    "import pandas as pd\n",
    "import skimage.io as skio\n",
    "import skimage.transform as skit\n",
    "\n",
    "import p2pspatial\n",
    "\n",
    "%matplotlib inline\n",
    "import matplotlib.pyplot as plt"
   ]
  },
  {
   "cell_type": "code",
   "execution_count": 110,
   "metadata": {
    "collapsed": false
   },
   "outputs": [
    {
     "data": {
      "text/plain": [
       "(5, 10)"
      ]
     },
     "execution_count": 110,
     "metadata": {},
     "output_type": "execute_result"
    }
   ],
   "source": [
    "rootfolder = os.path.join(os.environ['SECOND_SIGHT_DATA'], 'shape')\n",
    "X, y = p2pspatial.load_data(rootfolder, subject='12-005', electrodes=['C04'], amplitude=2.0)\n",
    "X.shape"
   ]
  },
  {
   "cell_type": "code",
   "execution_count": 112,
   "metadata": {
    "collapsed": false
   },
   "outputs": [
    {
     "data": {
      "image/png": "[encoded data removed]",
      "text/plain": [
       "<matplotlib.figure.Figure at 0x207dd0fc160>"
      ]
     },
     "metadata": {},
     "output_type": "display_data"
    }
   ],
   "source": [
    "ncols = np.minimum(5, len(X))\n",
    "nrows = int(np.ceil(len(X) / ncols))\n",
    "fig, axes = plt.subplots(nrows=nrows, ncols=ncols, figsize=(12, nrows * 3))\n",
    "for ax, Xrow in zip(axes.ravel(), X.iterrows()):\n",
    "    _, row = Xrow\n",
    "    ax.imshow(skio.imread(os.path.join(row['folder'], row['filename'])))\n",
    "    ax.axis('image')\n",
    "    ax.axis('off')\n",
    "fig.tight_layout()"
   ]
  },
  {
   "cell_type": "code",
   "execution_count": 166,
   "metadata": {
    "collapsed": true
   },
   "outputs": [],
   "source": [
    "def center_phosphene(img_in):\n",
    "    m = skim.moments(img_in, order=1)\n",
    "    transl = (img_in.shape[1] // 2 - m[1, 0] / m[0, 0],\n",
    "              img_in.shape[0] // 2 - m[0, 1] / m[0, 0])\n",
    "    img_out = skit.warp(img_in, skit.SimilarityTransform(translation=transl).inverse)\n",
    "    return img_out"
   ]
  },
  {
   "cell_type": "code",
   "execution_count": null,
   "metadata": {
    "collapsed": true
   },
   "outputs": [],
   "source": [
    "shift_y, shift_x = np.array(image.shape[:2]) / 2.\n",
    "tf_rotate = transform.SimilarityTransform(rotation=np.deg2rad(30))\n",
    "tf_shift = transform.SimilarityTransform(translation=[-shift_x, -shift_y])\n",
    "tf_shift_inv = transform.SimilarityTransform(translation=[shift_x, shift_y])\n",
    "image_rotated = transform.warp(image, (tf_shift + (tf_rotate + tf_shift_inv)).inverse)"
   ]
  },
  {
   "cell_type": "code",
   "execution_count": 374,
   "metadata": {
    "collapsed": false
   },
   "outputs": [],
   "source": [
    "def center_scale_phosphene(img_truth, img_pred):\n",
    "    assert np.allclose(img_truth.shape, img_pred.shape)\n",
    "    img_truth = center_phosphene(img_truth)\n",
    "    img_pred = center_phosphene(img_pred)\n",
    "    \n",
    "    area_truth = skim.moments(img_truth, order=0)[0, 0]\n",
    "    area_pred = skim.moments(img_pred, order=0)[0, 0]\n",
    "    scale = area_truth / area_pred\n",
    "\n",
    "    shift_y, shift_x = np.array(img_pred.shape[:2]) / 2.0\n",
    "    tf_shift = skit.SimilarityTransform(translation=[-shift_x, -shift_y])\n",
    "    tf_scale = skit.SimilarityTransform(scale=scale)\n",
    "    tf_shift_inv = skit.SimilarityTransform(translation=[shift_x, shift_y])\n",
    "    \n",
    "    img_out = skit.warp(img_pred, (tf_shift + (tf_scale + tf_shift_inv)).inverse)\n",
    "    return img_out"
   ]
  },
  {
   "cell_type": "code",
   "execution_count": 368,
   "metadata": {
    "collapsed": true
   },
   "outputs": [],
   "source": [
    "def dice_coeff(img0, img1):\n",
    "    img0 = img0 > 0\n",
    "    img1 = img1 > 0\n",
    "    return 2 * np.sum(img0 * img1) / (np.sum(img0) + np.sum(img1))"
   ]
  },
  {
   "cell_type": "code",
   "execution_count": 375,
   "metadata": {
    "collapsed": true
   },
   "outputs": [],
   "source": [
    "img0 = skio.imread(os.path.join(X.loc[0, 'folder'], X.loc[0, 'filename']))\n",
    "img1 = skio.imread(os.path.join(X.loc[4, 'folder'], X.loc[4, 'filename']))"
   ]
  },
  {
   "cell_type": "code",
   "execution_count": 376,
   "metadata": {
    "collapsed": false
   },
   "outputs": [
    {
     "data": {
      "text/plain": [
       "<matplotlib.image.AxesImage object at 0x00000207B1C0CEB8>"
      ]
     },
     "execution_count": 376,
     "metadata": {},
     "output_type": "execute_result"
    },
    {
     "data": {
      "image/png": "[encoded data removed]",
      "text/plain": [
       "<matplotlib.figure.Figure object at 0x00000207B1D81C88>"
      ]
     },
     "metadata": {},
     "output_type": "display_data"
    }
   ],
   "source": [
    "img_true = center_phosphene(img0)\n",
    "img_pred = center_scale_phosphene(img0, img1)\n",
    "plt.figure(figsize=(14, 6))\n",
    "plt.subplot(131)\n",
    "plt.imshow(img_true)\n",
    "plt.subplot(132)\n",
    "plt.imshow(img_pred)\n",
    "plt.subplot(133)\n",
    "plt.imshow(img_true + img_pred)"
   ]
  },
  {
   "cell_type": "code",
   "execution_count": 377,
   "metadata": {
    "collapsed": false
   },
   "outputs": [
    {
     "data": {
      "text/plain": [
       "(0.062831853071795951, 0.70066292707802147)"
      ]
     },
     "execution_count": 377,
     "metadata": {},
     "output_type": "execute_result"
    },
    {
     "data": {
      "image/png": "[encoded data removed]",
      "text/plain": [
       "<matplotlib.figure.Figure object at 0x00000207B1A7C518>"
      ]
     },
     "metadata": {},
     "output_type": "display_data"
    }
   ],
   "source": [
    "rot = np.linspace(-np.pi / 2, np.pi / 2, 51)\n",
    "dice = [dice_coeff(img_true, skit.rotate(img_pred, r)) for r in rot]\n",
    "plt.plot(rot, dice)\n",
    "rot[np.argmax(dice)], np.max(dice)"
   ]
  },
  {
   "cell_type": "code",
   "execution_count": 378,
   "metadata": {
    "collapsed": false
   },
   "outputs": [
    {
     "data": {
      "text/plain": [
       "0.062831853071795951"
      ]
     },
     "execution_count": 378,
     "metadata": {},
     "output_type": "execute_result"
    }
   ],
   "source": [
    "np.abs(rot[np.isclose(dice, np.max(dice))]).min()"
   ]
  },
  {
   "cell_type": "code",
   "execution_count": 379,
   "metadata": {
    "collapsed": false
   },
   "outputs": [
    {
     "data": {
      "text/plain": [
       "<matplotlib.image.AxesImage object at 0x00000207B5E97198>"
      ]
     },
     "execution_count": 379,
     "metadata": {},
     "output_type": "execute_result"
    },
    {
     "data": {
      "image/png": "[encoded data removed]",
      "text/plain": [
       "<matplotlib.figure.Figure object at 0x00000207B1CE5CF8>"
      ]
     },
     "metadata": {},
     "output_type": "display_data"
    }
   ],
   "source": [
    "plt.figure(figsize=(14, 6))\n",
    "plt.subplot(131)\n",
    "plt.imshow(img_true)\n",
    "plt.subplot(132)\n",
    "plt.imshow(skit.rotate(img_pred, rot[np.argmax(dice)]))\n",
    "plt.subplot(133)\n",
    "plt.imshow(img_true + skit.rotate(img_pred, rot[np.argmax(dice)]))"
   ]
  },
  {
   "cell_type": "code",
   "execution_count": null,
   "metadata": {
    "collapsed": true
   },
   "outputs": [],
   "source": []
  }
 ],
 "metadata": {
  "kernelspec": {
   "display_name": "Python 3",
   "language": "python",
   "name": "python3"
  },
  "language_info": {
   "codemirror_mode": {
    "name": "ipython",
    "version": 3
   },
   "file_extension": ".py",
   "mimetype": "text/x-python",
   "name": "python",
   "nbconvert_exporter": "python",
   "pygments_lexer": "ipython3",
   "version": "3.5.2"
  }
 },
 "nbformat": 4,
 "nbformat_minor": 2
}
