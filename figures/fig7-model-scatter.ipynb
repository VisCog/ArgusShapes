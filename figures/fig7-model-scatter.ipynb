{
 "cells": [
  {
   "cell_type": "markdown",
   "metadata": {},
   "source": [
    "# Fig. 7: Model evaluation"
   ]
  },
  {
   "cell_type": "code",
   "execution_count": 1,
   "metadata": {},
   "outputs": [
    {
     "name": "stderr",
     "output_type": "stream",
     "text": [
      "2018-10-12 12:03:31,849 [pulse2percept] [INFO] Welcome to pulse2percept\n"
     ]
    }
   ],
   "source": [
    "import os\n",
    "import pickle\n",
    "import warnings\n",
    "warnings.filterwarnings('ignore')\n",
    "\n",
    "import numpy as np\n",
    "import pandas as pd\n",
    "import scipy.stats as spst\n",
    "\n",
    "import argus_shapes\n",
    "\n",
    "%matplotlib inline\n",
    "import matplotlib.pyplot as plt\n",
    "from mpl_toolkits.axes_grid1.inset_locator import inset_axes\n",
    "plt.style.use('seaborn-colorblind')"
   ]
  },
  {
   "cell_type": "code",
   "execution_count": 2,
   "metadata": {
    "collapsed": true
   },
   "outputs": [],
   "source": [
    "class ShapeLoss(argus_shapes.models.ShapeLossMixin):\n",
    "    def _calcs_el_curr_map(self):\n",
    "        pass\n",
    "    def build_ganglion_cell_layer(self):\n",
    "        pass\n",
    "shape_loss = ShapeLoss()"
   ]
  },
  {
   "cell_type": "code",
   "execution_count": 8,
   "metadata": {
    "collapsed": true
   },
   "outputs": [],
   "source": [
    "results_dir = '../results2'\n",
    "col_score = 'best_train_score'\n",
    "col_groupby = ['subject', 'modelname', 'idx_fold']"
   ]
  },
  {
   "cell_type": "code",
   "execution_count": 9,
   "metadata": {},
   "outputs": [
    {
     "ename": "AttributeError",
     "evalue": "'DataFrame' object has no attribute 'greater_is_better'",
     "output_type": "error",
     "traceback": [
      "\u001b[0;31m---------------------------------------------------------------------------\u001b[0m",
      "\u001b[0;31mAttributeError\u001b[0m                            Traceback (most recent call last)",
      "\u001b[0;32m<ipython-input-9-a0e6bdbbb453>\u001b[0m in \u001b[0;36m<module>\u001b[0;34m()\u001b[0m\n\u001b[1;32m      1\u001b[0m \u001b[0;31m# After repeatedely fitting the model, find the runs with the best training score:\u001b[0m\u001b[0;34m\u001b[0m\u001b[0;34m\u001b[0m\u001b[0m\n\u001b[0;32m----> 2\u001b[0;31m \u001b[0mfiles\u001b[0m \u001b[0;34m=\u001b[0m \u001b[0margus_shapes\u001b[0m\u001b[0;34m.\u001b[0m\u001b[0mextract_best_pickle_files\u001b[0m\u001b[0;34m(\u001b[0m\u001b[0mresults_dir\u001b[0m\u001b[0;34m,\u001b[0m \u001b[0mcol_score\u001b[0m\u001b[0;34m,\u001b[0m \u001b[0mcol_groupby\u001b[0m\u001b[0;34m)\u001b[0m\u001b[0;34m\u001b[0m\u001b[0m\n\u001b[0m",
      "\u001b[0;32m~/source/ArgusShapes/argus_shapes/argus_shapes.py\u001b[0m in \u001b[0;36mextract_best_pickle_files\u001b[0;34m(results_dir, col_score, col_groupby)\u001b[0m\n\u001b[1;32m    384\u001b[0m     \u001b[0mdf\u001b[0m \u001b[0;34m=\u001b[0m \u001b[0mpd\u001b[0m\u001b[0;34m.\u001b[0m\u001b[0mDataFrame\u001b[0m\u001b[0;34m(\u001b[0m\u001b[0mdata\u001b[0m\u001b[0;34m)\u001b[0m\u001b[0;34m\u001b[0m\u001b[0m\n\u001b[1;32m    385\u001b[0m     \u001b[0;31m# Make sure all estimator use the same scoring logic:\u001b[0m\u001b[0;34m\u001b[0m\u001b[0;34m\u001b[0m\u001b[0m\n\u001b[0;32m--> 386\u001b[0;31m     \u001b[0;32massert\u001b[0m \u001b[0mnp\u001b[0m\u001b[0;34m.\u001b[0m\u001b[0misclose\u001b[0m\u001b[0;34m(\u001b[0m\u001b[0mnp\u001b[0m\u001b[0;34m.\u001b[0m\u001b[0mvar\u001b[0m\u001b[0;34m(\u001b[0m\u001b[0mdf\u001b[0m\u001b[0;34m.\u001b[0m\u001b[0mgreater_is_better\u001b[0m\u001b[0;34m)\u001b[0m\u001b[0;34m,\u001b[0m \u001b[0;36m0\u001b[0m\u001b[0;34m)\u001b[0m\u001b[0;34m\u001b[0m\u001b[0m\n\u001b[0m\u001b[1;32m    387\u001b[0m     \u001b[0;31m# Find the rows that minimize/maximize the score:\u001b[0m\u001b[0;34m\u001b[0m\u001b[0;34m\u001b[0m\u001b[0m\n\u001b[1;32m    388\u001b[0m     \u001b[0;32mif\u001b[0m \u001b[0mdf\u001b[0m\u001b[0;34m.\u001b[0m\u001b[0mloc\u001b[0m\u001b[0;34m[\u001b[0m\u001b[0;36m0\u001b[0m\u001b[0;34m,\u001b[0m \u001b[0;34m'greater_is_better'\u001b[0m\u001b[0;34m]\u001b[0m\u001b[0;34m:\u001b[0m\u001b[0;34m\u001b[0m\u001b[0m\n",
      "\u001b[0;32m~/anaconda3/lib/python3.5/site-packages/pandas/core/generic.py\u001b[0m in \u001b[0;36m__getattr__\u001b[0;34m(self, name)\u001b[0m\n\u001b[1;32m   3612\u001b[0m             \u001b[0;32mif\u001b[0m \u001b[0mname\u001b[0m \u001b[0;32min\u001b[0m \u001b[0mself\u001b[0m\u001b[0;34m.\u001b[0m\u001b[0m_info_axis\u001b[0m\u001b[0;34m:\u001b[0m\u001b[0;34m\u001b[0m\u001b[0m\n\u001b[1;32m   3613\u001b[0m                 \u001b[0;32mreturn\u001b[0m \u001b[0mself\u001b[0m\u001b[0;34m[\u001b[0m\u001b[0mname\u001b[0m\u001b[0;34m]\u001b[0m\u001b[0;34m\u001b[0m\u001b[0m\n\u001b[0;32m-> 3614\u001b[0;31m             \u001b[0;32mreturn\u001b[0m \u001b[0mobject\u001b[0m\u001b[0;34m.\u001b[0m\u001b[0m__getattribute__\u001b[0m\u001b[0;34m(\u001b[0m\u001b[0mself\u001b[0m\u001b[0;34m,\u001b[0m \u001b[0mname\u001b[0m\u001b[0;34m)\u001b[0m\u001b[0;34m\u001b[0m\u001b[0m\n\u001b[0m\u001b[1;32m   3615\u001b[0m \u001b[0;34m\u001b[0m\u001b[0m\n\u001b[1;32m   3616\u001b[0m     \u001b[0;32mdef\u001b[0m \u001b[0m__setattr__\u001b[0m\u001b[0;34m(\u001b[0m\u001b[0mself\u001b[0m\u001b[0;34m,\u001b[0m \u001b[0mname\u001b[0m\u001b[0;34m,\u001b[0m \u001b[0mvalue\u001b[0m\u001b[0;34m)\u001b[0m\u001b[0;34m:\u001b[0m\u001b[0;34m\u001b[0m\u001b[0m\n",
      "\u001b[0;31mAttributeError\u001b[0m: 'DataFrame' object has no attribute 'greater_is_better'"
     ]
    }
   ],
   "source": [
    "# After repeatedely fitting the model, find the runs with the best training score:\n",
    "files = argus_shapes.extract_best_pickle_files(results_dir, col_score, col_groupby)"
   ]
  },
  {
   "cell_type": "code",
   "execution_count": 5,
   "metadata": {
    "collapsed": true
   },
   "outputs": [],
   "source": [
    "y_true = []\n",
    "y_pred = []\n",
    "for file in files:\n",
    "    yt, yp, _, specifics = pickle.load(open(file, 'rb'))\n",
    "    yt = yt[0].drop(columns=['image', 'x_center', 'y_center'])\n",
    "    yp = yp[0].drop(columns=['image', 'x_center', 'y_center'])\n",
    "    for g in col_groupby:\n",
    "        yt[g] = specifics[g]\n",
    "    yt['orientation'] = np.rad2deg(yt['orientation'])\n",
    "    yp['orientation'] = np.rad2deg(yp['orientation'])\n",
    "    y_true.append(yt)\n",
    "    y_pred.append(yp)\n",
    "ytyp = pd.concat((pd.concat(y_true),\n",
    "                  pd.concat(y_pred).add_suffix('_p')),\n",
    "                 axis=1)"
   ]
  },
  {
   "cell_type": "code",
   "execution_count": 6,
   "metadata": {
    "collapsed": true
   },
   "outputs": [],
   "source": [
    "subjects = ytyp.subject.unique().tolist()\n",
    "markers = ['o', 's', 'v', '^']\n",
    "colors = ['#0072B2', '#009E73', '#D55E00', '#CC79A7']\n",
    "ticks = [[0, 6], [0, 2400], [-90, 90], [0, 1]]"
   ]
  },
  {
   "cell_type": "code",
   "execution_count": 7,
   "metadata": {},
   "outputs": [
    {
     "ename": "NameError",
     "evalue": "name 'labels' is not defined",
     "output_type": "error",
     "traceback": [
      "\u001b[0;31m---------------------------------------------------------------------------\u001b[0m",
      "\u001b[0;31mNameError\u001b[0m                                 Traceback (most recent call last)",
      "\u001b[0;32m<ipython-input-7-e49eba361a30>\u001b[0m in \u001b[0;36m<module>\u001b[0;34m()\u001b[0m\n\u001b[1;32m     39\u001b[0m     \u001b[0max\u001b[0m\u001b[0;34m.\u001b[0m\u001b[0mset_xlim\u001b[0m\u001b[0;34m(\u001b[0m\u001b[0;34m*\u001b[0m\u001b[0mlim\u001b[0m\u001b[0;34m)\u001b[0m\u001b[0;34m\u001b[0m\u001b[0m\n\u001b[1;32m     40\u001b[0m     \u001b[0max\u001b[0m\u001b[0;34m.\u001b[0m\u001b[0mset_ylim\u001b[0m\u001b[0;34m(\u001b[0m\u001b[0;34m*\u001b[0m\u001b[0mlim\u001b[0m\u001b[0;34m)\u001b[0m\u001b[0;34m\u001b[0m\u001b[0m\n\u001b[0;32m---> 41\u001b[0;31m     \u001b[0max\u001b[0m\u001b[0;34m.\u001b[0m\u001b[0mset_ylabel\u001b[0m\u001b[0;34m(\u001b[0m\u001b[0;34m'Axon map model\\npredicted %s'\u001b[0m \u001b[0;34m%\u001b[0m \u001b[0mlabels\u001b[0m\u001b[0;34m[\u001b[0m\u001b[0;36m1\u001b[0m\u001b[0;34m]\u001b[0m\u001b[0;34m,\u001b[0m \u001b[0mfontsize\u001b[0m\u001b[0;34m=\u001b[0m\u001b[0mfs\u001b[0m\u001b[0;34m)\u001b[0m\u001b[0;34m\u001b[0m\u001b[0m\n\u001b[0m\u001b[1;32m     42\u001b[0m \u001b[0mfig\u001b[0m\u001b[0;34m.\u001b[0m\u001b[0mtight_layout\u001b[0m\u001b[0;34m(\u001b[0m\u001b[0;34m)\u001b[0m\u001b[0;34m\u001b[0m\u001b[0m\n",
      "\u001b[0;31mNameError\u001b[0m: name 'labels' is not defined"
     ]
    },
    {
     "data": {
      "image/png": "[encoded data removed]",
      "text/plain": [
       "<matplotlib.figure.Figure at 0x7ff2ccf28c18>"
      ]
     },
     "metadata": {},
     "output_type": "display_data"
    }
   ],
   "source": [
    "fs = 14\n",
    "hist_range = (-2, 4)\n",
    "ticks = [0, 6]\n",
    "fig, axes = plt.subplots(ncols=len(subjects), figsize=(16, 4))\n",
    "for (subject, data), marker, color, ax in zip(ytyp.groupby('subject'), markers, colors, axes):\n",
    "    lim = [1.1 * ticks[0] - 0.1 * ticks[1], 1.1 * ticks[1] - 0.1 * ticks[0]]\n",
    "    # Show Model A vs Model C scatter plot\n",
    "    xvals = []\n",
    "    yvals = []\n",
    "    n_folds = len(data.idx_fold.unique())\n",
    "    for (_, rows) in data.groupby('idx_fold'):\n",
    "        rows_a = rows[rows.modelname == 'A']\n",
    "        rows_c = rows[rows.modelname == 'C']\n",
    "        xvals.append(shape_loss.calc_shape_loss(rows_a, rows_a, suffix='_p') / len(rows_a))\n",
    "        yvals.append(shape_loss.calc_shape_loss(rows_c, rows_c, suffix='_p') / len(rows_c))\n",
    "    xvals = np.log10(np.nan_to_num(xvals))\n",
    "    yvals = np.log10(np.nan_to_num(yvals))\n",
    "    ax.scatter(xvals, yvals, marker=marker, s=50, c=color, alpha=0.5)\n",
    "    ax.set_xlabel('Scoreboard log mean error', fontsize=fs)\n",
    "    ax.set_ylabel('Subject %s\\nAxon map log mean error' % subject, fontsize=fs)\n",
    "    ax.set_xticks(np.linspace(*ticks, num=4))\n",
    "    ax.set_yticks(np.linspace(*ticks, num=4))\n",
    "\n",
    "    axins = inset_axes(ax, width=\"30%\", height=\"30%\", loc=2, borderpad=2)\n",
    "    n, bins, patches = axins.hist(xvals - yvals,\n",
    "                                  bins=12, range=hist_range, \n",
    "                                  color=color, alpha=0.8)\n",
    "    [patches[i].set_facecolor('k') for i in range(4)]\n",
    "    [p.set_edgecolor('k') for p in patches]\n",
    "    a = axins.axis()\n",
    "    axins.plot([0, 0], [0, a[3]], 'k--')\n",
    "    axins.set_yticks([])\n",
    "    axins.set_xticks(np.int32(np.linspace(*hist_range, num=4)))\n",
    "    axins.set_xlim(*hist_range)\n",
    "    w = spst.wilcoxon(xvals, yvals)\n",
    "    axins.set_title('p=%.2e, N=%d' % (w.pvalue, len(xvals)), fontsize=9)\n",
    "    ax.plot([ticks[0], ticks[1]], [ticks[0], ticks[1]], 'k--')\n",
    "    ax.axis('square')\n",
    "    ax.set_xlim(*lim)\n",
    "    ax.set_ylim(*lim)\n",
    "    ax.set_ylabel('Axon map model\\npredicted %s' % labels[1], fontsize=fs)\n",
    "fig.tight_layout()"
   ]
  },
  {
   "cell_type": "code",
   "execution_count": null,
   "metadata": {
    "collapsed": true
   },
   "outputs": [],
   "source": []
  }
 ],
 "metadata": {
  "kernelspec": {
   "display_name": "Python [default]",
   "language": "python",
   "name": "python3"
  },
  "language_info": {
   "codemirror_mode": {
    "name": "ipython",
    "version": 3
   },
   "file_extension": ".py",
   "mimetype": "text/x-python",
   "name": "python",
   "nbconvert_exporter": "python",
   "pygments_lexer": "ipython3",
   "version": "3.5.5"
  }
 },
 "nbformat": 4,
 "nbformat_minor": 2
}
