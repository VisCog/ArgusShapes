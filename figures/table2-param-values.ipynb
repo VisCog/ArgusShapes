{
 "cells": [
  {
   "cell_type": "markdown",
   "metadata": {},
   "source": [
    "# Table 2: Cross-validated model parameter values"
   ]
  },
  {
   "cell_type": "code",
   "execution_count": 1,
   "metadata": {},
   "outputs": [
    {
     "name": "stderr",
     "output_type": "stream",
     "text": [
      "/home/mbeyeler/anaconda3/lib/python3.5/site-packages/skvideo/__init__.py:356: UserWarning: avconv/avprobe not found in path: \n",
      "  warnings.warn(\"avconv/avprobe not found in path: \" + str(path), UserWarning)\n",
      "2019-05-08 11:09:45,622 [pulse2percept] [INFO] Welcome to pulse2percept\n"
     ]
    }
   ],
   "source": [
    "import pickle\n",
    "import pandas as pd\n",
    "import argus_shapes as shapes"
   ]
  },
  {
   "cell_type": "code",
   "execution_count": 2,
   "metadata": {},
   "outputs": [],
   "source": [
    "# Because the particle swarm gives different results depending on the initial\n",
    "# conditions, we ran each CV fold multiple times (random init). Here we need\n",
    "# to comb through these simulation runs and find the one that gave the best\n",
    "# score (for each fold):\n",
    "results_dir = '../results'\n",
    "col_score = 'best_train_score'\n",
    "col_groupby = ['subject', 'modelname', 'idx_fold']\n",
    "\n",
    "try:\n",
    "    # For all files of a given subject, model, CV fold (`col_groupby`), find the\n",
    "    # best `col_score`:\n",
    "    files = shapes.extract_best_pickle_files(results_dir, col_score, col_groupby)\n",
    "except FileNotFoundError:\n",
    "    # Results directory does not exist (or no files found). In this case, download\n",
    "    # the data from OSF:\n",
    "    shapes.fetch_data(osf_zip_url='https://osf.io/prv5z', save_path=results_dir)\n",
    "    files = shapes.extract_best_pickle_files(results_dir, col_score, col_groupby)"
   ]
  },
  {
   "cell_type": "code",
   "execution_count": 3,
   "metadata": {
    "collapsed": true
   },
   "outputs": [],
   "source": [
    "df_params = []\n",
    "for file in files:\n",
    "    _, _, best_params, specifics = pickle.load(open(file, 'rb'))\n",
    "    params = {\n",
    "        'subject': specifics['subject'],\n",
    "        'model': specifics['modelname'],\n",
    "        'rho': best_params[0]['rho']\n",
    "    }\n",
    "    if 'axlambda' in best_params[0]:\n",
    "        params['axlambda'] = best_params[0]['axlambda']\n",
    "    df_params.append(params)\n",
    "df_params = pd.DataFrame(df_params)"
   ]
  },
  {
   "cell_type": "code",
   "execution_count": 4,
   "metadata": {},
   "outputs": [
    {
     "data": {
      "text/html": [
       "<div>\n",
       "<style scoped>\n",
       "    .dataframe tbody tr th:only-of-type {\n",
       "        vertical-align: middle;\n",
       "    }\n",
       "\n",
       "    .dataframe tbody tr th {\n",
       "        vertical-align: top;\n",
       "    }\n",
       "\n",
       "    .dataframe thead tr th {\n",
       "        text-align: left;\n",
       "    }\n",
       "\n",
       "    .dataframe thead tr:last-of-type th {\n",
       "        text-align: right;\n",
       "    }\n",
       "</style>\n",
       "<table border=\"1\" class=\"dataframe\">\n",
       "  <thead>\n",
       "    <tr>\n",
       "      <th></th>\n",
       "      <th></th>\n",
       "      <th colspan=\"2\" halign=\"left\">rho</th>\n",
       "      <th colspan=\"2\" halign=\"left\">axlambda</th>\n",
       "    </tr>\n",
       "    <tr>\n",
       "      <th></th>\n",
       "      <th></th>\n",
       "      <th>mean</th>\n",
       "      <th>sem</th>\n",
       "      <th>mean</th>\n",
       "      <th>sem</th>\n",
       "    </tr>\n",
       "    <tr>\n",
       "      <th>subject</th>\n",
       "      <th>model</th>\n",
       "      <th></th>\n",
       "      <th></th>\n",
       "      <th></th>\n",
       "      <th></th>\n",
       "    </tr>\n",
       "  </thead>\n",
       "  <tbody>\n",
       "    <tr>\n",
       "      <th rowspan=\"2\" valign=\"top\">S1</th>\n",
       "      <th>AxonMap</th>\n",
       "      <td>409.859708</td>\n",
       "      <td>4.697559</td>\n",
       "      <td>1189.556762</td>\n",
       "      <td>156.637505</td>\n",
       "    </tr>\n",
       "    <tr>\n",
       "      <th>Scoreboard</th>\n",
       "      <td>532.674499</td>\n",
       "      <td>10.660461</td>\n",
       "      <td>NaN</td>\n",
       "      <td>NaN</td>\n",
       "    </tr>\n",
       "    <tr>\n",
       "      <th rowspan=\"2\" valign=\"top\">S2</th>\n",
       "      <th>AxonMap</th>\n",
       "      <td>315.246876</td>\n",
       "      <td>17.074557</td>\n",
       "      <td>499.679555</td>\n",
       "      <td>141.643332</td>\n",
       "    </tr>\n",
       "    <tr>\n",
       "      <th>Scoreboard</th>\n",
       "      <td>243.824212</td>\n",
       "      <td>33.815198</td>\n",
       "      <td>NaN</td>\n",
       "      <td>NaN</td>\n",
       "    </tr>\n",
       "    <tr>\n",
       "      <th rowspan=\"2\" valign=\"top\">S3</th>\n",
       "      <th>AxonMap</th>\n",
       "      <td>143.837119</td>\n",
       "      <td>7.440525</td>\n",
       "      <td>1414.382895</td>\n",
       "      <td>95.578594</td>\n",
       "    </tr>\n",
       "    <tr>\n",
       "      <th>Scoreboard</th>\n",
       "      <td>170.287357</td>\n",
       "      <td>1.163572</td>\n",
       "      <td>NaN</td>\n",
       "      <td>NaN</td>\n",
       "    </tr>\n",
       "    <tr>\n",
       "      <th rowspan=\"2\" valign=\"top\">S4</th>\n",
       "      <th>AxonMap</th>\n",
       "      <td>437.193516</td>\n",
       "      <td>6.313911</td>\n",
       "      <td>1419.558295</td>\n",
       "      <td>42.481071</td>\n",
       "    </tr>\n",
       "    <tr>\n",
       "      <th>Scoreboard</th>\n",
       "      <td>174.786790</td>\n",
       "      <td>1.414194</td>\n",
       "      <td>NaN</td>\n",
       "      <td>NaN</td>\n",
       "    </tr>\n",
       "  </tbody>\n",
       "</table>\n",
       "</div>"
      ],
      "text/plain": [
       "                           rho                axlambda            \n",
       "                          mean        sem         mean         sem\n",
       "subject model                                                     \n",
       "S1      AxonMap     409.859708   4.697559  1189.556762  156.637505\n",
       "        Scoreboard  532.674499  10.660461          NaN         NaN\n",
       "S2      AxonMap     315.246876  17.074557   499.679555  141.643332\n",
       "        Scoreboard  243.824212  33.815198          NaN         NaN\n",
       "S3      AxonMap     143.837119   7.440525  1414.382895   95.578594\n",
       "        Scoreboard  170.287357   1.163572          NaN         NaN\n",
       "S4      AxonMap     437.193516   6.313911  1419.558295   42.481071\n",
       "        Scoreboard  174.786790   1.414194          NaN         NaN"
      ]
     },
     "execution_count": 4,
     "metadata": {},
     "output_type": "execute_result"
    }
   ],
   "source": [
    "df_params.groupby(['subject', 'model'])['rho', 'axlambda'].agg(['mean', 'sem'])"
   ]
  }
 ],
 "metadata": {
  "kernelspec": {
   "display_name": "Python [default]",
   "language": "python",
   "name": "python3"
  },
  "language_info": {
   "codemirror_mode": {
    "name": "ipython",
    "version": 3
   },
   "file_extension": ".py",
   "mimetype": "text/x-python",
   "name": "python",
   "nbconvert_exporter": "python",
   "pygments_lexer": "ipython3",
   "version": "3.5.5"
  }
 },
 "nbformat": 4,
 "nbformat_minor": 2
}
