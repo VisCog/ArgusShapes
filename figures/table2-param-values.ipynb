{
 "cells": [
  {
   "cell_type": "markdown",
   "metadata": {},
   "source": [
    "# Table 1: Cross-validate model parameter values"
   ]
  },
  {
   "cell_type": "code",
   "execution_count": 1,
   "metadata": {},
   "outputs": [
    {
     "name": "stderr",
     "output_type": "stream",
     "text": [
      "/home/mbeyeler/anaconda3/lib/python3.5/site-packages/skvideo/__init__.py:356: UserWarning: avconv/avprobe not found in path: \n",
      "  warnings.warn(\"avconv/avprobe not found in path: \" + str(path), UserWarning)\n",
      "2018-08-04 17:33:30,847 [pulse2percept] [INFO] Welcome to pulse2percept\n"
     ]
    }
   ],
   "source": [
    "import os\n",
    "import pickle\n",
    "\n",
    "import numpy as np\n",
    "import pandas as pd\n",
    "\n",
    "import argus_shapes\n",
    "\n",
    "%matplotlib inline\n",
    "import matplotlib.pyplot as plt\n",
    "plt.style.use('seaborn-colorblind')"
   ]
  },
  {
   "cell_type": "code",
   "execution_count": 2,
   "metadata": {
    "collapsed": true
   },
   "outputs": [],
   "source": [
    "data_dir = os.environ['ARGUS_SHAPES_DATA']\n",
    "results_dir = '../results/trial1cv'\n",
    "col_score = 'best_train_score'\n",
    "col_groupby = ['subject', 'modelname', 'idx_fold']"
   ]
  },
  {
   "cell_type": "code",
   "execution_count": 3,
   "metadata": {
    "collapsed": true
   },
   "outputs": [],
   "source": [
    "subjectdata = argus_shapes.load_subjects(os.path.join(data_dir, 'subjects.csv'))\n",
    "subjectdata['scale'] = pd.Series([0.75, 0.75, 1.5, 0.5], index=subjectdata.index)\n",
    "subjects = subjectdata.index.sort_values()"
   ]
  },
  {
   "cell_type": "code",
   "execution_count": 4,
   "metadata": {
    "collapsed": true
   },
   "outputs": [],
   "source": [
    "# After repeatedely fitting the model, find the runs with the best training score:\n",
    "files = argus_shapes.extract_best_pickle_files(results_dir, col_score, col_groupby)"
   ]
  },
  {
   "cell_type": "code",
   "execution_count": 5,
   "metadata": {},
   "outputs": [],
   "source": [
    "y_true = []\n",
    "y_pred = []\n",
    "for file in files:\n",
    "    yt, yp, best_params, specifics = pickle.load(open(file, 'rb'))\n",
    "    XX, yy = argus_shapes.calc_mean_images(yt[0].drop(columns='image'), \n",
    "                                           yt[0][['electrode', 'image']],\n",
    "                                           thresh=False, max_area=np.inf,\n",
    "                                           groupcols=['electrode'])\n",
    "    yy['subject'] = specifics['subject']\n",
    "    yy['modelname'] = '0'\n",
    "    yy['rho'] = best_params[0]['rho']\n",
    "    if 'axlambda' in best_params[0]:\n",
    "        yy['axlambda'] = best_params[0]['axlambda']\n",
    "    if len(XX) > 0:\n",
    "        yy['img_shape'] = XX['img_shape']\n",
    "    y_true.append(yy)\n",
    "    XX, yy = argus_shapes.calc_mean_images(yp[0].drop(columns='image'), \n",
    "                                           yp[0][['electrode', 'image']], \n",
    "                                           thresh=False, max_area=np.inf,\n",
    "                                           groupcols=['electrode'])\n",
    "    yy['subject'] = specifics['subject']\n",
    "    yy['modelname'] = specifics['modelname']\n",
    "    yy['rho'] = best_params[0]['rho']\n",
    "    if 'axlambda' in best_params[0]:\n",
    "        yy['axlambda'] = best_params[0]['axlambda']\n",
    "    if len(XX) > 0:\n",
    "        yy['img_shape'] = XX['img_shape']\n",
    "    y_pred.append(yy)"
   ]
  },
  {
   "cell_type": "code",
   "execution_count": 6,
   "metadata": {},
   "outputs": [],
   "source": [
    "y_true = pd.concat(y_true).drop(columns=['x_center', 'y_center'])\n",
    "y_pred = pd.concat(y_pred).drop(columns=['x_center', 'y_center'])"
   ]
  },
  {
   "cell_type": "code",
   "execution_count": 7,
   "metadata": {},
   "outputs": [
    {
     "data": {
      "text/html": [
       "<div>\n",
       "<style scoped>\n",
       "    .dataframe tbody tr th:only-of-type {\n",
       "        vertical-align: middle;\n",
       "    }\n",
       "\n",
       "    .dataframe tbody tr th {\n",
       "        vertical-align: top;\n",
       "    }\n",
       "\n",
       "    .dataframe thead tr th {\n",
       "        text-align: left;\n",
       "    }\n",
       "\n",
       "    .dataframe thead tr:last-of-type th {\n",
       "        text-align: right;\n",
       "    }\n",
       "</style>\n",
       "<table border=\"1\" class=\"dataframe\">\n",
       "  <thead>\n",
       "    <tr>\n",
       "      <th></th>\n",
       "      <th></th>\n",
       "      <th colspan=\"2\" halign=\"left\">axlambda</th>\n",
       "      <th colspan=\"2\" halign=\"left\">rho</th>\n",
       "    </tr>\n",
       "    <tr>\n",
       "      <th></th>\n",
       "      <th></th>\n",
       "      <th>mean</th>\n",
       "      <th>sem</th>\n",
       "      <th>mean</th>\n",
       "      <th>sem</th>\n",
       "    </tr>\n",
       "    <tr>\n",
       "      <th>modelname</th>\n",
       "      <th>subject</th>\n",
       "      <th></th>\n",
       "      <th></th>\n",
       "      <th></th>\n",
       "      <th></th>\n",
       "    </tr>\n",
       "  </thead>\n",
       "  <tbody>\n",
       "    <tr>\n",
       "      <th rowspan=\"4\" valign=\"top\">A</th>\n",
       "      <th>S1</th>\n",
       "      <td>NaN</td>\n",
       "      <td>NaN</td>\n",
       "      <td>532.674499</td>\n",
       "      <td>10.660461</td>\n",
       "    </tr>\n",
       "    <tr>\n",
       "      <th>S2</th>\n",
       "      <td>NaN</td>\n",
       "      <td>NaN</td>\n",
       "      <td>243.824212</td>\n",
       "      <td>33.815198</td>\n",
       "    </tr>\n",
       "    <tr>\n",
       "      <th>S3</th>\n",
       "      <td>NaN</td>\n",
       "      <td>NaN</td>\n",
       "      <td>170.287357</td>\n",
       "      <td>1.163572</td>\n",
       "    </tr>\n",
       "    <tr>\n",
       "      <th>S4</th>\n",
       "      <td>NaN</td>\n",
       "      <td>NaN</td>\n",
       "      <td>174.786790</td>\n",
       "      <td>1.414194</td>\n",
       "    </tr>\n",
       "    <tr>\n",
       "      <th rowspan=\"4\" valign=\"top\">C</th>\n",
       "      <th>S1</th>\n",
       "      <td>1189.556762</td>\n",
       "      <td>156.637505</td>\n",
       "      <td>409.859708</td>\n",
       "      <td>4.697559</td>\n",
       "    </tr>\n",
       "    <tr>\n",
       "      <th>S2</th>\n",
       "      <td>499.679555</td>\n",
       "      <td>141.643332</td>\n",
       "      <td>315.246876</td>\n",
       "      <td>17.074557</td>\n",
       "    </tr>\n",
       "    <tr>\n",
       "      <th>S3</th>\n",
       "      <td>992.265996</td>\n",
       "      <td>149.975085</td>\n",
       "      <td>85.520528</td>\n",
       "      <td>3.087391</td>\n",
       "    </tr>\n",
       "    <tr>\n",
       "      <th>S4</th>\n",
       "      <td>1419.558295</td>\n",
       "      <td>42.481071</td>\n",
       "      <td>437.193516</td>\n",
       "      <td>6.313911</td>\n",
       "    </tr>\n",
       "  </tbody>\n",
       "</table>\n",
       "</div>"
      ],
      "text/plain": [
       "                      axlambda                     rho           \n",
       "                          mean         sem        mean        sem\n",
       "modelname subject                                                \n",
       "A         S1               NaN         NaN  532.674499  10.660461\n",
       "          S2               NaN         NaN  243.824212  33.815198\n",
       "          S3               NaN         NaN  170.287357   1.163572\n",
       "          S4               NaN         NaN  174.786790   1.414194\n",
       "C         S1       1189.556762  156.637505  409.859708   4.697559\n",
       "          S2        499.679555  141.643332  315.246876  17.074557\n",
       "          S3        992.265996  149.975085   85.520528   3.087391\n",
       "          S4       1419.558295   42.481071  437.193516   6.313911"
      ]
     },
     "execution_count": 7,
     "metadata": {},
     "output_type": "execute_result"
    }
   ],
   "source": [
    "col_groupby = ['modelname', 'subject', 'electrode']\n",
    "mu_electrode = y_pred.drop(columns='image').groupby(col_groupby).mean()\n",
    "mu_electrode.groupby(col_groupby[:2])[['axlambda', 'rho']].agg(['mean', 'sem'])"
   ]
  },
  {
   "cell_type": "code",
   "execution_count": null,
   "metadata": {
    "collapsed": true
   },
   "outputs": [],
   "source": []
  }
 ],
 "metadata": {
  "kernelspec": {
   "display_name": "Python [default]",
   "language": "python",
   "name": "python3"
  },
  "language_info": {
   "codemirror_mode": {
    "name": "ipython",
    "version": 3
   },
   "file_extension": ".py",
   "mimetype": "text/x-python",
   "name": "python",
   "nbconvert_exporter": "python",
   "pygments_lexer": "ipython3",
   "version": "3.5.4"
  }
 },
 "nbformat": 4,
 "nbformat_minor": 2
}
