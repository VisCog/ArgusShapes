{
 "cells": [
  {
   "cell_type": "markdown",
   "metadata": {},
   "source": [
    "# Fig. 3: Shape descriptors used to measure phosphene variability"
   ]
  },
  {
   "cell_type": "code",
   "execution_count": 1,
   "metadata": {},
   "outputs": [
    {
     "name": "stderr",
     "output_type": "stream",
     "text": [
      "/home/mbeyeler/anaconda3/lib/python3.5/site-packages/skvideo/__init__.py:356: UserWarning: avconv/avprobe not found in path: \n",
      "  warnings.warn(\"avconv/avprobe not found in path: \" + str(path), UserWarning)\n",
      "2019-05-08 10:55:13,826 [pulse2percept] [INFO] Welcome to pulse2percept\n"
     ]
    }
   ],
   "source": [
    "import os\n",
    "import os.path as osp\n",
    "import numpy as np\n",
    "\n",
    "import argus_shapes as shapes\n",
    "\n",
    "%matplotlib inline\n",
    "import matplotlib.pyplot as plt\n",
    "# plt.style.use('seaborn-colorblind')"
   ]
  },
  {
   "cell_type": "code",
   "execution_count": 2,
   "metadata": {
    "collapsed": true
   },
   "outputs": [],
   "source": [
    "def resample(Xy, subject, descriptor, within_subject=True, n_iter=1000, alpha=0.05):\n",
    "    \"\"\"Comparing observed shape descriptors to resampled data\n",
    "    \n",
    "    Observed values:  For each shape descriptor, generate a distribution of SEM values.\n",
    "    Resampled values: Distribution of SEM values for randomly chosen drawings (either\n",
    "                      within or across subjects)\n",
    "                       \n",
    "    Parameters\n",
    "    ----------\n",
    "    Xy : pd.DataFrame\n",
    "        Data matrix. Should have a 'subject' field with value `subject`, and a field\n",
    "        named `descriptor`.\n",
    "    subject : str\n",
    "        Subject name (e.g., 'S1')\n",
    "    descriptor : str\n",
    "        Shape descriptor name (e.g., 'area', 'orientation', 'elongation')\n",
    "    within_subject : bool\n",
    "        Whether to run the analysis within (True) or across subjects (False)\n",
    "    n_iter : int\n",
    "        Number of iterations\n",
    "    alpha : float or list\n",
    "        Significance level\n",
    "    \"\"\"\n",
    "    electrodes = Xy[Xy.subject == subject].electrode.unique()\n",
    "    n_trials = Xy[Xy.subject == subject].groupby('electrode').count().max().max()\n",
    "    \n",
    "    # Distribution of observed SEM values:\n",
    "    sem_true = [Xy.loc[(Xy.subject == subject) & (Xy.electrode == electrode), descriptor].sem()\n",
    "                for electrode in electrodes]\n",
    "    \n",
    "    # Bootstrapped distribution of SEM values:\n",
    "    # Each distribution has `n_trials` * `len(electrodes)` drawings.\n",
    "    # This is repeated `n_trials` times.\n",
    "    rand_is_better = []\n",
    "    mu_rand = []\n",
    "    for _ in range(n_iter):\n",
    "        if within_subject:\n",
    "            # Restrict samples to same subject:\n",
    "            sem_rand = [Xy.loc[(Xy.subject == subject), descriptor].sample(n=n_trials).sem()\n",
    "                        for _ in range(len(electrodes))]\n",
    "        else:\n",
    "            # Sample from all subjects:\n",
    "            sem_rand = [Xy[:, descriptor].sample(n=n_trials).sem() \n",
    "                        for _ in range(len(electrodes))]\n",
    "        mu_rand.append(np.mean(sem_rand))\n",
    "        \n",
    "        # Random is better if mean abs angular error is larger than true array location:\n",
    "        rand_is_better.append(np.mean(sem_true) > np.mean(sem_rand))\n",
    "\n",
    "    # However, if this happens only a few times (smaller than `alpha` * `n_iter` times),\n",
    "    # true array placement is overall significantly better:\n",
    "    if isinstance(alpha, (list, np.ndarray)):\n",
    "        is_signif = [np.sum(rand_is_better) < a * n_iter for a in alpha]\n",
    "    else:\n",
    "        is_signif = np.sum(rand_is_better) < alpha * n_iter\n",
    "\n",
    "    return is_signif, np.mean(sem_true), mu_rand"
   ]
  },
  {
   "cell_type": "code",
   "execution_count": 3,
   "metadata": {},
   "outputs": [],
   "source": [
    "# Assumes all data live in a directory ${DATA_ROOT}/argus_shapes, where DATA_ROOT is\n",
    "# an environment variable. See README.md on GitHub.\n",
    "# If no such environment variable exists, data will be automatically downloaded from\n",
    "# OSF and stored in '../data/argus_shapes'\n",
    "rootfolder = os.environ['DATA_ROOT'] if 'DATA_ROOT' in os.environ else osp.join('..', 'data')\n",
    "datafolder = osp.join(rootfolder, 'argus_shapes')"
   ]
  },
  {
   "cell_type": "code",
   "execution_count": 4,
   "metadata": {
    "collapsed": true
   },
   "outputs": [],
   "source": [
    "# Load subject data:\n",
    "subjectdata = shapes.load_subjects(osp.join(datafolder, 'subjects.csv'))\n",
    "subjects = subjectdata.index.sort_values()"
   ]
  },
  {
   "cell_type": "code",
   "execution_count": 5,
   "metadata": {
    "collapsed": true
   },
   "outputs": [],
   "source": [
    "# Load drawings:\n",
    "Xy = shapes.load_data(osp.join(datafolder, 'drawings_single.csv'))\n",
    "Xy.drop(columns='image', inplace=True)"
   ]
  },
  {
   "cell_type": "code",
   "execution_count": 6,
   "metadata": {
    "collapsed": true
   },
   "outputs": [],
   "source": [
    "descriptors = ['area', 'orientation', 'eccentricity']\n",
    "ylabels = ['area (pixels)', 'orientation (deg)', 'elongation']\n",
    "colors = ['#0072B2', '#009E73', '#D55E00', '#CC79A7']\n",
    "n_iter = 1000"
   ]
  },
  {
   "cell_type": "code",
   "execution_count": 7,
   "metadata": {},
   "outputs": [
    {
     "data": {
      "image/png": "[encoded data removed]",
      "text/plain": [
       "<matplotlib.figure.Figure at 0x7f34e6cb2940>"
      ]
     },
     "metadata": {},
     "output_type": "display_data"
    }
   ],
   "source": [
    "fig, axes = plt.subplots(nrows=2, ncols=len(descriptors), figsize=(14, 6))\n",
    "\n",
    "xlimits = [[0, 20000], [-np.pi/2, np.pi/2], [0, 1]]\n",
    "show_medians = False\n",
    "\n",
    "for ax, desc, color, xlim, ylabel in zip(axes[0], descriptors, colors, xlimits, ylabels):\n",
    "    vals = [Xy.loc[Xy.subject == subject, desc].values for subject in subjects]\n",
    "    ax.hist(vals, color=colors, label=list(subjects), range=xlim,\n",
    "            edgecolor='w', linewidth=1, alpha=0.5,\n",
    "            orientation='vertical', stacked=True)\n",
    "    if show_medians:\n",
    "        a = ax.axis()\n",
    "        if desc != 'orientation':\n",
    "            for v, c in zip(vals, colors):\n",
    "                ax.plot([np.median(v), np.median(v)], [a[2], a[3]], '--', \n",
    "                        color=c, linewidth=2)\n",
    "    ax.set_xlim(*xlim)\n",
    "    ax.set_ylim(0, 250)\n",
    "    ax.set_xticks(np.linspace(*xlim, num=5))\n",
    "    ax.set_ylabel('count')\n",
    "    ax.set_xlabel(ylabel)\n",
    "    if desc == descriptors[-1]:\n",
    "        ax.legend(loc='upper left')\n",
    "        \n",
    "ylimits = [[0, 100], [0, np.pi/2], [0, 1]]        \n",
    "for ax, desc, ylim in zip(axes[1], descriptors, ylimits):\n",
    "    for s, (subject, color) in enumerate(zip(subjects, colors)):\n",
    "        # Boxplots:\n",
    "        vals = [data[desc].sem() / data[desc].mean() * 100\n",
    "                if desc == 'area' else data[desc].sem()\n",
    "                for _, data in Xy[Xy.subject == subject].groupby('electrode')]\n",
    "        bp = ax.boxplot([vals], positions=[s], widths=0.4, patch_artist=True,\n",
    "                        medianprops={'color': color}, capprops={'color': color},\n",
    "                        flierprops={'color': color}, whiskerprops={'color': color})\n",
    "        rgba = tuple([int(color.lstrip('#')[i:i+2], 16) / 255 for i in (0, 2 ,4)] + [0.5])\n",
    "        [patch.set_facecolor(rgba) for patch in bp['boxes']]\n",
    "        [patch.set_edgecolor(color) for patch in bp['boxes']]\n",
    "        # Resample analysis:\n",
    "        alphas = [0.06, 0.05, 0.01, 0.001]\n",
    "        is_signif, _, _ = resample(Xy, subject, desc, within_subject=True, \n",
    "                                   alpha=alphas, n_iter=n_iter)\n",
    "        if is_signif[3]:\n",
    "            txt = '***'\n",
    "            fs = 16\n",
    "        elif is_signif[2]:\n",
    "            txt = '**'\n",
    "            fs = 16\n",
    "        elif is_signif[1]:\n",
    "            txt = '*'\n",
    "            fs = 16\n",
    "        elif is_signif[0]:\n",
    "            txt = 'p<0.06'\n",
    "            fs = 12\n",
    "        else:\n",
    "            txt = 'n.s.'\n",
    "            fs = 12\n",
    "        lims = ax.axis()\n",
    "        ax.text(s, np.max(vals) + 0.1 * (lims[3] - lims[2]), txt, fontsize=fs,\n",
    "                ha='center', va='bottom')\n",
    "            \n",
    "    ax.set_xlim(-0.5, 3.5)\n",
    "    ax.set_xticks(np.arange(len(subjects)))\n",
    "    ax.set_xticklabels([s.replace(\"S\", \"Subject \") for s in subjects], ha='right', rotation=45)\n",
    "    ax.set_ylim(*ylim)\n",
    "    ax.set_yticks(np.linspace(*ylim, num=3))\n",
    "    ax.set_ylabel('%s SEM (%s)' % (desc, 'deg' if desc == 'orientation' else '%'))\n",
    "    \n",
    "fig.tight_layout()\n",
    "fig.savefig('fig3-shape-descriptors.png')\n",
    "fig.savefig('fig3-shape-descriptors.pdf', transparent=True)"
   ]
  },
  {
   "cell_type": "code",
   "execution_count": null,
   "metadata": {
    "collapsed": true
   },
   "outputs": [],
   "source": []
  }
 ],
 "metadata": {
  "kernelspec": {
   "display_name": "Python [default]",
   "language": "python",
   "name": "python3"
  },
  "language_info": {
   "codemirror_mode": {
    "name": "ipython",
    "version": 3
   },
   "file_extension": ".py",
   "mimetype": "text/x-python",
   "name": "python",
   "nbconvert_exporter": "python",
   "pygments_lexer": "ipython3",
   "version": "3.5.5"
  }
 },
 "nbformat": 4,
 "nbformat_minor": 2
}
