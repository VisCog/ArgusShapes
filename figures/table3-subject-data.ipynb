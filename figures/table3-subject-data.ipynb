{
 "cells": [
  {
   "cell_type": "markdown",
   "metadata": {},
   "source": [
    "# Table 3: Subject data"
   ]
  },
  {
   "cell_type": "code",
   "execution_count": 1,
   "metadata": {},
   "outputs": [
    {
     "name": "stderr",
     "output_type": "stream",
     "text": [
      "/home/mbeyeler/anaconda3/lib/python3.5/site-packages/skvideo/__init__.py:356: UserWarning: avconv/avprobe not found in path: \n",
      "  warnings.warn(\"avconv/avprobe not found in path: \" + str(path), UserWarning)\n",
      "2019-05-08 11:11:22,790 [pulse2percept] [INFO] Welcome to pulse2percept\n"
     ]
    }
   ],
   "source": [
    "import os\n",
    "import os.path as osp\n",
    "import argus_shapes as shapes"
   ]
  },
  {
   "cell_type": "code",
   "execution_count": 2,
   "metadata": {
    "collapsed": true
   },
   "outputs": [],
   "source": [
    "# Assumes all data live in a directory ${DATA_ROOT}/argus_shapes, where DATA_ROOT is\n",
    "# an environment variable. See README.md on GitHub.\n",
    "# If no such environment variable exists, data will be automatically downloaded from\n",
    "# OSF and stored in '../data/argus_shapes'\n",
    "rootfolder = os.environ['DATA_ROOT'] if 'DATA_ROOT' in os.environ else osp.join('..', 'data')\n",
    "datafolder = osp.join(rootfolder, 'argus_shapes')"
   ]
  },
  {
   "cell_type": "code",
   "execution_count": 3,
   "metadata": {},
   "outputs": [
    {
     "data": {
      "text/html": [
       "<div>\n",
       "<style scoped>\n",
       "    .dataframe tbody tr th:only-of-type {\n",
       "        vertical-align: middle;\n",
       "    }\n",
       "\n",
       "    .dataframe tbody tr th {\n",
       "        vertical-align: top;\n",
       "    }\n",
       "\n",
       "    .dataframe thead th {\n",
       "        text-align: right;\n",
       "    }\n",
       "</style>\n",
       "<table border=\"1\" class=\"dataframe\">\n",
       "  <thead>\n",
       "    <tr style=\"text-align: right;\">\n",
       "      <th></th>\n",
       "      <th>second_sight_id</th>\n",
       "      <th>eye</th>\n",
       "      <th>implant_x</th>\n",
       "      <th>implant_y</th>\n",
       "      <th>implant_rot</th>\n",
       "      <th>loc_od_x</th>\n",
       "      <th>loc_od_y</th>\n",
       "      <th>xrange</th>\n",
       "      <th>yrange</th>\n",
       "      <th>implant_type</th>\n",
       "    </tr>\n",
       "    <tr>\n",
       "      <th>subject_id</th>\n",
       "      <th></th>\n",
       "      <th></th>\n",
       "      <th></th>\n",
       "      <th></th>\n",
       "      <th></th>\n",
       "      <th></th>\n",
       "      <th></th>\n",
       "      <th></th>\n",
       "      <th></th>\n",
       "      <th></th>\n",
       "    </tr>\n",
       "  </thead>\n",
       "  <tbody>\n",
       "    <tr>\n",
       "      <th>S1</th>\n",
       "      <td>TB</td>\n",
       "      <td>RE</td>\n",
       "      <td>-651</td>\n",
       "      <td>-707</td>\n",
       "      <td>-0.861</td>\n",
       "      <td>14.0</td>\n",
       "      <td>2.40</td>\n",
       "      <td>(-36.9, 36.9)</td>\n",
       "      <td>(-36.9, 36.9)</td>\n",
       "      <td>&lt;class 'pulse2percept.implants.ArgusI'&gt;</td>\n",
       "    </tr>\n",
       "    <tr>\n",
       "      <th>S2</th>\n",
       "      <td>12-005</td>\n",
       "      <td>RE</td>\n",
       "      <td>-1331</td>\n",
       "      <td>-850</td>\n",
       "      <td>-0.495</td>\n",
       "      <td>16.2</td>\n",
       "      <td>1.38</td>\n",
       "      <td>(-30.0, 30.0)</td>\n",
       "      <td>(-22.5, 22.5)</td>\n",
       "      <td>&lt;class 'pulse2percept.implants.ArgusII'&gt;</td>\n",
       "    </tr>\n",
       "    <tr>\n",
       "      <th>S3</th>\n",
       "      <td>51-009</td>\n",
       "      <td>RE</td>\n",
       "      <td>-2142</td>\n",
       "      <td>102</td>\n",
       "      <td>-0.940</td>\n",
       "      <td>17.7</td>\n",
       "      <td>1.45</td>\n",
       "      <td>(-32.5, 32.5)</td>\n",
       "      <td>(-24.4, 24.4)</td>\n",
       "      <td>&lt;class 'pulse2percept.implants.ArgusII'&gt;</td>\n",
       "    </tr>\n",
       "    <tr>\n",
       "      <th>S4</th>\n",
       "      <td>52-001</td>\n",
       "      <td>RE</td>\n",
       "      <td>-1807</td>\n",
       "      <td>401</td>\n",
       "      <td>-0.386</td>\n",
       "      <td>16.3</td>\n",
       "      <td>2.37</td>\n",
       "      <td>(-32.0, 32.0)</td>\n",
       "      <td>(-24.0, 24.0)</td>\n",
       "      <td>&lt;class 'pulse2percept.implants.ArgusII'&gt;</td>\n",
       "    </tr>\n",
       "  </tbody>\n",
       "</table>\n",
       "</div>"
      ],
      "text/plain": [
       "           second_sight_id eye  implant_x  implant_y  implant_rot  loc_od_x  \\\n",
       "subject_id                                                                    \n",
       "S1                      TB  RE       -651       -707       -0.861      14.0   \n",
       "S2                  12-005  RE      -1331       -850       -0.495      16.2   \n",
       "S3                  51-009  RE      -2142        102       -0.940      17.7   \n",
       "S4                  52-001  RE      -1807        401       -0.386      16.3   \n",
       "\n",
       "            loc_od_y         xrange         yrange  \\\n",
       "subject_id                                           \n",
       "S1              2.40  (-36.9, 36.9)  (-36.9, 36.9)   \n",
       "S2              1.38  (-30.0, 30.0)  (-22.5, 22.5)   \n",
       "S3              1.45  (-32.5, 32.5)  (-24.4, 24.4)   \n",
       "S4              2.37  (-32.0, 32.0)  (-24.0, 24.0)   \n",
       "\n",
       "                                        implant_type  \n",
       "subject_id                                            \n",
       "S1           <class 'pulse2percept.implants.ArgusI'>  \n",
       "S2          <class 'pulse2percept.implants.ArgusII'>  \n",
       "S3          <class 'pulse2percept.implants.ArgusII'>  \n",
       "S4          <class 'pulse2percept.implants.ArgusII'>  "
      ]
     },
     "execution_count": 3,
     "metadata": {},
     "output_type": "execute_result"
    }
   ],
   "source": [
    "# Load subject data:\n",
    "shapes.load_subjects(osp.join(datafolder, 'subjects.csv'))"
   ]
  }
 ],
 "metadata": {
  "kernelspec": {
   "display_name": "Python [default]",
   "language": "python",
   "name": "python3"
  },
  "language_info": {
   "codemirror_mode": {
    "name": "ipython",
    "version": 3
   },
   "file_extension": ".py",
   "mimetype": "text/x-python",
   "name": "python",
   "nbconvert_exporter": "python",
   "pygments_lexer": "ipython3",
   "version": "3.5.5"
  }
 },
 "nbformat": 4,
 "nbformat_minor": 2
}
