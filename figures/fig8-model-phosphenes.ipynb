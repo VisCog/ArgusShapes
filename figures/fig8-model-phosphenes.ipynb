{
 "cells": [
  {
   "cell_type": "markdown",
   "metadata": {},
   "source": [
    "# Fig. 8: Simulated phosphenes"
   ]
  },
  {
   "cell_type": "code",
   "execution_count": 1,
   "metadata": {},
   "outputs": [
    {
     "name": "stderr",
     "output_type": "stream",
     "text": [
      "/home/mbeyeler/anaconda3/lib/python3.5/site-packages/skvideo/__init__.py:356: UserWarning: avconv/avprobe not found in path: \n",
      "  warnings.warn(\"avconv/avprobe not found in path: \" + str(path), UserWarning)\n",
      "2019-04-28 20:09:55,957 [pulse2percept] [INFO] Welcome to pulse2percept\n"
     ]
    }
   ],
   "source": [
    "import numpy as np\n",
    "import pandas as pd\n",
    "import pulse2percept as p2p\n",
    "import argus_shapes as shapes\n",
    "\n",
    "%matplotlib inline\n",
    "import matplotlib.pyplot as plt"
   ]
  },
  {
   "cell_type": "code",
   "execution_count": 2,
   "metadata": {
    "collapsed": true
   },
   "outputs": [],
   "source": [
    "implant = p2p.implants.ArgusII(h=0, x_center=-1000, rot=np.deg2rad(-45))\n",
    "sim = p2p.Simulation(implant, engine='joblib')"
   ]
  },
  {
   "cell_type": "code",
   "execution_count": 3,
   "metadata": {
    "collapsed": true
   },
   "outputs": [],
   "source": [
    "x_range = (-5000, 3000)\n",
    "y_range = (-4000, 4000)\n",
    "loc_od = (15.5, 1.5)\n",
    "axlambda = 500\n",
    "xystep = 0.25"
   ]
  },
  {
   "cell_type": "code",
   "execution_count": 4,
   "metadata": {
    "collapsed": true
   },
   "outputs": [],
   "source": [
    "sim.set_optic_fiber_layer(sampling=shapes.utils.dva2ret(xystep), n_axons=1000,\n",
    "                          decay_const=shapes.utils.ret2dva(axlambda), loc_od=loc_od, n_rho=1000, \n",
    "                          rho_range=(3, 50), x_range=x_range, y_range=y_range)"
   ]
  },
  {
   "cell_type": "code",
   "execution_count": 5,
   "metadata": {
    "collapsed": true
   },
   "outputs": [],
   "source": [
    "dists = [0, 200, 500, 1000]\n",
    "rhos = [300, 500, 800, 1600]  # fit via AxonMapModel"
   ]
  },
  {
   "cell_type": "code",
   "execution_count": 6,
   "metadata": {
    "collapsed": true
   },
   "outputs": [],
   "source": [
    "cs = implant['A7'].current_spread(sim.ofl.gridx, sim.ofl.gridy, layer='OFL', alpha=14000, n=2)\n",
    "ecs = shapes.imgproc.get_thresholded_image(sim.ofl.current2effectivecurrent(cs), thresh='otsu')\n",
    "X = pd.DataFrame([{'electrode': 'A7', 'image': ecs}])\n",
    "y = pd.DataFrame([shapes.imgproc.calc_shape_descriptors(ecs, thresh=None)], index=X.index)\n",
    "y.drop(columns=['x_center', 'y_center'], inplace=True)"
   ]
  },
  {
   "cell_type": "code",
   "execution_count": 7,
   "metadata": {},
   "outputs": [
    {
     "data": {
      "image/png": "[encoded data removed]",
      "text/plain": [
       "<matplotlib.figure.Figure at 0x7f5625d55a58>"
      ]
     },
     "metadata": {},
     "output_type": "display_data"
    }
   ],
   "source": [
    "fig, axes = plt.subplots(ncols=len(dists), figsize=(15, 5))\n",
    "for ax, dist, rho in zip(axes, dists, rhos):\n",
    "    implant = p2p.implants.ArgusII(h=dist, x_center=-1000, rot=np.deg2rad(-45))\n",
    "    cs = implant['A7'].current_spread(sim.ofl.gridx, sim.ofl.gridy, layer='OFL', alpha=14000, n=2)\n",
    "    ecs = shapes.imgproc.get_thresholded_image(sim.ofl.current2effectivecurrent(cs), thresh='otsu')\n",
    "    ax.imshow(1 - shapes.imgproc.center_phosphene(ecs), cmap='gray')\n",
    "    desc = shapes.imgproc.calc_shape_descriptors(ecs, thresh=None)\n",
    "    ax.set_title('z=%d, r=%d, elon=%.3f' % (dist, rho, desc['eccentricity']))\n",
    "    ax.set_xticks([])\n",
    "    ax.set_yticks([])\n",
    "fig.tight_layout()\n",
    "fig.savefig('fig8-model-phosphenes.eps')"
   ]
  },
  {
   "cell_type": "code",
   "execution_count": null,
   "metadata": {
    "collapsed": true
   },
   "outputs": [],
   "source": []
  }
 ],
 "metadata": {
  "kernelspec": {
   "display_name": "Python [default]",
   "language": "python",
   "name": "python3"
  },
  "language_info": {
   "codemirror_mode": {
    "name": "ipython",
    "version": 3
   },
   "file_extension": ".py",
   "mimetype": "text/x-python",
   "name": "python",
   "nbconvert_exporter": "python",
   "pygments_lexer": "ipython3",
   "version": "3.5.5"
  }
 },
 "nbformat": 4,
 "nbformat_minor": 2
}
